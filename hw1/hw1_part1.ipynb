{
 "cells": [
  {
   "cell_type": "code",
   "execution_count": 1,
   "metadata": {},
   "outputs": [],
   "source": [
    "import pandas as pd\n",
    "from matplotlib import pyplot as plt\n",
    "import seaborn as sns\n",
    "import numpy as np\n",
    "from scipy.spatial.distance import cdist\n",
    "from scipy.stats import mode\n",
    "from sklearn.model_selection import train_test_split"
   ]
  },
  {
   "cell_type": "markdown",
   "metadata": {},
   "source": [
    "### 1.a Download data from Kaggle"
   ]
  },
  {
   "cell_type": "code",
   "execution_count": 2,
   "metadata": {
    "scrolled": true
   },
   "outputs": [
    {
     "data": {
      "text/html": [
       "<div>\n",
       "<style scoped>\n",
       "    .dataframe tbody tr th:only-of-type {\n",
       "        vertical-align: middle;\n",
       "    }\n",
       "\n",
       "    .dataframe tbody tr th {\n",
       "        vertical-align: top;\n",
       "    }\n",
       "\n",
       "    .dataframe thead th {\n",
       "        text-align: right;\n",
       "    }\n",
       "</style>\n",
       "<table border=\"1\" class=\"dataframe\">\n",
       "  <thead>\n",
       "    <tr style=\"text-align: right;\">\n",
       "      <th></th>\n",
       "      <th>label</th>\n",
       "      <th>pixel0</th>\n",
       "      <th>pixel1</th>\n",
       "      <th>pixel2</th>\n",
       "      <th>pixel3</th>\n",
       "      <th>pixel4</th>\n",
       "      <th>pixel5</th>\n",
       "      <th>pixel6</th>\n",
       "      <th>pixel7</th>\n",
       "      <th>pixel8</th>\n",
       "      <th>...</th>\n",
       "      <th>pixel774</th>\n",
       "      <th>pixel775</th>\n",
       "      <th>pixel776</th>\n",
       "      <th>pixel777</th>\n",
       "      <th>pixel778</th>\n",
       "      <th>pixel779</th>\n",
       "      <th>pixel780</th>\n",
       "      <th>pixel781</th>\n",
       "      <th>pixel782</th>\n",
       "      <th>pixel783</th>\n",
       "    </tr>\n",
       "  </thead>\n",
       "  <tbody>\n",
       "    <tr>\n",
       "      <th>0</th>\n",
       "      <td>1</td>\n",
       "      <td>0</td>\n",
       "      <td>0</td>\n",
       "      <td>0</td>\n",
       "      <td>0</td>\n",
       "      <td>0</td>\n",
       "      <td>0</td>\n",
       "      <td>0</td>\n",
       "      <td>0</td>\n",
       "      <td>0</td>\n",
       "      <td>...</td>\n",
       "      <td>0</td>\n",
       "      <td>0</td>\n",
       "      <td>0</td>\n",
       "      <td>0</td>\n",
       "      <td>0</td>\n",
       "      <td>0</td>\n",
       "      <td>0</td>\n",
       "      <td>0</td>\n",
       "      <td>0</td>\n",
       "      <td>0</td>\n",
       "    </tr>\n",
       "    <tr>\n",
       "      <th>1</th>\n",
       "      <td>0</td>\n",
       "      <td>0</td>\n",
       "      <td>0</td>\n",
       "      <td>0</td>\n",
       "      <td>0</td>\n",
       "      <td>0</td>\n",
       "      <td>0</td>\n",
       "      <td>0</td>\n",
       "      <td>0</td>\n",
       "      <td>0</td>\n",
       "      <td>...</td>\n",
       "      <td>0</td>\n",
       "      <td>0</td>\n",
       "      <td>0</td>\n",
       "      <td>0</td>\n",
       "      <td>0</td>\n",
       "      <td>0</td>\n",
       "      <td>0</td>\n",
       "      <td>0</td>\n",
       "      <td>0</td>\n",
       "      <td>0</td>\n",
       "    </tr>\n",
       "    <tr>\n",
       "      <th>2</th>\n",
       "      <td>1</td>\n",
       "      <td>0</td>\n",
       "      <td>0</td>\n",
       "      <td>0</td>\n",
       "      <td>0</td>\n",
       "      <td>0</td>\n",
       "      <td>0</td>\n",
       "      <td>0</td>\n",
       "      <td>0</td>\n",
       "      <td>0</td>\n",
       "      <td>...</td>\n",
       "      <td>0</td>\n",
       "      <td>0</td>\n",
       "      <td>0</td>\n",
       "      <td>0</td>\n",
       "      <td>0</td>\n",
       "      <td>0</td>\n",
       "      <td>0</td>\n",
       "      <td>0</td>\n",
       "      <td>0</td>\n",
       "      <td>0</td>\n",
       "    </tr>\n",
       "    <tr>\n",
       "      <th>3</th>\n",
       "      <td>4</td>\n",
       "      <td>0</td>\n",
       "      <td>0</td>\n",
       "      <td>0</td>\n",
       "      <td>0</td>\n",
       "      <td>0</td>\n",
       "      <td>0</td>\n",
       "      <td>0</td>\n",
       "      <td>0</td>\n",
       "      <td>0</td>\n",
       "      <td>...</td>\n",
       "      <td>0</td>\n",
       "      <td>0</td>\n",
       "      <td>0</td>\n",
       "      <td>0</td>\n",
       "      <td>0</td>\n",
       "      <td>0</td>\n",
       "      <td>0</td>\n",
       "      <td>0</td>\n",
       "      <td>0</td>\n",
       "      <td>0</td>\n",
       "    </tr>\n",
       "    <tr>\n",
       "      <th>4</th>\n",
       "      <td>0</td>\n",
       "      <td>0</td>\n",
       "      <td>0</td>\n",
       "      <td>0</td>\n",
       "      <td>0</td>\n",
       "      <td>0</td>\n",
       "      <td>0</td>\n",
       "      <td>0</td>\n",
       "      <td>0</td>\n",
       "      <td>0</td>\n",
       "      <td>...</td>\n",
       "      <td>0</td>\n",
       "      <td>0</td>\n",
       "      <td>0</td>\n",
       "      <td>0</td>\n",
       "      <td>0</td>\n",
       "      <td>0</td>\n",
       "      <td>0</td>\n",
       "      <td>0</td>\n",
       "      <td>0</td>\n",
       "      <td>0</td>\n",
       "    </tr>\n",
       "  </tbody>\n",
       "</table>\n",
       "<p>5 rows × 785 columns</p>\n",
       "</div>"
      ],
      "text/plain": [
       "   label  pixel0  pixel1  pixel2  pixel3  pixel4  pixel5  pixel6  pixel7  \\\n",
       "0      1       0       0       0       0       0       0       0       0   \n",
       "1      0       0       0       0       0       0       0       0       0   \n",
       "2      1       0       0       0       0       0       0       0       0   \n",
       "3      4       0       0       0       0       0       0       0       0   \n",
       "4      0       0       0       0       0       0       0       0       0   \n",
       "\n",
       "   pixel8  ...  pixel774  pixel775  pixel776  pixel777  pixel778  pixel779  \\\n",
       "0       0  ...         0         0         0         0         0         0   \n",
       "1       0  ...         0         0         0         0         0         0   \n",
       "2       0  ...         0         0         0         0         0         0   \n",
       "3       0  ...         0         0         0         0         0         0   \n",
       "4       0  ...         0         0         0         0         0         0   \n",
       "\n",
       "   pixel780  pixel781  pixel782  pixel783  \n",
       "0         0         0         0         0  \n",
       "1         0         0         0         0  \n",
       "2         0         0         0         0  \n",
       "3         0         0         0         0  \n",
       "4         0         0         0         0  \n",
       "\n",
       "[5 rows x 785 columns]"
      ]
     },
     "execution_count": 2,
     "metadata": {},
     "output_type": "execute_result"
    }
   ],
   "source": [
    "df = pd.read_csv('train.csv')\n",
    "df.head()"
   ]
  },
  {
   "cell_type": "markdown",
   "metadata": {},
   "source": [
    "### 1.b Display an image of each digit"
   ]
  },
  {
   "cell_type": "code",
   "execution_count": 3,
   "metadata": {},
   "outputs": [],
   "source": [
    "def display_num(array, position=None):\n",
    "    img_2d = array.reshape(28,28)\n",
    "    if position:\n",
    "        return sns.heatmap(img_2d, cmap = 'Purples', cbar=False, xticklabels=False, yticklabels=False, ax=position)\n",
    "    else:\n",
    "        return sns.heatmap(img_2d, cmap = 'Purples', cbar=False, xticklabels=False, yticklabels=False)"
   ]
  },
  {
   "cell_type": "code",
   "execution_count": 4,
   "metadata": {},
   "outputs": [
    {
     "data": {
      "image/png": "[encoded data removed]",
      "text/plain": [
       "<Figure size 432x288 with 1 Axes>"
      ]
     },
     "metadata": {},
     "output_type": "display_data"
    }
   ],
   "source": [
    "array = np.array(df[df.label==5].iloc[0,1:])\n",
    "\n",
    "display_num(array)\n",
    "plt.show()"
   ]
  },
  {
   "cell_type": "code",
   "execution_count": 5,
   "metadata": {},
   "outputs": [
    {
     "data": {
      "text/plain": [
       "[]"
      ]
     },
     "execution_count": 5,
     "metadata": {},
     "output_type": "execute_result"
    },
    {
     "data": {
      "image/png": "[encoded data removed]",
      "text/plain": [
       "<Figure size 504x288 with 10 Axes>"
      ]
     },
     "metadata": {},
     "output_type": "display_data"
    }
   ],
   "source": [
    "fig, axes = plt.subplots(2, 5, figsize=(7, 4))\n",
    "fig.suptitle('Example Digits 0-9')\n",
    "\n",
    "for i in range(10):\n",
    "    array = np.array(df[df.label==i].iloc[0,1:])\n",
    "    display_num(array, axes[i//5,i-5])\n",
    "    \n",
    "plt.plot()"
   ]
  },
  {
   "cell_type": "markdown",
   "metadata": {},
   "source": [
    "### 1.c Plot a normalized histogram of digit counts "
   ]
  },
  {
   "cell_type": "code",
   "execution_count": 6,
   "metadata": {},
   "outputs": [
    {
     "name": "stdout",
     "output_type": "stream",
     "text": [
      "0    0.098381\n",
      "1    0.111524\n",
      "2    0.099452\n",
      "3    0.103595\n",
      "4    0.096952\n",
      "5    0.090357\n",
      "6    0.098500\n",
      "7    0.104786\n",
      "8    0.096738\n",
      "9    0.099714\n",
      "Name: label, dtype: float64\n"
     ]
    }
   ],
   "source": [
    "value_frequencies = df.label.value_counts(normalize=True).sort_index()\n",
    "print(value_frequencies)"
   ]
  },
  {
   "cell_type": "markdown",
   "metadata": {},
   "source": [
    "The classes in the training data are not completely uniform, but each class has roughly 10% ($1/n_{classes}$) of prior probability."
   ]
  },
  {
   "cell_type": "code",
   "execution_count": 7,
   "metadata": {
    "scrolled": true
   },
   "outputs": [
    {
     "data": {
      "image/png": "[encoded data removed]",
      "text/plain": [
       "<Figure size 432x288 with 1 Axes>"
      ]
     },
     "metadata": {
      "needs_background": "light"
     },
     "output_type": "display_data"
    }
   ],
   "source": [
    "plt.bar(value_frequencies.index,value_frequencies.values)\n",
    "plt.title(\"Normalized histogram of digit counts\")\n",
    "plt.xlabel(\"Digit\")\n",
    "plt.xticks(range(10))\n",
    "plt.ylabel(\"Frequency\")\n",
    "plt.show()"
   ]
  },
  {
   "cell_type": "markdown",
   "metadata": {},
   "source": [
    "### 1.d Compute and show nearest neighbor"
   ]
  },
  {
   "cell_type": "code",
   "execution_count": 8,
   "metadata": {},
   "outputs": [],
   "source": [
    "def oneNN(sample_x, df):\n",
    "    \"\"\"Computes the distance between sample and each row of df.\n",
    "    Returns sample and best match.\"\"\"    \n",
    "\n",
    "    distances = pd.DataFrame()\n",
    "    distances['dist'] = np.sqrt(np.sum((sample_x - np.array(df.iloc[:,1:]))**2,axis=1))\n",
    "\n",
    "    best = df.loc[distances[distances['dist']!=0]['dist'].idxmin()]\n",
    "    min_dist = distances[distances['dist']!=0]['dist'].min()\n",
    "    \n",
    "    return best, min_dist"
   ]
  },
  {
   "cell_type": "code",
   "execution_count": 17,
   "metadata": {},
   "outputs": [
    {
     "data": {
      "text/plain": [
       "[]"
      ]
     },
     "execution_count": 17,
     "metadata": {},
     "output_type": "execute_result"
    },
    {
     "data": {
      "image/png": "[encoded data removed]",
      "text/plain": [
       "<Figure size 144x720 with 20 Axes>"
      ]
     },
     "metadata": {},
     "output_type": "display_data"
    }
   ],
   "source": [
    "fig, axes = plt.subplots(10, 2, figsize=(2, 10))\n",
    "\n",
    "for i in range(10):\n",
    "    sample = df[df.label==i].sample()\n",
    "    sample_x = np.array(sample)[0][1:]\n",
    "    best, min_dist = oneNN(sample_x, df)\n",
    "    \n",
    "    display_num(sample_x, axes[i,0])\n",
    "    display_num(np.array(best)[1:], axes[i,1])\n",
    "    \n",
    "fig.suptitle('Closest Digits\\n', y=0.89)\n",
    "plt.plot()"
   ]
  },
  {
   "cell_type": "markdown",
   "metadata": {},
   "source": [
    "### 1.e Plot histogram of genuine and impostor distances"
   ]
  },
  {
   "cell_type": "code",
   "execution_count": 10,
   "metadata": {},
   "outputs": [],
   "source": [
    "binary_df = pd.read_csv('train.csv')\n",
    "binary_df = binary_df[(binary_df['label'] == 0) | (binary_df['label'] == 1)]"
   ]
  },
  {
   "cell_type": "code",
   "execution_count": 11,
   "metadata": {},
   "outputs": [],
   "source": [
    "# We create a matrix of distances between each pair of observations.\n",
    "dist_matrix = cdist(binary_df.iloc[:,1:],binary_df.iloc[:,1:])"
   ]
  },
  {
   "cell_type": "code",
   "execution_count": 12,
   "metadata": {},
   "outputs": [],
   "source": [
    "# We create a matrix that shows, for each pair of observations, True for genuine matches and False for impostor matches.\n",
    "v = np.array(binary_df[\"label\"]).reshape(1,-1)\n",
    "is_genuine = np.transpose(v)==v"
   ]
  },
  {
   "cell_type": "code",
   "execution_count": 13,
   "metadata": {
    "scrolled": true
   },
   "outputs": [
    {
     "name": "stdout",
     "output_type": "stream",
     "text": [
      "[[0.00000000e+00 3.30763873e+03]\n",
      " [1.00000000e+00 2.21755225e+03]\n",
      " [0.00000000e+00 3.50871087e+03]\n",
      " ...\n",
      " [0.00000000e+00 2.94424557e+03]\n",
      " [1.00000000e+00 1.27990273e+03]\n",
      " [0.00000000e+00 2.81221994e+03]]\n"
     ]
    }
   ],
   "source": [
    "# As the matrices are symmetric, we only need the values in the upper triangle of the 2 matrices (is_genuine and dist_matrix).\n",
    "is_genuine_1D = is_genuine[np.triu_indices(is_genuine.shape[1], 1)].reshape(-1,1)\n",
    "distances_1D = dist_matrix[np.triu_indices(dist_matrix.shape[1], 1)].reshape(-1,1)\n",
    "\n",
    "final = np.hstack((is_genuine_1D, distances_1D))\n",
    "print(final)"
   ]
  },
  {
   "cell_type": "code",
   "execution_count": 14,
   "metadata": {},
   "outputs": [
    {
     "name": "stdout",
     "output_type": "stream",
     "text": [
      "There are 19354288 impostors and 19502232 genuines.\n"
     ]
    }
   ],
   "source": [
    "final_df = pd.DataFrame(final, columns=[\"is_genuine\",\"dist\"])\n",
    "genuine_df = final_df[final_df[\"is_genuine\"]==1]\n",
    "impostor_df = final_df[final_df[\"is_genuine\"]==0]\n",
    "print(\"There are %s impostors and %s genuines.\" % (impostor_df.shape[0], genuine_df.shape[0]))"
   ]
  },
  {
   "cell_type": "code",
   "execution_count": 15,
   "metadata": {},
   "outputs": [
    {
     "data": {
      "image/png": "[encoded data removed]",
      "text/plain": [
       "<Figure size 432x288 with 1 Axes>"
      ]
     },
     "metadata": {
      "needs_background": "light"
     },
     "output_type": "display_data"
    }
   ],
   "source": [
    "genuine_df.dist.hist(alpha=0.4, bins=30, label=\"Genuine\")\n",
    "impostor_df.dist.hist(alpha=0.4, bins = 30, label=\"Impostor\")\n",
    "plt.legend()\n",
    "plt.title(\"Histogram of distances (30 bins)\")\n",
    "plt.xlabel(\"Euclidian distance between 2 observations\")\n",
    "plt.show()"
   ]
  },
  {
   "cell_type": "markdown",
   "metadata": {},
   "source": [
    "### 1.f Generate an ROC curve"
   ]
  },
  {
   "cell_type": "code",
   "execution_count": 23,
   "metadata": {
    "scrolled": true
   },
   "outputs": [
    {
     "data": {
      "image/png": "[encoded data removed]",
      "text/plain": [
       "<Figure size 432x288 with 1 Axes>"
      ]
     },
     "metadata": {
      "needs_background": "light"
     },
     "output_type": "display_data"
    }
   ],
   "source": [
    "# We need to compute the TPR and FPR at different thresholds.\n",
    "def roc(df, n_thr=30):\n",
    "    \n",
    "    df_genuines = df[df['is_genuine'] == 1]\n",
    "    df_impostors = df[df['is_genuine'] == 0]\n",
    "    \n",
    "    thresholds = np.linspace(0,df.dist.max(),n_thr)\n",
    "    \n",
    "    fpr, tpr = [], []\n",
    "    for i in thresholds:\n",
    "        tpr.append(df_genuines[df_genuines['dist'] <= i].shape[0] / df_genuines.shape[0])\n",
    "        fpr.append(df_impostors[df_impostors['dist'] <= i].shape[0] / df_impostors.shape[0])\n",
    "    \n",
    "    return fpr, tpr\n",
    "\n",
    "fpr, tpr = roc(final_df)\n",
    "plt.plot(fpr,tpr)\n",
    "plt.plot([0,1],[0,1])\n",
    "plt.plot([0,1],[1,0], '--')\n",
    "plt.plot([0.18,0.18],[0,1], ':')\n",
    "plt.xlabel('FPR')\n",
    "plt.ylabel('TPR')\n",
    "plt.title('ROC curve')\n",
    "plt.show()"
   ]
  },
  {
   "cell_type": "markdown",
   "metadata": {},
   "source": [
    "## Alternative 1.e & 1.f"
   ]
  },
  {
   "cell_type": "markdown",
   "metadata": {},
   "source": [
    "### 1.e Plot histogram of genuine and impostor distances"
   ]
  },
  {
   "cell_type": "code",
   "execution_count": 24,
   "metadata": {},
   "outputs": [
    {
     "name": "stdout",
     "output_type": "stream",
     "text": [
      "[[ 1 -1  1 ...  1 -1  1]\n",
      " [ 2 -2  2 ...  2 -2  2]\n",
      " [ 1 -1  1 ...  1 -1  1]\n",
      " ...\n",
      " [ 1 -1  1 ...  1 -1  1]\n",
      " [ 2 -2  2 ...  2 -2  2]\n",
      " [ 1 -1  1 ...  1 -1  1]]\n",
      "(8816, 8816)\n"
     ]
    }
   ],
   "source": [
    "# We create a matrix that shows, for each pair of observations:\n",
    "map_class = {1:\"TP\",\n",
    "       2:\"FP\",\n",
    "       -2:\"TN\",\n",
    "       -1:\"FN\"}\n",
    "\n",
    "v = np.array(binary_df[\"label\"]).reshape(1,-1)\n",
    "v1 = np.where(v == 0, 2, 1)\n",
    "v2 = np.where(v == 0, -1, 1)\n",
    "classification = np.multiply(np.transpose(v1),v2)\n",
    "print(classification)\n",
    "print(classification.shape)"
   ]
  },
  {
   "cell_type": "code",
   "execution_count": 25,
   "metadata": {},
   "outputs": [
    {
     "name": "stdout",
     "output_type": "stream",
     "text": [
      "[[-1.00000000e+00  3.30763873e+03]\n",
      " [ 1.00000000e+00  2.21755225e+03]\n",
      " [-1.00000000e+00  3.50871087e+03]\n",
      " ...\n",
      " [-1.00000000e+00  3.05098623e+03]\n",
      " [ 1.00000000e+00  1.27990273e+03]\n",
      " [-1.00000000e+00  2.81221994e+03]]\n",
      "(77713040, 2)\n"
     ]
    }
   ],
   "source": [
    "# We delete the diagonal in both matrices\n",
    "np.fill_diagonal(classification, 0)\n",
    "classification_1D = classification[classification != 0].reshape(-1,1)\n",
    "dist_1D = dist_matrix[dist_matrix != 0].reshape(-1,1)\n",
    "\n",
    "final = np.hstack((classification_1D, dist_1D))\n",
    "print(final)\n",
    "print(final.shape)"
   ]
  },
  {
   "cell_type": "code",
   "execution_count": 26,
   "metadata": {},
   "outputs": [
    {
     "data": {
      "text/plain": [
       "TP    21935172\n",
       "FN    19354288\n",
       "FP    19354288\n",
       "TN    17069292\n",
       "Name: class, dtype: int64"
      ]
     },
     "execution_count": 26,
     "metadata": {},
     "output_type": "execute_result"
    }
   ],
   "source": [
    "final_df = pd.DataFrame(final, columns=[\"class\",\"dist\"])\n",
    "final_df[\"class\"] = final_df[\"class\"].map(map_class)\n",
    "final_df[\"class\"].value_counts()"
   ]
  },
  {
   "cell_type": "code",
   "execution_count": 27,
   "metadata": {},
   "outputs": [
    {
     "data": {
      "image/png": "[encoded data removed]",
      "text/plain": [
       "<Figure size 432x288 with 1 Axes>"
      ]
     },
     "metadata": {
      "needs_background": "light"
     },
     "output_type": "display_data"
    }
   ],
   "source": [
    "final_df[(final_df[\"class\"] == \"TP\") | (final_df[\"class\"] == \"TN\")].dist.hist(alpha=0.4, bins=30, label='Genuine')\n",
    "final_df[(final_df[\"class\"] == \"FP\") | (final_df[\"class\"] == \"FN\")].dist.hist(alpha=0.4, bins=30, label='Impostor')\n",
    "plt.legend()\n",
    "plt.title(\"Histogram of distances (30 bins)\")\n",
    "plt.xlabel(\"Euclidian distance between 2 observations\")\n",
    "plt.show()"
   ]
  },
  {
   "cell_type": "markdown",
   "metadata": {},
   "source": [
    "### 1.f Generate an ROC curve"
   ]
  },
  {
   "cell_type": "code",
   "execution_count": 28,
   "metadata": {},
   "outputs": [
    {
     "data": {
      "image/png": "[encoded data removed]",
      "text/plain": [
       "<Figure size 432x288 with 1 Axes>"
      ]
     },
     "metadata": {
      "needs_background": "light"
     },
     "output_type": "display_data"
    }
   ],
   "source": [
    "# We need to compute the TPR and FPR at different thresholds.\n",
    "def roc(df, n_thr=30):\n",
    "    \n",
    "    thresholds = np.linspace(0,df.dist.max(),n_thr)\n",
    "    \n",
    "    df_genuines = df[(df['class'] == \"TP\") | (df['class'] == \"TN\")]\n",
    "    df_impostors = df[(df['class'] == \"FP\") | (df['class'] == \"FN\")]\n",
    "    \n",
    "    fpr, tpr = [], []\n",
    "    for i in thresholds:\n",
    "        tpr.append(df_genuines[(df_genuines['dist'] <= i)].shape[0] / df_genuines.shape[0])\n",
    "        fpr.append(df_impostors[(df_impostors['dist'] <= i)].shape[0] / df_impostors.shape[0])\n",
    "    \n",
    "    return fpr, tpr\n",
    "\n",
    "fpr, tpr = roc(final_df)\n",
    "plt.plot(fpr, tpr)\n",
    "plt.plot([0,1],[0,1])\n",
    "plt.plot([0,1],[1,0], '--')\n",
    "plt.plot([0.18,0.18],[0,1], ':')\n",
    "plt.xlabel('FPR')\n",
    "plt.ylabel('TPR')\n",
    "plt.title('ROC curve')\n",
    "plt.show()"
   ]
  },
  {
   "cell_type": "markdown",
   "metadata": {},
   "source": [
    "## Back to the rest of the exercise\n",
    "### 1.g Implement a KNN classifier"
   ]
  },
  {
   "cell_type": "code",
   "execution_count": 287,
   "metadata": {},
   "outputs": [],
   "source": [
    "class kNN:\n",
    "        \n",
    "    def __init__(self, k):\n",
    "        self.k = k\n",
    "        print(\"Created %sNN classifier\" % k)\n",
    "        \n",
    "    def fit(self, X_train, y_train):\n",
    "        self.X_train, self.y_train = X_train, y_train\n",
    "        print('\"Trained\" on %s observations, with %s features.' % X_train.shape)\n",
    "        \n",
    "    def predict(self, X_test):\n",
    "        dist_matrix = cdist(X_test, self.X_train)\n",
    "        best_idx = np.argsort(dist_matrix, axis=1)[:,:self.k]\n",
    "\n",
    "        best_labels = np.array(y_train.iloc[best_idx.reshape(1,-1)[0]]).reshape(-1,self.k)\n",
    "        \n",
    "        most_frequent = mode(best_labels, axis=1)\n",
    "        self.y_pred = most_frequent.mode\n",
    "        self.y_prob = most_frequent.count / self.k\n",
    "        \n",
    "        return self.y_pred\n",
    "    "
   ]
  },
  {
   "cell_type": "markdown",
   "metadata": {},
   "source": [
    "### 1.h Train on half of training data, test on other half"
   ]
  },
  {
   "cell_type": "code",
   "execution_count": 288,
   "metadata": {},
   "outputs": [],
   "source": [
    "# Splitting training data into two halves: train and test.\n",
    "df_train, df_test = train_test_split(df, test_size=0.5)\n",
    "X_train, y_train = df_train.iloc[:,1:], df_train.iloc[:,0]\n",
    "\n",
    "# We sample 5000 rows of test to reduce computation time\n",
    "df_test_sampled = df_test.sample(5000)\n",
    "X_test, y_test = df_test_sampled.iloc[:,1:], df_test_sampled.iloc[:,0]"
   ]
  },
  {
   "cell_type": "code",
   "execution_count": 289,
   "metadata": {},
   "outputs": [
    {
     "name": "stdout",
     "output_type": "stream",
     "text": [
      "Created 3NN classifier\n",
      "\"Trained\" on 21000 observations, with 784 features.\n"
     ]
    }
   ],
   "source": [
    "model = kNN(3)\n",
    "model.fit(X_train, y_train)"
   ]
  },
  {
   "cell_type": "code",
   "execution_count": 290,
   "metadata": {},
   "outputs": [],
   "source": [
    "y_pred = model.predict(X_test)"
   ]
  },
  {
   "cell_type": "code",
   "execution_count": 291,
   "metadata": {},
   "outputs": [],
   "source": [
    "def avg_accur(y_test, y_pred):\n",
    "    loss = y_test.values != y_pred.reshape(1,-1)[0]\n",
    "    return 1 - (loss.sum() / loss.shape[0])"
   ]
  },
  {
   "cell_type": "code",
   "execution_count": 292,
   "metadata": {},
   "outputs": [
    {
     "name": "stdout",
     "output_type": "stream",
     "text": [
      "The average accuracy is 0.9626\n"
     ]
    }
   ],
   "source": [
    "print(\"The average accuracy is %s\" % avg_accur(y_test, y_pred))"
   ]
  },
  {
   "cell_type": "markdown",
   "metadata": {},
   "source": [
    "### 1.i Generate the Confusion Matrix"
   ]
  },
  {
   "cell_type": "code",
   "execution_count": 293,
   "metadata": {},
   "outputs": [],
   "source": [
    "def join(y_test, y_pred):\n",
    "    return pd.DataFrame(np.hstack([y_test.values.reshape(-1,1), y_pred]), columns=[\"y_test\", \"y_pred\"])"
   ]
  },
  {
   "cell_type": "code",
   "execution_count": 251,
   "metadata": {
    "scrolled": false
   },
   "outputs": [
    {
     "data": {
      "image/png": "[encoded data removed]",
      "text/plain": [
       "<Figure size 576x576 with 1 Axes>"
      ]
     },
     "metadata": {
      "needs_background": "light"
     },
     "output_type": "display_data"
    }
   ],
   "source": [
    "joined = join(y_test, y_pred)\n",
    "confusion = np.empty((10,10))\n",
    "for i in range(10):\n",
    "    for j in range(10):\n",
    "        confusion[i,j] = joined[(joined[\"y_test\"] == i) & (joined[\"y_pred\"] == j)].shape[0]\n",
    "\n",
    "confusion_wo_diag = confusion.copy()\n",
    "np.fill_diagonal(confusion_wo_diag, 0)\n",
    "\n",
    "fig, ax = plt.subplots(figsize=(8,8))\n",
    "sns.heatmap(confusion, axes=ax, annot=True, cbar=False, cmap=\"Purples\", vmax=confusion_wo_diag.max())\n",
    "ax.xaxis.tick_top()\n",
    "ax.xaxis.set_label_position('top') \n",
    "plt.xlabel(\"y_pred\\n\")\n",
    "plt.ylabel(\"y_test\\n\")\n",
    "plt.suptitle(\"Confusion matrix\",)\n",
    "plt.show()"
   ]
  },
  {
   "cell_type": "markdown",
   "metadata": {},
   "source": [
    "The numbers that are misclassified the most frequently are\n",
    "- the 4s (confused 14 times with 9s and 8 times with 1s)\n",
    "- the 8s (confused 10 times with 2s, 9 times with 3s, and 8 times with 5s)\n",
    "- ..."
   ]
  },
  {
   "cell_type": "markdown",
   "metadata": {},
   "source": [
    "### 1.j Predict y_test and submit on Kaggle"
   ]
  },
  {
   "cell_type": "code",
   "execution_count": 3,
   "metadata": {},
   "outputs": [
    {
     "data": {
      "text/plain": [
       "(28000, 784)"
      ]
     },
     "execution_count": 3,
     "metadata": {},
     "output_type": "execute_result"
    }
   ],
   "source": [
    "X_train, y_train = df.iloc[:,1:], df.iloc[:,0]\n",
    "X_test = pd.read_csv('test.csv')\n",
    "X_test.shape"
   ]
  },
  {
   "cell_type": "code",
   "execution_count": 4,
   "metadata": {},
   "outputs": [],
   "source": [
    "from sklearn.neighbors import KNeighborsClassifier"
   ]
  },
  {
   "cell_type": "code",
   "execution_count": 5,
   "metadata": {},
   "outputs": [],
   "source": [
    "knn = KNeighborsClassifier(n_neighbors=10, weights=\"distance\", n_jobs=-1)\n",
    "knn.fit(X_train, y_train)\n",
    "y_pred = knn.predict(X_test)"
   ]
  },
  {
   "cell_type": "code",
   "execution_count": 6,
   "metadata": {},
   "outputs": [
    {
     "data": {
      "text/plain": [
       "array([2, 0, 9, ..., 3, 9, 2], dtype=int64)"
      ]
     },
     "execution_count": 6,
     "metadata": {},
     "output_type": "execute_result"
    }
   ],
   "source": [
    "y_pred"
   ]
  },
  {
   "cell_type": "code",
   "execution_count": 275,
   "metadata": {},
   "outputs": [],
   "source": [
    "df1 = pd.DataFrame(list(range(1,len(y_pred)+1)), columns=[\"ImageId\"])\n",
    "df1[\"Label\"] = y_pred\n",
    "df1.to_csv(\"submission.csv\", index=False)"
   ]
  }
 ],
 "metadata": {
  "kernelspec": {
   "display_name": "Python 3",
   "language": "python",
   "name": "python3"
  },
  "language_info": {
   "codemirror_mode": {
    "name": "ipython",
    "version": 3
   },
   "file_extension": ".py",
   "mimetype": "text/x-python",
   "name": "python",
   "nbconvert_exporter": "python",
   "pygments_lexer": "ipython3",
   "version": "3.7.10"
  }
 },
 "nbformat": 4,
 "nbformat_minor": 1
}
