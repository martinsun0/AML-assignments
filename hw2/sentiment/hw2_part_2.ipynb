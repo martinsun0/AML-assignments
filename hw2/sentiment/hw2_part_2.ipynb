{
 "cells": [
  {
   "cell_type": "code",
   "execution_count": 34,
   "id": "4ef86ffd",
   "metadata": {
    "scrolled": true
   },
   "outputs": [],
   "source": [
    "import pandas as pd\n",
    "import matplotlib.pyplot as plt\n",
    "from sklearn.metrics import accuracy_score, confusion_matrix, ConfusionMatrixDisplay\n",
    "from sklearn.linear_model import LogisticRegressionCV\n",
    "import csv\n",
    "import nltk\n",
    "from nltk.stem import WordNetLemmatizer\n",
    "import sys\n",
    "import numpy as np\n",
    "np.set_printoptions(threshold=sys.maxsize)"
   ]
  },
  {
   "cell_type": "code",
   "execution_count": 35,
   "id": "cf0fde51",
   "metadata": {},
   "outputs": [
    {
     "name": "stdout",
     "output_type": "stream",
     "text": [
      "Loaded 1000 reviews from amazon.\n",
      "Loaded 1000 reviews from yelp.\n",
      "Loaded 1000 reviews from imdb.\n",
      "Observations with score 0: 1500\n",
      "Observations with score 1: 1500\n"
     ]
    }
   ],
   "source": [
    "df1 = pd.read_csv('amazon_cells_labelled.txt', sep='\\t', names=['review','score'])\n",
    "print(\"Loaded %s reviews from amazon.\" % df1.shape[0])\n",
    "df2 = pd.read_csv('yelp_labelled.txt', sep='\\t', names=['review','score'])\n",
    "print(\"Loaded %s reviews from yelp.\" % df2.shape[0])\n",
    "df3 = pd.read_csv('imdb_labelled.txt', sep='\\t', names=['review','score'], quoting=csv.QUOTE_NONE)\n",
    "print(\"Loaded %s reviews from imdb.\" % df3.shape[0])\n",
    "df = pd.concat([df1,df2,df3])\n",
    "score_count = df.score.value_counts()\n",
    "print(\"Observations with score 0: \"+str(score_count.loc[0]))\n",
    "print(\"Observations with score 1: \"+str(score_count.loc[1]))"
   ]
  },
  {
   "cell_type": "code",
   "execution_count": 36,
   "id": "2a018909",
   "metadata": {},
   "outputs": [
    {
     "name": "stderr",
     "output_type": "stream",
     "text": [
      "C:\\Users\\Romain\\Anaconda3\\lib\\site-packages\\ipykernel_launcher.py:2: FutureWarning: The default value of regex will change from True to False in a future version.\n",
      "  \n"
     ]
    }
   ],
   "source": [
    "df.review = df.review.str.lower()\n",
    "df.review = df.review.str.replace(\"[-.,?!`' ]+\", ' ')\n",
    "df.review = df.review.str.replace(' the ', ' ')\n",
    "df.review = df.review.str.replace(' and ', ' ')\n",
    "df.review = df.review.str.replace(' or ', ' ')\n",
    "df.review = df.review.str.replace(' a ', ' ')\n",
    "df.review = df.review.str.replace(' an ', ' ')\n",
    "df.review = df.review.str.replace(' to ', ' ')"
   ]
  },
  {
   "cell_type": "markdown",
   "id": "76ebb18f",
   "metadata": {},
   "source": [
    "### Lemmatization with NLTK\n",
    "https://www.machinelearningplus.com/nlp/lemmatization-examples-python/"
   ]
  },
  {
   "cell_type": "code",
   "execution_count": 37,
   "id": "bd908036",
   "metadata": {},
   "outputs": [
    {
     "name": "stdout",
     "output_type": "stream",
     "text": [
      "['so', 'there', 'is', 'no', 'way', 'for', 'me', 'plug', 'it', 'in', 'here', 'in', 'u', 'unless', 'i', 'go', 'by', 'converter']\n"
     ]
    }
   ],
   "source": [
    "def lemmatize(sentence, lemmatizer):\n",
    "    word_list = sentence.strip().split(\" \")\n",
    "    return [lemmatizer.lemmatize(word) for word in word_list]\n",
    "\n",
    "lemmatizer = WordNetLemmatizer()\n",
    "df.review = df.review.apply(lemmatize, args=[lemmatizer])\n",
    "print(df.review.iloc[0])"
   ]
  },
  {
   "cell_type": "code",
   "execution_count": 5,
   "id": "cc339250",
   "metadata": {},
   "outputs": [
    {
     "name": "stdout",
     "output_type": "stream",
     "text": [
      "We split the data into 2400 train reviews and 600 test reviews.\n"
     ]
    }
   ],
   "source": [
    "df1 = df.iloc[:1000]\n",
    "df2 = df.iloc[1000:2000]\n",
    "df3 = df.iloc[2000:]\n",
    "\n",
    "df_list = [df1, df2, df3]\n",
    "\n",
    "def split_train_test(df):\n",
    "    return (pd.concat([df[df[\"score\"] == 0].iloc[:400],df[df[\"score\"] == 1].iloc[:400]]),\n",
    "            pd.concat([df[df[\"score\"] == 0].iloc[400:],df[df[\"score\"] == 1].iloc[400:]]))\n",
    "\n",
    "train_list = []\n",
    "test_list = []\n",
    "\n",
    "for dfi in df_list:\n",
    "    train, test = split_train_test(dfi)\n",
    "    train_list.append(train)\n",
    "    test_list.append(test)\n",
    "    \n",
    "df_train = pd.concat(train_list).reset_index(drop=True)\n",
    "df_test = pd.concat(test_list).reset_index(drop=True)\n",
    "print('We split the data into %s train reviews and %s test reviews.' % (df_train.shape[0], df_test.shape[0]))"
   ]
  },
  {
   "cell_type": "code",
   "execution_count": 6,
   "id": "daeff74d",
   "metadata": {},
   "outputs": [
    {
     "name": "stdout",
     "output_type": "stream",
     "text": [
      "Here is a vector (4400 features):\n",
      "[0 0 1 0 0 0 0 1 0 1 0 0 0 0 0 0 0 0 0 0 0 0 0 0 0 0 0 0 0 0 0 0 0 0 0 0 0\n",
      " 0 0 0 0 0 0 0 0 0 0 0 0 0 0 0 0 0 0 0 0 0 0 0 0 0 0 0 0 0 0 1 0 0 1 0 0 0\n",
      " 0 0 0 0 1 0 0 0 0 0 0 0 0 0 0 0 0 0 0 0 0 0 0 1 0 0 0 0 0 0 0 0 0 1 0 0 0\n",
      " 0 0 0 0 0 0 0 0 0 0 1 0 0 1 0 0 0 0 0 0 0 0 0 0 0 0 0 0 0 0 0 0 0 0 0 0 0\n",
      " 0 0 0 0 0 0 0 0 0 0 0 0 0 0 0 0 0 0 0 0 0 0 0 0 0 0 0 0 0 0 0 0 0 0 0 0 0\n",
      " 0 0 0 0 0 0 0 0 0 0 0 0 0 0 0 0 0 0 0 0 0 0 0 0 0 0 0 0 0 0 0 0 0 0 0 0 0\n",
      " 0 0 0 0 0 0 0 0 0 0 0 0 0 0 0 0 0 0 0 0 0 0 0 0 0 0 0 0 0 0 0 0 0 0 0 0 0\n",
      " 0 0 0 0 0 1 0 0 0 0 0 0 0 0 0 0 0 0 0 0 0 0 0 0 0 0 0 0 0 0 0 0 0 0 0 0 0\n",
      " 0 0 0 0 0 0 0 0 0 0 0 0 1 0 0 0 0 0 0 0 0 0 0 0 0 0 0 0 0 0 0 0 0 0 0 0 0\n",
      " 0 0 0 0 0 0 0 0 0 0 0 0 0 0 0 0 0 0 0 0 0 0 0 0 0 0 0 0 0 0 0 0 0 0 0 0 0\n",
      " 0 0 0 0 0 0 0 0 0 0 0 0 0 0 0 0 0 0 0 0 0 0 0 0 0 0 0 0 0 0 0 0 0 0 0 0 0\n",
      " 0 0 0 0 0 0 0 0 0 0 0 0 0 0 0 0 0 0 0 0 0 0 0 0 0 0 0 0 0 0 0 0 0 0 0 0 0\n",
      " 0 0 0 0 0 0 0 0 0 0 0 0 0 0 0 0 0 0 0 0 0 0 0 0 0 0 0 0 0 0 0 0 0 0 0 0 0\n",
      " 0 0 0 0 0 0 0 0 0 0 0 0 0 0 0 0 0 0 0 0 0 0 0 0 0 0 0 0 0 0 0 0 0 0 0 0 0\n",
      " 0 0 0 0 0 0 0 0 0 0 0 0 0 0 0 0 0 0 0 0 0 0 0 0 0 0 0 0 0 0 0 0 0 0 0 0 0\n",
      " 0 0 0 0 0 0 0 0 0 0 0 0 0 0 0 0 0 0 0 0 0 0 0 0 0 0 0 0 0 0 0 0 0 0 0 0 0\n",
      " 0 0 0 0 0 0 0 0 0 0 0 0 0 0 0 0 0 0 0 0 0 0 0 0 0 0 0 0 0 0 0 0 0 0 0 0 0\n",
      " 0 0 0 0 0 0 0 0 0 0 1 0 0 0 0 0 0 0 0 0 0 0 0 0 0 0 0 0 0 0 0 0 0 0 0 0 0\n",
      " 0 0 0 0 0 0 0 0 0 0 0 0 0 0 0 0 0 0 0 0 0 0 0 0 0 0 0 0 0 0 0 0 0 0 0 0 0\n",
      " 0 0 0 0 0 0 0 0 0 0 0 0 0 0 0 0 0 0 0 0 0 0 0 0 0 0 0 0 0 0 0 0 0 0 0 0 0\n",
      " 0 0 0 0 0 0 0 0 0 0 0 0 0 0 0 0 0 0 0 0 0 0 0 0 0 0 0 0 0 0 0 0 0 0 0 0 0\n",
      " 0 0 0 0 0 0 0 0 0 0 0 0 0 0 0 0 0 0 0 0 0 0 0 0 0 0 0 0 0 0 0 0 0 0 0 0 0\n",
      " 0 0 0 0 0 0 0 0 0 0 0 0 0 0 0 0 0 0 0 0 0 0 0 0 0 0 0 0 0 0 0 0 0 0 0 0 0\n",
      " 0 0 0 0 0 0 0 0 0 0 0 0 0 0 0 0 0 0 0 0 0 0 0 0 0 0 0 0 0 0 0 0 0 0 0 0 0\n",
      " 0 0 0 0 0 0 0 0 0 0 0 0 0 0 0 0 0 0 0 0 0 0 0 0 0 0 0 0 0 0 0 0 0 0 0 0 0\n",
      " 0 0 0 0 0 0 0 0 0 0 0 0 0 0 0 0 0 0 0 0 0 0 0 0 0 0 0 0 0 0 0 0 0 0 0 0 0\n",
      " 0 0 0 0 0 0 0 0 0 0 0 0 0 0 0 0 0 0 0 0 0 0 0 0 0 0 0 0 0 0 0 0 0 0 0 0 0\n",
      " 0 0 0 0 0 0 0 0 0 0 0 0 0 0 0 0 0 0 0 0 0 0 0 0 0 0 0 0 0 0 0 0 0 0 0 0 0\n",
      " 0 0 0 0 0 0 0 0 0 0 0 0 0 0 0 0 0 0 0 0 0 0 0 0 0 0 0 0 0 0 0 0 0 0 0 0 0\n",
      " 0 0 0 0 0 0 0 0 0 0 0 0 0 0 0 0 0 0 0 0 0 0 0 0 0 0 0 0 0 0 0 0 0 0 0 0 0\n",
      " 0 0 0 0 0 0 0 0 0 0 0 0 0 0 0 0 0 0 0 0 0 0 0 0 0 0 0 0 0 0 0 0 0 0 0 0 0\n",
      " 0 0 0 0 0 0 0 0 0 0 0 0 0 0 0 0 0 0 0 0 0 0 0 0 0 0 0 0 0 0 0 0 0 0 0 0 0\n",
      " 0 0 0 0 0 0 0 0 0 0 0 0 0 0 0 0 0 0 0 0 0 0 0 0 0 0 0 0 0 0 0 0 0 0 0 0 0\n",
      " 0 0 0 0 0 0 0 0 0 0 0 0 0 0 0 0 0 0 0 0 0 0 0 0 0 0 0 0 0 0 0 0 0 0 0 0 0\n",
      " 0 0 0 0 0 0 0 0 0 0 0 0 0 0 0 0 0 0 0 0 0 0 0 0 0 0 0 0 0 0 0 0 0 0 0 0 0\n",
      " 0 0 0 0 0 0 0 0 0 0 0 0 0 0 0 0 0 0 0 0 0 0 0 0 0 0 0 0 0 0 0 0 0 0 0 0 0\n",
      " 0 0 0 0 0 0 0 0 0 0 0 0 0 0 0 0 0 0 0 0 0 0 0 0 0 0 0 0 0 0 0 0 0 0 0 0 0\n",
      " 0 0 0 0 0 0 0 0 0 0 0 0 0 0 0 0 0 0 0 0 0 0 0 0 0 0 0 0 0 0 0 0 0 0 0 0 0\n",
      " 0 0 0 1 0 0 0 0 0 0 0 0 0 0 0 0 0 0 0 0 0 0 0 0 0 0 0 0 0 0 0 0 0 0 0 0 0\n",
      " 0 0 0 0 0 0 0 0 0 0 0 0 0 0 0 0 0 0 0 0 0 0 0 0 0 0 0 0 0 0 0 0 0 0 0 0 0\n",
      " 0 0 0 0 0 0 0 0 0 0 0 0 0 0 0 0 0 0 0 0 0 0 0 0 0 0 0 0 0 0 0 0 0 0 0 0 0\n",
      " 0 0 0 0 0 0 0 0 0 0 0 0 0 0 0 0 0 0 0 0 0 0 0 0 0 0 0 0 0 0 0 0 0 0 0 0 0\n",
      " 0 0 0 0 0 0 0 0 0 0 0 0 0 0 0 0 0 0 0 0 0 0 0 0 0 0 0 0 0 0 0 0 0 0 0 0 0\n",
      " 0 0 0 0 0 0 0 0 0 0 0 0 0 0 0 0 0 0 0 0 0 0 0 0 0 0 0 0 0 0 0 0 0 0 0 0 0\n",
      " 0 0 0 0 0 0 0 0 0 0 0 0 0 0 0 0 0 0 0 0 0 0 0 0 0 0 0 0 0 0 0 0 0 0 0 0 0\n",
      " 0 0 0 0 0 0 0 0 0 0 0 0 0 0 0 0 0 0 0 0 0 0 0 0 0 0 0 0 0 0 0 0 0 0 0 0 0\n",
      " 0 0 0 0 0 0 0 0 0 0 0 0 0 0 0 0 0 0 0 0 0 0 0 0 0 0 0 0 0 0 0 0 0 0 0 0 0\n",
      " 0 0 0 0 0 0 0 0 0 0 0 0 0 0 0 0 0 0 0 0 0 0 0 0 0 0 0 0 0 0 0 0 0 0 0 0 0\n",
      " 0 0 0 0 0 0 0 0 0 0 0 0 0 0 0 0 0 0 0 0 0 0 0 0 0 0 0 0 0 0 0 0 0 0 0 0 0\n",
      " 0 0 0 0 0 0 0 0 0 0 0 0 0 0 0 0 0 0 0 0 0 0 0 0 0 0 0 0 0 0 0 0 0 0 0 0 0\n",
      " 0 0 0 0 0 0 0 0 0 0 0 0 0 0 0 0 0 0 0 0 0 0 0 0 0 0 0 0 0 0 0 0 0 0 0 0 0\n",
      " 0 0 0 0 0 0 0 0 0 0 0 0 0 0 0 0 0 0 0 0 0 0 0 0 0 0 0 0 0 0 0 0 0 0 0 0 0\n",
      " 0 0 0 0 0 0 0 0 0 0 0 0 0 0 0 0 0 0 0 0 0 0 0 0 0 0 0 0 0 0 0 0 0 0 0 0 0\n",
      " 0 0 0 0 0 0 0 0 0 0 0 0 0 0 0 0 0 0 0 0 0 0 0 0 0 0 0 0 0 0 0 0 0 0 0 0 0\n",
      " 0 0 0 0 0 0 0 0 0 0 0 0 0 0 0 0 0 0 0 0 0 0 0 0 0 0 0 0 0 0 0 0 0 0 0 0 0\n",
      " 0 0 0 0 0 0 0 0 0 0 0 0 0 0 0 0 0 0 0 0 0 0 0 0 0 0 0 0 0 0 0 0 0 0 0 0 0\n",
      " 0 0 0 0 0 0 0 0 0 0 0 0 0 0 0 0 0 0 0 0 0 0 0 0 0 0 0 0 0 0 0 0 0 0 0 0 0\n",
      " 0 0 0 0 0 0 0 0 0 0 0 0 0 0 0 0 0 0 0 0 0 0 0 0 0 0 0 0 0 0 0 0 0 0 0 0 0\n",
      " 0 0 0 0 0 0 0 0 0 0 0 0 0 0 0 0 0 0 0 0 0 0 0 0 0 0 0 0 0 0 0 0 0 0 0 0 0\n",
      " 0 0 0 0 0 0 0 0 0 0 0 0 0 0 0 0 0 0 0 0 0 0 0 0 0 0 0 0 0 0 0 0 0 0 0 0 0\n",
      " 0 0 0 0 0 0 0 0 0 0 0 0 0 0 0 0 0 0 0 0 0 0 0 0 0 0 0 0 0 0 0 0 0 0 0 0 0\n",
      " 0 0 0 0 0 0 0 0 0 0 0 0 0 0 0 0 0 0 0 0 0 0 0 0 0 0 0 0 0 0 0 0 0 0 0 0 0\n",
      " 0 0 0 0 0 0 0 0 0 0 0 0 0 0 0 0 0 0 0 0 0 0 0 0 0 0 0 0 0 0 0 0 0 0 0 0 0\n",
      " 0 0 0 0 0 0 0 0 0 0 0 0 0 0 0 0 0 0 0 0 0 0 0 0 0 0 0 0 0 0 0 0 0 0 0 0 0\n",
      " 0 0 0 0 0 0 0 0 0 0 0 0 0 0 0 0 0 0 0 0 0 0 0 0 0 0 0 0 0 0 0 0 0 0 0 0 0\n",
      " 0 0 0 0 0 0 0 0 0 0 0 0 0 0 0 0 0 0 0 0 0 0 0 0 0 0 0 0 0 0 0 0 0 0 0 0 0\n",
      " 0 0 0 0 0 0 0 0 0 0 0 0 0 0 0 0 0 0 0 0 0 0 0 0 0 0 0 0 0 0 0 0 0 0 0 0 0\n",
      " 0 0 0 0 0 0 0 0 0 0 0 0 0 0 0 0 0 0 0 0 0 0 0 0 0 0 0 0 0 0 0 0 0 0 0 0 0\n",
      " 0 0 0 0 0 0 0 0 0 0 0 0 0 0 0 0 0 0 0 0 0 0 0 0 0 0 0 0 0 0 0 0 0 0 0 0 0\n",
      " 0 0 0 0 0 0 0 0 0 0 0 0 0 0 0 0 0 0 0 0 0 0 0 0 0 0 0 0 0 0 0 0 0 0 0 0 0\n",
      " 0 0 0 0 0 0 0 0 0 0 0 0 0 0 0 0 0 0 0 0 0 0 0 0 0 0 0 0 0 0 0 0 0 0 0 0 0\n",
      " 0 0 0 0 0 0 0 0 0 0 0 0 0 0 0 0 0 0 0 0 0 0 0 0 0 0 0 0 0 0 0 0 0 0 0 0 0\n",
      " 0 0 0 0 0 0 0 0 0 0 0 0 0 0 0 0 0 0 0 0 0 0 0 0 0 0 0 0 0 0 0 0 0 0 0 0 0\n",
      " 0 0 0 0 0 0 0 0 0 0 0 0 0 0 0 0 0 0 0 0 0 0 0 0 0 0 0 0 0 0 0 0 0 0 0 0 0\n",
      " 0 0 0 0 0 0 0 0 0 0 0 0 0 0 0 0 0 0 0 0 0 0 0 0 0 0 0 0 0 0 0 0 0 0 0 0 0\n",
      " 0 0 0 0 0 0 0 0 0 0 0 0 0 0 0 0 0 0 0 0 0 0 0 0 0 0 0 0 0 0 0 0 0 0 0 0 0\n",
      " 0 0 0 0 0 0 0 0 0 0 0 0 0 0 0 0 0 0 0 0 0 0 0 0 0 0 0 0 0 0 0 0 0 0 0 0 0\n",
      " 0 0 0 0 0 0 0 0 0 0 0 0 0 0 0 0 0 0 0 0 0 0 0 0 0 0 0 0 0 0 0 0 0 0 0 0 0\n",
      " 0 0 0 0 0 0 0 0 0 0 0 0 0 0 0 0 0 0 0 0 0 0 0 0 0 0 0 0 0 0 0 0 0 0 0 0 0\n",
      " 0 0 0 0 0 0 0 0 0 0 0 0 0 0 0 0 0 0 0 0 0 0 0 0 0 0 0 0 0 0 0 0 0 0 0 0 0\n",
      " 0 0 0 0 0 0 0 0 0 0 0 0 0 0 0 0 0 0 0 0 0 0 0 0 0 0 0 0 0 0 0 0 0 0 0 0 0\n",
      " 0 0 0 0 0 0 0 0 0 0 0 0 0 0 0 0 0 0 0 0 0 0 0 0 0 0 0 0 0 0 0 0 0 0 0 0 0\n",
      " 0 0 0 0 0 0 0 0 0 0 0 0 0 0 0 0 0 0 0 0 0 0 0 0 0 0 0 0 0 0 0 0 0 0 0 0 0\n",
      " 0 0 0 0 0 0 0 0 0 0 0 0 0 0 0 0 0 0 0 0 0 0 0 0 0 0 0 0 0 0 0 0 0 0 0 0 0\n",
      " 0 0 0 0 0 0 0 0 0 0 0 0 0 0 0 0 0 0 0 0 0 0 0 0 0 0 0 0 0 0 0 0 0 0 0 0 0\n",
      " 0 0 0 0 0 0 0 0 0 0 0 0 0 0 0 0 0 0 0 0 0 0 0 0 0 0 0 0 0 0 0 0 0 0 0 0 0\n",
      " 0 0 0 0 0 0 0 0 0 0 0 0 0 0 0 0 0 0 0 0 0 0 0 0 0 0 0 0 0 0 0 0 0 0 0 0 0\n",
      " 0 0 0 0 0 0 0 0 0 0 0 0 0 0 0 0 0 0 0 0 0 0 0 0 0 0 0 0 0 0 0 0 0 0 0 0 0\n",
      " 0 0 0 0 0 0 0 0 0 0 0 0 0 0 0 0 0 0 0 0 0 0 0 0 0 0 0 0 0 0 0 0 0 0 0 0 0\n",
      " 0 0 0 0 0 0 0 0 0 0 0 0 0 0 0 0 0 0 0 0 0 0 0 0 0 0 0 0 0 0 0 0 0 0 0 0 0\n",
      " 0 0 0 0 0 0 0 0 0 0 0 0 0 0 0 0 0 0 0 0 0 0 0 0 0 0 0 0 0 0 0 0 0 0 0 0 0\n",
      " 0 0 0 0 0 0 0 0 0 0 0 0 0 0 0 0 0 0 0 0 0 0 0 0 0 0 0 0 0 0 0 0 0 0 0 0 0\n",
      " 0 0 0 0 0 0 0 0 0 0 0 0 0 0 0 0 0 0 0 0 0 0 0 0 0 0 0 0 0 0 0 0 0 0 0 0 0\n",
      " 0 0 0 0 0 0 0 0 0 0 0 0 0 0 0 0 0 0 0 0 0 0 0 0 0 0 0 0 0 0 0 0 0 0 0 0 0\n",
      " 0 0 0 0 0 0 0 0 0 0 0 0 0 0 0 0 0 0 0 0 0 0 0 0 0 0 0 0 0 0 0 0 0 0 0 0 0\n",
      " 0 0 0 0 0 0 0 0 0 0 0 0 0 0 0 0 0 0 0 0 0 0 0 0 0 0 0 0 0 0 0 0 0 0 0 0 0\n",
      " 0 0 0 0 0 0 0 0 0 0 0 0 0 0 0 0 0 0 0 0 0 0 0 0 0 0 0 0 0 0 0 0 0 0 0 0 0\n",
      " 0 0 0 0 0 0 0 0 0 0 0 0 0 0 0 0 0 0 0 0 0 0 0 0 0 0 0 0 0 0 0 0 0 0 0 0 0\n",
      " 0 0 0 0 0 0 0 0 0 0 0 0 0 0 0 0 0 0 0 0 0 0 0 0 0 0 0 0 0 0 0 0 0 0 0 0 0\n",
      " 0 0 0 0 0 0 0 0 0 0 0 0 0 0 0 0 0 0 0 0 0 0 0 0 0 0 0 0 0 0 0 0 0 0 0 0 0\n",
      " 0 0 0 0 0 0 0 0 0 0 0 0 0 0 0 0 0 0 0 0 0 0 0 0 0 0 0 0 0 0 0 0 0 0 0 0 0\n",
      " 0 0 0 0 0 0 0 0 0 0 0 0 0 0 0 0 0 0 0 0 0 0 0 0 0 0 0 0 0 0 0 0 0 0 0 0 0\n",
      " 0 0 0 0 0 0 0 0 0 0 0 0 0 0 0 0 0 0 0 0 0 0 0 0 0 0 0 0 0 0 0 0 0 0 0 0 0\n",
      " 0 0 0 0 0 0 0 0 0 0 0 0 0 0 0 0 0 0 0 0 0 0 0 0 0 0 0 0 0 0 0 0 0 0 0 0 0\n",
      " 0 0 0 0 0 0 0 0 0 0 0 0 0 0 0 0 0 0 0 0 0 0 0 0 0 0 0 0 0 0 0 0 0 0 0 0 0\n",
      " 0 0 0 0 0 0 0 0 0 0 0 0 0 0 0 0 0 0 0 0 0 0 0 0 0 0 0 0 0 0 0 0 0 0 0 0 0\n",
      " 0 0 0 0 0 0 0 0 0 0 0 0 0 0 0 0 0 0 0 0 0 0 0 0 0 0 0 0 0 0 0 0 0 0 0 0 0\n",
      " 0 0 0 0 0 0 0 0 0 0 0 0 0 0 0 0 0 0 0 0 0 0 0 0 0 0 0 0 0 0 0 0 0 0 0 0 0\n",
      " 0 0 0 0 0 0 0 0 0 0 0 0 0 0 0 0 0 0 0 0 0 0 0 0 0 0 0 0 0 0 0 0 0 0 0 0 0\n",
      " 0 0 0 0 0 0 0 0 0 0 0 0 0 0 0 0 0 0 0 0 0 0 0 0 0 0 0 0 0 0 0 0 0 0 0 0 0\n",
      " 0 0 0 0 0 0 0 0 0 0 0 0 0 0 0 0 0 0 0 0 0 0 0 0 0 0 0 0 0 0 0 0 0 0 0 0 0\n",
      " 0 0 0 0 0 0 0 0 0 0 0 0 0 0 0 0 0 0 0 0 0 0 0 0 0 0 0 0 0 0 0 0 0 0 0 0 0\n",
      " 0 0 0 0 0 0 0 0 0 0 0 0 0 0 0 0 0 0 0 0 0 0 0 0 0 0 0 0 0 0 0 0 0 0 0 0 0\n",
      " 0 0 0 0 0 0 0 0 0 0 0 0 0 0 0 0 0 0 0 0 0 0 0 0 0 0 0 0 0 0 0 0 0 0 0 0 0\n",
      " 0 0 0 0 0 0 0 0 0 0 0 0 0 0 0 0 0 0 0 0 0 0 0 0 0 0 0 0 0 0 0 0 0 0 0 0 0\n",
      " 0 0 0 0 0 0 0 0 0 0 0 0 0 0 0 0 0 0 0 0 0 0 0 0 0 0 0 0 0 0 0 0 0 0 0 0 0\n",
      " 0 0 0 0 0 0 0 0 0 0 0 0 0 0 0 0 0 0 0 0 0 0 0 0 0 0 0 0 0 0 0 0 0 0 0 0 0\n",
      " 0 0 0 0 0 0 0 0 0 0 0 0 0 0 0 0 0 0 0 0 0 0 0 0 0 0 0 0 0 0 0 0 0 0 0 0 0\n",
      " 0 0 0 0 0 0 0 0 0 0 0 0 0 0 0 0 0 0 0 0 0 0 0 0 0 0 0 0 0 0 0 0 0 0]\n",
      "\n",
      "and here is another vector:\n",
      "[0 0 0 0 0 0 0 0 0 0 0 0 0 0 0 0 0 0 0 0 0 0 0 0 0 0 0 0 0 0 0 0 0 0 0 0 0\n",
      " 0 0 0 0 0 0 0 0 0 0 0 0 0 0 0 0 0 0 0 0 0 0 0 0 0 0 0 0 0 0 0 0 1 0 0 0 0\n",
      " 0 0 0 0 0 0 0 0 0 0 0 0 0 0 0 0 0 0 0 0 0 0 0 0 0 0 0 0 0 0 0 0 0 0 0 0 0\n",
      " 0 0 0 0 0 0 0 0 0 0 0 0 0 0 0 0 0 0 0 0 0 0 0 0 0 0 0 0 0 0 0 0 0 0 0 0 0\n",
      " 0 0 0 0 0 0 0 0 0 0 0 0 0 0 0 0 0 0 0 0 0 0 0 0 0 0 0 0 0 0 0 0 0 0 0 0 0\n",
      " 0 0 0 0 0 0 0 0 0 0 0 0 0 0 0 0 0 0 0 0 0 0 0 0 0 0 0 0 0 0 0 0 0 0 0 0 0\n",
      " 0 0 0 0 0 0 0 0 0 0 0 0 0 0 0 0 0 0 0 0 0 0 0 0 0 0 0 0 0 0 0 0 0 0 0 0 0\n",
      " 0 0 0 0 0 0 0 0 0 0 0 0 0 0 0 0 0 0 0 0 0 0 0 0 0 0 0 0 0 0 0 0 0 0 0 0 0\n",
      " 0 0 0 0 0 0 0 0 0 0 0 0 0 0 0 0 0 0 0 0 0 0 0 0 0 0 0 0 0 0 0 0 0 0 0 0 0\n",
      " 0 0 0 0 0 0 0 0 0 0 0 0 0 0 0 0 0 0 0 0 0 0 0 0 0 0 0 0 0 0 0 0 0 0 0 0 0\n",
      " 0 0 0 0 0 0 0 0 0 0 0 0 0 0 0 0 0 0 0 0 0 0 0 0 0 0 0 0 0 0 0 0 0 0 0 0 0\n",
      " 0 0 0 0 0 0 0 0 0 0 0 0 0 0 0 0 0 0 0 0 0 0 0 0 0 0 0 0 0 0 0 0 0 0 0 0 0\n",
      " 0 0 0 0 0 0 0 0 0 0 0 0 0 0 0 0 0 0 0 0 0 0 0 0 0 0 0 0 0 0 0 0 0 0 0 0 0\n",
      " 0 1 0 0 0 0 0 0 0 0 0 0 0 0 0 0 0 0 0 0 0 0 0 0 0 0 0 0 0 0 0 0 0 0 0 0 0\n",
      " 0 0 0 0 0 0 0 0 0 0 0 0 0 0 0 0 0 0 0 0 0 0 0 0 0 0 0 0 0 0 0 0 0 0 0 0 0\n",
      " 0 0 0 0 0 0 0 0 0 0 0 0 0 0 0 0 0 0 1 0 0 0 0 0 0 0 0 0 0 0 0 0 0 0 0 0 0\n",
      " 0 0 0 0 0 0 0 0 0 0 0 0 0 0 0 0 0 0 0 0 0 0 0 0 0 0 0 0 0 0 0 0 0 0 0 0 0\n",
      " 0 0 0 0 0 0 0 0 0 0 0 0 0 0 0 0 0 0 0 0 0 0 0 0 0 0 0 0 0 0 0 0 0 0 0 0 0\n",
      " 0 0 0 0 0 0 0 0 0 0 0 0 0 0 0 0 0 0 0 0 0 0 0 0 0 0 0 0 0 0 0 0 0 0 0 0 0\n",
      " 0 0 0 0 0 0 0 0 0 0 0 0 0 0 0 0 0 0 0 0 0 0 0 0 0 0 0 0 0 0 0 0 0 0 0 0 0\n",
      " 0 0 0 0 0 0 0 0 0 0 0 0 0 0 0 0 0 0 0 0 0 0 0 0 0 0 0 0 0 0 0 0 0 0 0 0 0\n",
      " 0 0 0 0 0 0 0 0 0 0 0 0 0 0 0 0 0 0 0 0 0 0 0 0 0 0 0 0 0 0 0 0 0 0 0 0 0\n",
      " 0 0 0 0 0 0 0 0 0 0 0 0 0 0 0 0 0 0 0 0 0 0 0 0 0 0 0 0 0 0 0 0 0 0 0 0 0\n",
      " 0 0 0 0 0 0 0 0 0 0 0 0 0 0 0 0 0 0 0 0 0 0 0 0 0 0 0 0 0 0 0 0 0 0 0 0 0\n",
      " 0 0 0 0 0 0 0 0 0 0 0 0 0 0 0 0 0 0 0 0 0 0 0 0 0 0 0 0 0 0 0 0 0 0 0 0 0\n",
      " 0 0 0 0 0 0 0 0 0 0 0 0 0 0 0 0 0 0 0 0 0 0 0 0 0 0 0 0 0 0 0 0 0 0 0 0 0\n",
      " 0 0 0 0 0 0 0 0 0 0 0 0 0 0 0 0 0 0 0 0 0 0 0 0 0 0 0 0 0 0 0 0 0 0 0 0 0\n",
      " 0 0 0 0 0 0 0 0 0 0 0 0 0 0 0 0 0 0 0 0 0 0 0 0 0 0 0 0 0 0 0 0 0 0 0 0 0\n",
      " 0 0 0 0 0 0 0 0 0 0 0 0 0 0 0 0 0 0 0 0 0 0 0 0 0 0 0 0 0 0 0 0 0 0 0 0 0\n",
      " 0 0 0 0 0 0 0 0 0 0 0 0 0 0 0 0 0 0 0 0 0 0 0 0 0 0 0 0 0 0 0 0 0 0 0 0 0\n",
      " 0 0 0 0 0 0 0 0 0 0 0 0 0 0 0 0 0 0 0 0 0 0 0 0 0 0 0 0 0 0 0 0 0 0 0 0 0\n",
      " 0 0 0 0 0 0 0 0 0 0 0 0 0 0 0 0 0 0 0 0 0 0 0 0 0 0 0 0 0 0 0 0 0 0 0 0 0\n",
      " 0 0 0 0 0 0 0 0 0 0 0 0 0 0 0 0 0 0 0 0 0 0 0 0 0 0 0 0 0 0 0 0 0 0 0 0 0\n",
      " 0 0 0 0 0 0 0 0 0 0 0 0 0 0 0 0 0 0 0 0 0 0 0 0 0 0 0 0 0 0 0 0 0 0 0 0 0\n",
      " 0 0 0 0 0 0 0 0 0 0 0 0 0 0 0 0 0 0 0 0 0 0 0 0 0 0 0 0 0 0 0 0 0 0 0 0 0\n",
      " 0 0 0 0 0 0 0 0 0 0 0 0 0 0 0 0 0 0 0 0 0 0 0 0 0 0 0 0 0 0 0 0 0 0 0 0 0\n",
      " 0 0 0 0 0 0 0 0 0 0 0 0 0 0 0 0 0 0 0 0 0 0 0 0 0 0 0 0 0 0 0 0 0 0 0 0 0\n",
      " 0 0 0 0 0 0 0 0 0 0 0 0 0 0 0 0 0 0 0 0 0 0 0 0 0 0 0 0 0 0 0 0 0 0 0 0 0\n",
      " 0 0 0 0 0 0 0 0 0 0 0 0 0 0 0 0 0 0 0 0 0 0 0 0 0 0 0 0 0 0 0 0 0 0 0 0 0\n",
      " 0 0 0 0 0 0 0 0 0 0 0 0 0 0 0 0 0 0 0 0 0 0 0 0 0 0 0 0 0 0 0 0 0 0 0 0 0\n",
      " 0 0 0 0 0 0 0 0 0 0 0 0 0 0 0 0 0 0 0 0 0 0 0 0 0 0 0 0 0 0 0 0 0 0 0 0 0\n",
      " 0 0 0 0 0 0 0 0 0 0 0 0 0 0 0 0 0 0 0 0 0 0 0 0 0 0 0 0 0 0 0 0 0 0 0 0 0\n",
      " 0 0 0 0 0 0 0 0 0 0 0 0 0 0 0 0 0 0 0 0 0 0 0 0 0 0 0 0 0 0 0 0 0 0 0 0 0\n",
      " 0 0 0 0 0 0 0 0 0 0 0 0 0 0 0 0 0 0 0 0 0 0 0 0 0 0 0 0 0 0 0 0 0 0 0 0 0\n",
      " 0 0 0 0 0 0 0 0 0 0 0 0 0 0 0 0 0 0 0 0 0 0 0 0 0 0 0 0 0 0 0 0 0 0 0 0 0\n",
      " 0 0 0 0 0 0 0 0 0 0 0 0 0 0 0 0 0 0 0 0 0 0 0 0 0 0 0 0 0 0 0 0 0 0 0 0 0\n",
      " 0 0 0 0 0 0 0 0 0 0 0 0 0 0 0 0 0 0 0 0 0 0 0 0 0 0 0 0 0 0 0 0 0 0 0 0 0\n",
      " 0 0 0 0 0 0 0 0 0 0 0 0 0 0 0 0 0 0 0 0 0 0 0 0 0 0 0 0 0 0 0 0 0 0 0 0 0\n",
      " 0 0 0 0 0 0 0 0 0 0 0 0 0 0 0 0 0 0 0 0 0 0 0 0 0 0 0 0 0 0 0 0 0 0 0 0 0\n",
      " 0 0 0 0 0 0 0 0 0 0 0 0 0 0 0 0 0 0 0 0 0 0 0 0 0 0 0 0 0 0 0 0 0 0 0 0 0\n",
      " 0 0 0 0 0 0 0 0 0 0 0 0 0 0 0 0 0 0 0 0 0 0 0 0 0 0 0 0 0 0 0 0 0 0 0 0 0\n",
      " 0 0 0 0 0 0 0 0 0 0 0 0 0 0 0 0 0 0 0 0 0 0 0 0 0 0 0 0 0 0 0 0 0 0 0 0 0\n",
      " 0 0 0 0 0 0 0 0 0 0 0 0 0 0 0 0 0 0 0 0 0 0 0 0 0 0 0 0 0 0 0 0 0 0 0 0 0\n",
      " 0 0 0 0 0 0 0 0 0 0 0 0 0 0 0 0 0 0 0 0 0 0 0 0 0 0 0 0 0 0 0 0 0 0 0 0 0\n",
      " 0 0 0 0 0 0 0 0 0 0 0 0 0 0 0 0 0 0 0 0 0 0 0 0 0 0 0 0 0 0 0 0 0 0 0 0 0\n",
      " 0 0 0 0 0 0 0 0 0 0 0 0 0 0 0 0 0 0 0 0 0 0 0 0 0 0 0 0 0 0 0 0 0 0 0 0 0\n",
      " 0 0 0 0 0 0 0 0 0 0 0 0 0 0 0 0 0 0 0 0 0 0 0 0 0 0 0 0 0 0 0 0 0 0 0 0 0\n",
      " 0 0 0 0 0 0 0 0 0 0 0 0 0 0 0 0 0 0 0 0 0 0 0 0 0 0 0 0 0 0 0 0 0 0 0 0 0\n",
      " 0 0 0 0 0 0 0 0 0 0 0 0 0 0 0 0 0 0 0 0 0 0 0 0 0 0 0 0 0 0 0 0 0 0 0 0 0\n",
      " 0 0 0 0 0 0 0 0 0 0 0 0 0 0 0 0 0 0 0 0 0 0 0 0 0 0 0 0 0 0 0 0 0 0 0 0 0\n",
      " 0 0 0 0 0 0 0 0 0 0 0 0 0 0 0 0 0 0 0 0 0 0 0 0 0 0 0 0 0 0 0 0 0 0 0 0 0\n",
      " 0 0 0 0 0 0 0 0 0 0 0 0 0 0 0 0 0 0 0 0 0 0 0 0 0 0 0 0 0 0 0 0 0 0 0 0 0\n",
      " 0 0 0 0 0 0 0 0 0 0 0 0 0 0 0 0 0 0 0 0 0 0 0 0 0 0 0 0 0 0 0 0 0 0 0 0 0\n",
      " 0 0 0 0 0 0 0 0 0 0 0 0 0 0 0 0 0 0 0 0 0 0 0 0 0 0 0 0 0 0 0 0 0 0 0 0 0\n",
      " 0 0 0 0 0 0 0 0 0 0 0 0 0 0 0 0 0 0 0 0 0 0 0 0 0 0 0 0 0 0 0 0 0 0 0 0 0\n",
      " 0 0 0 0 0 0 0 0 0 0 0 0 0 0 0 0 0 0 0 0 0 0 0 0 0 0 0 0 0 0 0 0 0 0 0 0 0\n",
      " 0 0 0 0 0 0 0 0 0 0 0 0 0 0 0 0 0 0 0 0 0 0 0 0 0 0 0 0 0 0 0 0 0 0 0 0 0\n",
      " 0 0 0 0 0 0 0 0 0 0 0 0 0 0 0 0 0 0 0 0 0 0 0 0 0 0 0 0 0 0 0 0 0 0 0 0 0\n",
      " 0 0 0 0 0 0 0 0 0 0 0 0 0 0 0 0 0 0 0 0 0 0 0 0 0 0 0 0 0 0 0 0 0 0 0 0 0\n",
      " 0 0 0 0 0 0 0 0 0 0 0 0 0 0 0 0 0 0 0 0 0 0 0 0 0 0 0 0 0 0 0 0 0 0 0 0 0\n",
      " 0 0 0 0 0 0 0 0 0 0 0 0 0 0 0 0 0 0 0 0 0 0 0 0 0 0 0 0 0 0 0 0 0 0 0 0 0\n",
      " 0 0 0 0 0 0 0 0 0 0 0 0 0 0 0 0 0 0 0 0 0 0 0 0 0 0 0 0 0 0 0 0 0 0 0 0 0\n",
      " 0 0 0 0 0 0 0 0 0 0 0 0 0 0 0 0 0 0 0 0 0 0 0 0 0 0 0 0 0 0 0 0 0 0 0 0 0\n",
      " 0 0 0 0 0 0 0 0 0 0 0 0 0 0 0 0 0 0 0 0 0 0 0 0 0 0 0 0 0 0 0 0 0 0 0 0 0\n",
      " 0 0 0 0 0 0 0 0 0 0 0 0 0 0 0 0 0 0 0 0 0 0 0 0 0 0 0 0 0 0 0 0 0 0 0 0 0\n",
      " 0 0 0 0 0 0 0 0 0 0 0 0 0 0 0 0 0 0 0 0 0 0 0 0 0 0 0 0 0 0 0 0 0 0 0 0 0\n",
      " 0 0 0 0 0 0 0 0 0 0 0 0 0 0 0 0 0 0 0 0 0 0 0 0 0 0 0 0 0 0 0 0 0 0 0 0 0\n",
      " 0 0 0 0 0 0 0 0 0 0 0 0 0 0 0 0 0 0 0 0 0 0 0 0 0 0 0 0 0 0 0 0 0 0 0 0 0\n",
      " 0 0 0 0 0 0 0 0 0 0 0 0 0 0 0 0 0 0 0 0 0 0 0 0 0 0 0 0 0 0 0 0 0 0 0 0 0\n",
      " 0 0 0 0 0 0 0 0 0 0 0 0 0 0 0 0 0 0 0 0 0 0 0 0 0 0 0 0 0 0 0 0 0 0 0 0 0\n",
      " 0 0 0 0 0 0 0 0 0 0 0 0 0 0 0 0 0 0 0 0 0 0 0 0 0 0 0 0 0 0 0 0 0 0 0 0 0\n",
      " 0 0 0 0 0 0 0 0 0 0 0 0 0 0 0 0 0 0 0 0 0 0 0 0 0 0 0 0 0 0 0 0 0 0 0 0 0\n",
      " 0 0 0 0 0 0 0 0 0 0 0 0 0 0 0 0 0 0 0 0 0 0 0 0 0 0 0 0 0 0 0 0 0 0 0 0 0\n",
      " 0 0 0 0 0 0 0 0 0 0 0 0 0 0 0 0 0 0 0 0 0 0 0 0 0 0 0 0 0 0 0 0 0 0 0 0 0\n",
      " 0 0 0 0 0 0 0 0 0 0 0 0 0 0 0 0 0 0 0 0 0 0 0 0 0 0 0 0 0 0 0 0 0 0 0 0 0\n",
      " 0 0 0 0 0 0 0 0 0 0 0 0 0 0 0 0 0 0 0 0 0 0 0 0 0 0 0 0 0 0 0 0 0 0 0 0 0\n",
      " 0 0 0 0 0 0 0 0 0 0 0 0 0 0 0 0 0 0 0 0 0 0 0 0 0 0 0 0 0 0 0 0 0 0 0 0 0\n",
      " 0 0 0 0 0 0 0 0 0 0 0 0 0 0 0 0 0 0 0 0 0 0 0 0 0 0 0 0 0 0 0 0 0 0 0 0 0\n",
      " 0 0 0 0 0 0 0 0 0 0 0 0 0 0 0 0 0 0 0 0 0 0 0 0 0 0 0 0 0 0 0 0 0 0 0 0 0\n",
      " 0 0 0 0 0 0 0 0 0 0 0 0 0 0 0 0 0 0 0 0 0 0 0 0 0 0 0 0 0 0 0 0 0 0 0 0 0\n",
      " 0 0 0 0 0 0 0 0 0 0 0 0 0 0 0 0 0 0 0 0 0 0 0 0 0 0 0 0 0 0 0 0 0 0 0 0 0\n",
      " 0 0 0 0 0 0 0 0 0 0 0 0 0 0 0 0 0 0 0 0 0 0 0 0 0 0 0 0 0 0 0 0 0 0 0 0 0\n",
      " 0 0 0 0 0 0 0 0 0 0 0 0 0 0 0 0 0 0 0 0 0 0 0 0 0 0 0 0 0 0 0 0 0 0 0 0 0\n",
      " 0 0 0 0 0 0 0 0 0 0 0 0 0 0 0 0 0 0 0 0 0 0 0 0 0 0 0 0 0 0 0 0 0 0 0 0 0\n",
      " 0 0 0 0 0 0 0 0 0 0 0 0 0 0 0 0 0 0 0 0 0 0 0 0 0 0 0 0 0 0 0 0 0 0 0 0 0\n",
      " 0 0 0 0 0 0 0 0 0 0 0 0 0 0 0 0 0 0 0 0 0 0 0 0 0 0 0 0 0 0 0 0 0 0 0 0 0\n",
      " 0 0 0 0 0 0 0 0 0 0 0 0 0 0 0 0 0 0 0 0 0 0 0 0 0 0 0 0 0 0 0 0 0 0 0 0 0\n",
      " 0 0 0 0 0 0 0 0 0 0 0 0 0 0 0 0 0 0 0 0 0 0 0 0 0 0 0 0 0 0 0 0 0 0 0 0 0\n",
      " 0 0 0 0 0 0 0 0 0 0 0 0 0 0 0 0 0 0 0 0 0 0 0 0 0 0 0 0 0 0 0 0 0 0 0 0 0\n",
      " 0 0 0 0 0 0 0 0 0 0 0 0 0 0 0 0 0 0 0 0 0 0 0 0 0 0 0 0 0 0 0 0 0 0 0 0 0\n",
      " 0 0 0 0 0 0 0 0 0 0 0 0 0 0 0 0 0 0 0 0 0 0 0 0 0 0 0 0 0 0 0 0 0 0 0 0 0\n",
      " 0 0 0 0 0 0 0 0 0 0 0 0 0 0 0 0 0 0 0 0 0 0 0 0 0 0 0 0 0 0 0 0 0 0 0 0 0\n",
      " 0 0 0 0 0 0 0 0 0 0 0 0 0 0 0 0 0 0 0 0 0 0 0 0 0 0 0 0 0 0 0 0 0 0 0 0 0\n",
      " 0 0 0 0 0 0 0 0 0 0 0 0 0 0 0 0 0 0 0 0 0 0 0 0 0 0 0 0 0 0 0 0 0 0 0 0 0\n",
      " 0 0 0 0 0 0 0 0 0 0 0 0 0 0 0 0 0 0 0 0 0 0 0 0 0 0 0 0 0 0 0 0 0 0 0 0 0\n",
      " 0 0 0 0 0 0 0 0 0 0 0 0 0 0 0 0 0 0 0 0 0 0 0 0 0 0 0 0 0 0 0 0 0 0 0 0 0\n",
      " 0 0 0 0 0 0 0 0 0 0 0 0 0 0 0 0 0 0 0 0 0 0 0 0 0 0 0 0 0 0 0 0 0 0 0 0 0\n",
      " 0 0 0 0 0 0 0 0 0 0 0 0 0 0 0 0 0 0 0 0 0 0 0 0 0 0 0 0 0 0 0 0 0 0 0 0 0\n",
      " 0 0 0 0 0 0 0 0 0 0 0 0 0 0 0 0 0 0 0 0 0 0 0 0 0 0 0 0 0 0 0 0 0 0 0 0 0\n",
      " 0 0 0 0 0 0 0 0 0 0 0 0 0 0 0 0 0 0 0 0 0 0 0 0 0 0 0 0 0 0 0 0 0 0 0 0 0\n",
      " 0 0 0 0 0 0 0 0 0 0 0 0 0 0 0 0 0 0 0 0 0 0 0 0 0 0 0 0 0 0 0 0 0 0 0 0 0\n",
      " 0 0 0 0 0 0 0 0 0 0 0 0 0 0 0 0 0 0 0 0 0 0 0 0 0 0 0 0 0 0 0 0 0 0 0 0 0\n",
      " 0 0 0 0 0 0 0 0 0 0 0 0 0 0 0 0 0 0 0 0 0 0 0 0 0 0 0 0 0 0 0 0 0 0 0 0 0\n",
      " 0 0 0 0 0 0 0 0 0 0 0 0 0 0 0 0 0 0 0 0 0 0 0 0 0 0 0 0 0 0 0 0 0 0 0 0 0\n",
      " 0 0 0 0 0 0 0 0 0 0 0 0 0 0 0 0 0 0 0 0 0 0 0 0 0 0 0 0 0 0 0 0 0 0 0 0 0\n",
      " 0 0 0 0 0 0 0 0 0 0 0 0 0 0 0 0 0 0 0 0 0 0 0 0 0 0 0 0 0 0 0 0 0 0 0 0 0\n",
      " 0 0 0 0 0 0 0 0 0 0 0 0 0 0 0 0 0 0 0 0 0 0 0 0 0 0 0 0 0 0 0 0 0 0 0 0 0\n",
      " 0 0 0 0 0 0 0 0 0 0 0 0 0 0 0 0 0 0 0 0 0 0 0 0 0 0 0 0 0 0 0 0 0 0 0 0 0\n",
      " 0 0 0 0 0 0 0 0 0 0 0 0 0 0 0 0 0 0 0 0 0 0 0 0 0 0 0 0 0 0 0 0 0 0]\n"
     ]
    }
   ],
   "source": [
    "def build_feat_matrix(count, df):\n",
    "    feat_matrix = []\n",
    "    for row in df.review.array:\n",
    "        feat_vec = []\n",
    "        for word in count.keys():\n",
    "            if word in row:\n",
    "                feat_vec.append(row.count(word))\n",
    "            else:\n",
    "                feat_vec.append(0)\n",
    "        feat_matrix.append(feat_vec)\n",
    "\n",
    "    return np.array(feat_matrix)\n",
    "\n",
    "def bag_of_words(df_train, df_test):\n",
    "    count = {}\n",
    "\n",
    "    # First pass to count every word of train reviews in dictionary\n",
    "    for row in df_train.review.array:\n",
    "        for word in row:\n",
    "            if word not in count and len(word) > 1:\n",
    "                count[word] = 1\n",
    "            if word in count:\n",
    "                count[word] += 1\n",
    "\n",
    "    words = []\n",
    "    for word in count.keys():\n",
    "        words.append(word)\n",
    "\n",
    "    # Second pass to build feature vectors of train and test\n",
    "    feat_matrix_train = build_feat_matrix(count, df_train)\n",
    "    feat_matrix_test = build_feat_matrix(count, df_test)\n",
    "    \n",
    "    return count, words, feat_matrix_train, feat_matrix_test\n",
    "\n",
    "count, words, feat_matrix_train, feat_matrix_test = bag_of_words(df_train, df_test)\n",
    "print(\"Here is a vector (%s features):\" % feat_matrix_train.shape[1])\n",
    "print(feat_matrix_train[666])\n",
    "print(\"\\nand here is another vector:\")\n",
    "print(feat_matrix_train[420])"
   ]
  },
  {
   "cell_type": "markdown",
   "id": "ed4ebf8b",
   "metadata": {},
   "source": [
    "### Post-processing\n",
    "We will standardize the data so that it is fit to apply Ridge and Lasso regularization in later questions."
   ]
  },
  {
   "cell_type": "code",
   "execution_count": 7,
   "id": "ea27ce3a",
   "metadata": {},
   "outputs": [
    {
     "name": "stdout",
     "output_type": "stream",
     "text": [
      "The mean of the resulting columns is almost 0 (here are the first 10):\n",
      "[-4.73047527e-16  1.30756517e-15  8.54177840e-16  2.19824159e-16\n",
      "  4.99415324e-16 -2.31527760e-16 -1.28138241e-17  7.43895686e-16\n",
      "  1.77644936e-15 -1.29928475e-15]\n"
     ]
    }
   ],
   "source": [
    "def standardize(feat_matrix_train, feat_matrix_test):\n",
    "    feat_matrix_train_std = np.empty(shape=feat_matrix_train.shape)\n",
    "    feat_matrix_test_std = np.empty(shape=feat_matrix_test.shape)\n",
    "\n",
    "    for col in range(feat_matrix_train.shape[1]):\n",
    "        mean = feat_matrix_train[:,col].mean()\n",
    "        std = feat_matrix_train[:,col].std()\n",
    "        feat_matrix_train_std[:,col] = (feat_matrix_train[:,col] - mean)/std\n",
    "        feat_matrix_test_std[:,col] = (feat_matrix_test[:,col] - mean)/std\n",
    "        \n",
    "    return feat_matrix_train_std, feat_matrix_test_std\n",
    "\n",
    "feat_matrix_train_std, feat_matrix_test_std = standardize(feat_matrix_train, feat_matrix_test)\n",
    "\n",
    "df_train = pd.concat([df_train, pd.DataFrame(feat_matrix_train_std)], axis=1)\n",
    "df_test = pd.concat([df_test, pd.DataFrame(feat_matrix_test_std)], axis=1)\n",
    "\n",
    "print(\"The mean of the resulting columns is almost 0 (here are the first 10):\")\n",
    "print(feat_matrix_train_std.mean(axis=0)[:10])"
   ]
  },
  {
   "cell_type": "markdown",
   "id": "cab4cff0",
   "metadata": {},
   "source": [
    "### Naive Bayes Classifier\n",
    "This is a conditional probability classifier: we want to estimate the following"
   ]
  },
  {
   "cell_type": "markdown",
   "id": "3e6b1924",
   "metadata": {},
   "source": [
    "$$\\mathbb{P}[Y=1|X=x] = \\frac{\\mathbb{P}[Y=1]\\mathbb{P}[X=x|Y=1]}{\\mathbb{P}[X=x|Y=1]\\mathbb{P}[Y=1]+\\mathbb{P}[X=x|Y=0]\\mathbb{P}[Y=0]}$$"
   ]
  },
  {
   "cell_type": "markdown",
   "id": "59a56443",
   "metadata": {},
   "source": [
    "Because the scores are balanced (1500 observations with score of 1, and 1500 observations with score of 0) we have that $\\hat{\\mathbb{P}}[Y=1] = \\hat{\\mathbb{P}}[Y=0] = 0.5$ and we can simplify the above:"
   ]
  },
  {
   "cell_type": "markdown",
   "id": "1552875a",
   "metadata": {},
   "source": [
    "$$\\hat{\\mathbb{P}}[Y=1|X=x] = \\frac{\\hat{\\mathbb{P}}[X=x|Y=1]}{\\hat{\\mathbb{P}}[X=x|Y=1]+\\hat{\\mathbb{P}}[X=x|Y=0]}$$"
   ]
  },
  {
   "cell_type": "markdown",
   "id": "d04bfd3b",
   "metadata": {},
   "source": [
    "But it is hard to estimate $\\hat{\\mathbb{P}}[X=x|Y=y]$ for a number of features p large. So by taking the naive conditional independance assumption, we can focus on computing the following:"
   ]
  },
  {
   "cell_type": "markdown",
   "id": "1b896c9b",
   "metadata": {},
   "source": [
    "$$\\frac{\\prod_{i=1}^p\\hat{\\mathbb{P}}[X_i=x_i|Y=1]}{\\prod_{i=1}^p\\hat{\\mathbb{P}}[X_i=x_i|Y=1]+\\prod_{i=1}^p\\hat{\\mathbb{P}}[X_i=x_i|Y=0]}$$"
   ]
  },
  {
   "cell_type": "markdown",
   "id": "b57b4fe1",
   "metadata": {},
   "source": [
    "We will build 2 dictionaries, to estimate $\\hat{\\mathbb{P}}[X_i=x_i|Y=j]$, one for $j=0$ and one for $j=1$. In each of these dictionaries we will link a key $X_i$ for the column evaluated and as value a dictionary counting the estimated probability that we target.\n",
    "In each dictionary the key will correspond to $x_i$ the (standardized) count of the ith word in the feature vector, and the value will be $\\hat{\\mathbb{P}}[X_i=x_i|Y=j]$ for each $x_i$."
   ]
  },
  {
   "cell_type": "code",
   "execution_count": 8,
   "id": "0da90f9b",
   "metadata": {},
   "outputs": [],
   "source": [
    "class NaiveBayes:\n",
    "    def __init__(self):\n",
    "        self.probXgivenY1 = {}\n",
    "        self.probXgivenY0 = {}\n",
    "        self.y_pred = None\n",
    "        return\n",
    "    \n",
    "    def fit(self, X_train, y_train, alpha=0.2):\n",
    "        for col in X_train.columns:\n",
    "            probXigivenY0={}\n",
    "            probXigivenY1={}\n",
    "            for value in X_train[col].unique():\n",
    "                probXigivenY0[value] = (X_train[col][(X_train[col] == value) & (y_train.astype(int) == 0)].shape[0]+alpha) / (X_train.shape[0]/2+alpha)\n",
    "                probXigivenY1[value] = (X_train[col][(X_train[col] == value) & (y_train.astype(int) == 1)].shape[0]+alpha) / (X_train.shape[0]/2+alpha)\n",
    "            self.probXgivenY0[col] = probXigivenY0\n",
    "            self.probXgivenY1[col] = probXigivenY1\n",
    "            \n",
    "        return\n",
    "        \n",
    "    def predict(self, X_test):\n",
    "        if self.y_pred != None:\n",
    "            return self.y_pred\n",
    "        \n",
    "        matrixProbXgivenY1 = np.empty(shape=X_test.shape)\n",
    "        matrixProbXgivenY0 = np.empty(shape=X_test.shape)\n",
    "        for col in range(X_test.shape[1]):\n",
    "            matrixProbXgivenY1[:,col] = X_test.iloc[:,col].map(self.probXgivenY1[col])\n",
    "            matrixProbXgivenY0[:,col] = X_test.iloc[:,col].map(self.probXgivenY0[col])\n",
    "        \n",
    "        numerator = np.product(matrixProbXgivenY1, axis=1)\n",
    "        denominator = numerator + np.product(matrixProbXgivenY0, axis=1)\n",
    "        \n",
    "        output = numerator / denominator\n",
    "        \n",
    "        return (output > 0.5).astype(int)\n",
    "    "
   ]
  },
  {
   "cell_type": "code",
   "execution_count": 9,
   "id": "3abb3695",
   "metadata": {},
   "outputs": [],
   "source": [
    "naiveBayes = NaiveBayes()\n",
    "naiveBayes.fit(df_train.iloc[:,2:], df_train[\"score\"])\n",
    "y_pred_nb = naiveBayes.predict(df_test.iloc[:,2:])"
   ]
  },
  {
   "cell_type": "code",
   "execution_count": 10,
   "id": "4bc3e0e9",
   "metadata": {},
   "outputs": [
    {
     "name": "stdout",
     "output_type": "stream",
     "text": [
      "Accuracy of Naive Bayes: 0.7783333333333333\n"
     ]
    }
   ],
   "source": [
    "print(\"Accuracy of Naive Bayes: %s\"%accuracy_score(df_test[\"score\"], y_pred_nb))"
   ]
  },
  {
   "cell_type": "code",
   "execution_count": 11,
   "id": "69791c26",
   "metadata": {},
   "outputs": [
    {
     "data": {
      "image/png": "[encoded data removed]",
      "text/plain": [
       "<Figure size 432x288 with 2 Axes>"
      ]
     },
     "metadata": {
      "needs_background": "light"
     },
     "output_type": "display_data"
    }
   ],
   "source": [
    "disp = ConfusionMatrixDisplay(confusion_matrix(df_test[\"score\"], y_pred_nb, normalize=\"true\"))\n",
    "disp.plot()\n",
    "plt.show()"
   ]
  },
  {
   "cell_type": "markdown",
   "id": "07ee1539",
   "metadata": {},
   "source": [
    "### Logistic Regression"
   ]
  },
  {
   "cell_type": "code",
   "execution_count": 12,
   "id": "b6c4cf5c",
   "metadata": {},
   "outputs": [
    {
     "name": "stdout",
     "output_type": "stream",
     "text": [
      "Accuracy of logistic regression with Lasso: 0.8183333333333334\n"
     ]
    }
   ],
   "source": [
    "logRegL1 = LogisticRegressionCV(penalty='l1', solver='liblinear')\n",
    "logRegL1.fit(df_train.iloc[:,2:], df_train[\"score\"])\n",
    "y_pred_L1 = logRegL1.predict(df_test.iloc[:,2:])\n",
    "\n",
    "print(\"Accuracy of logistic regression with Lasso: %s\"%accuracy_score(df_test[\"score\"],y_pred_L1))"
   ]
  },
  {
   "cell_type": "code",
   "execution_count": 13,
   "id": "1cdb6603",
   "metadata": {
    "scrolled": true
   },
   "outputs": [
    {
     "name": "stdout",
     "output_type": "stream",
     "text": [
      "Accuracy of logistic regression with Ridge: 0.7983333333333333\n"
     ]
    }
   ],
   "source": [
    "logRegL2 = LogisticRegressionCV(penalty='l2')\n",
    "logRegL2.fit(df_train.iloc[:,2:], df_train[\"score\"])\n",
    "y_pred_L2 = logRegL2.predict(df_test.iloc[:,2:])\n",
    "\n",
    "print(\"Accuracy of logistic regression with Ridge: %s\"%accuracy_score(df_test[\"score\"],y_pred_L2))"
   ]
  },
  {
   "cell_type": "code",
   "execution_count": 14,
   "id": "4df287d2",
   "metadata": {},
   "outputs": [
    {
     "name": "stdout",
     "output_type": "stream",
     "text": [
      "# of non-zero coefficients w. Lasso: 1436\n",
      "# of non-zero coefficients w. Ridge: 4400\n"
     ]
    }
   ],
   "source": [
    "print(\"# of non-zero coefficients w. Lasso: %s\"%np.count_nonzero(logRegL1.coef_))\n",
    "print(\"# of non-zero coefficients w. Ridge: %s\"%np.count_nonzero(logRegL2.coef_))"
   ]
  },
  {
   "cell_type": "code",
   "execution_count": 15,
   "id": "a05a60bc",
   "metadata": {},
   "outputs": [
    {
     "name": "stdout",
     "output_type": "stream",
     "text": [
      "Top 10 words with lowest coefficients given Lasso:\n",
      "1. not\n",
      "2. bad\n",
      "3. poor\n",
      "4. sucked\n",
      "5. worst\n",
      "6. doesn\n",
      "7. disappointment\n",
      "8. never\n",
      "9. didn\n",
      "10. no\n",
      "\n",
      "Top 10 words with lowest coefficients given Ridge:\n",
      "1. not\n",
      "2. bad\n",
      "3. poor\n",
      "4. worst\n",
      "5. terrible\n",
      "6. waste\n",
      "7. awful\n",
      "8. horrible\n",
      "9. slow\n",
      "10. didn\n"
     ]
    }
   ],
   "source": [
    "print(\"Top 10 words with lowest coefficients given Lasso:\")\n",
    "i=1\n",
    "for idx in np.argsort(logRegL1.coef_[0])[:10]:\n",
    "    print(\"%s. %s\"%(i, words[int(idx)]))\n",
    "    i+=1\n",
    "    \n",
    "print(\"\\nTop 10 words with lowest coefficients given Ridge:\")\n",
    "i=1\n",
    "for idx in np.argsort(logRegL2.coef_[0])[:10]:\n",
    "    print(\"%s. %s\"%(i, words[int(idx)]))\n",
    "    i+=1"
   ]
  },
  {
   "cell_type": "code",
   "execution_count": 16,
   "id": "dd19986c",
   "metadata": {},
   "outputs": [
    {
     "name": "stdout",
     "output_type": "stream",
     "text": [
      "Top 10 words with higest coefficients given Lasso:\n",
      "1. great\n",
      "2. good\n",
      "3. love\n",
      "4. best\n",
      "5. nice\n",
      "6. excellent\n",
      "7. well\n",
      "8. watch\n",
      "9. delicious\n",
      "10. 15\n",
      "\n",
      "Top 10 words with higest coefficients given Ridge:\n",
      "1. great\n",
      "2. good\n",
      "3. love\n",
      "4. excellent\n",
      "5. nice\n",
      "6. delicious\n",
      "7. best\n",
      "8. fantastic\n",
      "9. awesome\n",
      "10. price\n"
     ]
    }
   ],
   "source": [
    "print(\"Top 10 words with higest coefficients given Lasso:\")\n",
    "i=1\n",
    "for idx in np.argsort(logRegL1.coef_[0])[:-11:-1]:\n",
    "    print(\"%s. %s\"%(i, words[int(idx)]))\n",
    "    i+=1\n",
    "    \n",
    "print(\"\\nTop 10 words with higest coefficients given Ridge:\")\n",
    "i=1\n",
    "for idx in np.argsort(logRegL2.coef_[0])[:-11:-1]:\n",
    "    print(\"%s. %s\"%(i, words[int(idx)]))\n",
    "    i+=1"
   ]
  },
  {
   "cell_type": "markdown",
   "id": "ada3d714",
   "metadata": {},
   "source": [
    "### 2-grams"
   ]
  },
  {
   "cell_type": "code",
   "execution_count": 38,
   "id": "f4e32d4a",
   "metadata": {},
   "outputs": [
    {
     "data": {
      "text/plain": [
       "0      [(so, there), (there, is), (is, no), (no, way)...\n",
       "1      [(good, case), (case, excellent), (excellent, ...\n",
       "2                         [(great, for), (for, jawbone)]\n",
       "3      [(tied, charger), (charger, for), (for, conver...\n",
       "4                   [(the, mic), (mic, is), (is, great)]\n",
       "                             ...                        \n",
       "995    [(i, just), (just, got), (got, bored), (bored,...\n",
       "996    [(unfortunately, any), (any, virtue), (virtue,...\n",
       "997    [(in, word), (word, it), (it, is), (is, embarr...\n",
       "998                               [(exceptionally, bad)]\n",
       "999    [(all, in), (in, all), (all, it), (it, insult)...\n",
       "Name: review, Length: 3000, dtype: object"
      ]
     },
     "execution_count": 38,
     "metadata": {},
     "output_type": "execute_result"
    }
   ],
   "source": [
    "df.review = df.review.apply(lambda x: list(nltk.ngrams(x,2)))\n",
    "df.review"
   ]
  },
  {
   "cell_type": "code",
   "execution_count": 39,
   "id": "d6fd9827",
   "metadata": {},
   "outputs": [
    {
     "name": "stdout",
     "output_type": "stream",
     "text": [
      "We split the data into 2400 train reviews and 600 test reviews.\n"
     ]
    }
   ],
   "source": [
    "df1 = df.iloc[:1000]\n",
    "df2 = df.iloc[1000:2000]\n",
    "df3 = df.iloc[2000:]\n",
    "\n",
    "df_list = [df1, df2, df3]\n",
    "\n",
    "train_list = []\n",
    "test_list = []\n",
    "\n",
    "for dfi in df_list:\n",
    "    train, test = split_train_test(dfi)\n",
    "    train_list.append(train)\n",
    "    test_list.append(test)\n",
    "    \n",
    "df_train = pd.concat(train_list).reset_index(drop=True)\n",
    "df_test = pd.concat(test_list).reset_index(drop=True)\n",
    "print('We split the data into %s train reviews and %s test reviews.' % (df_train.shape[0], df_test.shape[0]))"
   ]
  },
  {
   "cell_type": "code",
   "execution_count": 40,
   "id": "6a5a4c28",
   "metadata": {},
   "outputs": [],
   "source": [
    "count, words, feat_matrix_train, feat_matrix_test = bag_of_words(df_train, df_test)\n",
    "feat_matrix_train_std, feat_matrix_test_std = standardize(feat_matrix_train, feat_matrix_test)\n",
    "df_train = pd.concat([df_train, pd.DataFrame(feat_matrix_train_std)], axis=1)\n",
    "df_test = pd.concat([df_test, pd.DataFrame(feat_matrix_test_std)], axis=1)"
   ]
  },
  {
   "cell_type": "code",
   "execution_count": 41,
   "id": "c8c636ab",
   "metadata": {},
   "outputs": [
    {
     "name": "stdout",
     "output_type": "stream",
     "text": [
      "Accuracy of Naive Bayes: 0.7366666666666667\n"
     ]
    },
    {
     "data": {
      "image/png": "[encoded data removed]",
      "text/plain": [
       "<Figure size 432x288 with 2 Axes>"
      ]
     },
     "metadata": {
      "needs_background": "light"
     },
     "output_type": "display_data"
    }
   ],
   "source": [
    "naiveBayes = NaiveBayes()\n",
    "naiveBayes.fit(df_train.iloc[:,2:], df_train[\"score\"])\n",
    "y_pred_nb = naiveBayes.predict(df_test.iloc[:,2:])\n",
    "print(\"Accuracy of Naive Bayes: %s\"%accuracy_score(df_test[\"score\"], y_pred_nb))\n",
    "disp = ConfusionMatrixDisplay(confusion_matrix(df_test[\"score\"], y_pred_nb, normalize=\"true\"))\n",
    "disp.plot()\n",
    "plt.show()"
   ]
  },
  {
   "cell_type": "code",
   "execution_count": 43,
   "id": "178e3ded",
   "metadata": {},
   "outputs": [
    {
     "name": "stdout",
     "output_type": "stream",
     "text": [
      "Accuracy of logistic regression with Lasso: 0.6766666666666666\n"
     ]
    }
   ],
   "source": [
    "logRegL1 = LogisticRegressionCV(penalty='l1', solver='liblinear')\n",
    "logRegL1.fit(df_train.iloc[:,2:], df_train[\"score\"])\n",
    "y_pred_L1 = logRegL1.predict(df_test.iloc[:,2:])\n",
    "\n",
    "print(\"Accuracy of logistic regression with Lasso: %s\"%accuracy_score(df_test[\"score\"],y_pred_L1))"
   ]
  },
  {
   "cell_type": "code",
   "execution_count": 42,
   "id": "4695c4d1",
   "metadata": {},
   "outputs": [
    {
     "name": "stdout",
     "output_type": "stream",
     "text": [
      "Accuracy of logistic regression with Ridge: 0.725\n"
     ]
    }
   ],
   "source": [
    "logRegL2 = LogisticRegressionCV(penalty='l2')\n",
    "logRegL2.fit(df_train.iloc[:,2:], df_train[\"score\"])\n",
    "y_pred_L2 = logRegL2.predict(df_test.iloc[:,2:])\n",
    "\n",
    "print(\"Accuracy of logistic regression with Ridge: %s\"%accuracy_score(df_test[\"score\"],y_pred_L2))"
   ]
  },
  {
   "cell_type": "code",
   "execution_count": 44,
   "id": "454feee3",
   "metadata": {
    "scrolled": false
   },
   "outputs": [
    {
     "name": "stdout",
     "output_type": "stream",
     "text": [
      "Top 10 words with lowest coefficients given Lasso:\n",
      "1. ('very', 'disappointed')\n",
      "2. ('wa', 'terrible')\n",
      "3. ('so', 'bad')\n",
      "4. ('not', 'good')\n",
      "5. ('not', 'impressed')\n",
      "6. ('is', 'terrible')\n",
      "7. ('very', 'disappointing')\n",
      "8. ('not', 'work')\n",
      "9. ('not', 'recommend')\n",
      "10. ('poor', 'quality')\n",
      "\n",
      "Top 10 words with lowest coefficients given Ridge:\n",
      "1. ('not', 'good')\n",
      "2. ('would', 'not')\n",
      "3. ('wa', 'terrible')\n",
      "4. ('very', 'disappointed')\n",
      "5. ('not', 'recommend')\n",
      "6. ('very', 'disappointing')\n",
      "7. ('don', 't')\n",
      "8. ('waste', 'of')\n",
      "9. ('is', 'terrible')\n",
      "10. ('do', 'not')\n",
      "\n",
      "Top 10 words with higest coefficients given Lasso:\n",
      "1. ('work', 'great')\n",
      "2. ('love', 'this')\n",
      "3. ('great', 'phone')\n",
      "4. ('great', 'product')\n",
      "5. ('great', 'food')\n",
      "6. ('wa', 'delicious')\n",
      "7. ('very', 'comfortable')\n",
      "8. ('work', 'well')\n",
      "9. ('wa', 'very')\n",
      "10. ('good', 'price')\n",
      "\n",
      "Top 10 words with higest coefficients given Ridge:\n",
      "1. ('work', 'great')\n",
      "2. ('love', 'this')\n",
      "3. ('great', 'phone')\n",
      "4. ('very', 'good')\n",
      "5. ('is', 'great')\n",
      "6. ('i', 'love')\n",
      "7. ('is', 'good')\n",
      "8. ('great', 'product')\n",
      "9. ('highly', 'recommend')\n",
      "10. ('is', 'excellent')\n"
     ]
    }
   ],
   "source": [
    "print(\"Top 10 words with lowest coefficients given Lasso:\")\n",
    "i=1\n",
    "for idx in np.argsort(logRegL1.coef_[0])[:10]:\n",
    "    print(\"%s. %s\"%(i, words[int(idx)]))\n",
    "    i+=1\n",
    "    \n",
    "print(\"\\nTop 10 words with lowest coefficients given Ridge:\")\n",
    "i=1\n",
    "for idx in np.argsort(logRegL2.coef_[0])[:10]:\n",
    "    print(\"%s. %s\"%(i, words[int(idx)]))\n",
    "    i+=1\n",
    "    \n",
    "print(\"\\nTop 10 words with higest coefficients given Lasso:\")\n",
    "i=1\n",
    "for idx in np.argsort(logRegL1.coef_[0])[:-11:-1]:\n",
    "    print(\"%s. %s\"%(i, words[int(idx)]))\n",
    "    i+=1\n",
    "    \n",
    "print(\"\\nTop 10 words with higest coefficients given Ridge:\")\n",
    "i=1\n",
    "for idx in np.argsort(logRegL2.coef_[0])[:-11:-1]:\n",
    "    print(\"%s. %s\"%(i, words[int(idx)]))\n",
    "    i+=1"
   ]
  }
 ],
 "metadata": {
  "kernelspec": {
   "display_name": "Python 3",
   "language": "python",
   "name": "python3"
  },
  "language_info": {
   "codemirror_mode": {
    "name": "ipython",
    "version": 3
   },
   "file_extension": ".py",
   "mimetype": "text/x-python",
   "name": "python",
   "nbconvert_exporter": "python",
   "pygments_lexer": "ipython3",
   "version": "3.7.10"
  }
 },
 "nbformat": 4,
 "nbformat_minor": 5
}