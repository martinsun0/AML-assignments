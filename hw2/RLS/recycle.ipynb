{
 "cells": [
  {
   "cell_type": "code",
   "execution_count": null,
   "metadata": {
    "collapsed": true
   },
   "outputs": [],
   "source": []
  },
  {
   "cell_type": "code",
   "execution_count": null,
   "outputs": [],
   "source": [
    "lin_reg_cv = lm.LinearRegression()\n",
    "cv_scores = cross_val_score(lin_reg_cv, X_non_norm, Y, cv=10)\n",
    "print(np.mean(cv_scores))\n",
    "print(np.std(cv_scores))\n",
    "print(cv_scores)"
   ],
   "metadata": {
    "collapsed": false,
    "pycharm": {
     "name": "#%% BSR on non-normalized data\n"
    }
   }
  },
  {
   "cell_type": "code",
   "execution_count": null,
   "outputs": [],
   "source": [
    "v = np.linalg.inv(X.T.dot(X).values)"
   ],
   "metadata": {
    "collapsed": false,
    "pycharm": {
     "name": "#%%\n"
    }
   }
  },
  {
   "cell_type": "code",
   "execution_count": null,
   "outputs": [],
   "source": [
    "def sse_calc(y, y_hat):\n",
    "    return np.sum(np.square(y - y_hat))"
   ],
   "metadata": {
    "collapsed": false,
    "pycharm": {
     "name": "#%%\n"
    }
   }
  },
  {
   "cell_type": "code",
   "execution_count": null,
   "outputs": [],
   "source": [
    "def z_calc(beta, n, k, v_j, sse):\n",
    "    sigma = np.sqrt(1/(n-k-1) * sse)\n",
    "    return beta/(sigma * np.sqrt(v_j))"
   ],
   "metadata": {
    "collapsed": false,
    "pycharm": {
     "name": "#%%\n"
    }
   }
  },
  {
   "cell_type": "code",
   "execution_count": null,
   "outputs": [],
   "source": [
    "kf = KFold(n_splits=10)\n",
    "kf.split(X)\n",
    "n_fold = 1\n",
    "p = len(X.columns)\n",
    "z_all = np.empty((0,p))\n",
    "print(np.shape(z_all))\n",
    "\n",
    "for train_index, test_index in kf.split(X):\n",
    "    z_row = []\n",
    "    train_fold_X = X_non_norm.iloc[train_index]\n",
    "    train_fold_Y = Y.iloc[train_index]\n",
    "\n",
    "    test_fold_X = X_non_norm.iloc[test_index]\n",
    "    test_fold_Y = Y.iloc[test_index]\n",
    "\n",
    "    lin_reg_fold = lm.LinearRegression().fit(train_fold_X, train_fold_Y)\n",
    "    pred_fold = lin_reg_fold.predict(test_fold_X)\n",
    "\n",
    "    n = len(train_fold_X) ### should be test length\n",
    "    k = len(train_fold_X.columns)\n",
    "    xtx = train_fold_X.T.dot(train_fold_X).values\n",
    "    v = np.linalg.pinv(xtx)\n",
    "\n",
    "    sse = sse_calc(test_fold_Y, pred_fold)\n",
    "    beta = lin_reg_fold.coef_\n",
    "\n",
    "    for j in range(len(beta)):\n",
    "        v_j = v[j,j]\n",
    "        b_j = beta[j]\n",
    "        z_j = z_calc(b_j, n, k, v_j, sse)\n",
    "        z_row.append(z_j)\n",
    "    z_all = np.append(z_all, np.array([z_row]), axis=0)\n",
    "    n_fold += 1"
   ],
   "metadata": {
    "collapsed": false,
    "pycharm": {
     "name": "#%%\n"
    }
   }
  },
  {
   "cell_type": "code",
   "execution_count": null,
   "outputs": [],
   "source": [
    "z_all = pd.DataFrame(z_all, columns=columns)\n",
    "z_all.describe()"
   ],
   "metadata": {
    "collapsed": false,
    "pycharm": {
     "name": "#%%\n"
    }
   }
  },
  {
   "cell_type": "code",
   "execution_count": null,
   "outputs": [],
   "source": [
    "# z_all.info(verbose=True, show_counts=True)"
   ],
   "metadata": {
    "collapsed": false,
    "pycharm": {
     "name": "#%%\n"
    }
   }
  },
  {
   "cell_type": "code",
   "execution_count": null,
   "outputs": [],
   "source": [
    "array = np.empty((0,3))\n",
    "\n",
    "array = np.append(array, np.array([[1,3,5]]), axis=0)\n",
    "array = np.append(array, np.array([[2,4,6]]), axis=0)"
   ],
   "metadata": {
    "collapsed": false,
    "pycharm": {
     "name": "#%%\n"
    }
   }
  },
  {
   "cell_type": "code",
   "execution_count": null,
   "outputs": [],
   "source": [
    "X_sm = sm.add_constant(X_non_norm)\n",
    "sm_OLS_model = OLS(Y,X_sm)\n",
    "result_sm = sm_OLS_model.fit()\n",
    "a = result_sm.tvalues.to_frame().abs()\n",
    "a.loc['const',0]\n",
    "# X_test_sm = sm.add_constant(X_test, has_constant='add')\n",
    "# Y_sm_pred = result_sm.predict(sm.add_constant(X_test_sm))"
   ],
   "metadata": {
    "collapsed": false,
    "pycharm": {
     "name": "#%%\n"
    }
   }
  },
  {
   "cell_type": "code",
   "execution_count": null,
   "outputs": [],
   "source": [
    "result_sm.summary()\n",
    "t_df = result_sm.tvalues.to_frame().abs()\n",
    "t_df.sort_values(by=[0]).loc['const']"
   ],
   "metadata": {
    "collapsed": false,
    "pycharm": {
     "name": "#%%\n"
    }
   }
  },
  {
   "cell_type": "code",
   "execution_count": null,
   "outputs": [],
   "source": [
    "result_sm.tvalues['const'] = np.inf\n",
    "result_sm.tvalues\n"
   ],
   "metadata": {
    "collapsed": false,
    "pycharm": {
     "name": "#%%\n"
    }
   }
  },
  {
   "cell_type": "code",
   "execution_count": null,
   "outputs": [],
   "source": [
    "BSR_reg = lm.LinearRegression()\n",
    "param_grid = {'fit_intercept': [True]}\n",
    "BSR_grid_cv = ms.GridSearchCV(BSR_reg, param_grid, cv=10)\n",
    "BSR_grid_cv.fit(X_non_norm, Y)\n",
    "pd.DataFrame(BSR_grid_cv.cv_results_)\n",
    "\n"
   ],
   "metadata": {
    "collapsed": false,
    "pycharm": {
     "name": "#%%\n"
    }
   }
  }
 ],
 "metadata": {
  "kernelspec": {
   "display_name": "Python 3",
   "language": "python",
   "name": "python3"
  },
  "language_info": {
   "codemirror_mode": {
    "name": "ipython",
    "version": 2
   },
   "file_extension": ".py",
   "mimetype": "text/x-python",
   "name": "python",
   "nbconvert_exporter": "python",
   "pygments_lexer": "ipython2",
   "version": "2.7.6"
  }
 },
 "nbformat": 4,
 "nbformat_minor": 0
}