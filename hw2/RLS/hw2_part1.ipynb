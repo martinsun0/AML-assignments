{
 "cells": [
  {
   "cell_type": "code",
   "execution_count": 1423,
   "metadata": {
    "collapsed": true
   },
   "outputs": [],
   "source": [
    "import numpy as np\n",
    "import pandas as pd\n",
    "import seaborn as sns\n",
    "import sklearn.linear_model as lm\n",
    "from sklearn import model_selection as ms\n",
    "from sklearn.preprocessing import OneHotEncoder\n",
    "from sklearn.preprocessing import StandardScaler\n",
    "from sklearn.impute import KNNImputer\n",
    "from sklearn.metrics import r2_score\n",
    "from sklearn.metrics import mean_squared_error\n",
    "from sklearn.neighbors import KNeighborsRegressor\n",
    "from IPython.display import display\n",
    "from sklearn.model_selection import cross_val_score\n",
    "from sklearn.model_selection import KFold\n",
    "from statsmodels.regression.linear_model import OLS\n",
    "import statsmodels.api as sm\n",
    "from sklearn.model_selection import KFold\n",
    "import warnings\n",
    "import matplotlib.pyplot as plt\n",
    "from sklearn.preprocessing import PolynomialFeatures\n",
    "from heapq import nsmallest\n",
    "sns.set_theme()\n",
    "warnings.filterwarnings('ignore')"
   ]
  },
  {
   "cell_type": "code",
   "execution_count": 1424,
   "outputs": [],
   "source": [
    "train_df = pd.read_csv(r'train.csv')\n",
    "test_df = pd.read_csv(r'test.csv')"
   ],
   "metadata": {
    "collapsed": false,
    "pycharm": {
     "name": "#%%\n"
    }
   }
  },
  {
   "cell_type": "code",
   "execution_count": 1425,
   "outputs": [],
   "source": [
    "# train_df.info()\n",
    "categorical = list(train_df.select_dtypes('object').columns)\n",
    "# categorical"
   ],
   "metadata": {
    "collapsed": false,
    "pycharm": {
     "name": "#%%\n"
    }
   }
  },
  {
   "cell_type": "markdown",
   "source": [
    "There are 1460 samples in the training data set and 80 features. There are 43 columns with the 'object' data type,\n",
    "meaning non-numeric categorical data. These features are contained in the \"categorical\" list. However, notice also that\n",
    "the 'MSSubClass' feature is numerical-categorical. Thus, there are actually 44 categorical features."
   ],
   "metadata": {
    "collapsed": false,
    "pycharm": {
     "name": "#%% md\n"
    }
   }
  },
  {
   "cell_type": "markdown",
   "source": [
    "I will select seven non-categorical features."
   ],
   "metadata": {
    "collapsed": false,
    "pycharm": {
     "name": "#%% md\n"
    }
   }
  },
  {
   "cell_type": "code",
   "execution_count": 1426,
   "outputs": [],
   "source": [
    "sns.pairplot(train_df[['SalePrice', 'LotArea', 'OverallQual', 'OverallCond', 'YearRemodAdd', 'FullBath', '1stFlrSF', '2ndFlrSF']])"
   ],
   "metadata": {
    "collapsed": false,
    "pycharm": {
     "name": "#%%\n"
    }
   }
  },
  {
   "cell_type": "markdown",
   "source": [
    "The plots we care about here are in row 1 (or column 1). There appears to be a correlation between sales price and:\n",
    "Overall Quality, 1st Floor Area, 2nd Floor Area, and some slight correlations with Year of Remodelling, and\n",
    "Number of Full Baths."
   ],
   "metadata": {
    "collapsed": false,
    "pycharm": {
     "name": "#%% md\n"
    }
   }
  },
  {
   "cell_type": "code",
   "execution_count": 1427,
   "outputs": [],
   "source": [
    "# sm.linear_model.OLS()"
   ],
   "metadata": {
    "collapsed": false,
    "pycharm": {
     "name": "#%% optional\n"
    }
   }
  },
  {
   "cell_type": "code",
   "execution_count": 1486,
   "outputs": [
    {
     "data": {
      "text/plain": "      MSSubClass_120  MSSubClass_160  MSSubClass_180  MSSubClass_190  \\\n0                  0               0               0               0   \n1                  0               0               0               0   \n2                  0               0               0               0   \n3                  0               0               0               0   \n4                  0               0               0               0   \n...              ...             ...             ...             ...   \n1455               0               0               0               0   \n1456               0               0               0               0   \n1457               0               0               0               0   \n1458               0               0               0               0   \n1459               0               0               0               0   \n\n      MSSubClass_20  MSSubClass_30  MSSubClass_40  MSSubClass_45  \\\n0                 0              0              0              0   \n1                 1              0              0              0   \n2                 0              0              0              0   \n3                 0              0              0              0   \n4                 0              0              0              0   \n...             ...            ...            ...            ...   \n1455              0              0              0              0   \n1456              1              0              0              0   \n1457              0              0              0              0   \n1458              1              0              0              0   \n1459              1              0              0              0   \n\n      MSSubClass_50  MSSubClass_60  MSSubClass_70  MSSubClass_75  \\\n0                 0              1              0              0   \n1                 0              0              0              0   \n2                 0              1              0              0   \n3                 0              0              1              0   \n4                 0              1              0              0   \n...             ...            ...            ...            ...   \n1455              0              1              0              0   \n1456              0              0              0              0   \n1457              0              0              1              0   \n1458              0              0              0              0   \n1459              0              0              0              0   \n\n      MSSubClass_80  MSSubClass_85  MSSubClass_90  \n0                 0              0              0  \n1                 0              0              0  \n2                 0              0              0  \n3                 0              0              0  \n4                 0              0              0  \n...             ...            ...            ...  \n1455              0              0              0  \n1456              0              0              0  \n1457              0              0              0  \n1458              0              0              0  \n1459              0              0              0  \n\n[1460 rows x 15 columns]",
      "text/html": "<div>\n<style scoped>\n    .dataframe tbody tr th:only-of-type {\n        vertical-align: middle;\n    }\n\n    .dataframe tbody tr th {\n        vertical-align: top;\n    }\n\n    .dataframe thead th {\n        text-align: right;\n    }\n</style>\n<table border=\"1\" class=\"dataframe\">\n  <thead>\n    <tr style=\"text-align: right;\">\n      <th></th>\n      <th>MSSubClass_120</th>\n      <th>MSSubClass_160</th>\n      <th>MSSubClass_180</th>\n      <th>MSSubClass_190</th>\n      <th>MSSubClass_20</th>\n      <th>MSSubClass_30</th>\n      <th>MSSubClass_40</th>\n      <th>MSSubClass_45</th>\n      <th>MSSubClass_50</th>\n      <th>MSSubClass_60</th>\n      <th>MSSubClass_70</th>\n      <th>MSSubClass_75</th>\n      <th>MSSubClass_80</th>\n      <th>MSSubClass_85</th>\n      <th>MSSubClass_90</th>\n    </tr>\n  </thead>\n  <tbody>\n    <tr>\n      <th>0</th>\n      <td>0</td>\n      <td>0</td>\n      <td>0</td>\n      <td>0</td>\n      <td>0</td>\n      <td>0</td>\n      <td>0</td>\n      <td>0</td>\n      <td>0</td>\n      <td>1</td>\n      <td>0</td>\n      <td>0</td>\n      <td>0</td>\n      <td>0</td>\n      <td>0</td>\n    </tr>\n    <tr>\n      <th>1</th>\n      <td>0</td>\n      <td>0</td>\n      <td>0</td>\n      <td>0</td>\n      <td>1</td>\n      <td>0</td>\n      <td>0</td>\n      <td>0</td>\n      <td>0</td>\n      <td>0</td>\n      <td>0</td>\n      <td>0</td>\n      <td>0</td>\n      <td>0</td>\n      <td>0</td>\n    </tr>\n    <tr>\n      <th>2</th>\n      <td>0</td>\n      <td>0</td>\n      <td>0</td>\n      <td>0</td>\n      <td>0</td>\n      <td>0</td>\n      <td>0</td>\n      <td>0</td>\n      <td>0</td>\n      <td>1</td>\n      <td>0</td>\n      <td>0</td>\n      <td>0</td>\n      <td>0</td>\n      <td>0</td>\n    </tr>\n    <tr>\n      <th>3</th>\n      <td>0</td>\n      <td>0</td>\n      <td>0</td>\n      <td>0</td>\n      <td>0</td>\n      <td>0</td>\n      <td>0</td>\n      <td>0</td>\n      <td>0</td>\n      <td>0</td>\n      <td>1</td>\n      <td>0</td>\n      <td>0</td>\n      <td>0</td>\n      <td>0</td>\n    </tr>\n    <tr>\n      <th>4</th>\n      <td>0</td>\n      <td>0</td>\n      <td>0</td>\n      <td>0</td>\n      <td>0</td>\n      <td>0</td>\n      <td>0</td>\n      <td>0</td>\n      <td>0</td>\n      <td>1</td>\n      <td>0</td>\n      <td>0</td>\n      <td>0</td>\n      <td>0</td>\n      <td>0</td>\n    </tr>\n    <tr>\n      <th>...</th>\n      <td>...</td>\n      <td>...</td>\n      <td>...</td>\n      <td>...</td>\n      <td>...</td>\n      <td>...</td>\n      <td>...</td>\n      <td>...</td>\n      <td>...</td>\n      <td>...</td>\n      <td>...</td>\n      <td>...</td>\n      <td>...</td>\n      <td>...</td>\n      <td>...</td>\n    </tr>\n    <tr>\n      <th>1455</th>\n      <td>0</td>\n      <td>0</td>\n      <td>0</td>\n      <td>0</td>\n      <td>0</td>\n      <td>0</td>\n      <td>0</td>\n      <td>0</td>\n      <td>0</td>\n      <td>1</td>\n      <td>0</td>\n      <td>0</td>\n      <td>0</td>\n      <td>0</td>\n      <td>0</td>\n    </tr>\n    <tr>\n      <th>1456</th>\n      <td>0</td>\n      <td>0</td>\n      <td>0</td>\n      <td>0</td>\n      <td>1</td>\n      <td>0</td>\n      <td>0</td>\n      <td>0</td>\n      <td>0</td>\n      <td>0</td>\n      <td>0</td>\n      <td>0</td>\n      <td>0</td>\n      <td>0</td>\n      <td>0</td>\n    </tr>\n    <tr>\n      <th>1457</th>\n      <td>0</td>\n      <td>0</td>\n      <td>0</td>\n      <td>0</td>\n      <td>0</td>\n      <td>0</td>\n      <td>0</td>\n      <td>0</td>\n      <td>0</td>\n      <td>0</td>\n      <td>1</td>\n      <td>0</td>\n      <td>0</td>\n      <td>0</td>\n      <td>0</td>\n    </tr>\n    <tr>\n      <th>1458</th>\n      <td>0</td>\n      <td>0</td>\n      <td>0</td>\n      <td>0</td>\n      <td>1</td>\n      <td>0</td>\n      <td>0</td>\n      <td>0</td>\n      <td>0</td>\n      <td>0</td>\n      <td>0</td>\n      <td>0</td>\n      <td>0</td>\n      <td>0</td>\n      <td>0</td>\n    </tr>\n    <tr>\n      <th>1459</th>\n      <td>0</td>\n      <td>0</td>\n      <td>0</td>\n      <td>0</td>\n      <td>1</td>\n      <td>0</td>\n      <td>0</td>\n      <td>0</td>\n      <td>0</td>\n      <td>0</td>\n      <td>0</td>\n      <td>0</td>\n      <td>0</td>\n      <td>0</td>\n      <td>0</td>\n    </tr>\n  </tbody>\n</table>\n<p>1460 rows × 15 columns</p>\n</div>"
     },
     "execution_count": 1486,
     "metadata": {},
     "output_type": "execute_result"
    }
   ],
   "source": [
    "MSSubClass_encoded = pd.get_dummies(train_df[['MSSubClass']].astype(str))\n",
    "train_df_dropped = train_df.drop('Id', axis=1)\n",
    "df_encoded = pd.get_dummies(train_df_dropped)\n",
    "df_encoded = pd.concat([df_encoded, MSSubClass_encoded], axis=1).drop('MSSubClass', axis=1)\n",
    "# df_encoded.info(verbose=True, null_counts=True)\n",
    "MSSubClass_encoded"
   ],
   "metadata": {
    "collapsed": false,
    "pycharm": {
     "name": "#%% Drop columns not useful to our model and perform one hot encoding.\n"
    }
   }
  },
  {
   "cell_type": "code",
   "execution_count": 1429,
   "outputs": [],
   "source": [
    "split = ms.train_test_split(df_encoded, train_size=0.8, random_state= 17)\n",
    "train_split_n = split[0]\n",
    "test_split_n = split[1]\n",
    "# train_split"
   ],
   "metadata": {
    "collapsed": false,
    "pycharm": {
     "name": "#%% Splitting data\n"
    }
   }
  },
  {
   "cell_type": "code",
   "execution_count": 1430,
   "outputs": [],
   "source": [
    "# encoder = OneHotEncoder(handle_unknown=\"ignore\", sparse=False)\n",
    "# encoder.fit(train_df)"
   ],
   "metadata": {
    "collapsed": false,
    "pycharm": {
     "name": "#%% sklearn's encoder (not used)\n"
    }
   }
  },
  {
   "cell_type": "code",
   "execution_count": 1431,
   "outputs": [
    {
     "name": "stdout",
     "output_type": "stream",
     "text": [
      "train split missing: ['LotFrontage', 'MasVnrArea', 'GarageYrBlt']\n",
      "test split missing: ['LotFrontage', 'MasVnrArea', 'GarageYrBlt']\n"
     ]
    }
   ],
   "source": [
    "all_columns = df_encoded.columns\n",
    "columns = df_encoded.drop(['SalePrice'], axis=1).columns\n",
    "\n",
    "print('train split missing: ' + str(train_split_n.columns[train_split_n.isna().any()].tolist()))\n",
    "print('test split missing: ' + str(test_split_n.columns[test_split_n.isna().any()].tolist()))"
   ],
   "metadata": {
    "collapsed": false,
    "pycharm": {
     "name": "#%% Look for columns with null values\n"
    }
   }
  },
  {
   "cell_type": "markdown",
   "source": [
    "Setting values to the mean or zeroes could highly skew the results of a regression model.\n",
    "I will use KNN to perform multivariate imputation, filling in the above columns."
   ],
   "metadata": {
    "collapsed": false,
    "pycharm": {
     "name": "#%% md\n"
    }
   }
  },
  {
   "cell_type": "code",
   "execution_count": 1432,
   "outputs": [],
   "source": [
    "# Training the inputer with train split\n",
    "imputer_train = KNNImputer(n_neighbors=11, weights=\"distance\")\n",
    "imputer_train.fit(train_split_n)\n",
    "train_split = pd.DataFrame(imputer_train.transform(train_split_n), columns = all_columns)\n",
    "test_split = pd.DataFrame(imputer_train.transform(test_split_n), columns = all_columns)\n",
    "\n",
    "# display(test_split_n)\n",
    "# display(test_split)"
   ],
   "metadata": {
    "collapsed": false,
    "pycharm": {
     "name": "#%% KNN inputation\n"
    }
   }
  },
  {
   "cell_type": "markdown",
   "source": [
    "Now training a normalizer and applying it to the train and test design matrices."
   ],
   "metadata": {
    "collapsed": false,
    "pycharm": {
     "name": "#%% md\n"
    }
   }
  },
  {
   "cell_type": "code",
   "execution_count": 1433,
   "outputs": [],
   "source": [
    "# training the normalizer with train split\n",
    "normalize_train = StandardScaler().fit(train_split.drop(['SalePrice'], axis=1))\n",
    "\n",
    "train_norm = normalize_train.transform(train_split.drop(['SalePrice'], axis=1))\n",
    "test_norm = normalize_train.transform(test_split.drop(['SalePrice'], axis=1))\n",
    "\n",
    "train_norm = pd.DataFrame(train_norm, columns = columns)\n",
    "test_norm = pd.DataFrame(test_norm, columns = columns)\n",
    "\n",
    "# display(train_norm.describe())\n",
    "# display(test_norm.describe())"
   ],
   "metadata": {
    "collapsed": false,
    "pycharm": {
     "name": "#%% Normalize the test/train data sets\n"
    }
   }
  },
  {
   "cell_type": "code",
   "execution_count": 1434,
   "outputs": [],
   "source": [
    "X = train_norm\n",
    "Y = train_split['SalePrice']\n",
    "X_test = test_norm\n",
    "Y_test = test_split['SalePrice']\n",
    "\n",
    "X_non_norm = train_split.drop(['SalePrice'], axis=1)\n",
    "X_test_non_norm = test_split.drop(['SalePrice'], axis=1)"
   ],
   "metadata": {
    "collapsed": false,
    "pycharm": {
     "name": "#%%\n"
    }
   }
  },
  {
   "cell_type": "markdown",
   "source": [
    "Performing multivariate linear OLS:"
   ],
   "metadata": {
    "collapsed": false,
    "pycharm": {
     "name": "#%% md\n"
    }
   }
  },
  {
   "cell_type": "code",
   "execution_count": 1435,
   "outputs": [
    {
     "data": {
      "text/plain": "0.8727037336720768"
     },
     "execution_count": 1435,
     "metadata": {},
     "output_type": "execute_result"
    }
   ],
   "source": [
    "lin_reg = lm.LinearRegression().fit(X_non_norm, Y)\n",
    "lin_pred = lin_reg.predict(X_test_non_norm)\n",
    "# lin_reg.score(test_norm.drop(['SalePrice'], axis=1), test_norm['SalePrice'])\n",
    "r2_score(Y_test, lin_pred)"
   ],
   "metadata": {
    "collapsed": false,
    "pycharm": {
     "name": "#%% Predicting values OLS and finding R^2 value\n"
    }
   }
  },
  {
   "cell_type": "markdown",
   "source": [
    "As we can see, the linear OLS model performs okay. Depending on the randomized train/test split, we get R^2 values\n",
    "in the 0.8 range. To note, changing the randomized split seed dramatically changes how these models perform because\n",
    "cross validation was not used for OLS."
   ],
   "metadata": {
    "collapsed": false,
    "pycharm": {
     "name": "#%% md\n"
    }
   }
  },
  {
   "cell_type": "markdown",
   "source": [
    "Performing KNN with GridSearchCV:"
   ],
   "metadata": {
    "collapsed": false,
    "pycharm": {
     "name": "#%% md\n"
    }
   }
  },
  {
   "cell_type": "code",
   "execution_count": 1436,
   "outputs": [
    {
     "name": "stdout",
     "output_type": "stream",
     "text": [
      "{'n_neighbors': 10}\n",
      "0.7193525974954694\n",
      "0.08134924783536315\n"
     ]
    }
   ],
   "source": [
    "knn_reg = KNeighborsRegressor()\n",
    "param_grid = {'n_neighbors': np.arange(1, 15)}\n",
    "knn_grid_cv = ms.GridSearchCV(knn_reg, param_grid, cv=10)\n",
    "knn_grid_cv.fit(X, Y)\n",
    "print(knn_grid_cv.best_params_)\n",
    "print(knn_grid_cv.best_score_)\n",
    "knn_cv_table = pd.DataFrame(knn_grid_cv.cv_results_)\n",
    "error = knn_cv_table['std_test_score'].iloc[knn_grid_cv.best_index_]\n",
    "print(error)"
   ],
   "metadata": {
    "collapsed": false,
    "pycharm": {
     "name": "#%%\n"
    }
   }
  },
  {
   "cell_type": "code",
   "execution_count": 1437,
   "outputs": [
    {
     "name": "stdout",
     "output_type": "stream",
     "text": [
      "0.6380033496601063\n"
     ]
    },
    {
     "data": {
      "text/plain": "   param_n_neighbors  mean_test_score\n0                  1         0.570125\n1                  2         0.689087\n2                  3         0.710763\n3                  4         0.711329\n4                  5         0.717090\n5                  6         0.717383\n6                  7         0.715167\n7                  8         0.715962\n8                  9         0.716591\n9                 10         0.719353\n10                11         0.716736\n11                12         0.710883\n12                13         0.708464\n13                14         0.709165",
      "text/html": "<div>\n<style scoped>\n    .dataframe tbody tr th:only-of-type {\n        vertical-align: middle;\n    }\n\n    .dataframe tbody tr th {\n        vertical-align: top;\n    }\n\n    .dataframe thead th {\n        text-align: right;\n    }\n</style>\n<table border=\"1\" class=\"dataframe\">\n  <thead>\n    <tr style=\"text-align: right;\">\n      <th></th>\n      <th>param_n_neighbors</th>\n      <th>mean_test_score</th>\n    </tr>\n  </thead>\n  <tbody>\n    <tr>\n      <th>0</th>\n      <td>1</td>\n      <td>0.570125</td>\n    </tr>\n    <tr>\n      <th>1</th>\n      <td>2</td>\n      <td>0.689087</td>\n    </tr>\n    <tr>\n      <th>2</th>\n      <td>3</td>\n      <td>0.710763</td>\n    </tr>\n    <tr>\n      <th>3</th>\n      <td>4</td>\n      <td>0.711329</td>\n    </tr>\n    <tr>\n      <th>4</th>\n      <td>5</td>\n      <td>0.717090</td>\n    </tr>\n    <tr>\n      <th>5</th>\n      <td>6</td>\n      <td>0.717383</td>\n    </tr>\n    <tr>\n      <th>6</th>\n      <td>7</td>\n      <td>0.715167</td>\n    </tr>\n    <tr>\n      <th>7</th>\n      <td>8</td>\n      <td>0.715962</td>\n    </tr>\n    <tr>\n      <th>8</th>\n      <td>9</td>\n      <td>0.716591</td>\n    </tr>\n    <tr>\n      <th>9</th>\n      <td>10</td>\n      <td>0.719353</td>\n    </tr>\n    <tr>\n      <th>10</th>\n      <td>11</td>\n      <td>0.716736</td>\n    </tr>\n    <tr>\n      <th>11</th>\n      <td>12</td>\n      <td>0.710883</td>\n    </tr>\n    <tr>\n      <th>12</th>\n      <td>13</td>\n      <td>0.708464</td>\n    </tr>\n    <tr>\n      <th>13</th>\n      <td>14</td>\n      <td>0.709165</td>\n    </tr>\n  </tbody>\n</table>\n</div>"
     },
     "metadata": {},
     "output_type": "display_data"
    }
   ],
   "source": [
    "accept = knn_grid_cv.best_score_ - error\n",
    "print(accept)\n",
    "display(knn_cv_table.loc[:,['param_n_neighbors','mean_test_score']])"
   ],
   "metadata": {
    "collapsed": false,
    "pycharm": {
     "name": "#%%\n"
    }
   }
  },
  {
   "cell_type": "markdown",
   "source": [
    "It appears that 10 neighbours gives us the best score at 0.7. However, given the standard error of about 0.06, a score of at least\n",
    "0.63 performs similarly. Thus, the \"rule-of-thumb\" best selection could be argued to be k=2 KNN with a score of 0.69."
   ],
   "metadata": {
    "collapsed": false,
    "pycharm": {
     "name": "#%% md\n"
    }
   }
  },
  {
   "cell_type": "markdown",
   "source": [
    "Trying this model with k=2"
   ],
   "metadata": {
    "collapsed": false,
    "pycharm": {
     "name": "#%% md\n"
    }
   }
  },
  {
   "cell_type": "code",
   "execution_count": 1438,
   "outputs": [
    {
     "data": {
      "text/plain": "0.7123722453675405"
     },
     "execution_count": 1438,
     "metadata": {},
     "output_type": "execute_result"
    }
   ],
   "source": [
    "knn_reg = KNeighborsRegressor(n_neighbors=2)\n",
    "knn_reg.fit(X,Y)\n",
    "Y_pred = knn_reg.predict(X_test)\n",
    "r2_score(Y_test, Y_pred)"
   ],
   "metadata": {
    "collapsed": false,
    "pycharm": {
     "name": "#%%\n"
    }
   }
  },
  {
   "cell_type": "markdown",
   "source": [
    "Performing Ridge regression with GridSearchCV"
   ],
   "metadata": {
    "collapsed": false,
    "pycharm": {
     "name": "#%% md\n"
    }
   }
  },
  {
   "cell_type": "code",
   "execution_count": 1439,
   "outputs": [],
   "source": [
    "# ridge_reg = lm.RidgeCV(alphas=np.linspace(0.001,1000,30), cv=10)\n",
    "# ridge_reg.fit(X, Y)\n",
    "# print(ridge_reg.best_score_)\n",
    "# print(ridge_reg.alpha_)"
   ],
   "metadata": {
    "collapsed": false,
    "pycharm": {
     "name": "#%% Using RidgeCV (using GridSearchCV instead)\n"
    }
   }
  },
  {
   "cell_type": "code",
   "execution_count": 1440,
   "outputs": [
    {
     "name": "stdout",
     "output_type": "stream",
     "text": [
      "{'alpha': 808.0817272727272}\n",
      "0.8224234736577983\n",
      "8\n",
      "0.12347238051877002\n"
     ]
    }
   ],
   "source": [
    "ridge_reg = lm.Ridge()\n",
    "param_grid = {'alpha': np.linspace(0.001,10000,100)}\n",
    "ridge_grid_cv = ms.GridSearchCV(ridge_reg, param_grid, cv=10)\n",
    "ridge_grid_cv.fit(X, Y)\n",
    "print(ridge_grid_cv.best_params_)\n",
    "print(ridge_grid_cv.best_score_)\n",
    "print(ridge_grid_cv.best_index_)\n",
    "ridge_cv_table = pd.DataFrame(ridge_grid_cv.cv_results_)\n",
    "error = ridge_cv_table['std_test_score'].iloc[ridge_grid_cv.best_index_]\n",
    "print(error)"
   ],
   "metadata": {
    "collapsed": false,
    "pycharm": {
     "name": "#%% Using GridSearch CV\n"
    }
   }
  },
  {
   "cell_type": "code",
   "execution_count": 1441,
   "outputs": [
    {
     "name": "stdout",
     "output_type": "stream",
     "text": [
      "0.6989510931390284\n"
     ]
    },
    {
     "data": {
      "text/plain": "    param_alpha  mean_test_score\n70  7070.707364         0.713886\n71  7171.717455         0.712105\n72  7272.727545         0.710329\n73  7373.737636         0.708561\n74  7474.747727         0.706798\n75  7575.757818         0.705043\n76  7676.767909         0.703294\n77     7777.778         0.701551\n78  7878.788091         0.699815\n79  7979.798182         0.698086\n80  8080.808273         0.696363\n81  8181.818364         0.694647\n82  8282.828455         0.692938\n83  8383.838545         0.691235\n84  8484.848636         0.689539\n85  8585.858727         0.687850",
      "text/html": "<div>\n<style scoped>\n    .dataframe tbody tr th:only-of-type {\n        vertical-align: middle;\n    }\n\n    .dataframe tbody tr th {\n        vertical-align: top;\n    }\n\n    .dataframe thead th {\n        text-align: right;\n    }\n</style>\n<table border=\"1\" class=\"dataframe\">\n  <thead>\n    <tr style=\"text-align: right;\">\n      <th></th>\n      <th>param_alpha</th>\n      <th>mean_test_score</th>\n    </tr>\n  </thead>\n  <tbody>\n    <tr>\n      <th>70</th>\n      <td>7070.707364</td>\n      <td>0.713886</td>\n    </tr>\n    <tr>\n      <th>71</th>\n      <td>7171.717455</td>\n      <td>0.712105</td>\n    </tr>\n    <tr>\n      <th>72</th>\n      <td>7272.727545</td>\n      <td>0.710329</td>\n    </tr>\n    <tr>\n      <th>73</th>\n      <td>7373.737636</td>\n      <td>0.708561</td>\n    </tr>\n    <tr>\n      <th>74</th>\n      <td>7474.747727</td>\n      <td>0.706798</td>\n    </tr>\n    <tr>\n      <th>75</th>\n      <td>7575.757818</td>\n      <td>0.705043</td>\n    </tr>\n    <tr>\n      <th>76</th>\n      <td>7676.767909</td>\n      <td>0.703294</td>\n    </tr>\n    <tr>\n      <th>77</th>\n      <td>7777.778</td>\n      <td>0.701551</td>\n    </tr>\n    <tr>\n      <th>78</th>\n      <td>7878.788091</td>\n      <td>0.699815</td>\n    </tr>\n    <tr>\n      <th>79</th>\n      <td>7979.798182</td>\n      <td>0.698086</td>\n    </tr>\n    <tr>\n      <th>80</th>\n      <td>8080.808273</td>\n      <td>0.696363</td>\n    </tr>\n    <tr>\n      <th>81</th>\n      <td>8181.818364</td>\n      <td>0.694647</td>\n    </tr>\n    <tr>\n      <th>82</th>\n      <td>8282.828455</td>\n      <td>0.692938</td>\n    </tr>\n    <tr>\n      <th>83</th>\n      <td>8383.838545</td>\n      <td>0.691235</td>\n    </tr>\n    <tr>\n      <th>84</th>\n      <td>8484.848636</td>\n      <td>0.689539</td>\n    </tr>\n    <tr>\n      <th>85</th>\n      <td>8585.858727</td>\n      <td>0.687850</td>\n    </tr>\n  </tbody>\n</table>\n</div>"
     },
     "metadata": {},
     "output_type": "display_data"
    }
   ],
   "source": [
    "accept = ridge_grid_cv.best_score_ - error\n",
    "print(accept)\n",
    "display(ridge_cv_table.loc[70:85,['param_alpha','mean_test_score']])\n",
    "# print(ridge_cv_table[(ridge_cv_table['mean_test_score'] <= accept) & (ridge_cv_table.index > ridge_grid_cv.best_index_)].iloc[0])"
   ],
   "metadata": {
    "collapsed": false,
    "pycharm": {
     "name": "#%% Standard Error\n"
    }
   }
  },
  {
   "cell_type": "markdown",
   "source": [
    "Our best score here is with lambda or alpha ~ 808.08 with 0.8224. The standard error is 0.1235.\n",
    "The minimum acceptable score is 0.6990. Looking at our table, this means that our\n",
    "simplest model (higher lambda) is at index 78 (the lambda within our standard error threshold). This is lambda ~ 7878.79\n",
    "and CV score = 0.6998."
   ],
   "metadata": {
    "collapsed": false,
    "pycharm": {
     "name": "#%% md\n"
    }
   }
  },
  {
   "cell_type": "markdown",
   "source": [
    "Trying this model with lambda = 7879"
   ],
   "metadata": {
    "collapsed": false,
    "pycharm": {
     "name": "#%% md\n"
    }
   }
  },
  {
   "cell_type": "code",
   "execution_count": 1442,
   "outputs": [
    {
     "data": {
      "text/plain": "0.7623747489923619"
     },
     "execution_count": 1442,
     "metadata": {},
     "output_type": "execute_result"
    }
   ],
   "source": [
    "ridge = lm.Ridge(alpha = 7879)\n",
    "ridge.fit(X,Y)\n",
    "Y_pred = ridge.predict(X_test)\n",
    "r2_score(Y_test, Y_pred)"
   ],
   "metadata": {
    "collapsed": false,
    "pycharm": {
     "name": "#%%\n"
    }
   }
  },
  {
   "cell_type": "markdown",
   "source": [
    "Performing Lasso regression with GridSearchCV"
   ],
   "metadata": {
    "collapsed": false,
    "pycharm": {
     "name": "#%% md\n"
    }
   }
  },
  {
   "cell_type": "code",
   "execution_count": 1443,
   "outputs": [
    {
     "name": "stdout",
     "output_type": "stream",
     "text": [
      "{'alpha': 1632.6539795918368}\n",
      "0.8116563342572375\n",
      "4\n",
      "0.15243216830309633\n"
     ]
    }
   ],
   "source": [
    "lasso_reg = lm.Lasso()\n",
    "param_grid = {'alpha': np.linspace(0.001,20000,50)}\n",
    "lasso_grid_cv = ms.GridSearchCV(lasso_reg, param_grid, cv=10)\n",
    "lasso_grid_cv.fit(X, Y)\n",
    "print(lasso_grid_cv.best_params_)\n",
    "print(lasso_grid_cv.best_score_)\n",
    "print(lasso_grid_cv.best_index_)\n",
    "lasso_cv_table = pd.DataFrame(lasso_grid_cv.cv_results_)\n",
    "error = lasso_cv_table['std_test_score'].iloc[lasso_grid_cv.best_index_]\n",
    "print(error)"
   ],
   "metadata": {
    "collapsed": false,
    "pycharm": {
     "name": "#%%\n"
    }
   }
  },
  {
   "cell_type": "code",
   "execution_count": 1444,
   "outputs": [
    {
     "name": "stdout",
     "output_type": "stream",
     "text": [
      "0.6592241659541411\n"
     ]
    },
    {
     "data": {
      "text/plain": "     param_alpha  mean_test_score\n45   18367.34702         0.671447\n46  18775.510265         0.667324\n47   19183.67351         0.663097\n48  19591.836755         0.658772\n49       20000.0         0.654345",
      "text/html": "<div>\n<style scoped>\n    .dataframe tbody tr th:only-of-type {\n        vertical-align: middle;\n    }\n\n    .dataframe tbody tr th {\n        vertical-align: top;\n    }\n\n    .dataframe thead th {\n        text-align: right;\n    }\n</style>\n<table border=\"1\" class=\"dataframe\">\n  <thead>\n    <tr style=\"text-align: right;\">\n      <th></th>\n      <th>param_alpha</th>\n      <th>mean_test_score</th>\n    </tr>\n  </thead>\n  <tbody>\n    <tr>\n      <th>45</th>\n      <td>18367.34702</td>\n      <td>0.671447</td>\n    </tr>\n    <tr>\n      <th>46</th>\n      <td>18775.510265</td>\n      <td>0.667324</td>\n    </tr>\n    <tr>\n      <th>47</th>\n      <td>19183.67351</td>\n      <td>0.663097</td>\n    </tr>\n    <tr>\n      <th>48</th>\n      <td>19591.836755</td>\n      <td>0.658772</td>\n    </tr>\n    <tr>\n      <th>49</th>\n      <td>20000.0</td>\n      <td>0.654345</td>\n    </tr>\n  </tbody>\n</table>\n</div>"
     },
     "metadata": {},
     "output_type": "display_data"
    }
   ],
   "source": [
    "accept = lasso_grid_cv.best_score_ - error\n",
    "print(accept)\n",
    "display(lasso_cv_table.loc[45:55,['param_alpha','mean_test_score']])\n",
    "# print(lasso_cv_table[(lasso_cv_table['mean_test_score'] <= accept) & (lasso_cv_table.index > lasso_grid_cv.best_index_)].iloc[0])\n",
    "# lasso_cv_table[['param_alpha', 'mean_test_score']].iloc[30]"
   ],
   "metadata": {
    "collapsed": false,
    "pycharm": {
     "name": "#%% Standard Error\n"
    }
   }
  },
  {
   "cell_type": "markdown",
   "source": [
    "Our best score here is with lambda or alpha ~ 1632.65 with 0.8117. The standard CV error is 0.1524.\n",
    "Thus, the minimum acceptable score is 0.6592. This means that our\n",
    "simplest model (higher lambda) is at index 47 (the lambda within our standard error threshold).\n",
    "This is lambda ~ 19183.67 and CV score = 0.663097"
   ],
   "metadata": {
    "collapsed": false,
    "pycharm": {
     "name": "#%% md\n"
    }
   }
  },
  {
   "cell_type": "markdown",
   "source": [
    "Trying this model with lambda = 19184"
   ],
   "metadata": {
    "collapsed": false,
    "pycharm": {
     "name": "#%% md\n"
    }
   }
  },
  {
   "cell_type": "code",
   "execution_count": 1445,
   "outputs": [
    {
     "data": {
      "text/plain": "0.6892540092713848"
     },
     "execution_count": 1445,
     "metadata": {},
     "output_type": "execute_result"
    }
   ],
   "source": [
    "lasso = lm.Lasso(alpha=19184)\n",
    "lasso.fit(X,Y)\n",
    "Y_pred = lasso.predict(X_test)\n",
    "r2_score(Y_test, Y_pred)"
   ],
   "metadata": {
    "collapsed": false,
    "pycharm": {
     "name": "#%%\n"
    }
   }
  },
  {
   "cell_type": "markdown",
   "source": [
    "Performing BSR with CV"
   ],
   "metadata": {
    "collapsed": false,
    "pycharm": {
     "name": "#%% md\n"
    }
   }
  },
  {
   "cell_type": "code",
   "execution_count": 1446,
   "outputs": [],
   "source": [
    "def evaluate_cv_model(X, Y):\n",
    "    # xy = pd.concat([X,Y], axis=1)\n",
    "    # xy = xy.sample(frac=1)\n",
    "    # X = xy.iloc[:,0:-1]\n",
    "    # Y = xy.iloc[:,-1]\n",
    "    reg = lm.LinearRegression()\n",
    "    param = {'fit_intercept': [True]}\n",
    "    grid_cv = ms.GridSearchCV(reg, param, cv=10)\n",
    "    grid_cv.fit(X, Y)\n",
    "    results = pd.DataFrame(grid_cv.cv_results_)\n",
    "    score = results['mean_test_score'].iloc[0]\n",
    "    std = results['std_test_score'].iloc[0]\n",
    "    return score, std\n",
    "\n",
    "def get_smallest_z(X ,Y):\n",
    "    X_sm = sm.add_constant(X, has_constant='add')\n",
    "    sm_OLS_model = OLS(Y, X_sm)\n",
    "    result_sm = sm_OLS_model.fit()\n",
    "    t_df = result_sm.tvalues.to_frame().abs()\n",
    "    t_df.loc['const',0] = np.inf\n",
    "    smallest_z_feature = t_df.sort_values(by=[0]).index[0]\n",
    "    return smallest_z_feature"
   ],
   "metadata": {
    "collapsed": false,
    "pycharm": {
     "name": "#%% Shuffling CV\n"
    }
   }
  },
  {
   "cell_type": "code",
   "execution_count": 1447,
   "outputs": [],
   "source": [
    "X_BSR = X_non_norm\n",
    "k = len(X_BSR.columns)\n",
    "score_k = np.empty([k-1,3])\n",
    "dropped_cols = []\n",
    "\n",
    "# xy = pd.concat([X_BSR,Y], axis=1)\n",
    "# xy = xy.sample(frac=1)\n",
    "# X_BSR = xy.iloc[:,0:-1]\n",
    "# Y = xy.iloc[:,-1]\n",
    "\n",
    "for iteration in range(len(X_BSR.columns)+1):\n",
    "\n",
    "    if len(X_BSR.columns) == 1:\n",
    "        break\n",
    "\n",
    "    col_to_drop = get_smallest_z(X_BSR, Y)\n",
    "    # print(col_to_drop)\n",
    "\n",
    "    if col_to_drop == 'const':\n",
    "        continue\n",
    "    else:\n",
    "        dropped_cols.append(col_to_drop)\n",
    "        X_BSR = X_BSR.drop(col_to_drop, axis=1)\n",
    "        k -= 1\n",
    "        score, std = evaluate_cv_model(X_BSR, Y)\n",
    "        score_k[iteration,0] = k\n",
    "        score_k[iteration,1] = score\n",
    "        score_k[iteration,2] = std\n",
    "        # print(score)\n",
    "        # print(k)"
   ],
   "metadata": {
    "collapsed": false,
    "pycharm": {
     "name": "#%%\n"
    }
   }
  },
  {
   "cell_type": "markdown",
   "source": [
    "Plotting R^2 score as a function of subset size:"
   ],
   "metadata": {
    "collapsed": false,
    "pycharm": {
     "name": "#%% md\n"
    }
   }
  },
  {
   "cell_type": "code",
   "execution_count": 1448,
   "outputs": [
    {
     "data": {
      "text/plain": "(0.6, 0.9)"
     },
     "execution_count": 1448,
     "metadata": {},
     "output_type": "execute_result"
    },
    {
     "data": {
      "text/plain": "<Figure size 432x288 with 1 Axes>",
      "image/png": "[encoded data removed]"
     },
     "metadata": {},
     "output_type": "display_data"
    }
   ],
   "source": [
    "fig = sns.scatterplot(score_k[0:-1,0],score_k[0:-1,1])\n",
    "fig.set_ylim(0.6,0.9)"
   ],
   "metadata": {
    "collapsed": false,
    "pycharm": {
     "name": "#%%\n"
    }
   }
  },
  {
   "cell_type": "markdown",
   "source": [
    "With error bars:"
   ],
   "metadata": {
    "collapsed": false,
    "pycharm": {
     "name": "#%% md\n"
    }
   }
  },
  {
   "cell_type": "code",
   "execution_count": 1449,
   "outputs": [
    {
     "data": {
      "text/plain": "(0.0, 120.0)"
     },
     "execution_count": 1449,
     "metadata": {},
     "output_type": "execute_result"
    },
    {
     "data": {
      "text/plain": "<Figure size 432x288 with 1 Axes>",
      "image/png": "[encoded data removed]"
     },
     "metadata": {},
     "output_type": "display_data"
    }
   ],
   "source": [
    "plt.errorbar(score_k[0:-1,0], score_k[0:-1,1], yerr=score_k[0:-1,2])\n",
    "plt.ylim(0.6, 0.9)\n",
    "plt.xlim(0,120)"
   ],
   "metadata": {
    "collapsed": false,
    "pycharm": {
     "name": "#%%\n"
    }
   }
  },
  {
   "cell_type": "code",
   "execution_count": 1450,
   "outputs": [
    {
     "name": "stdout",
     "output_type": "stream",
     "text": [
      "27\n",
      "0.8102432645825729\n",
      "0.164325104245889\n",
      "0.6459181603366839\n",
      "['LotConfig_Corner', 'BsmtUnfSF', 'SaleType_Con', 'ExterCond_Ex', 'MSZoning_RL', 'LotShape_IR3', 'Functional_Maj1', 'BsmtExposure_No', 'Alley_Pave', 'FireplaceQu_Ex', 'MSSubClass_190', 'MSSubClass_20', 'SaleType_New', 'SaleCondition_Normal', 'Exterior1st_Stucco', 'Exterior2nd_Plywood', 'ExterQual_Fa', 'Heating_GasW', 'LandSlope_Mod', 'Foundation_CBlock', 'LandContour_Lvl', 'ExterCond_Po', 'Neighborhood_Veenker', 'SaleType_Oth', 'RoofMatl_Metal', 'PavedDrive_N', 'Condition2_RRNn', 'CentralAir_N', 'Street_Pave', 'BldgType_TwnhsE', 'Utilities_NoSeWa', 'HouseStyle_2.5Unf', 'HouseStyle_1.5Fin', 'Utilities_AllPub', 'HeatingQC_Po', 'RoofStyle_Mansard', 'KitchenQual_Ex', 'Condition1_RRAn', 'GarageYrBlt', 'MiscVal', 'MSZoning_RH', 'Exterior1st_Wd Sdng', 'Foundation_PConc', 'BldgType_Duplex', 'MSSubClass_90', 'BldgType_2fmCon', 'Condition2_RRAn', 'GarageType_Detchd', 'MasVnrType_BrkFace', 'Exterior2nd_Brk Cmn', 'Exterior1st_VinylSd', 'MiscFeature_Gar2', 'Condition1_RRNn', 'MasVnrType_BrkCmn', 'Neighborhood_Somerst', 'Neighborhood_BrDale', 'Heating_Floor', 'PavedDrive_Y', 'Exterior2nd_AsphShn', 'Exterior1st_AsbShng', 'Exterior2nd_BrkFace', 'MSSubClass_50', 'HouseStyle_1.5Unf', 'GarageQual_Po', 'GarageFinish_Fin', 'GarageFinish_Unf', 'Electrical_Mix', 'BsmtCond_Po', 'Heating_Grav', 'RoofMatl_WdShake', 'BsmtQual_Ex', 'Exterior2nd_MetalSd', 'SaleCondition_AdjLand', 'Exterior1st_ImStucc', 'Condition1_Norm', 'BsmtHalfBath', 'SaleType_ConLI', 'SaleType_COD', 'Exterior1st_CBlock', 'Exterior2nd_CBlock', 'Exterior2nd_Stucco', 'Electrical_FuseA', 'Electrical_FuseF', 'BsmtFinType1_GLQ', 'BsmtFinType1_Unf', 'Exterior2nd_HdBoard', 'GarageType_CarPort', 'LotShape_IR2', 'GarageCars', 'SaleType_CWD', 'MSSubClass_30', 'SaleType_ConLw', 'HeatingQC_Fa', 'HeatingQC_Ex', 'MiscFeature_TenC', 'Condition1_PosN', 'Functional_Maj2', 'Electrical_FuseP', 'PavedDrive_P', 'Neighborhood_Blueste', 'Exterior1st_BrkComm', 'Functional_Mod', 'ExterCond_TA', 'ExterCond_Fa', 'MSSubClass_120', 'Neighborhood_Blmngtn', 'Neighborhood_SawyerW', 'YrSold', 'Foundation_Slab', 'Heating_Wall', 'Heating_GasA', 'Fence_MnWw', 'MiscFeature_Shed', 'MoSold', 'Exterior1st_WdShing', 'Exterior2nd_Wd Shng', 'GarageCond_Fa', 'MSSubClass_40', 'Electrical_SBrkr', 'Fence_GdWo', 'BsmtExposure_Mn', 'Exterior2nd_ImStucc', 'Exterior1st_Stone', 'RoofMatl_Tar&Grv', 'RoofMatl_CompShg', 'RoofMatl_Roll', 'RoofStyle_Gambrel', 'RoofStyle_Gable', 'GarageCond_TA', 'EnclosedPorch', 'BsmtFinType1_BLQ', 'Exterior1st_AsphShn', 'Alley_Grvl', 'LotConfig_Inside', 'Condition1_RRNe', 'Exterior2nd_Other', 'OpenPorchSF', 'Condition2_Norm', 'Condition2_Feedr', 'HeatingQC_TA', 'MiscFeature_Othr', 'HeatingQC_Gd', 'RoofStyle_Hip', 'GarageCond_Gd', 'GarageQual_Gd', 'LotShape_Reg', 'FireplaceQu_Po', 'Exterior1st_HdBoard', 'RoofStyle_Flat', 'Neighborhood_MeadowV', 'Neighborhood_BrkSide', 'GarageType_Attchd', 'LowQualFinSF', 'BldgType_Twnhs', 'GrLivArea', 'MSSubClass_80', 'HouseStyle_SLvl', 'SaleCondition_Alloca', 'HouseStyle_SFoyer', 'MSSubClass_180', 'LandContour_HLS', 'SaleType_WD', 'ExterQual_Ex', 'CentralAir_Y', 'Neighborhood_Gilbert', 'Neighborhood_Timber', 'Neighborhood_CollgCr', 'Neighborhood_ClearCr', 'Neighborhood_SWISU', 'Neighborhood_Sawyer', 'Neighborhood_IDOTRR', 'Foundation_BrkTil', 'LotConfig_FR2', 'BsmtFinSF2', 'BsmtFinType1_Rec', 'GarageType_Basment', 'ExterCond_Gd', 'Fence_MnPrv', '3SsnPorch', 'MSSubClass_75', 'GarageType_BuiltIn', 'Condition2_PosA', 'MSSubClass_85', 'Condition2_Artery', 'Functional_Min2', 'Functional_Min1', 'BsmtFinType2_LwQ', 'BsmtFinType2_BLQ', 'BsmtFinType2_Rec', 'BsmtFinType2_Unf', 'BsmtCond_TA', 'Exterior1st_CemntBd', 'Exterior2nd_CmentBd', 'Exterior2nd_AsbShng', 'MSSubClass_160', 'MSSubClass_60', 'GarageType_2Types', 'Exterior2nd_Stone', 'LotConfig_FR3', 'BsmtExposure_Av', 'MSSubClass_45', 'HalfBath', 'FullBath', 'MSSubClass_70', 'BsmtCond_Fa', 'SaleType_ConLD', 'BsmtFinType1_ALQ', 'Neighborhood_NPkVill', 'Exterior1st_Plywood', 'BsmtFinType1_LwQ', 'BsmtFinType2_GLQ', 'FireplaceQu_Fa', 'FireplaceQu_Gd', 'RoofStyle_Shed', 'Condition2_RRAe', 'LandSlope_Sev', 'Fireplaces', 'FireplaceQu_TA', 'LandSlope_Gtl', 'LandContour_Bnk', 'BsmtCond_Gd', 'BsmtFinType2_ALQ', 'YearRemodAdd', 'HouseStyle_2Story', 'Heating_OthW', 'HouseStyle_1Story', 'PoolQC_Ex', 'Condition1_PosA', 'Neighborhood_OldTown', 'Foundation_Wood', 'HouseStyle_2.5Fin', 'SaleCondition_Family', 'TotRmsAbvGrd', 'GarageCond_Po', 'Foundation_Stone', 'MasVnrType_Stone', 'LandContour_Low', 'RoofMatl_Membran', 'WoodDeckSF', 'LotFrontage', 'GarageFinish_RFn', 'LotShape_IR1', 'LotConfig_CulDSac', 'Exterior1st_MetalSd', 'Exterior2nd_Wd Sdng', 'Exterior2nd_VinylSd', 'BsmtFullBath', 'MasVnrType_None', 'ScreenPorch', 'Functional_Sev', 'Fence_GdPrv', 'GarageQual_Fa', 'GarageQual_TA', 'MSZoning_C (all)', 'KitchenAbvGr', 'MSZoning_RM', 'Neighborhood_Edwards', 'MasVnrArea', 'Neighborhood_NWAmes', 'Neighborhood_NAmes', 'Condition1_RRAe', 'Neighborhood_Mitchel', 'Condition1_Feedr', 'Street_Grvl', 'GarageCond_Ex', 'GarageQual_Ex', 'Condition1_Artery', 'PoolQC_Gd', 'PoolQC_Fa', 'SaleCondition_Abnorml', 'Exterior1st_BrkFace', 'MSZoning_FV', 'BsmtQual_Fa', 'BedroomAbvGr', 'PoolArea', 'ExterQual_Gd', 'ExterQual_TA', 'Functional_Typ', 'GarageArea', 'KitchenQual_Fa', 'Neighborhood_Crawfor', 'LotArea', 'Neighborhood_StoneBr', 'BsmtExposure_Gd', 'TotalBsmtSF', 'BsmtQual_TA', 'BsmtQual_Gd', 'Neighborhood_NoRidge', 'SaleCondition_Partial', 'OverallCond', 'RoofMatl_WdShngl', 'KitchenQual_Gd', 'KitchenQual_TA', 'Condition2_PosN', 'BldgType_1Fam', 'YearBuilt', 'Neighborhood_NridgHt', 'BsmtFinSF1', 'RoofMatl_ClyTile', '2ndFlrSF', '1stFlrSF']\n"
     ]
    }
   ],
   "source": [
    "max_BSR = score_k[np.argmax(score_k[0:300,1]),:]\n",
    "print(np.int(max_BSR[0]))\n",
    "print(max_BSR[1])\n",
    "print(max_BSR[2])\n",
    "print(max_BSR[1] - max_BSR[2])\n",
    "print(dropped_cols)"
   ],
   "metadata": {
    "collapsed": false,
    "pycharm": {
     "name": "#%%\n"
    }
   }
  },
  {
   "cell_type": "markdown",
   "source": [
    "We see that 27 features is optimal in accuracy at 0.8305. However, the standard error is quite high. This is expected\n",
    "as linear regression is massively overfitting such a large number of features between our CV folds.\n",
    "The minimum acceptable score is thus actually 0.64. Examining the score_k array, we can easily see that just two features\n",
    "are needed to reach this score: The 1st and 2nd Floor Areas.\n",
    "\n",
    "Is this actually the best idea (using the 1 std. error rule of thumb)? I don't think so. Actually examining the error\n",
    "between folds of the CV function, I noticed that there were the same 2 or 3 folds that were consistently extremely poor performing.\n",
    "This is likely some systematic error that is from a dissimilar sample of data. Nevertheless, linear regression appears to have massive\n",
    "caveats data like this."
   ],
   "metadata": {
    "collapsed": false,
    "pycharm": {
     "name": "#%% md\n"
    }
   }
  },
  {
   "cell_type": "markdown",
   "source": [
    "Trying OLS with only two features:"
   ],
   "metadata": {
    "collapsed": false,
    "pycharm": {
     "name": "#%% md\n"
    }
   }
  },
  {
   "cell_type": "code",
   "execution_count": 1451,
   "outputs": [
    {
     "data": {
      "text/plain": "0.586958810759499"
     },
     "execution_count": 1451,
     "metadata": {},
     "output_type": "execute_result"
    }
   ],
   "source": [
    "BSR = lm.LinearRegression()\n",
    "BSR.fit(X[['2ndFlrSF', '1stFlrSF']], Y)\n",
    "Y_pred = BSR.predict(X_test[['2ndFlrSF', '1stFlrSF']])\n",
    "r2_score(Y_test, Y_pred)"
   ],
   "metadata": {
    "collapsed": false,
    "pycharm": {
     "name": "#%%\n"
    }
   }
  },
  {
   "cell_type": "markdown",
   "source": [
    "The score is as expected - not great at all. The standard error rule of thumb appears to throw off our subset selection.\n",
    "The high CV error is a sign that the model is overfitting noisy features."
   ],
   "metadata": {
    "collapsed": false,
    "pycharm": {
     "name": "#%% md\n"
    }
   }
  },
  {
   "cell_type": "markdown",
   "source": [
    "Performing FSR with CV:"
   ],
   "metadata": {
    "collapsed": false,
    "pycharm": {
     "name": "#%% md\n"
    }
   }
  },
  {
   "cell_type": "code",
   "execution_count": 1453,
   "outputs": [
    {
     "name": "stdout",
     "output_type": "stream",
     "text": [
      "3\n",
      "6\n",
      "9\n",
      "12\n",
      "15\n",
      "18\n",
      "21\n",
      "24\n",
      "27\n",
      "30\n",
      "33\n",
      "36\n",
      "39\n",
      "42\n",
      "45\n",
      "48\n",
      "51\n",
      "54\n",
      "57\n",
      "60\n",
      "63\n",
      "66\n",
      "69\n",
      "72\n",
      "75\n",
      "78\n",
      "81\n",
      "84\n",
      "87\n",
      "90\n",
      "93\n",
      "96\n",
      "99\n",
      "102\n",
      "105\n",
      "108\n",
      "111\n",
      "114\n",
      "117\n",
      "120\n",
      "123\n",
      "126\n",
      "129\n",
      "132\n",
      "135\n",
      "138\n",
      "141\n",
      "144\n",
      "147\n",
      "150\n",
      "153\n",
      "156\n",
      "159\n",
      "162\n",
      "165\n",
      "168\n",
      "171\n",
      "174\n",
      "177\n",
      "180\n",
      "183\n",
      "186\n",
      "189\n",
      "192\n",
      "195\n",
      "198\n",
      "201\n",
      "204\n",
      "207\n",
      "210\n",
      "213\n",
      "216\n",
      "219\n",
      "222\n",
      "225\n",
      "228\n",
      "231\n",
      "234\n",
      "237\n",
      "240\n",
      "243\n",
      "246\n",
      "249\n",
      "252\n",
      "255\n",
      "258\n",
      "261\n",
      "264\n",
      "267\n",
      "270\n",
      "273\n",
      "276\n",
      "279\n",
      "282\n",
      "285\n",
      "288\n",
      "291\n",
      "294\n",
      "297\n",
      "300\n",
      "302\n"
     ]
    }
   ],
   "source": [
    "X_FSR = X_non_norm\n",
    "n_cols = len(X_FSR.columns)\n",
    "score_k = np.zeros([n_cols,3])\n",
    "cols_try = X_FSR.columns.tolist()\n",
    "k_set = 0\n",
    "FSR = lm.LinearRegression()\n",
    "errors = {}\n",
    "current_selection = []\n",
    "\n",
    "def get_RMSE(test_X, Y, FSR):\n",
    "    FSR.fit(test_X,Y)\n",
    "    fitted = FSR.predict(test_X)\n",
    "    return mean_squared_error(Y, fitted)\n",
    "\n",
    "def get_n_best_features(errors):\n",
    "    n = 3\n",
    "    return nsmallest(n, errors, key = errors.get)\n",
    "\n",
    "\n",
    "for iteration in range(len(X_FSR.columns)+1):\n",
    "\n",
    "    if len(current_selection) == n_cols:\n",
    "        break\n",
    "    if iteration == 0:\n",
    "        for feature in cols_try:\n",
    "            errors[feature] = get_RMSE(X_FSR[feature].values.reshape(-1,1), Y, FSR)\n",
    "\n",
    "        best_features = get_n_best_features(errors)\n",
    "        cols_try = [x for x in cols_try if x not in best_features]\n",
    "        current_selection.extend(best_features)\n",
    "        k_set += len(best_features)\n",
    "        errors = {}\n",
    "        # print(k_set)\n",
    "        score, std = evaluate_cv_model(X_FSR[current_selection], Y)\n",
    "        # print(current_selection)\n",
    "        score_k[iteration,0] = k_set\n",
    "        score_k[iteration,1] = score\n",
    "        score_k[iteration,2] = std\n",
    "\n",
    "\n",
    "    else:\n",
    "        for feature in cols_try:\n",
    "            errors[feature] = get_RMSE(X_FSR[np.append(current_selection,feature)], Y, FSR)\n",
    "\n",
    "        best_features = get_n_best_features(errors)\n",
    "        cols_try = [x for x in cols_try if x not in best_features]\n",
    "        current_selection.extend(best_features)\n",
    "        k_set += len(best_features)\n",
    "        errors = {}\n",
    "        # print(k_set)\n",
    "        score, std = evaluate_cv_model(X_FSR[current_selection], Y)\n",
    "        # print(current_selection)\n",
    "        score_k[iteration,0] = k_set\n",
    "        score_k[iteration,1] = score\n",
    "        score_k[iteration,2] = std"
   ],
   "metadata": {
    "collapsed": false,
    "pycharm": {
     "name": "#%%\n"
    }
   }
  },
  {
   "cell_type": "code",
   "execution_count": 1454,
   "outputs": [
    {
     "data": {
      "text/plain": "array([ 7.24804032e-01,  7.67388857e-01,  7.64417185e-01,  7.71107756e-01,\n        7.79845439e-01,  7.92780375e-01,  8.02987980e-01,  8.04819234e-01,\n        8.11983880e-01,  8.01748049e-01,  8.04756942e-01,  8.09706537e-01,\n        8.09160016e-01,  8.08194549e-01,  8.07446197e-01,  8.10218868e-01,\n        8.09757218e-01,  8.12403920e-01,  8.12855012e-01,  8.12262966e-01,\n        8.10823943e-01,  8.13706737e-01,  8.11948178e-01,  8.11444832e-01,\n        8.08773714e-01,  8.09754827e-01,  8.10088281e-01,  8.09810877e-01,\n        8.11202795e-01,  8.09979850e-01,  8.10353032e-01,  8.08812332e-01,\n        8.08515048e-01,  8.08244878e-01,  8.08551111e-01,  8.10702398e-01,\n       -3.61899376e+09, -9.73643370e+07, -1.39764973e+00, -8.64948093e+08,\n       -1.09424034e+08,  7.94489992e-01, -1.12863381e+10,  7.89759397e-01,\n       -1.89077973e+03,  7.87707177e-01, -4.24281076e+08, -2.37699663e+01,\n       -7.22983338e+02, -6.49206724e+08, -3.06454615e+02, -5.32362666e+06,\n       -4.13620333e+06, -3.42052284e+09, -7.35499383e+07, -2.50530993e+09,\n       -1.09691692e+09, -1.32037658e+08, -6.40758837e+07, -2.65573964e+09,\n       -1.67211650e+07, -1.70394884e+07, -2.40116360e+08, -7.41001380e+08,\n       -6.39102405e+07, -1.64932073e+09, -1.17599359e+08, -1.02943831e+03,\n       -8.13661201e+08, -4.93963641e+02, -2.11006124e+09, -4.01346542e+09,\n       -5.04329522e+09, -3.93128178e+10, -7.52035241e+09, -3.01449924e+09,\n       -3.33002895e+09, -1.11394322e+10, -1.12292977e+11, -3.75992311e+09,\n       -1.48950307e+09, -2.50704215e+11, -8.88751930e+10, -1.93959869e+11,\n       -3.53154889e+09, -8.47814071e+10, -1.25048359e+10, -2.50573779e+10,\n       -3.04753167e+10, -4.91143244e+09, -5.54485925e+11, -4.87064528e+09,\n       -5.31220072e+10, -1.24509975e+11, -2.32087065e+10, -3.92603259e+11,\n       -4.15432948e+10, -2.73420002e+11, -1.70076105e+10, -8.98629967e+10,\n       -8.09033405e+10])"
     },
     "execution_count": 1454,
     "metadata": {},
     "output_type": "execute_result"
    }
   ],
   "source": [
    "score_k[0:101,1]"
   ],
   "metadata": {
    "collapsed": false,
    "pycharm": {
     "name": "#%%\n"
    }
   }
  },
  {
   "cell_type": "code",
   "execution_count": 1455,
   "outputs": [
    {
     "data": {
      "text/plain": "(0.0, 0.9)"
     },
     "execution_count": 1455,
     "metadata": {},
     "output_type": "execute_result"
    },
    {
     "data": {
      "text/plain": "<Figure size 432x288 with 1 Axes>",
      "image/png": "[encoded data removed]"
     },
     "metadata": {},
     "output_type": "display_data"
    }
   ],
   "source": [
    "fig2 = sns.scatterplot(score_k[:,0],score_k[:,1])\n",
    "fig2.set_ylim(0,0.9)"
   ],
   "metadata": {
    "collapsed": false,
    "pycharm": {
     "name": "#%%\n"
    }
   }
  },
  {
   "cell_type": "code",
   "execution_count": 1456,
   "outputs": [
    {
     "data": {
      "text/plain": "(0.0, 150.0)"
     },
     "execution_count": 1456,
     "metadata": {},
     "output_type": "execute_result"
    },
    {
     "data": {
      "text/plain": "<Figure size 432x288 with 1 Axes>",
      "image/png": "[encoded data removed]"
     },
     "metadata": {},
     "output_type": "display_data"
    }
   ],
   "source": [
    "plt.errorbar(score_k[:,0], score_k[:,1], yerr=score_k[:,2])\n",
    "plt.ylim(0.6, 0.9)\n",
    "plt.xlim(0,150)"
   ],
   "metadata": {
    "collapsed": false,
    "pycharm": {
     "name": "#%%\n"
    }
   }
  },
  {
   "cell_type": "code",
   "execution_count": 1457,
   "outputs": [
    {
     "name": "stdout",
     "output_type": "stream",
     "text": [
      "66\n",
      "0.813706737297308\n",
      "0.1710693271935716\n",
      "0.649381633051419\n",
      "['OverallQual', 'GrLivArea', 'GarageCars', 'BsmtQual_Ex', 'KitchenQual_Ex', 'BsmtFinSF1', 'RoofMatl_ClyTile', 'Neighborhood_NoRidge', 'Condition2_PosN', 'TotalBsmtSF', 'MSSubClass_20', 'SaleCondition_Partial', 'BsmtExposure_Gd', 'YearRemodAdd', 'KitchenAbvGr', 'Functional_Typ', 'Neighborhood_NridgHt', 'MSZoning_RM', 'RoofMatl_WdShngl', 'OverallCond', 'LotArea', 'YearBuilt', 'Neighborhood_StoneBr', 'BedroomAbvGr', 'Neighborhood_Crawfor', 'BldgType_1Fam', 'ExterQual_Ex', 'PoolQC_Ex', 'PoolArea', 'Neighborhood_Somerst', 'Exterior1st_BrkFace', 'SaleCondition_Abnorml', 'SaleCondition_Normal', 'BsmtExposure_No', 'Condition1_Norm', 'Neighborhood_BrkSide', 'Exterior2nd_VinylSd', 'Exterior1st_VinylSd', 'Functional_Sev', 'LowQualFinSF', 'GarageArea', 'Heating_OthW', 'GarageFinish_RFn', 'Street_Pave', 'Street_Grvl', 'Neighborhood_Mitchel', 'ScreenPorch', 'GarageQual_TA', 'GarageQual_Fa', 'PoolQC_Fa', 'Fence_GdPrv', 'PoolQC_Gd', 'HeatingQC_Ex', 'Neighborhood_Edwards', 'Neighborhood_NAmes', 'MSZoning_C (all)', 'MasVnrArea', 'MasVnrType_None', 'MasVnrType_BrkFace', 'TotRmsAbvGrd', 'ExterQual_Fa', 'RoofMatl_Membran', 'LotShape_IR1', 'LotConfig_CulDSac', 'BsmtFullBath', 'LandContour_HLS', 'Condition1_RRAe', 'LotFrontage', 'Neighborhood_NWAmes', 'HouseStyle_1Story', 'FullBath', 'Foundation_Slab', 'Foundation_Wood', 'GarageCond_TA', 'Exterior1st_Plywood', 'BsmtFinType2_ALQ', 'LandContour_Lvl', 'SaleType_WD', 'Exterior1st_CBlock', 'Exterior2nd_CBlock', 'Condition1_PosN', 'Exterior1st_HdBoard', 'Condition1_RRAn', 'Exterior2nd_HdBoard', 'Neighborhood_SawyerW', 'Exterior2nd_Wd Shng', 'GarageCond_Po', 'BsmtQual_Gd', 'Foundation_Stone', 'ExterCond_Gd', 'Fence_MnPrv', 'WoodDeckSF', 'HalfBath', 'BsmtQual_TA', 'Electrical_SBrkr', 'EnclosedPorch', 'LotConfig_FR3', 'BsmtFinType2_GLQ', 'BsmtFinType1_LwQ', 'Exterior2nd_Stone', 'Neighborhood_NPkVill', 'BsmtFinType1_ALQ', 'BsmtFinType1_Rec', 'SaleType_ConLD', 'Neighborhood_OldTown', 'BldgType_Twnhs', 'HouseStyle_2Story', 'SaleCondition_Family', 'MSSubClass_70', '1stFlrSF', '2ndFlrSF', 'HouseStyle_2.5Fin', 'Neighborhood_SWISU', 'MSZoning_FV', 'Exterior2nd_ImStucc', 'FireplaceQu_Po', 'HouseStyle_1.5Unf', 'BsmtCond_Fa', 'MasVnrType_Stone', 'MSSubClass_120', 'GarageType_BuiltIn', 'LotShape_Reg', 'Foundation_BrkTil', 'Neighborhood_Blmngtn', 'Functional_Mod', 'RoofStyle_Flat', 'MSSubClass_60', 'MSSubClass_85', 'ExterCond_Ex', 'GarageType_Attchd', 'GarageQual_Ex', 'BsmtQual_Fa', 'GarageCond_Ex', 'Neighborhood_Blueste', 'GarageType_2Types', 'GarageType_Detchd', '3SsnPorch', 'RoofStyle_Hip', 'LotConfig_FR2', 'Exterior2nd_Other', 'Condition2_Artery', 'Condition1_Artery', 'LandContour_Bnk', 'LandContour_Low', 'MiscFeature_TenC', 'Electrical_Mix', 'BsmtCond_Gd', 'Functional_Maj2', 'Condition1_RRNn', 'Neighborhood_IDOTRR', 'MSSubClass_180', 'HeatingQC_Fa', 'MiscFeature_Othr', 'Neighborhood_Sawyer', 'Condition2_RRAe', 'Condition2_PosA', 'RoofStyle_Shed', 'MSSubClass_75', 'MSSubClass_30', 'LandSlope_Sev', 'Fence_MnWw', 'GarageCond_Gd', 'MiscFeature_Shed', 'BsmtCond_Po', 'BsmtCond_TA', 'ExterQual_Gd', 'ExterQual_TA', 'BsmtFinType1_BLQ', 'CentralAir_N', 'CentralAir_Y', 'Neighborhood_Veenker', 'FireplaceQu_Ex', 'MoSold', 'LandSlope_Gtl', 'BldgType_2fmCon', 'MSSubClass_190', 'Exterior1st_AsphShn', 'Exterior2nd_AsphShn', 'Condition2_RRAn', 'Exterior2nd_Stucco', 'LotConfig_Corner', 'LotConfig_Inside', 'GarageQual_Gd', 'Heating_Grav', 'Alley_Grvl', 'SaleType_ConLw', 'OpenPorchSF', 'RoofMatl_WdShake', 'Heating_Wall', 'RoofStyle_Mansard', 'BsmtExposure_Av', 'BsmtExposure_Mn', 'Fireplaces', 'Fence_GdWo', 'Exterior1st_Stone', 'Neighborhood_BrDale', 'HeatingQC_Po', 'FireplaceQu_Fa', 'FireplaceQu_TA', 'PavedDrive_P', 'GarageQual_Po', 'FireplaceQu_Gd', 'MSSubClass_160', 'Electrical_FuseP', 'SaleCondition_AdjLand', 'SaleCondition_Alloca', 'LotShape_IR2', 'YrSold', 'MSSubClass_45', 'HouseStyle_1.5Fin', 'Functional_Maj1', 'Condition2_Feedr', 'Condition2_Norm', 'Exterior2nd_AsbShng', 'BsmtHalfBath', 'MSSubClass_50', 'BsmtFinSF2', 'BsmtUnfSF', 'HeatingQC_Gd', 'BsmtFinType2_Unf', 'BsmtFinType2_LwQ', 'SaleType_CWD', 'Neighborhood_ClearCr', 'HouseStyle_2.5Unf', 'BsmtFinType2_Rec', 'BsmtFinType2_BLQ', 'Exterior2nd_BrkFace', 'Exterior1st_Stucco', 'Exterior1st_WdShing', 'Electrical_FuseF', 'Condition1_PosA', 'Heating_GasA', 'Electrical_FuseA', 'Exterior1st_ImStucc', 'RoofMatl_Tar&Grv', 'SaleType_Oth', 'RoofMatl_CompShg', 'ExterCond_Po', 'Exterior1st_BrkComm', 'ExterCond_Fa', 'Exterior2nd_Plywood', 'Exterior1st_MetalSd', 'MasVnrType_BrkCmn', 'Exterior2nd_MetalSd', 'Exterior2nd_CmentBd', 'HouseStyle_SLvl', 'Exterior1st_CemntBd', 'Exterior1st_Wd Sdng', 'BldgType_TwnhsE', 'Neighborhood_Timber', 'Functional_Min1', 'Functional_Min2', 'Exterior2nd_Brk Cmn', 'Exterior2nd_Wd Sdng', 'Heating_Floor', 'BsmtFinType1_Unf', 'BsmtFinType1_GLQ', 'SaleType_Con', 'PavedDrive_Y', 'PavedDrive_N', 'MiscFeature_Gar2', 'Foundation_CBlock', 'Neighborhood_Gilbert', 'SaleType_New', 'MSSubClass_80', 'MSZoning_RH', 'KitchenQual_Gd', 'MiscVal', 'KitchenQual_Fa', 'KitchenQual_TA', 'Condition1_RRNe', 'Condition1_Feedr', 'Neighborhood_MeadowV', 'LandSlope_Mod', 'GarageYrBlt', 'GarageType_Basment', 'SaleType_ConLI', 'SaleType_COD', 'HouseStyle_SFoyer', 'HeatingQC_TA', 'GarageFinish_Unf', 'GarageFinish_Fin', 'Foundation_PConc', 'GarageType_CarPort', 'GarageCond_Fa', 'ExterCond_TA', 'RoofStyle_Gambrel', 'Alley_Pave', 'Utilities_AllPub', 'Utilities_NoSeWa', 'Condition2_RRNn', 'MSZoning_RL', 'BldgType_Duplex', 'RoofMatl_Metal', 'Exterior1st_AsbShng', 'RoofStyle_Gable', 'LotShape_IR3', 'Heating_GasW', 'Neighborhood_CollgCr', 'MSSubClass_90', 'MSSubClass_40', 'RoofMatl_Roll']\n"
     ]
    }
   ],
   "source": [
    "max_FSR = score_k[np.argmax(score_k[:,1]),:]\n",
    "print(np.int(max_FSR[0]))\n",
    "print(max_FSR[1])\n",
    "print(max_FSR[2])\n",
    "print(max_FSR[1] - max_BSR[2])\n",
    "print(current_selection)"
   ],
   "metadata": {
    "collapsed": false,
    "pycharm": {
     "name": "#%%\n"
    }
   }
  },
  {
   "cell_type": "markdown",
   "source": [
    "The optimum appears to be 0.81 @66 features, however the rule of thumb tells us that 0.65 is sufficient. This\n",
    "can be achieved with actually only one feature, Overall Quality. Again, the reason being is that the cross validation\n",
    "error is extremely high. There are some folds in the data that seem to have massive error, making our estimates of\n",
    "R^2 score effectively meaningless. This appears to be a big limitation of the CV error rule of thumb estimate."
   ],
   "metadata": {
    "collapsed": false,
    "pycharm": {
     "name": "#%% md\n"
    }
   }
  },
  {
   "cell_type": "markdown",
   "source": [
    "Trying only one feature:"
   ],
   "metadata": {
    "collapsed": false,
    "pycharm": {
     "name": "#%% md\n"
    }
   }
  },
  {
   "cell_type": "code",
   "execution_count": 1458,
   "outputs": [
    {
     "data": {
      "text/plain": "0.6255725557689975"
     },
     "execution_count": 1458,
     "metadata": {},
     "output_type": "execute_result"
    }
   ],
   "source": [
    "FSR = lm.LinearRegression()\n",
    "FSR.fit(X['OverallQual'].values.reshape(-1, 1), Y)\n",
    "Y_pred = FSR.predict(X_test['OverallQual'].values.reshape(-1, 1))\n",
    "r2_score(Y_test, Y_pred)"
   ],
   "metadata": {
    "collapsed": false,
    "pycharm": {
     "name": "#%%\n"
    }
   }
  },
  {
   "cell_type": "markdown",
   "source": [
    "The score is not great either, for the same reasons as in BSR. However, we do know that it is not overfitting the data\n",
    "as much as full subset OLS."
   ],
   "metadata": {
    "collapsed": false,
    "pycharm": {
     "name": "#%% md\n"
    }
   }
  },
  {
   "cell_type": "markdown",
   "source": [
    "Adding quadratic features"
   ],
   "metadata": {
    "collapsed": false,
    "pycharm": {
     "name": "#%% md\n"
    }
   }
  },
  {
   "cell_type": "code",
   "execution_count": 1459,
   "outputs": [
    {
     "data": {
      "text/plain": "(1168, 46056)"
     },
     "execution_count": 1459,
     "metadata": {},
     "output_type": "execute_result"
    }
   ],
   "source": [
    "quadratic = PolynomialFeatures(degree=2)\n",
    "\n",
    "quadratic.fit(X)\n",
    "X = quadratic.transform(X)\n",
    "X_test = quadratic.transform(X_test)\n",
    "\n",
    "quadratic.fit(X_non_norm)\n",
    "X_non_norm = quadratic.transform(X_non_norm)\n",
    "X_test_non_norm = quadratic.transform(X_test_non_norm)\n",
    "\n",
    "np.shape(X)"
   ],
   "metadata": {
    "collapsed": false,
    "pycharm": {
     "name": "#%%\n"
    }
   }
  },
  {
   "cell_type": "code",
   "source": [
    "lin_reg = lm.LinearRegression().fit(X, Y)\n",
    "lin_pred = lin_reg.predict(X_test)\n",
    "# lin_reg.score(test_norm.drop(['SalePrice'], axis=1), test_norm['SalePrice'])\n",
    "r2_score(Y_test, lin_pred)"
   ],
   "metadata": {
    "collapsed": false,
    "pycharm": {
     "name": "#%% Predicting values OLS and finding R^2 value\n"
    }
   },
   "execution_count": 1460,
   "outputs": [
    {
     "data": {
      "text/plain": "0.7474313794179943"
     },
     "execution_count": 1460,
     "metadata": {},
     "output_type": "execute_result"
    }
   ]
  },
  {
   "cell_type": "markdown",
   "source": [
    "OLS is slightly lower score with quadratic features. Likely overfitting the high amount of features."
   ],
   "metadata": {
    "collapsed": false
   }
  },
  {
   "cell_type": "markdown",
   "source": [
    "Performing KNN with GridSearchCV:"
   ],
   "metadata": {
    "collapsed": false
   }
  },
  {
   "cell_type": "code",
   "execution_count": 1461,
   "outputs": [
    {
     "name": "stdout",
     "output_type": "stream",
     "text": [
      "{'n_neighbors': 2}\n",
      "0.5336591823545344\n",
      "0.12174820953358002\n"
     ]
    }
   ],
   "source": [
    "knn_reg = KNeighborsRegressor()\n",
    "param_grid = {'n_neighbors': np.arange(1, 15)}\n",
    "knn_grid_cv = ms.GridSearchCV(knn_reg, param_grid, cv=10)\n",
    "knn_grid_cv.fit(X, Y)\n",
    "print(knn_grid_cv.best_params_)\n",
    "print(knn_grid_cv.best_score_)\n",
    "knn_cv_table = pd.DataFrame(knn_grid_cv.cv_results_)\n",
    "error = knn_cv_table['std_test_score'].iloc[knn_grid_cv.best_index_]\n",
    "print(error)"
   ],
   "metadata": {
    "collapsed": false,
    "pycharm": {
     "name": "#%%\n"
    }
   }
  },
  {
   "cell_type": "code",
   "execution_count": 1462,
   "outputs": [
    {
     "name": "stdout",
     "output_type": "stream",
     "text": [
      "0.41191097282095435\n"
     ]
    },
    {
     "data": {
      "text/plain": "   param_n_neighbors  mean_test_score\n0                  1         0.422811\n1                  2         0.533659\n2                  3         0.531930\n3                  4         0.520597\n4                  5         0.506649\n5                  6         0.482345\n6                  7         0.467958\n7                  8         0.453898\n8                  9         0.434273\n9                 10         0.419833\n10                11         0.404954\n11                12         0.393758\n12                13         0.384307\n13                14         0.373817",
      "text/html": "<div>\n<style scoped>\n    .dataframe tbody tr th:only-of-type {\n        vertical-align: middle;\n    }\n\n    .dataframe tbody tr th {\n        vertical-align: top;\n    }\n\n    .dataframe thead th {\n        text-align: right;\n    }\n</style>\n<table border=\"1\" class=\"dataframe\">\n  <thead>\n    <tr style=\"text-align: right;\">\n      <th></th>\n      <th>param_n_neighbors</th>\n      <th>mean_test_score</th>\n    </tr>\n  </thead>\n  <tbody>\n    <tr>\n      <th>0</th>\n      <td>1</td>\n      <td>0.422811</td>\n    </tr>\n    <tr>\n      <th>1</th>\n      <td>2</td>\n      <td>0.533659</td>\n    </tr>\n    <tr>\n      <th>2</th>\n      <td>3</td>\n      <td>0.531930</td>\n    </tr>\n    <tr>\n      <th>3</th>\n      <td>4</td>\n      <td>0.520597</td>\n    </tr>\n    <tr>\n      <th>4</th>\n      <td>5</td>\n      <td>0.506649</td>\n    </tr>\n    <tr>\n      <th>5</th>\n      <td>6</td>\n      <td>0.482345</td>\n    </tr>\n    <tr>\n      <th>6</th>\n      <td>7</td>\n      <td>0.467958</td>\n    </tr>\n    <tr>\n      <th>7</th>\n      <td>8</td>\n      <td>0.453898</td>\n    </tr>\n    <tr>\n      <th>8</th>\n      <td>9</td>\n      <td>0.434273</td>\n    </tr>\n    <tr>\n      <th>9</th>\n      <td>10</td>\n      <td>0.419833</td>\n    </tr>\n    <tr>\n      <th>10</th>\n      <td>11</td>\n      <td>0.404954</td>\n    </tr>\n    <tr>\n      <th>11</th>\n      <td>12</td>\n      <td>0.393758</td>\n    </tr>\n    <tr>\n      <th>12</th>\n      <td>13</td>\n      <td>0.384307</td>\n    </tr>\n    <tr>\n      <th>13</th>\n      <td>14</td>\n      <td>0.373817</td>\n    </tr>\n  </tbody>\n</table>\n</div>"
     },
     "metadata": {},
     "output_type": "display_data"
    }
   ],
   "source": [
    "accept = knn_grid_cv.best_score_ - error\n",
    "print(accept)\n",
    "display(knn_cv_table.loc[:,['param_n_neighbors','mean_test_score']])"
   ],
   "metadata": {
    "collapsed": false,
    "pycharm": {
     "name": "#%%\n"
    }
   }
  },
  {
   "cell_type": "markdown",
   "source": [
    "It appears that 2 neighbours gives us the best score at 0.53. Acceptable is 0.41. k=1 appears optimal. Of course,\n",
    "this is only because of all the overfitting."
   ],
   "metadata": {
    "collapsed": false
   }
  },
  {
   "cell_type": "markdown",
   "source": [
    "Trying this model with k=1"
   ],
   "metadata": {
    "collapsed": false
   }
  },
  {
   "cell_type": "code",
   "execution_count": 1463,
   "outputs": [
    {
     "data": {
      "text/plain": "0.5705008823109943"
     },
     "execution_count": 1463,
     "metadata": {},
     "output_type": "execute_result"
    }
   ],
   "source": [
    "knn_reg = KNeighborsRegressor(n_neighbors=1)\n",
    "knn_reg.fit(X,Y)\n",
    "Y_pred = knn_reg.predict(X_test)\n",
    "r2_score(Y_test, Y_pred)"
   ],
   "metadata": {
    "collapsed": false,
    "pycharm": {
     "name": "#%%\n"
    }
   }
  },
  {
   "cell_type": "markdown",
   "source": [
    "The model performs substantially worse than linear OLS. The limits of dimensionality while using KNN is apparent here."
   ],
   "metadata": {
    "collapsed": false,
    "pycharm": {
     "name": "#%% md\n"
    }
   }
  },
  {
   "cell_type": "markdown",
   "source": [
    "Performing Ridge regression with GridSearchCV. Number of parameters reduced for speed."
   ],
   "metadata": {
    "collapsed": false
   }
  },
  {
   "cell_type": "code",
   "execution_count": 1464,
   "outputs": [],
   "source": [
    "# ridge_reg = lm.RidgeCV(alphas=np.linspace(0.001,1000,30), cv=10)\n",
    "# ridge_reg.fit(X, Y)\n",
    "# print(ridge_reg.best_score_)\n",
    "# print(ridge_reg.alpha_)"
   ],
   "metadata": {
    "collapsed": false,
    "pycharm": {
     "name": "#%% Using RidgeCV (using GridSearchCV instead)\n"
    }
   }
  },
  {
   "cell_type": "code",
   "execution_count": 1465,
   "outputs": [
    {
     "name": "stdout",
     "output_type": "stream",
     "text": [
      "{'alpha': 71428.57235714285}\n",
      "0.6612651661924351\n",
      "1\n",
      "0.15320456590894932\n"
     ]
    }
   ],
   "source": [
    "ridge_reg = lm.Ridge()\n",
    "param_grid = {'alpha': np.linspace(0.001,1000000,15)}\n",
    "ridge_grid_cv = ms.GridSearchCV(ridge_reg, param_grid, cv=10)\n",
    "ridge_grid_cv.fit(X, Y)\n",
    "print(ridge_grid_cv.best_params_)\n",
    "print(ridge_grid_cv.best_score_)\n",
    "print(ridge_grid_cv.best_index_)\n",
    "ridge_cv_table = pd.DataFrame(ridge_grid_cv.cv_results_)\n",
    "error = ridge_cv_table['std_test_score'].iloc[ridge_grid_cv.best_index_]\n",
    "print(error)"
   ],
   "metadata": {
    "collapsed": false,
    "pycharm": {
     "name": "#%% Using GridSearch CV\n"
    }
   }
  },
  {
   "cell_type": "code",
   "execution_count": 1466,
   "outputs": [
    {
     "name": "stdout",
     "output_type": "stream",
     "text": [
      "0.5080606002834858\n"
     ]
    },
    {
     "data": {
      "text/plain": "      param_alpha  mean_test_score\n0           0.001         0.658305\n1    71428.572357         0.661265\n2   142857.143714         0.597834\n3   214285.715071         0.545649\n4   285714.286429         0.502259\n5   357142.857786         0.465578\n6   428571.429143         0.434116\n7     500000.0005         0.406798\n8   571428.571857         0.382832\n9   642857.143214         0.361617\n10  714285.714571         0.342691\n11  785714.285929         0.325693\n12  857142.857286         0.310334\n13  928571.428643         0.296382\n14      1000000.0         0.283646",
      "text/html": "<div>\n<style scoped>\n    .dataframe tbody tr th:only-of-type {\n        vertical-align: middle;\n    }\n\n    .dataframe tbody tr th {\n        vertical-align: top;\n    }\n\n    .dataframe thead th {\n        text-align: right;\n    }\n</style>\n<table border=\"1\" class=\"dataframe\">\n  <thead>\n    <tr style=\"text-align: right;\">\n      <th></th>\n      <th>param_alpha</th>\n      <th>mean_test_score</th>\n    </tr>\n  </thead>\n  <tbody>\n    <tr>\n      <th>0</th>\n      <td>0.001</td>\n      <td>0.658305</td>\n    </tr>\n    <tr>\n      <th>1</th>\n      <td>71428.572357</td>\n      <td>0.661265</td>\n    </tr>\n    <tr>\n      <th>2</th>\n      <td>142857.143714</td>\n      <td>0.597834</td>\n    </tr>\n    <tr>\n      <th>3</th>\n      <td>214285.715071</td>\n      <td>0.545649</td>\n    </tr>\n    <tr>\n      <th>4</th>\n      <td>285714.286429</td>\n      <td>0.502259</td>\n    </tr>\n    <tr>\n      <th>5</th>\n      <td>357142.857786</td>\n      <td>0.465578</td>\n    </tr>\n    <tr>\n      <th>6</th>\n      <td>428571.429143</td>\n      <td>0.434116</td>\n    </tr>\n    <tr>\n      <th>7</th>\n      <td>500000.0005</td>\n      <td>0.406798</td>\n    </tr>\n    <tr>\n      <th>8</th>\n      <td>571428.571857</td>\n      <td>0.382832</td>\n    </tr>\n    <tr>\n      <th>9</th>\n      <td>642857.143214</td>\n      <td>0.361617</td>\n    </tr>\n    <tr>\n      <th>10</th>\n      <td>714285.714571</td>\n      <td>0.342691</td>\n    </tr>\n    <tr>\n      <th>11</th>\n      <td>785714.285929</td>\n      <td>0.325693</td>\n    </tr>\n    <tr>\n      <th>12</th>\n      <td>857142.857286</td>\n      <td>0.310334</td>\n    </tr>\n    <tr>\n      <th>13</th>\n      <td>928571.428643</td>\n      <td>0.296382</td>\n    </tr>\n    <tr>\n      <th>14</th>\n      <td>1000000.0</td>\n      <td>0.283646</td>\n    </tr>\n  </tbody>\n</table>\n</div>"
     },
     "metadata": {},
     "output_type": "display_data"
    }
   ],
   "source": [
    "accept = ridge_grid_cv.best_score_ - error\n",
    "print(accept)\n",
    "display(ridge_cv_table.loc[0:20,['param_alpha','mean_test_score']])\n",
    "# print(ridge_cv_table[(ridge_cv_table['mean_test_score'] <= accept) & (ridge_cv_table.index > ridge_grid_cv.best_index_)].iloc[0])"
   ],
   "metadata": {
    "collapsed": false,
    "pycharm": {
     "name": "#%% Standard Error\n"
    }
   }
  },
  {
   "cell_type": "markdown",
   "source": [
    "Our best score here is with lambda = very large. Rule of thumb tells us that the best lambda is about 214000\n"
   ],
   "metadata": {
    "collapsed": false
   }
  },
  {
   "cell_type": "markdown",
   "source": [
    "Trying this model with lambda = 214000"
   ],
   "metadata": {
    "collapsed": false
   }
  },
  {
   "cell_type": "code",
   "execution_count": 1467,
   "outputs": [
    {
     "data": {
      "text/plain": "0.6191475191708875"
     },
     "execution_count": 1467,
     "metadata": {},
     "output_type": "execute_result"
    }
   ],
   "source": [
    "ridge = lm.Ridge(alpha = 214000)\n",
    "ridge.fit(X,Y)\n",
    "Y_pred = ridge.predict(X_test)\n",
    "r2_score(Y_test, Y_pred)"
   ],
   "metadata": {
    "collapsed": false,
    "pycharm": {
     "name": "#%%\n"
    }
   }
  },
  {
   "cell_type": "markdown",
   "source": [
    "Somewhat poor performance again, especially compared to the linear model. But it is better due to regularization"
   ],
   "metadata": {
    "collapsed": false,
    "pycharm": {
     "name": "#%% md\n"
    }
   }
  },
  {
   "cell_type": "markdown",
   "source": [
    "Performing Lasso regression with GridSearchCV"
   ],
   "metadata": {
    "collapsed": false
   }
  },
  {
   "cell_type": "code",
   "execution_count": 1468,
   "outputs": [
    {
     "name": "stdout",
     "output_type": "stream",
     "text": [
      "{'alpha': 11428.572142857143}\n",
      "0.7498468989928895\n",
      "4\n",
      "0.1269213358663899\n"
     ]
    }
   ],
   "source": [
    "lasso_reg = lm.Lasso()\n",
    "param_grid = {'alpha': np.linspace(0.001,40000,15)}\n",
    "lasso_grid_cv = ms.GridSearchCV(lasso_reg, param_grid, cv=10)\n",
    "lasso_grid_cv.fit(X, Y)\n",
    "print(lasso_grid_cv.best_params_)\n",
    "print(lasso_grid_cv.best_score_)\n",
    "print(lasso_grid_cv.best_index_)\n",
    "lasso_cv_table = pd.DataFrame(lasso_grid_cv.cv_results_)\n",
    "error = lasso_cv_table['std_test_score'].iloc[lasso_grid_cv.best_index_]\n",
    "print(error)"
   ],
   "metadata": {
    "collapsed": false,
    "pycharm": {
     "name": "#%%\n"
    }
   }
  },
  {
   "cell_type": "code",
   "execution_count": 1469,
   "outputs": [
    {
     "name": "stdout",
     "output_type": "stream",
     "text": [
      "0.6229255631264996\n"
     ]
    },
    {
     "data": {
      "text/plain": "     param_alpha  mean_test_score\n0          0.001      -101.675376\n1    2857.143786         0.639095\n2    5714.286571         0.676692\n3    8571.429357         0.728859\n4   11428.572143         0.749847\n5   14285.714929         0.737036\n6   17142.857714         0.708343\n7     20000.0005         0.675373\n8   22857.143286         0.637929\n9   25714.286071         0.596218\n10  28571.428857         0.564018\n11  31428.571643         0.544617\n12  34285.714429         0.524713\n13  37142.857214         0.505995\n14       40000.0         0.488002",
      "text/html": "<div>\n<style scoped>\n    .dataframe tbody tr th:only-of-type {\n        vertical-align: middle;\n    }\n\n    .dataframe tbody tr th {\n        vertical-align: top;\n    }\n\n    .dataframe thead th {\n        text-align: right;\n    }\n</style>\n<table border=\"1\" class=\"dataframe\">\n  <thead>\n    <tr style=\"text-align: right;\">\n      <th></th>\n      <th>param_alpha</th>\n      <th>mean_test_score</th>\n    </tr>\n  </thead>\n  <tbody>\n    <tr>\n      <th>0</th>\n      <td>0.001</td>\n      <td>-101.675376</td>\n    </tr>\n    <tr>\n      <th>1</th>\n      <td>2857.143786</td>\n      <td>0.639095</td>\n    </tr>\n    <tr>\n      <th>2</th>\n      <td>5714.286571</td>\n      <td>0.676692</td>\n    </tr>\n    <tr>\n      <th>3</th>\n      <td>8571.429357</td>\n      <td>0.728859</td>\n    </tr>\n    <tr>\n      <th>4</th>\n      <td>11428.572143</td>\n      <td>0.749847</td>\n    </tr>\n    <tr>\n      <th>5</th>\n      <td>14285.714929</td>\n      <td>0.737036</td>\n    </tr>\n    <tr>\n      <th>6</th>\n      <td>17142.857714</td>\n      <td>0.708343</td>\n    </tr>\n    <tr>\n      <th>7</th>\n      <td>20000.0005</td>\n      <td>0.675373</td>\n    </tr>\n    <tr>\n      <th>8</th>\n      <td>22857.143286</td>\n      <td>0.637929</td>\n    </tr>\n    <tr>\n      <th>9</th>\n      <td>25714.286071</td>\n      <td>0.596218</td>\n    </tr>\n    <tr>\n      <th>10</th>\n      <td>28571.428857</td>\n      <td>0.564018</td>\n    </tr>\n    <tr>\n      <th>11</th>\n      <td>31428.571643</td>\n      <td>0.544617</td>\n    </tr>\n    <tr>\n      <th>12</th>\n      <td>34285.714429</td>\n      <td>0.524713</td>\n    </tr>\n    <tr>\n      <th>13</th>\n      <td>37142.857214</td>\n      <td>0.505995</td>\n    </tr>\n    <tr>\n      <th>14</th>\n      <td>40000.0</td>\n      <td>0.488002</td>\n    </tr>\n  </tbody>\n</table>\n</div>"
     },
     "metadata": {},
     "output_type": "display_data"
    }
   ],
   "source": [
    "accept = lasso_grid_cv.best_score_ - error\n",
    "print(accept)\n",
    "display(lasso_cv_table.loc[0:15,['param_alpha','mean_test_score']])\n",
    "# print(lasso_cv_table[(lasso_cv_table['mean_test_score'] <= accept) & (lasso_cv_table.index > lasso_grid_cv.best_index_)].iloc[0])\n",
    "# lasso_cv_table[['param_alpha', 'mean_test_score']].iloc[30]"
   ],
   "metadata": {
    "collapsed": false,
    "pycharm": {
     "name": "#%% Standard Error\n"
    }
   }
  },
  {
   "cell_type": "markdown",
   "source": [
    "Best score is at lambda ~ 14000. Optimal rule of thumb: 22000"
   ],
   "metadata": {
    "collapsed": false
   }
  },
  {
   "cell_type": "markdown",
   "source": [
    "Trying this model with lambda = 22000"
   ],
   "metadata": {
    "collapsed": false
   }
  },
  {
   "cell_type": "code",
   "execution_count": 1470,
   "outputs": [
    {
     "data": {
      "text/plain": "0.6655898762575876"
     },
     "execution_count": 1470,
     "metadata": {},
     "output_type": "execute_result"
    }
   ],
   "source": [
    "lasso2 = lm.Lasso(alpha=22000)\n",
    "lasso2.fit(X,Y)\n",
    "Y_pred = lasso2.predict(X_test)\n",
    "r2_score(Y_test, Y_pred)"
   ],
   "metadata": {
    "collapsed": false,
    "pycharm": {
     "name": "#%%\n"
    }
   }
  },
  {
   "cell_type": "markdown",
   "source": [
    "The model performs okay due to the regularization of numerous features, simplifying the model."
   ],
   "metadata": {
    "collapsed": false,
    "pycharm": {
     "name": "#%% md\n"
    }
   }
  },
  {
   "cell_type": "markdown",
   "source": [
    "Linear Lasso coefficients:"
   ],
   "metadata": {
    "collapsed": false,
    "pycharm": {
     "name": "#%% md\n"
    }
   }
  },
  {
   "cell_type": "code",
   "execution_count": 1477,
   "outputs": [
    {
     "data": {
      "text/plain": "array(['OverallQual', 'TotalBsmtSF', '1stFlrSF', 'GrLivArea',\n       'GarageCars', 'GarageArea', 'BsmtQual_Ex'], dtype=object)"
     },
     "execution_count": 1477,
     "metadata": {},
     "output_type": "execute_result"
    }
   ],
   "source": [
    "retained = np.nonzero(lasso.coef_)\n",
    "columns[[retained]][0]"
   ],
   "metadata": {
    "collapsed": false,
    "pycharm": {
     "name": "#%%\n"
    }
   }
  },
  {
   "cell_type": "markdown",
   "source": [
    "We can see that only the above features are being retained. This somewhat makes sense. Overall Quality, 1st Flr Area,\n",
    "Basement Area, etc. all seem somewhat important to house valuation. Of course, this does not agree with our stepwise\n",
    "models, the reason being the high CV error throwing off our subset selection.\n",
    "\n",
    "I predicted that Overall Quality and 1st Flr Area would be important, and was correct in that."
   ],
   "metadata": {
    "collapsed": false,
    "pycharm": {
     "name": "#%% md\n"
    }
   }
  },
  {
   "cell_type": "markdown",
   "source": [
    "Although Linear OLS performed the best, I will elect to use Ridge Regression with lambda = 7879 to prevent overfitting."
   ],
   "metadata": {
    "collapsed": false,
    "pycharm": {
     "name": "#%% md\n"
    }
   }
  },
  {
   "cell_type": "markdown",
   "source": [
    "Training on our entire set of data."
   ],
   "metadata": {
    "collapsed": false,
    "pycharm": {
     "name": "#%% md\n"
    }
   }
  },
  {
   "cell_type": "code",
   "execution_count": 1484,
   "outputs": [
    {
     "data": {
      "text/plain": "        Id  MSSubClass MSZoning  LotFrontage  LotArea Street Alley LotShape  \\\n0        1          60       RL         65.0     8450   Pave   NaN      Reg   \n1        2          20       RL         80.0     9600   Pave   NaN      Reg   \n2        3          60       RL         68.0    11250   Pave   NaN      IR1   \n3        4          70       RL         60.0     9550   Pave   NaN      IR1   \n4        5          60       RL         84.0    14260   Pave   NaN      IR1   \n...    ...         ...      ...          ...      ...    ...   ...      ...   \n1455  1456          60       RL         62.0     7917   Pave   NaN      Reg   \n1456  1457          20       RL         85.0    13175   Pave   NaN      Reg   \n1457  1458          70       RL         66.0     9042   Pave   NaN      Reg   \n1458  1459          20       RL         68.0     9717   Pave   NaN      Reg   \n1459  1460          20       RL         75.0     9937   Pave   NaN      Reg   \n\n     LandContour Utilities  ... PoolArea PoolQC  Fence MiscFeature MiscVal  \\\n0            Lvl    AllPub  ...        0    NaN    NaN         NaN       0   \n1            Lvl    AllPub  ...        0    NaN    NaN         NaN       0   \n2            Lvl    AllPub  ...        0    NaN    NaN         NaN       0   \n3            Lvl    AllPub  ...        0    NaN    NaN         NaN       0   \n4            Lvl    AllPub  ...        0    NaN    NaN         NaN       0   \n...          ...       ...  ...      ...    ...    ...         ...     ...   \n1455         Lvl    AllPub  ...        0    NaN    NaN         NaN       0   \n1456         Lvl    AllPub  ...        0    NaN  MnPrv         NaN       0   \n1457         Lvl    AllPub  ...        0    NaN  GdPrv        Shed    2500   \n1458         Lvl    AllPub  ...        0    NaN    NaN         NaN       0   \n1459         Lvl    AllPub  ...        0    NaN    NaN         NaN       0   \n\n     MoSold YrSold  SaleType  SaleCondition  SalePrice  \n0         2   2008        WD         Normal     208500  \n1         5   2007        WD         Normal     181500  \n2         9   2008        WD         Normal     223500  \n3         2   2006        WD        Abnorml     140000  \n4        12   2008        WD         Normal     250000  \n...     ...    ...       ...            ...        ...  \n1455      8   2007        WD         Normal     175000  \n1456      2   2010        WD         Normal     210000  \n1457      5   2010        WD         Normal     266500  \n1458      4   2010        WD         Normal     142125  \n1459      6   2008        WD         Normal     147500  \n\n[1460 rows x 81 columns]",
      "text/html": "<div>\n<style scoped>\n    .dataframe tbody tr th:only-of-type {\n        vertical-align: middle;\n    }\n\n    .dataframe tbody tr th {\n        vertical-align: top;\n    }\n\n    .dataframe thead th {\n        text-align: right;\n    }\n</style>\n<table border=\"1\" class=\"dataframe\">\n  <thead>\n    <tr style=\"text-align: right;\">\n      <th></th>\n      <th>Id</th>\n      <th>MSSubClass</th>\n      <th>MSZoning</th>\n      <th>LotFrontage</th>\n      <th>LotArea</th>\n      <th>Street</th>\n      <th>Alley</th>\n      <th>LotShape</th>\n      <th>LandContour</th>\n      <th>Utilities</th>\n      <th>...</th>\n      <th>PoolArea</th>\n      <th>PoolQC</th>\n      <th>Fence</th>\n      <th>MiscFeature</th>\n      <th>MiscVal</th>\n      <th>MoSold</th>\n      <th>YrSold</th>\n      <th>SaleType</th>\n      <th>SaleCondition</th>\n      <th>SalePrice</th>\n    </tr>\n  </thead>\n  <tbody>\n    <tr>\n      <th>0</th>\n      <td>1</td>\n      <td>60</td>\n      <td>RL</td>\n      <td>65.0</td>\n      <td>8450</td>\n      <td>Pave</td>\n      <td>NaN</td>\n      <td>Reg</td>\n      <td>Lvl</td>\n      <td>AllPub</td>\n      <td>...</td>\n      <td>0</td>\n      <td>NaN</td>\n      <td>NaN</td>\n      <td>NaN</td>\n      <td>0</td>\n      <td>2</td>\n      <td>2008</td>\n      <td>WD</td>\n      <td>Normal</td>\n      <td>208500</td>\n    </tr>\n    <tr>\n      <th>1</th>\n      <td>2</td>\n      <td>20</td>\n      <td>RL</td>\n      <td>80.0</td>\n      <td>9600</td>\n      <td>Pave</td>\n      <td>NaN</td>\n      <td>Reg</td>\n      <td>Lvl</td>\n      <td>AllPub</td>\n      <td>...</td>\n      <td>0</td>\n      <td>NaN</td>\n      <td>NaN</td>\n      <td>NaN</td>\n      <td>0</td>\n      <td>5</td>\n      <td>2007</td>\n      <td>WD</td>\n      <td>Normal</td>\n      <td>181500</td>\n    </tr>\n    <tr>\n      <th>2</th>\n      <td>3</td>\n      <td>60</td>\n      <td>RL</td>\n      <td>68.0</td>\n      <td>11250</td>\n      <td>Pave</td>\n      <td>NaN</td>\n      <td>IR1</td>\n      <td>Lvl</td>\n      <td>AllPub</td>\n      <td>...</td>\n      <td>0</td>\n      <td>NaN</td>\n      <td>NaN</td>\n      <td>NaN</td>\n      <td>0</td>\n      <td>9</td>\n      <td>2008</td>\n      <td>WD</td>\n      <td>Normal</td>\n      <td>223500</td>\n    </tr>\n    <tr>\n      <th>3</th>\n      <td>4</td>\n      <td>70</td>\n      <td>RL</td>\n      <td>60.0</td>\n      <td>9550</td>\n      <td>Pave</td>\n      <td>NaN</td>\n      <td>IR1</td>\n      <td>Lvl</td>\n      <td>AllPub</td>\n      <td>...</td>\n      <td>0</td>\n      <td>NaN</td>\n      <td>NaN</td>\n      <td>NaN</td>\n      <td>0</td>\n      <td>2</td>\n      <td>2006</td>\n      <td>WD</td>\n      <td>Abnorml</td>\n      <td>140000</td>\n    </tr>\n    <tr>\n      <th>4</th>\n      <td>5</td>\n      <td>60</td>\n      <td>RL</td>\n      <td>84.0</td>\n      <td>14260</td>\n      <td>Pave</td>\n      <td>NaN</td>\n      <td>IR1</td>\n      <td>Lvl</td>\n      <td>AllPub</td>\n      <td>...</td>\n      <td>0</td>\n      <td>NaN</td>\n      <td>NaN</td>\n      <td>NaN</td>\n      <td>0</td>\n      <td>12</td>\n      <td>2008</td>\n      <td>WD</td>\n      <td>Normal</td>\n      <td>250000</td>\n    </tr>\n    <tr>\n      <th>...</th>\n      <td>...</td>\n      <td>...</td>\n      <td>...</td>\n      <td>...</td>\n      <td>...</td>\n      <td>...</td>\n      <td>...</td>\n      <td>...</td>\n      <td>...</td>\n      <td>...</td>\n      <td>...</td>\n      <td>...</td>\n      <td>...</td>\n      <td>...</td>\n      <td>...</td>\n      <td>...</td>\n      <td>...</td>\n      <td>...</td>\n      <td>...</td>\n      <td>...</td>\n      <td>...</td>\n    </tr>\n    <tr>\n      <th>1455</th>\n      <td>1456</td>\n      <td>60</td>\n      <td>RL</td>\n      <td>62.0</td>\n      <td>7917</td>\n      <td>Pave</td>\n      <td>NaN</td>\n      <td>Reg</td>\n      <td>Lvl</td>\n      <td>AllPub</td>\n      <td>...</td>\n      <td>0</td>\n      <td>NaN</td>\n      <td>NaN</td>\n      <td>NaN</td>\n      <td>0</td>\n      <td>8</td>\n      <td>2007</td>\n      <td>WD</td>\n      <td>Normal</td>\n      <td>175000</td>\n    </tr>\n    <tr>\n      <th>1456</th>\n      <td>1457</td>\n      <td>20</td>\n      <td>RL</td>\n      <td>85.0</td>\n      <td>13175</td>\n      <td>Pave</td>\n      <td>NaN</td>\n      <td>Reg</td>\n      <td>Lvl</td>\n      <td>AllPub</td>\n      <td>...</td>\n      <td>0</td>\n      <td>NaN</td>\n      <td>MnPrv</td>\n      <td>NaN</td>\n      <td>0</td>\n      <td>2</td>\n      <td>2010</td>\n      <td>WD</td>\n      <td>Normal</td>\n      <td>210000</td>\n    </tr>\n    <tr>\n      <th>1457</th>\n      <td>1458</td>\n      <td>70</td>\n      <td>RL</td>\n      <td>66.0</td>\n      <td>9042</td>\n      <td>Pave</td>\n      <td>NaN</td>\n      <td>Reg</td>\n      <td>Lvl</td>\n      <td>AllPub</td>\n      <td>...</td>\n      <td>0</td>\n      <td>NaN</td>\n      <td>GdPrv</td>\n      <td>Shed</td>\n      <td>2500</td>\n      <td>5</td>\n      <td>2010</td>\n      <td>WD</td>\n      <td>Normal</td>\n      <td>266500</td>\n    </tr>\n    <tr>\n      <th>1458</th>\n      <td>1459</td>\n      <td>20</td>\n      <td>RL</td>\n      <td>68.0</td>\n      <td>9717</td>\n      <td>Pave</td>\n      <td>NaN</td>\n      <td>Reg</td>\n      <td>Lvl</td>\n      <td>AllPub</td>\n      <td>...</td>\n      <td>0</td>\n      <td>NaN</td>\n      <td>NaN</td>\n      <td>NaN</td>\n      <td>0</td>\n      <td>4</td>\n      <td>2010</td>\n      <td>WD</td>\n      <td>Normal</td>\n      <td>142125</td>\n    </tr>\n    <tr>\n      <th>1459</th>\n      <td>1460</td>\n      <td>20</td>\n      <td>RL</td>\n      <td>75.0</td>\n      <td>9937</td>\n      <td>Pave</td>\n      <td>NaN</td>\n      <td>Reg</td>\n      <td>Lvl</td>\n      <td>AllPub</td>\n      <td>...</td>\n      <td>0</td>\n      <td>NaN</td>\n      <td>NaN</td>\n      <td>NaN</td>\n      <td>0</td>\n      <td>6</td>\n      <td>2008</td>\n      <td>WD</td>\n      <td>Normal</td>\n      <td>147500</td>\n    </tr>\n  </tbody>\n</table>\n<p>1460 rows × 81 columns</p>\n</div>"
     },
     "execution_count": 1484,
     "metadata": {},
     "output_type": "execute_result"
    }
   ],
   "source": [
    "id_list = test_df['Id']"
   ],
   "metadata": {
    "collapsed": false,
    "pycharm": {
     "name": "#%%\n"
    }
   }
  },
  {
   "cell_type": "code",
   "execution_count": 1511,
   "outputs": [],
   "source": [
    "def transform_x(dataframe):\n",
    "    X = dataframe\n",
    "    MSSubClass_encoded = pd.get_dummies(X[['MSSubClass']].astype(str))\n",
    "    X = pd.get_dummies(X)\n",
    "    X = pd.concat([X, MSSubClass_encoded], axis=1).drop('MSSubClass', axis=1)\n",
    "\n",
    "    columns = X.columns\n",
    "\n",
    "    imputer_train = KNNImputer(n_neighbors=11, weights=\"distance\")\n",
    "    imputer_train.fit(X)\n",
    "    X = pd.DataFrame(imputer_train.transform(X), columns = columns)\n",
    "\n",
    "    normalize_train = StandardScaler().fit(X)\n",
    "    X = normalize_train.transform(X)\n",
    "    X = pd.DataFrame(X, columns = columns)\n",
    "\n",
    "    return X"
   ],
   "metadata": {
    "collapsed": false,
    "pycharm": {
     "name": "#%%\n"
    }
   }
  },
  {
   "cell_type": "code",
   "execution_count": 1517,
   "outputs": [],
   "source": [
    "X_train_final = train_df.drop(['Id', 'SalePrice'], axis=1)\n",
    "X_train_final = transform_x(X_train_final)\n",
    "train_col = X_train_final.columns.tolist()"
   ],
   "metadata": {
    "collapsed": false,
    "pycharm": {
     "name": "#%%\n"
    }
   }
  },
  {
   "cell_type": "code",
   "execution_count": 1518,
   "outputs": [],
   "source": [
    "X_test_final = test_df.drop('Id', axis=1)\n",
    "X_test_final = transform_x(X_test_final)\n",
    "test_col = X_test_final.columns.tolist()"
   ],
   "metadata": {
    "collapsed": false,
    "pycharm": {
     "name": "#%%\n"
    }
   }
  },
  {
   "cell_type": "code",
   "execution_count": 1521,
   "outputs": [],
   "source": [
    "def intersection(lst1, lst2):\n",
    "    lst3 = [value for value in lst1 if value in lst2]\n",
    "    return lst3\n",
    "\n",
    "cols_use = intersection(train_col, test_col)"
   ],
   "metadata": {
    "collapsed": false,
    "pycharm": {
     "name": "#%%\n"
    }
   }
  },
  {
   "cell_type": "code",
   "execution_count": null,
   "outputs": [],
   "source": [],
   "metadata": {
    "collapsed": false,
    "pycharm": {
     "name": "#%%\n"
    }
   }
  },
  {
   "cell_type": "code",
   "execution_count": 1525,
   "outputs": [],
   "source": [
    "final_model = lm.Ridge(alpha=7879)\n",
    "final_model.fit(X_train_final[cols_use], train_df['SalePrice'])\n",
    "Y_pred_final = final_model.predict(X_test_final[cols_use])\n",
    "\n",
    "predictions = pd.DataFrame({'Id': id_list, 'SalePrice': Y_pred_final})\n",
    "predictions.to_csv('predictions_house.csv', index=False)"
   ],
   "metadata": {
    "collapsed": false,
    "pycharm": {
     "name": "#%%\n"
    }
   }
  },
  {
   "cell_type": "code",
   "execution_count": null,
   "outputs": [],
   "source": [
    "\n",
    "\n",
    "\n",
    "\n",
    "\n",
    "\n",
    "\n",
    "\n",
    "\n",
    "\n",
    "\n",
    "\n",
    "\n",
    "\n",
    "\n"
   ],
   "metadata": {
    "collapsed": false,
    "pycharm": {
     "name": "#%%\n"
    }
   }
  }
 ],
 "metadata": {
  "kernelspec": {
   "display_name": "Python 3",
   "language": "python",
   "name": "python3"
  },
  "language_info": {
   "codemirror_mode": {
    "name": "ipython",
    "version": 2
   },
   "file_extension": ".py",
   "mimetype": "text/x-python",
   "name": "python",
   "nbconvert_exporter": "python",
   "pygments_lexer": "ipython2",
   "version": "2.7.6"
  }
 },
 "nbformat": 4,
 "nbformat_minor": 0
}