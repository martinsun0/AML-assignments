{
 "cells": [
  {
   "cell_type": "code",
   "execution_count": 657,
   "metadata": {
    "collapsed": true
   },
   "outputs": [],
   "source": [
    "import numpy as np\n",
    "import pandas as pd\n",
    "import seaborn as sns\n",
    "from statsmodels import regression as sm\n",
    "import sklearn.linear_model as lm\n",
    "from sklearn import model_selection as ms\n",
    "from sklearn.preprocessing import OneHotEncoder\n",
    "from sklearn.preprocessing import StandardScaler\n",
    "from sklearn.impute import KNNImputer\n",
    "from sklearn.metrics import r2_score\n",
    "from sklearn.neighbors import KNeighborsRegressor\n",
    "from IPython.display import display\n",
    "from sklearn.model_selection import cross_val_score\n",
    "from sklearn.model_selection import KFold\n",
    "from sklearn.model_selection import KFold\n",
    "import warnings\n",
    "warnings.filterwarnings('ignore')"
   ]
  },
  {
   "cell_type": "code",
   "execution_count": 603,
   "outputs": [],
   "source": [
    "train_df = pd.read_csv(r'train.csv')\n",
    "test_df = pd.read_csv(r'test.csv')"
   ],
   "metadata": {
    "collapsed": false,
    "pycharm": {
     "name": "#%%\n"
    }
   }
  },
  {
   "cell_type": "code",
   "execution_count": 604,
   "outputs": [],
   "source": [
    "# train_df.info()\n",
    "categorical = list(train_df.select_dtypes('object').columns)\n",
    "# categorical"
   ],
   "metadata": {
    "collapsed": false,
    "pycharm": {
     "name": "#%%\n"
    }
   }
  },
  {
   "cell_type": "markdown",
   "source": [
    "There are 1460 samples in the training data set and 80 features. There are 43 columns with the 'object' data type,\n",
    "meaning non-numeric categorical data. These features are contained in the \"categorical\" list. However, notice also that\n",
    "the 'MSSubClass' feature is numerical-categorical. Thus, there are actually 44 categorical features."
   ],
   "metadata": {
    "collapsed": false,
    "pycharm": {
     "name": "#%% md\n"
    }
   }
  },
  {
   "cell_type": "markdown",
   "source": [
    "I will select seven non-categorical features."
   ],
   "metadata": {
    "collapsed": false,
    "pycharm": {
     "name": "#%% md\n"
    }
   }
  },
  {
   "cell_type": "code",
   "execution_count": 605,
   "outputs": [],
   "source": [
    "# sns.pairplot(train_df[['SalePrice', 'LotArea', 'OverallQual', 'OverallCond', 'YearRemodAdd', 'FullBath', '1stFlrSF', '2ndFlrSF']])"
   ],
   "metadata": {
    "collapsed": false,
    "pycharm": {
     "name": "#%%\n"
    }
   }
  },
  {
   "cell_type": "markdown",
   "source": [
    "The plots we care about here are in row 1 (or column 1). There appears to be a correlation between sales price and:\n",
    "Overall Quality, 1st Floor Area, 2nd Floor Area, and some slight correlations with Year of Remodelling, and\n",
    "Number of Full Baths."
   ],
   "metadata": {
    "collapsed": false,
    "pycharm": {
     "name": "#%% md\n"
    }
   }
  },
  {
   "cell_type": "code",
   "execution_count": 606,
   "outputs": [],
   "source": [
    "# sm.linear_model.OLS()"
   ],
   "metadata": {
    "collapsed": false,
    "pycharm": {
     "name": "#%% optional\n"
    }
   }
  },
  {
   "cell_type": "code",
   "execution_count": 607,
   "outputs": [],
   "source": [
    "MSSubClass_encoded = pd.get_dummies(train_df[['MSSubClass']].astype(str))\n",
    "train_df_dropped = train_df.drop('Id', axis=1)\n",
    "df_encoded = pd.get_dummies(train_df_dropped)\n",
    "df_encoded = pd.concat([df_encoded, MSSubClass_encoded], axis=1).drop('MSSubClass', axis=1)\n",
    "# df_encoded.info(verbose=True, null_counts=True)\n",
    "# df_encoded"
   ],
   "metadata": {
    "collapsed": false,
    "pycharm": {
     "name": "#%% Drop columns not useful to our model and perform one hot encoding.\n"
    }
   }
  },
  {
   "cell_type": "code",
   "execution_count": 608,
   "outputs": [],
   "source": [
    "split = ms.train_test_split(df_encoded, train_size=0.8)\n",
    "train_split = split[0]\n",
    "test_split = split[1]\n",
    "# train_split"
   ],
   "metadata": {
    "collapsed": false,
    "pycharm": {
     "name": "#%% Splitting data\n"
    }
   }
  },
  {
   "cell_type": "code",
   "execution_count": 609,
   "outputs": [],
   "source": [
    "# encoder = OneHotEncoder(handle_unknown=\"ignore\", sparse=False)\n",
    "# encoder.fit(train_df)"
   ],
   "metadata": {
    "collapsed": false,
    "pycharm": {
     "name": "#%% sklearn's encoder (not used)\n"
    }
   }
  },
  {
   "cell_type": "code",
   "execution_count": 610,
   "outputs": [
    {
     "data": {
      "text/plain": "['LotFrontage', 'MasVnrArea', 'GarageYrBlt']"
     },
     "execution_count": 610,
     "metadata": {},
     "output_type": "execute_result"
    }
   ],
   "source": [
    "all_columns = df_encoded.columns\n",
    "columns = df_encoded.drop(['SalePrice'], axis=1).columns\n",
    "train_split.columns[train_split.isna().any()].tolist()\n",
    "# test_split.columns[test_split.isna().any()].tolist()"
   ],
   "metadata": {
    "collapsed": false,
    "pycharm": {
     "name": "#%% Look for columns with null values\n"
    }
   }
  },
  {
   "cell_type": "markdown",
   "source": [
    "Setting values to the mean or zeroes could highly skew the results of a regression model.\n",
    "I will use KNN to perform multivariate imputation, filling in the above columns."
   ],
   "metadata": {
    "collapsed": false,
    "pycharm": {
     "name": "#%% md\n"
    }
   }
  },
  {
   "cell_type": "code",
   "execution_count": 611,
   "outputs": [],
   "source": [
    "# Training the inputer with train split\n",
    "imputer_train = KNNImputer(n_neighbors=15, weights=\"uniform\")\n",
    "imputer_train.fit(train_split)\n",
    "train_split = pd.DataFrame(imputer_train.fit_transform(df_encoded), columns = all_columns)\n",
    "test_split = pd.DataFrame(imputer_train.fit_transform(test_split), columns = all_columns)"
   ],
   "metadata": {
    "collapsed": false,
    "pycharm": {
     "name": "#%% KNN inputation\n"
    }
   }
  },
  {
   "cell_type": "code",
   "execution_count": 612,
   "outputs": [
    {
     "data": {
      "text/plain": "      LotFrontage   LotArea  OverallQual  OverallCond  YearBuilt  \\\n0       -0.247803 -0.207142     0.651479    -0.517200   1.050994   \n1        0.412273 -0.091886    -0.071836     2.179628   0.156734   \n2       -0.115788  0.073480     0.651479    -0.517200   0.984752   \n3       -0.467828 -0.096897     0.651479    -0.517200  -1.863632   \n4        0.588294  0.375148     1.374795    -0.517200   0.951632   \n...           ...       ...          ...          ...        ...   \n1455    -0.379818 -0.260560    -0.071836    -0.517200   0.918511   \n1456     0.632299  0.266407    -0.071836     0.381743   0.222975   \n1457    -0.203798 -0.147810     0.651479     3.078570  -1.002492   \n1458    -0.115788 -0.080160    -0.795151     0.381743  -0.704406   \n1459     0.192248 -0.058112    -0.795151     0.381743  -0.207594   \n\n      YearRemodAdd  MasVnrArea  BsmtFinSF1  BsmtFinSF2  BsmtUnfSF  ...  \\\n0         0.878668    0.508709    0.575425   -0.288653  -0.944591  ...   \n1        -0.429577   -0.575571    1.171992   -0.288653  -0.641228  ...   \n2         0.830215    0.320620    0.092907   -0.288653  -0.301643  ...   \n3        -0.720298   -0.575571   -0.499274   -0.288653  -0.061670  ...   \n4         0.733308    1.360644    0.463568   -0.288653  -0.174865  ...   \n...            ...         ...         ...         ...        ...  ...   \n1455      0.733308   -0.575571   -0.973018   -0.288653   0.873321  ...   \n1456      0.151865    0.082742    0.759659    0.722112   0.049262  ...   \n1457      1.024029   -0.575571   -0.369871   -0.288653   0.701265  ...   \n1458      0.539493   -0.575571   -0.865548    6.092188  -1.284176  ...   \n1459     -0.962566   -0.575571    0.847389    1.509640  -0.976285  ...   \n\n      MSSubClass_30  MSSubClass_40  MSSubClass_45  MSSubClass_50  \\\n0         -0.222721      -0.052414      -0.091035      -0.330791   \n1         -0.222721      -0.052414      -0.091035      -0.330791   \n2         -0.222721      -0.052414      -0.091035      -0.330791   \n3         -0.222721      -0.052414      -0.091035      -0.330791   \n4         -0.222721      -0.052414      -0.091035      -0.330791   \n...             ...            ...            ...            ...   \n1455      -0.222721      -0.052414      -0.091035      -0.330791   \n1456      -0.222721      -0.052414      -0.091035      -0.330791   \n1457      -0.222721      -0.052414      -0.091035      -0.330791   \n1458      -0.222721      -0.052414      -0.091035      -0.330791   \n1459      -0.222721      -0.052414      -0.091035      -0.330791   \n\n      MSSubClass_60  MSSubClass_70  MSSubClass_75  MSSubClass_80  \\\n0          1.970518      -0.207020      -0.105263      -0.203395   \n1         -0.507481      -0.207020      -0.105263      -0.203395   \n2          1.970518      -0.207020      -0.105263      -0.203395   \n3         -0.507481       4.830459      -0.105263      -0.203395   \n4          1.970518      -0.207020      -0.105263      -0.203395   \n...             ...            ...            ...            ...   \n1455       1.970518      -0.207020      -0.105263      -0.203395   \n1456      -0.507481      -0.207020      -0.105263      -0.203395   \n1457      -0.507481       4.830459      -0.105263      -0.203395   \n1458      -0.507481      -0.207020      -0.105263      -0.203395   \n1459      -0.507481      -0.207020      -0.105263      -0.203395   \n\n      MSSubClass_85  MSSubClass_90  \n0         -0.117851      -0.192177  \n1         -0.117851      -0.192177  \n2         -0.117851      -0.192177  \n3         -0.117851      -0.192177  \n4         -0.117851      -0.192177  \n...             ...            ...  \n1455      -0.117851      -0.192177  \n1456      -0.117851      -0.192177  \n1457      -0.117851      -0.192177  \n1458      -0.117851      -0.192177  \n1459      -0.117851      -0.192177  \n\n[1460 rows x 302 columns]",
      "text/html": "<div>\n<style scoped>\n    .dataframe tbody tr th:only-of-type {\n        vertical-align: middle;\n    }\n\n    .dataframe tbody tr th {\n        vertical-align: top;\n    }\n\n    .dataframe thead th {\n        text-align: right;\n    }\n</style>\n<table border=\"1\" class=\"dataframe\">\n  <thead>\n    <tr style=\"text-align: right;\">\n      <th></th>\n      <th>LotFrontage</th>\n      <th>LotArea</th>\n      <th>OverallQual</th>\n      <th>OverallCond</th>\n      <th>YearBuilt</th>\n      <th>YearRemodAdd</th>\n      <th>MasVnrArea</th>\n      <th>BsmtFinSF1</th>\n      <th>BsmtFinSF2</th>\n      <th>BsmtUnfSF</th>\n      <th>...</th>\n      <th>MSSubClass_30</th>\n      <th>MSSubClass_40</th>\n      <th>MSSubClass_45</th>\n      <th>MSSubClass_50</th>\n      <th>MSSubClass_60</th>\n      <th>MSSubClass_70</th>\n      <th>MSSubClass_75</th>\n      <th>MSSubClass_80</th>\n      <th>MSSubClass_85</th>\n      <th>MSSubClass_90</th>\n    </tr>\n  </thead>\n  <tbody>\n    <tr>\n      <th>0</th>\n      <td>-0.247803</td>\n      <td>-0.207142</td>\n      <td>0.651479</td>\n      <td>-0.517200</td>\n      <td>1.050994</td>\n      <td>0.878668</td>\n      <td>0.508709</td>\n      <td>0.575425</td>\n      <td>-0.288653</td>\n      <td>-0.944591</td>\n      <td>...</td>\n      <td>-0.222721</td>\n      <td>-0.052414</td>\n      <td>-0.091035</td>\n      <td>-0.330791</td>\n      <td>1.970518</td>\n      <td>-0.207020</td>\n      <td>-0.105263</td>\n      <td>-0.203395</td>\n      <td>-0.117851</td>\n      <td>-0.192177</td>\n    </tr>\n    <tr>\n      <th>1</th>\n      <td>0.412273</td>\n      <td>-0.091886</td>\n      <td>-0.071836</td>\n      <td>2.179628</td>\n      <td>0.156734</td>\n      <td>-0.429577</td>\n      <td>-0.575571</td>\n      <td>1.171992</td>\n      <td>-0.288653</td>\n      <td>-0.641228</td>\n      <td>...</td>\n      <td>-0.222721</td>\n      <td>-0.052414</td>\n      <td>-0.091035</td>\n      <td>-0.330791</td>\n      <td>-0.507481</td>\n      <td>-0.207020</td>\n      <td>-0.105263</td>\n      <td>-0.203395</td>\n      <td>-0.117851</td>\n      <td>-0.192177</td>\n    </tr>\n    <tr>\n      <th>2</th>\n      <td>-0.115788</td>\n      <td>0.073480</td>\n      <td>0.651479</td>\n      <td>-0.517200</td>\n      <td>0.984752</td>\n      <td>0.830215</td>\n      <td>0.320620</td>\n      <td>0.092907</td>\n      <td>-0.288653</td>\n      <td>-0.301643</td>\n      <td>...</td>\n      <td>-0.222721</td>\n      <td>-0.052414</td>\n      <td>-0.091035</td>\n      <td>-0.330791</td>\n      <td>1.970518</td>\n      <td>-0.207020</td>\n      <td>-0.105263</td>\n      <td>-0.203395</td>\n      <td>-0.117851</td>\n      <td>-0.192177</td>\n    </tr>\n    <tr>\n      <th>3</th>\n      <td>-0.467828</td>\n      <td>-0.096897</td>\n      <td>0.651479</td>\n      <td>-0.517200</td>\n      <td>-1.863632</td>\n      <td>-0.720298</td>\n      <td>-0.575571</td>\n      <td>-0.499274</td>\n      <td>-0.288653</td>\n      <td>-0.061670</td>\n      <td>...</td>\n      <td>-0.222721</td>\n      <td>-0.052414</td>\n      <td>-0.091035</td>\n      <td>-0.330791</td>\n      <td>-0.507481</td>\n      <td>4.830459</td>\n      <td>-0.105263</td>\n      <td>-0.203395</td>\n      <td>-0.117851</td>\n      <td>-0.192177</td>\n    </tr>\n    <tr>\n      <th>4</th>\n      <td>0.588294</td>\n      <td>0.375148</td>\n      <td>1.374795</td>\n      <td>-0.517200</td>\n      <td>0.951632</td>\n      <td>0.733308</td>\n      <td>1.360644</td>\n      <td>0.463568</td>\n      <td>-0.288653</td>\n      <td>-0.174865</td>\n      <td>...</td>\n      <td>-0.222721</td>\n      <td>-0.052414</td>\n      <td>-0.091035</td>\n      <td>-0.330791</td>\n      <td>1.970518</td>\n      <td>-0.207020</td>\n      <td>-0.105263</td>\n      <td>-0.203395</td>\n      <td>-0.117851</td>\n      <td>-0.192177</td>\n    </tr>\n    <tr>\n      <th>...</th>\n      <td>...</td>\n      <td>...</td>\n      <td>...</td>\n      <td>...</td>\n      <td>...</td>\n      <td>...</td>\n      <td>...</td>\n      <td>...</td>\n      <td>...</td>\n      <td>...</td>\n      <td>...</td>\n      <td>...</td>\n      <td>...</td>\n      <td>...</td>\n      <td>...</td>\n      <td>...</td>\n      <td>...</td>\n      <td>...</td>\n      <td>...</td>\n      <td>...</td>\n      <td>...</td>\n    </tr>\n    <tr>\n      <th>1455</th>\n      <td>-0.379818</td>\n      <td>-0.260560</td>\n      <td>-0.071836</td>\n      <td>-0.517200</td>\n      <td>0.918511</td>\n      <td>0.733308</td>\n      <td>-0.575571</td>\n      <td>-0.973018</td>\n      <td>-0.288653</td>\n      <td>0.873321</td>\n      <td>...</td>\n      <td>-0.222721</td>\n      <td>-0.052414</td>\n      <td>-0.091035</td>\n      <td>-0.330791</td>\n      <td>1.970518</td>\n      <td>-0.207020</td>\n      <td>-0.105263</td>\n      <td>-0.203395</td>\n      <td>-0.117851</td>\n      <td>-0.192177</td>\n    </tr>\n    <tr>\n      <th>1456</th>\n      <td>0.632299</td>\n      <td>0.266407</td>\n      <td>-0.071836</td>\n      <td>0.381743</td>\n      <td>0.222975</td>\n      <td>0.151865</td>\n      <td>0.082742</td>\n      <td>0.759659</td>\n      <td>0.722112</td>\n      <td>0.049262</td>\n      <td>...</td>\n      <td>-0.222721</td>\n      <td>-0.052414</td>\n      <td>-0.091035</td>\n      <td>-0.330791</td>\n      <td>-0.507481</td>\n      <td>-0.207020</td>\n      <td>-0.105263</td>\n      <td>-0.203395</td>\n      <td>-0.117851</td>\n      <td>-0.192177</td>\n    </tr>\n    <tr>\n      <th>1457</th>\n      <td>-0.203798</td>\n      <td>-0.147810</td>\n      <td>0.651479</td>\n      <td>3.078570</td>\n      <td>-1.002492</td>\n      <td>1.024029</td>\n      <td>-0.575571</td>\n      <td>-0.369871</td>\n      <td>-0.288653</td>\n      <td>0.701265</td>\n      <td>...</td>\n      <td>-0.222721</td>\n      <td>-0.052414</td>\n      <td>-0.091035</td>\n      <td>-0.330791</td>\n      <td>-0.507481</td>\n      <td>4.830459</td>\n      <td>-0.105263</td>\n      <td>-0.203395</td>\n      <td>-0.117851</td>\n      <td>-0.192177</td>\n    </tr>\n    <tr>\n      <th>1458</th>\n      <td>-0.115788</td>\n      <td>-0.080160</td>\n      <td>-0.795151</td>\n      <td>0.381743</td>\n      <td>-0.704406</td>\n      <td>0.539493</td>\n      <td>-0.575571</td>\n      <td>-0.865548</td>\n      <td>6.092188</td>\n      <td>-1.284176</td>\n      <td>...</td>\n      <td>-0.222721</td>\n      <td>-0.052414</td>\n      <td>-0.091035</td>\n      <td>-0.330791</td>\n      <td>-0.507481</td>\n      <td>-0.207020</td>\n      <td>-0.105263</td>\n      <td>-0.203395</td>\n      <td>-0.117851</td>\n      <td>-0.192177</td>\n    </tr>\n    <tr>\n      <th>1459</th>\n      <td>0.192248</td>\n      <td>-0.058112</td>\n      <td>-0.795151</td>\n      <td>0.381743</td>\n      <td>-0.207594</td>\n      <td>-0.962566</td>\n      <td>-0.575571</td>\n      <td>0.847389</td>\n      <td>1.509640</td>\n      <td>-0.976285</td>\n      <td>...</td>\n      <td>-0.222721</td>\n      <td>-0.052414</td>\n      <td>-0.091035</td>\n      <td>-0.330791</td>\n      <td>-0.507481</td>\n      <td>-0.207020</td>\n      <td>-0.105263</td>\n      <td>-0.203395</td>\n      <td>-0.117851</td>\n      <td>-0.192177</td>\n    </tr>\n  </tbody>\n</table>\n<p>1460 rows × 302 columns</p>\n</div>"
     },
     "execution_count": 612,
     "metadata": {},
     "output_type": "execute_result"
    }
   ],
   "source": [
    "# training the normalizer with train split\n",
    "normalize_train = StandardScaler().fit(train_split.drop(['SalePrice'], axis=1))\n",
    "\n",
    "train_norm = normalize_train.transform(train_split.drop(['SalePrice'], axis=1))\n",
    "test_norm = normalize_train.transform(test_split.drop(['SalePrice'], axis=1))\n",
    "\n",
    "train_norm = pd.DataFrame(train_norm, columns = columns)\n",
    "test_norm = pd.DataFrame(test_norm, columns = columns)\n",
    "train_norm"
   ],
   "metadata": {
    "collapsed": false,
    "pycharm": {
     "name": "#%% Normalize the test/train data sets\n"
    }
   }
  },
  {
   "cell_type": "code",
   "execution_count": 660,
   "outputs": [],
   "source": [
    "X = train_norm\n",
    "Y = train_split['SalePrice']\n",
    "X_test = test_norm\n",
    "Y_test = test_split['SalePrice']\n",
    "\n",
    "X_non_norm = train_split.drop(['SalePrice'], axis=1)\n",
    "X_test_non_norm = test_split.drop(['SalePrice'], axis=1)"
   ],
   "metadata": {
    "collapsed": false,
    "pycharm": {
     "name": "#%%\n"
    }
   }
  },
  {
   "cell_type": "code",
   "execution_count": 665,
   "outputs": [
    {
     "data": {
      "text/plain": "(302,)"
     },
     "execution_count": 665,
     "metadata": {},
     "output_type": "execute_result"
    }
   ],
   "source": [
    "lin_reg = lm.LinearRegression().fit(X, Y)\n",
    "lin_pred = lin_reg.predict(X_test)\n",
    "# lin_reg.score(test_norm.drop(['SalePrice'], axis=1), test_norm['SalePrice'])\n",
    "r2_score(Y_test, lin_pred)\n",
    "np.shape(lin_reg.coef_)"
   ],
   "metadata": {
    "collapsed": false,
    "pycharm": {
     "name": "#%% Predicting values and finding R^2 value\n"
    }
   }
  },
  {
   "cell_type": "code",
   "execution_count": 615,
   "outputs": [
    {
     "name": "stdout",
     "output_type": "stream",
     "text": [
      "{'n_neighbors': 11}\n",
      "0.7405634361447293\n"
     ]
    },
    {
     "data": {
      "text/plain": "    mean_fit_time  std_fit_time  mean_score_time  std_score_time  \\\n0        0.003501      0.000500         0.005201        0.000400   \n1        0.003801      0.001470         0.005801        0.001833   \n2        0.003101      0.000300         0.005501        0.000500   \n3        0.003701      0.000900         0.009402        0.008250   \n4        0.003601      0.000490         0.007701        0.005480   \n5        0.002704      0.000461         0.005498        0.000504   \n6        0.002701      0.000459         0.005501        0.000671   \n7        0.002801      0.000400         0.005401        0.000490   \n8        0.002901      0.000300         0.005601        0.000664   \n9        0.002901      0.000539         0.005401        0.000664   \n10       0.002801      0.000400         0.005301        0.000640   \n11       0.002701      0.000459         0.005601        0.000663   \n12       0.002701      0.000458         0.005501        0.000500   \n13       0.002701      0.000458         0.005201        0.000400   \n\n   param_n_neighbors               params  split0_test_score  \\\n0                  1   {'n_neighbors': 1}           0.704337   \n1                  2   {'n_neighbors': 2}           0.760294   \n2                  3   {'n_neighbors': 3}           0.791678   \n3                  4   {'n_neighbors': 4}           0.779533   \n4                  5   {'n_neighbors': 5}           0.767779   \n5                  6   {'n_neighbors': 6}           0.773894   \n6                  7   {'n_neighbors': 7}           0.770276   \n7                  8   {'n_neighbors': 8}           0.810577   \n8                  9   {'n_neighbors': 9}           0.804290   \n9                 10  {'n_neighbors': 10}           0.799760   \n10                11  {'n_neighbors': 11}           0.802694   \n11                12  {'n_neighbors': 12}           0.798888   \n12                13  {'n_neighbors': 13}           0.794569   \n13                14  {'n_neighbors': 14}           0.796144   \n\n    split1_test_score  split2_test_score  split3_test_score  \\\n0            0.288652           0.673225           0.668503   \n1            0.597509           0.785232           0.744155   \n2            0.680672           0.789750           0.732312   \n3            0.716608           0.789691           0.720356   \n4            0.721353           0.793127           0.690670   \n5            0.783611           0.795534           0.700564   \n6            0.769669           0.790530           0.676201   \n7            0.764780           0.791389           0.670147   \n8            0.769589           0.791150           0.670639   \n9            0.760243           0.791905           0.686254   \n10           0.752803           0.796325           0.691095   \n11           0.747025           0.793641           0.695943   \n12           0.738115           0.786389           0.686157   \n13           0.736029           0.784709           0.683200   \n\n    split4_test_score  split5_test_score  split6_test_score  \\\n0            0.728969           0.596297           0.750835   \n1            0.724942           0.711895           0.783782   \n2            0.732995           0.743530           0.791826   \n3            0.731071           0.745167           0.763657   \n4            0.733361           0.774366           0.749560   \n5            0.712149           0.785216           0.754382   \n6            0.700273           0.789617           0.766473   \n7            0.695494           0.779921           0.763272   \n8            0.694627           0.787157           0.760536   \n9            0.700491           0.779018           0.766560   \n10           0.704504           0.777661           0.775733   \n11           0.702116           0.763405           0.778144   \n12           0.700082           0.760412           0.777863   \n13           0.697719           0.756924           0.775142   \n\n    split7_test_score  split8_test_score  split9_test_score  mean_test_score  \\\n0            0.632051           0.345203           0.638231         0.602630   \n1            0.755437           0.457308           0.693007         0.701356   \n2            0.754361           0.515357           0.750465         0.728295   \n3            0.782534           0.535011           0.747364         0.731099   \n4            0.783860           0.549151           0.765257         0.732849   \n5            0.779214           0.547689           0.769856         0.740211   \n6            0.773471           0.543436           0.772189         0.735213   \n7            0.792394           0.561254           0.773031         0.740226   \n8            0.782024           0.558202           0.768746         0.738696   \n9            0.784111           0.552897           0.765767         0.738701   \n10           0.780312           0.557722           0.766785         0.740563   \n11           0.781128           0.569559           0.766188         0.739604   \n12           0.779301           0.567476           0.768658         0.735902   \n13           0.783376           0.565936           0.772331         0.735151   \n\n    std_test_score  rank_test_score  \n0         0.149873               14  \n1         0.096509               13  \n2         0.078027               12  \n3         0.069802               11  \n4         0.067945               10  \n5         0.070802                3  \n6         0.073298                8  \n7         0.072813                2  \n8         0.072640                6  \n9         0.071381                5  \n10        0.070127                1  \n11        0.065726                4  \n12        0.065908                7  \n13        0.066852                9  ",
      "text/html": "<div>\n<style scoped>\n    .dataframe tbody tr th:only-of-type {\n        vertical-align: middle;\n    }\n\n    .dataframe tbody tr th {\n        vertical-align: top;\n    }\n\n    .dataframe thead th {\n        text-align: right;\n    }\n</style>\n<table border=\"1\" class=\"dataframe\">\n  <thead>\n    <tr style=\"text-align: right;\">\n      <th></th>\n      <th>mean_fit_time</th>\n      <th>std_fit_time</th>\n      <th>mean_score_time</th>\n      <th>std_score_time</th>\n      <th>param_n_neighbors</th>\n      <th>params</th>\n      <th>split0_test_score</th>\n      <th>split1_test_score</th>\n      <th>split2_test_score</th>\n      <th>split3_test_score</th>\n      <th>split4_test_score</th>\n      <th>split5_test_score</th>\n      <th>split6_test_score</th>\n      <th>split7_test_score</th>\n      <th>split8_test_score</th>\n      <th>split9_test_score</th>\n      <th>mean_test_score</th>\n      <th>std_test_score</th>\n      <th>rank_test_score</th>\n    </tr>\n  </thead>\n  <tbody>\n    <tr>\n      <th>0</th>\n      <td>0.003501</td>\n      <td>0.000500</td>\n      <td>0.005201</td>\n      <td>0.000400</td>\n      <td>1</td>\n      <td>{'n_neighbors': 1}</td>\n      <td>0.704337</td>\n      <td>0.288652</td>\n      <td>0.673225</td>\n      <td>0.668503</td>\n      <td>0.728969</td>\n      <td>0.596297</td>\n      <td>0.750835</td>\n      <td>0.632051</td>\n      <td>0.345203</td>\n      <td>0.638231</td>\n      <td>0.602630</td>\n      <td>0.149873</td>\n      <td>14</td>\n    </tr>\n    <tr>\n      <th>1</th>\n      <td>0.003801</td>\n      <td>0.001470</td>\n      <td>0.005801</td>\n      <td>0.001833</td>\n      <td>2</td>\n      <td>{'n_neighbors': 2}</td>\n      <td>0.760294</td>\n      <td>0.597509</td>\n      <td>0.785232</td>\n      <td>0.744155</td>\n      <td>0.724942</td>\n      <td>0.711895</td>\n      <td>0.783782</td>\n      <td>0.755437</td>\n      <td>0.457308</td>\n      <td>0.693007</td>\n      <td>0.701356</td>\n      <td>0.096509</td>\n      <td>13</td>\n    </tr>\n    <tr>\n      <th>2</th>\n      <td>0.003101</td>\n      <td>0.000300</td>\n      <td>0.005501</td>\n      <td>0.000500</td>\n      <td>3</td>\n      <td>{'n_neighbors': 3}</td>\n      <td>0.791678</td>\n      <td>0.680672</td>\n      <td>0.789750</td>\n      <td>0.732312</td>\n      <td>0.732995</td>\n      <td>0.743530</td>\n      <td>0.791826</td>\n      <td>0.754361</td>\n      <td>0.515357</td>\n      <td>0.750465</td>\n      <td>0.728295</td>\n      <td>0.078027</td>\n      <td>12</td>\n    </tr>\n    <tr>\n      <th>3</th>\n      <td>0.003701</td>\n      <td>0.000900</td>\n      <td>0.009402</td>\n      <td>0.008250</td>\n      <td>4</td>\n      <td>{'n_neighbors': 4}</td>\n      <td>0.779533</td>\n      <td>0.716608</td>\n      <td>0.789691</td>\n      <td>0.720356</td>\n      <td>0.731071</td>\n      <td>0.745167</td>\n      <td>0.763657</td>\n      <td>0.782534</td>\n      <td>0.535011</td>\n      <td>0.747364</td>\n      <td>0.731099</td>\n      <td>0.069802</td>\n      <td>11</td>\n    </tr>\n    <tr>\n      <th>4</th>\n      <td>0.003601</td>\n      <td>0.000490</td>\n      <td>0.007701</td>\n      <td>0.005480</td>\n      <td>5</td>\n      <td>{'n_neighbors': 5}</td>\n      <td>0.767779</td>\n      <td>0.721353</td>\n      <td>0.793127</td>\n      <td>0.690670</td>\n      <td>0.733361</td>\n      <td>0.774366</td>\n      <td>0.749560</td>\n      <td>0.783860</td>\n      <td>0.549151</td>\n      <td>0.765257</td>\n      <td>0.732849</td>\n      <td>0.067945</td>\n      <td>10</td>\n    </tr>\n    <tr>\n      <th>5</th>\n      <td>0.002704</td>\n      <td>0.000461</td>\n      <td>0.005498</td>\n      <td>0.000504</td>\n      <td>6</td>\n      <td>{'n_neighbors': 6}</td>\n      <td>0.773894</td>\n      <td>0.783611</td>\n      <td>0.795534</td>\n      <td>0.700564</td>\n      <td>0.712149</td>\n      <td>0.785216</td>\n      <td>0.754382</td>\n      <td>0.779214</td>\n      <td>0.547689</td>\n      <td>0.769856</td>\n      <td>0.740211</td>\n      <td>0.070802</td>\n      <td>3</td>\n    </tr>\n    <tr>\n      <th>6</th>\n      <td>0.002701</td>\n      <td>0.000459</td>\n      <td>0.005501</td>\n      <td>0.000671</td>\n      <td>7</td>\n      <td>{'n_neighbors': 7}</td>\n      <td>0.770276</td>\n      <td>0.769669</td>\n      <td>0.790530</td>\n      <td>0.676201</td>\n      <td>0.700273</td>\n      <td>0.789617</td>\n      <td>0.766473</td>\n      <td>0.773471</td>\n      <td>0.543436</td>\n      <td>0.772189</td>\n      <td>0.735213</td>\n      <td>0.073298</td>\n      <td>8</td>\n    </tr>\n    <tr>\n      <th>7</th>\n      <td>0.002801</td>\n      <td>0.000400</td>\n      <td>0.005401</td>\n      <td>0.000490</td>\n      <td>8</td>\n      <td>{'n_neighbors': 8}</td>\n      <td>0.810577</td>\n      <td>0.764780</td>\n      <td>0.791389</td>\n      <td>0.670147</td>\n      <td>0.695494</td>\n      <td>0.779921</td>\n      <td>0.763272</td>\n      <td>0.792394</td>\n      <td>0.561254</td>\n      <td>0.773031</td>\n      <td>0.740226</td>\n      <td>0.072813</td>\n      <td>2</td>\n    </tr>\n    <tr>\n      <th>8</th>\n      <td>0.002901</td>\n      <td>0.000300</td>\n      <td>0.005601</td>\n      <td>0.000664</td>\n      <td>9</td>\n      <td>{'n_neighbors': 9}</td>\n      <td>0.804290</td>\n      <td>0.769589</td>\n      <td>0.791150</td>\n      <td>0.670639</td>\n      <td>0.694627</td>\n      <td>0.787157</td>\n      <td>0.760536</td>\n      <td>0.782024</td>\n      <td>0.558202</td>\n      <td>0.768746</td>\n      <td>0.738696</td>\n      <td>0.072640</td>\n      <td>6</td>\n    </tr>\n    <tr>\n      <th>9</th>\n      <td>0.002901</td>\n      <td>0.000539</td>\n      <td>0.005401</td>\n      <td>0.000664</td>\n      <td>10</td>\n      <td>{'n_neighbors': 10}</td>\n      <td>0.799760</td>\n      <td>0.760243</td>\n      <td>0.791905</td>\n      <td>0.686254</td>\n      <td>0.700491</td>\n      <td>0.779018</td>\n      <td>0.766560</td>\n      <td>0.784111</td>\n      <td>0.552897</td>\n      <td>0.765767</td>\n      <td>0.738701</td>\n      <td>0.071381</td>\n      <td>5</td>\n    </tr>\n    <tr>\n      <th>10</th>\n      <td>0.002801</td>\n      <td>0.000400</td>\n      <td>0.005301</td>\n      <td>0.000640</td>\n      <td>11</td>\n      <td>{'n_neighbors': 11}</td>\n      <td>0.802694</td>\n      <td>0.752803</td>\n      <td>0.796325</td>\n      <td>0.691095</td>\n      <td>0.704504</td>\n      <td>0.777661</td>\n      <td>0.775733</td>\n      <td>0.780312</td>\n      <td>0.557722</td>\n      <td>0.766785</td>\n      <td>0.740563</td>\n      <td>0.070127</td>\n      <td>1</td>\n    </tr>\n    <tr>\n      <th>11</th>\n      <td>0.002701</td>\n      <td>0.000459</td>\n      <td>0.005601</td>\n      <td>0.000663</td>\n      <td>12</td>\n      <td>{'n_neighbors': 12}</td>\n      <td>0.798888</td>\n      <td>0.747025</td>\n      <td>0.793641</td>\n      <td>0.695943</td>\n      <td>0.702116</td>\n      <td>0.763405</td>\n      <td>0.778144</td>\n      <td>0.781128</td>\n      <td>0.569559</td>\n      <td>0.766188</td>\n      <td>0.739604</td>\n      <td>0.065726</td>\n      <td>4</td>\n    </tr>\n    <tr>\n      <th>12</th>\n      <td>0.002701</td>\n      <td>0.000458</td>\n      <td>0.005501</td>\n      <td>0.000500</td>\n      <td>13</td>\n      <td>{'n_neighbors': 13}</td>\n      <td>0.794569</td>\n      <td>0.738115</td>\n      <td>0.786389</td>\n      <td>0.686157</td>\n      <td>0.700082</td>\n      <td>0.760412</td>\n      <td>0.777863</td>\n      <td>0.779301</td>\n      <td>0.567476</td>\n      <td>0.768658</td>\n      <td>0.735902</td>\n      <td>0.065908</td>\n      <td>7</td>\n    </tr>\n    <tr>\n      <th>13</th>\n      <td>0.002701</td>\n      <td>0.000458</td>\n      <td>0.005201</td>\n      <td>0.000400</td>\n      <td>14</td>\n      <td>{'n_neighbors': 14}</td>\n      <td>0.796144</td>\n      <td>0.736029</td>\n      <td>0.784709</td>\n      <td>0.683200</td>\n      <td>0.697719</td>\n      <td>0.756924</td>\n      <td>0.775142</td>\n      <td>0.783376</td>\n      <td>0.565936</td>\n      <td>0.772331</td>\n      <td>0.735151</td>\n      <td>0.066852</td>\n      <td>9</td>\n    </tr>\n  </tbody>\n</table>\n</div>"
     },
     "metadata": {},
     "output_type": "display_data"
    }
   ],
   "source": [
    "knn_reg = KNeighborsRegressor()\n",
    "param_grid = {'n_neighbors': np.arange(1, 15)}\n",
    "knn_grid_cv = ms.GridSearchCV(knn_reg, param_grid, cv=10)\n",
    "knn_grid_cv.fit(X, Y)\n",
    "print(knn_grid_cv.best_params_)\n",
    "print(knn_grid_cv.best_score_)\n",
    "display(pd.DataFrame(knn_grid_cv.cv_results_))"
   ],
   "metadata": {
    "collapsed": false,
    "pycharm": {
     "name": "#%%\n"
    }
   }
  },
  {
   "cell_type": "markdown",
   "source": [
    "It appears that 11 neighbours gives us the best score. However, given the standard error of about 0.07, a score of at least\n",
    "0.67 performs similarly. Thus, the \"rule-of-thumb\" best selection could be argued to be k=2 KNN with a score of 0.7014"
   ],
   "metadata": {
    "collapsed": false,
    "pycharm": {
     "name": "#%% md\n"
    }
   }
  },
  {
   "cell_type": "code",
   "execution_count": 616,
   "outputs": [
    {
     "name": "stdout",
     "output_type": "stream",
     "text": [
      "0.8505264801075464\n",
      "758.6209310344827\n"
     ]
    }
   ],
   "source": [
    "ridge_reg = lm.RidgeCV(alphas=np.linspace(0.001,1000,30), cv=10)\n",
    "ridge_reg.fit(X, Y)\n",
    "print(ridge_reg.best_score_)\n",
    "print(ridge_reg.alpha_)"
   ],
   "metadata": {
    "collapsed": false,
    "pycharm": {
     "name": "#%% Using RidgeCV\n"
    }
   }
  },
  {
   "cell_type": "code",
   "execution_count": 617,
   "outputs": [
    {
     "name": "stdout",
     "output_type": "stream",
     "text": [
      "{'alpha': 707.0716363636363}\n",
      "0.8505097456712031\n",
      "7\n"
     ]
    },
    {
     "data": {
      "text/plain": "    mean_fit_time  std_fit_time  mean_score_time  std_score_time  param_alpha  \\\n0        0.007701      0.000459         0.001901        0.000300        0.001   \n1        0.007801      0.000400         0.001901        0.000300   101.011091   \n2        0.007701      0.000459         0.001601        0.000490   202.021182   \n3        0.007952      0.000351         0.001901        0.000300   303.031273   \n4        0.007801      0.000400         0.001901        0.000300   404.041364   \n..            ...           ...              ...             ...          ...   \n95       0.007802      0.000400         0.001701        0.000458  9595.959636   \n96       0.009001      0.003034         0.001801        0.000400  9696.969727   \n97       0.007902      0.000300         0.001801        0.000400  9797.979818   \n98       0.007702      0.000641         0.001801        0.000400  9898.989909   \n99       0.008001      0.000633         0.001801        0.000400      10000.0   \n\n                           params  split0_test_score  split1_test_score  \\\n0                {'alpha': 0.001}           0.882797           0.824154   \n1   {'alpha': 101.01109090909091}           0.908442           0.841937   \n2   {'alpha': 202.02118181818182}           0.915468           0.853634   \n3    {'alpha': 303.0312727272727}           0.918958           0.861450   \n4    {'alpha': 404.0413636363636}           0.920918           0.866878   \n..                            ...                ...                ...   \n95   {'alpha': 9595.959636363636}           0.807544           0.735987   \n96   {'alpha': 9696.969727272728}           0.806138           0.734420   \n97   {'alpha': 9797.979818181819}           0.804734           0.732859   \n98    {'alpha': 9898.98990909091}           0.803333           0.731305   \n99             {'alpha': 10000.0}           0.801934           0.729756   \n\n    split2_test_score  split3_test_score  split4_test_score  \\\n0            0.912537           0.751018           0.900222   \n1            0.917140           0.771243           0.903549   \n2            0.917034           0.778262           0.898969   \n3            0.916649           0.781929           0.894194   \n4            0.916232           0.784097           0.889546   \n..                ...                ...                ...   \n95           0.783840           0.687069           0.672809   \n96           0.782338           0.685824           0.671181   \n97           0.780840           0.684582           0.669561   \n98           0.779346           0.683342           0.667949   \n99           0.777856           0.682105           0.666346   \n\n    split5_test_score  split6_test_score  split7_test_score  \\\n0            0.589256           0.886591           0.895929   \n1            0.778636           0.893137           0.898473   \n2            0.815121           0.893655           0.897922   \n3            0.834656           0.892960           0.897239   \n4            0.846311           0.891740           0.896477   \n..                ...                ...                ...   \n95           0.715143           0.735236           0.762134   \n96           0.713599           0.733770           0.760684   \n97           0.712062           0.732308           0.759239   \n98           0.710532           0.730852           0.757797   \n99           0.709008           0.729401           0.756360   \n\n    split8_test_score  split9_test_score  mean_test_score  std_test_score  \\\n0            0.420825          -1.254833         0.580850        0.630833   \n1            0.503665           0.899134         0.831536        0.120546   \n2            0.536410           0.897083         0.840356        0.110173   \n3            0.556682           0.895679         0.845040        0.103973   \n4            0.570754           0.894672         0.847762        0.099723   \n..                ...                ...              ...             ...   \n95           0.560058           0.768608         0.722843        0.067231   \n96           0.559009           0.767193         0.721416        0.067139   \n97           0.557961           0.765782         0.719993        0.067046   \n98           0.556914           0.764375         0.718575        0.066954   \n99           0.555869           0.762971         0.717161        0.066863   \n\n    rank_test_score  \n0               100  \n1                24  \n2                17  \n3                12  \n4                 9  \n..              ...  \n95               95  \n96               96  \n97               97  \n98               98  \n99               99  \n\n[100 rows x 19 columns]",
      "text/html": "<div>\n<style scoped>\n    .dataframe tbody tr th:only-of-type {\n        vertical-align: middle;\n    }\n\n    .dataframe tbody tr th {\n        vertical-align: top;\n    }\n\n    .dataframe thead th {\n        text-align: right;\n    }\n</style>\n<table border=\"1\" class=\"dataframe\">\n  <thead>\n    <tr style=\"text-align: right;\">\n      <th></th>\n      <th>mean_fit_time</th>\n      <th>std_fit_time</th>\n      <th>mean_score_time</th>\n      <th>std_score_time</th>\n      <th>param_alpha</th>\n      <th>params</th>\n      <th>split0_test_score</th>\n      <th>split1_test_score</th>\n      <th>split2_test_score</th>\n      <th>split3_test_score</th>\n      <th>split4_test_score</th>\n      <th>split5_test_score</th>\n      <th>split6_test_score</th>\n      <th>split7_test_score</th>\n      <th>split8_test_score</th>\n      <th>split9_test_score</th>\n      <th>mean_test_score</th>\n      <th>std_test_score</th>\n      <th>rank_test_score</th>\n    </tr>\n  </thead>\n  <tbody>\n    <tr>\n      <th>0</th>\n      <td>0.007701</td>\n      <td>0.000459</td>\n      <td>0.001901</td>\n      <td>0.000300</td>\n      <td>0.001</td>\n      <td>{'alpha': 0.001}</td>\n      <td>0.882797</td>\n      <td>0.824154</td>\n      <td>0.912537</td>\n      <td>0.751018</td>\n      <td>0.900222</td>\n      <td>0.589256</td>\n      <td>0.886591</td>\n      <td>0.895929</td>\n      <td>0.420825</td>\n      <td>-1.254833</td>\n      <td>0.580850</td>\n      <td>0.630833</td>\n      <td>100</td>\n    </tr>\n    <tr>\n      <th>1</th>\n      <td>0.007801</td>\n      <td>0.000400</td>\n      <td>0.001901</td>\n      <td>0.000300</td>\n      <td>101.011091</td>\n      <td>{'alpha': 101.01109090909091}</td>\n      <td>0.908442</td>\n      <td>0.841937</td>\n      <td>0.917140</td>\n      <td>0.771243</td>\n      <td>0.903549</td>\n      <td>0.778636</td>\n      <td>0.893137</td>\n      <td>0.898473</td>\n      <td>0.503665</td>\n      <td>0.899134</td>\n      <td>0.831536</td>\n      <td>0.120546</td>\n      <td>24</td>\n    </tr>\n    <tr>\n      <th>2</th>\n      <td>0.007701</td>\n      <td>0.000459</td>\n      <td>0.001601</td>\n      <td>0.000490</td>\n      <td>202.021182</td>\n      <td>{'alpha': 202.02118181818182}</td>\n      <td>0.915468</td>\n      <td>0.853634</td>\n      <td>0.917034</td>\n      <td>0.778262</td>\n      <td>0.898969</td>\n      <td>0.815121</td>\n      <td>0.893655</td>\n      <td>0.897922</td>\n      <td>0.536410</td>\n      <td>0.897083</td>\n      <td>0.840356</td>\n      <td>0.110173</td>\n      <td>17</td>\n    </tr>\n    <tr>\n      <th>3</th>\n      <td>0.007952</td>\n      <td>0.000351</td>\n      <td>0.001901</td>\n      <td>0.000300</td>\n      <td>303.031273</td>\n      <td>{'alpha': 303.0312727272727}</td>\n      <td>0.918958</td>\n      <td>0.861450</td>\n      <td>0.916649</td>\n      <td>0.781929</td>\n      <td>0.894194</td>\n      <td>0.834656</td>\n      <td>0.892960</td>\n      <td>0.897239</td>\n      <td>0.556682</td>\n      <td>0.895679</td>\n      <td>0.845040</td>\n      <td>0.103973</td>\n      <td>12</td>\n    </tr>\n    <tr>\n      <th>4</th>\n      <td>0.007801</td>\n      <td>0.000400</td>\n      <td>0.001901</td>\n      <td>0.000300</td>\n      <td>404.041364</td>\n      <td>{'alpha': 404.0413636363636}</td>\n      <td>0.920918</td>\n      <td>0.866878</td>\n      <td>0.916232</td>\n      <td>0.784097</td>\n      <td>0.889546</td>\n      <td>0.846311</td>\n      <td>0.891740</td>\n      <td>0.896477</td>\n      <td>0.570754</td>\n      <td>0.894672</td>\n      <td>0.847762</td>\n      <td>0.099723</td>\n      <td>9</td>\n    </tr>\n    <tr>\n      <th>...</th>\n      <td>...</td>\n      <td>...</td>\n      <td>...</td>\n      <td>...</td>\n      <td>...</td>\n      <td>...</td>\n      <td>...</td>\n      <td>...</td>\n      <td>...</td>\n      <td>...</td>\n      <td>...</td>\n      <td>...</td>\n      <td>...</td>\n      <td>...</td>\n      <td>...</td>\n      <td>...</td>\n      <td>...</td>\n      <td>...</td>\n      <td>...</td>\n    </tr>\n    <tr>\n      <th>95</th>\n      <td>0.007802</td>\n      <td>0.000400</td>\n      <td>0.001701</td>\n      <td>0.000458</td>\n      <td>9595.959636</td>\n      <td>{'alpha': 9595.959636363636}</td>\n      <td>0.807544</td>\n      <td>0.735987</td>\n      <td>0.783840</td>\n      <td>0.687069</td>\n      <td>0.672809</td>\n      <td>0.715143</td>\n      <td>0.735236</td>\n      <td>0.762134</td>\n      <td>0.560058</td>\n      <td>0.768608</td>\n      <td>0.722843</td>\n      <td>0.067231</td>\n      <td>95</td>\n    </tr>\n    <tr>\n      <th>96</th>\n      <td>0.009001</td>\n      <td>0.003034</td>\n      <td>0.001801</td>\n      <td>0.000400</td>\n      <td>9696.969727</td>\n      <td>{'alpha': 9696.969727272728}</td>\n      <td>0.806138</td>\n      <td>0.734420</td>\n      <td>0.782338</td>\n      <td>0.685824</td>\n      <td>0.671181</td>\n      <td>0.713599</td>\n      <td>0.733770</td>\n      <td>0.760684</td>\n      <td>0.559009</td>\n      <td>0.767193</td>\n      <td>0.721416</td>\n      <td>0.067139</td>\n      <td>96</td>\n    </tr>\n    <tr>\n      <th>97</th>\n      <td>0.007902</td>\n      <td>0.000300</td>\n      <td>0.001801</td>\n      <td>0.000400</td>\n      <td>9797.979818</td>\n      <td>{'alpha': 9797.979818181819}</td>\n      <td>0.804734</td>\n      <td>0.732859</td>\n      <td>0.780840</td>\n      <td>0.684582</td>\n      <td>0.669561</td>\n      <td>0.712062</td>\n      <td>0.732308</td>\n      <td>0.759239</td>\n      <td>0.557961</td>\n      <td>0.765782</td>\n      <td>0.719993</td>\n      <td>0.067046</td>\n      <td>97</td>\n    </tr>\n    <tr>\n      <th>98</th>\n      <td>0.007702</td>\n      <td>0.000641</td>\n      <td>0.001801</td>\n      <td>0.000400</td>\n      <td>9898.989909</td>\n      <td>{'alpha': 9898.98990909091}</td>\n      <td>0.803333</td>\n      <td>0.731305</td>\n      <td>0.779346</td>\n      <td>0.683342</td>\n      <td>0.667949</td>\n      <td>0.710532</td>\n      <td>0.730852</td>\n      <td>0.757797</td>\n      <td>0.556914</td>\n      <td>0.764375</td>\n      <td>0.718575</td>\n      <td>0.066954</td>\n      <td>98</td>\n    </tr>\n    <tr>\n      <th>99</th>\n      <td>0.008001</td>\n      <td>0.000633</td>\n      <td>0.001801</td>\n      <td>0.000400</td>\n      <td>10000.0</td>\n      <td>{'alpha': 10000.0}</td>\n      <td>0.801934</td>\n      <td>0.729756</td>\n      <td>0.777856</td>\n      <td>0.682105</td>\n      <td>0.666346</td>\n      <td>0.709008</td>\n      <td>0.729401</td>\n      <td>0.756360</td>\n      <td>0.555869</td>\n      <td>0.762971</td>\n      <td>0.717161</td>\n      <td>0.066863</td>\n      <td>99</td>\n    </tr>\n  </tbody>\n</table>\n<p>100 rows × 19 columns</p>\n</div>"
     },
     "execution_count": 617,
     "metadata": {},
     "output_type": "execute_result"
    }
   ],
   "source": [
    "ridge_reg = lm.Ridge()\n",
    "param_grid = {'alpha': np.linspace(0.001,10000,100)}\n",
    "ridge_grid_cv = ms.GridSearchCV(ridge_reg, param_grid, cv=10)\n",
    "ridge_grid_cv.fit(X, Y)\n",
    "print(ridge_grid_cv.best_params_)\n",
    "print(ridge_grid_cv.best_score_)\n",
    "print(ridge_grid_cv.best_index_)\n",
    "ridge_cv_table = pd.DataFrame(ridge_grid_cv.cv_results_)\n",
    "ridge_cv_table"
   ],
   "metadata": {
    "collapsed": false,
    "pycharm": {
     "name": "#%% Using GridSearch CV\n"
    }
   }
  },
  {
   "cell_type": "code",
   "execution_count": 618,
   "outputs": [
    {
     "name": "stdout",
     "output_type": "stream",
     "text": [
      "0.7584074107463838\n",
      "mean_fit_time                            0.007701\n",
      "std_fit_time                             0.000458\n",
      "mean_score_time                          0.001801\n",
      "std_score_time                             0.0004\n",
      "param_alpha                           7272.727545\n",
      "params               {'alpha': 7272.727545454545}\n",
      "split0_test_score                        0.840509\n",
      "split1_test_score                        0.773738\n",
      "split2_test_score                        0.819431\n",
      "split3_test_score                        0.716242\n",
      "split4_test_score                        0.712863\n",
      "split5_test_score                        0.752594\n",
      "split6_test_score                         0.77045\n",
      "split7_test_score                        0.796494\n",
      "split8_test_score                        0.584314\n",
      "split9_test_score                        0.802137\n",
      "mean_test_score                          0.756877\n",
      "std_test_score                           0.069555\n",
      "rank_test_score                                72\n",
      "Name: 72, dtype: object\n"
     ]
    },
    {
     "data": {
      "text/plain": "param_alpha        7171.717455\nmean_test_score       0.758408\nName: 71, dtype: object"
     },
     "execution_count": 618,
     "metadata": {},
     "output_type": "execute_result"
    }
   ],
   "source": [
    "accept = ridge_grid_cv.best_score_ - ridge_cv_table['std_test_score'].iloc[ridge_grid_cv.best_index_]\n",
    "print(accept)\n",
    "print(ridge_cv_table[(ridge_cv_table['mean_test_score'] <= accept) & (ridge_cv_table.index > ridge_grid_cv.best_index_)].iloc[0])\n",
    "ridge_cv_table[['param_alpha', 'mean_test_score']].iloc[71]"
   ],
   "metadata": {
    "collapsed": false,
    "pycharm": {
     "name": "#%% Standard Error\n"
    }
   }
  },
  {
   "cell_type": "markdown",
   "source": [
    "Our best score here is with lambda or alpha ~ 707.07 with 0.8505. The standard error is 0.0921. This means that our\n",
    "simplest model (higher lambda) is at index 71 (the lambda within our standard error threshold). This is lambda ~ 7172\n",
    "and CV score = 0.7584"
   ],
   "metadata": {
    "collapsed": false,
    "pycharm": {
     "name": "#%% md\n"
    }
   }
  },
  {
   "cell_type": "code",
   "execution_count": 666,
   "outputs": [
    {
     "name": "stdout",
     "output_type": "stream",
     "text": [
      "{'alpha': 1632.6539795918368}\n",
      "0.8443541296515326\n",
      "4\n"
     ]
    }
   ],
   "source": [
    "lasso_reg = lm.Lasso()\n",
    "param_grid = {'alpha': np.linspace(0.001,20000,50)}\n",
    "lasso_grid_cv = ms.GridSearchCV(lasso_reg, param_grid, cv=10)\n",
    "lasso_grid_cv.fit(X, Y)\n",
    "print(lasso_grid_cv.best_params_)\n",
    "print(lasso_grid_cv.best_score_)\n",
    "print(lasso_grid_cv.best_index_)\n",
    "lasso_cv_table = pd.DataFrame(lasso_grid_cv.cv_results_)\n",
    "# lasso_cv_table"
   ],
   "metadata": {
    "collapsed": false,
    "pycharm": {
     "name": "#%%\n"
    }
   }
  },
  {
   "cell_type": "code",
   "execution_count": 620,
   "outputs": [
    {
     "name": "stdout",
     "output_type": "stream",
     "text": [
      "0.7457931992421065\n",
      "mean_fit_time                             0.006352\n",
      "std_fit_time                               0.00045\n",
      "mean_score_time                             0.0017\n",
      "std_score_time                            0.000458\n",
      "param_alpha                           12653.061592\n",
      "params               {'alpha': 12653.061591836735}\n",
      "split0_test_score                          0.80166\n",
      "split1_test_score                         0.771215\n",
      "split2_test_score                         0.805111\n",
      "split3_test_score                         0.707488\n",
      "split4_test_score                         0.706631\n",
      "split5_test_score                         0.715163\n",
      "split6_test_score                         0.764257\n",
      "split7_test_score                         0.766628\n",
      "split8_test_score                         0.596848\n",
      "split9_test_score                         0.796461\n",
      "mean_test_score                           0.743146\n",
      "std_test_score                            0.060566\n",
      "rank_test_score                                 32\n",
      "Name: 31, dtype: object\n"
     ]
    },
    {
     "data": {
      "text/plain": "param_alpha        12244.898347\nmean_test_score         0.74699\nName: 30, dtype: object"
     },
     "execution_count": 620,
     "metadata": {},
     "output_type": "execute_result"
    }
   ],
   "source": [
    "accept = lasso_grid_cv.best_score_ - lasso_cv_table['std_test_score'].iloc[lasso_grid_cv.best_index_]\n",
    "print(accept)\n",
    "print(lasso_cv_table[(lasso_cv_table['mean_test_score'] <= accept) & (lasso_cv_table.index > lasso_grid_cv.best_index_)].iloc[0])\n",
    "lasso_cv_table[['param_alpha', 'mean_test_score']].iloc[30]"
   ],
   "metadata": {
    "collapsed": false,
    "pycharm": {
     "name": "#%% Standard Error\n"
    }
   }
  },
  {
   "cell_type": "markdown",
   "source": [
    "Our best score here is with lambda or alpha ~ 1632.65 with 0.8444. The standard error is 0.0986. This means that our\n",
    "simplest model (higher lambda) is at index 30 (the lambda within our standard error threshold).\n",
    "This is lambda ~ 12245 and CV score = 0.7470"
   ],
   "metadata": {
    "collapsed": false,
    "pycharm": {
     "name": "#%% md\n"
    }
   }
  },
  {
   "cell_type": "code",
   "execution_count": 661,
   "outputs": [
    {
     "name": "stdout",
     "output_type": "stream",
     "text": [
      "0.5740162171877558\n",
      "0.6390221064393009\n",
      "[ 0.86387649  0.80127488  0.91110944  0.74827339  0.90051782  0.62523891\n",
      "  0.88577184  0.89588169  0.39476086 -1.28654315]\n"
     ]
    }
   ],
   "source": [
    "lin_reg_cv = lm.LinearRegression()\n",
    "cv_scores = cross_val_score(lin_reg_cv, X_non_norm, Y, cv=10)\n",
    "print(np.mean(cv_scores))\n",
    "print(np.std(cv_scores))\n",
    "print(cv_scores)"
   ],
   "metadata": {
    "collapsed": false,
    "pycharm": {
     "name": "#%% BSR on non-normalized data\n"
    }
   }
  },
  {
   "cell_type": "code",
   "execution_count": 645,
   "outputs": [
    {
     "data": {
      "text/plain": "0.012526487497190182"
     },
     "execution_count": 645,
     "metadata": {},
     "output_type": "execute_result"
    }
   ],
   "source": [
    "v = np.linalg.inv(X.T.dot(X).values)"
   ],
   "metadata": {
    "collapsed": false,
    "pycharm": {
     "name": "#%%\n"
    }
   }
  },
  {
   "cell_type": "code",
   "execution_count": null,
   "outputs": [],
   "source": [],
   "metadata": {
    "collapsed": false,
    "pycharm": {
     "name": "#%%\n"
    }
   }
  },
  {
   "cell_type": "code",
   "execution_count": 677,
   "outputs": [],
   "source": [
    "def sse_calc(y, y_hat):\n",
    "    return np.sum(np.square(y - y_hat))"
   ],
   "metadata": {
    "collapsed": false,
    "pycharm": {
     "name": "#%%\n"
    }
   }
  },
  {
   "cell_type": "code",
   "execution_count": 705,
   "outputs": [],
   "source": [
    "def z_calc(beta, n, k, v_j, sse):\n",
    "    sigma = np.sqrt(1/(n-k-1) * sse)\n",
    "    return beta/(sigma * np.sqrt(v_j))"
   ],
   "metadata": {
    "collapsed": false,
    "pycharm": {
     "name": "#%%\n"
    }
   }
  },
  {
   "cell_type": "code",
   "execution_count": 727,
   "outputs": [
    {
     "name": "stdout",
     "output_type": "stream",
     "text": [
      "[3.5943244039084656, 11.814971773859796, 14.467882804805752, 15.261487799492066, 8.783628147756609, 4.109360670806938, 11.292742991048703, 12.649267686244585, 4.183680979945812, -1.8165130487548269, 14.01496564106805, 6.219888232846883, 15.521999591208104, -5.18020503375036, 9.065607514613177, 2.854176524440679, 0.6633823117719051, 3.5883672848979096, 0.03519511752294641, -5.3635924950890495, -3.867437367700414, 4.302801020944002, 7.163113328977122, -0.5860223992097517, 3.5864852821347712, 5.199482948394159, 6.701735001586816, -0.930185676691969, 0.18915002273455392, 2.1419065203564425, 5.808111646762562, 6.638607786636736, -0.3349824415586022, -4.257257109377372, -2.755082982581652, -0.8872625852637858, 0.7661016569300573, -0.003398547553253966, 0.22132100197711396, -0.061588027510880015, -0.31824632757009025, 0.3174181929009661, 0.7804681599663554, 1.4351912515343528, -0.1486514466731314, 0.12087814926913781, 0.03261806232080963, -0.005360031082204965, -0.09861224803126577, 0.3760346487179302, -0.4845967900194698, 0.20597323764294617, 0.6092393304813256, -0.6047110886784998, 0.13117542824846376, 0.7335250890794702, -0.15255074027336651, -0.7131357537335693, 0.007033045739657551, 0.4363738618259796, 0.6200498786921478, -1.0481312059447854, 0.6274436504510661, 1.972994794022634, 0.951573963149755, -0.6165418869989159, -2.6017159569352484, -2.3444244025087655, 3.3037711480592296, -5.315696863993068, -2.473601538932593, -2.392548947107197, -0.024345583895821667, -4.734276365455487, -4.177869211142589, 2.0705734884970806, -4.320130731217905, 6.040795942790839, 5.135440052703095, -3.4559083165172666, -1.1572419091206614, -1.9867850035632344, 0.004905412057391866, -0.09220934598700262, 10.284257328296825, -1.902544516423007, 0.595796095581047, -0.825285352240999, -0.11967180071513102, 0.9702017096196229, 1.2790314038368513, 0.7664057146228027, -2.3486259392406814, 0.8472715272101728, -0.9452109111721448, 0.530833626692954, 3.18487146935386, 1.8752043142646428, 3.2424904380409214, 5.581495412662235, -15.145420900676571, -2.937975989411304, 2.063434665438181, 3.3904451202022687, 0.22031262824297138, 0.1697370624070328, -0.06304911279847114, -0.25532216110337713, -0.11115461862646162, -0.4707470071704719, 0.8129126389948439, -0.4499558464649465, 0.21991351663411146, 1.4495762212664483, -2.1076437958825487, -0.5783493041984316, 0.4846320563561993, -1.8333338294596329, -1.081067116626517, -0.7249958520336748, -1.0984545872691982, -0.27840629922186827, 3.8502964897326453, -22.760014353725648, 5.574719937852281, 9.670379652357711, nan, 3.722020006239346, 4.97209940124091, 4.092698420354575, 9.10697184541544, 1.0105358188484572, -0.9342148034111972, 0.0640110830151197, 2.4734894476494786, 0.14287106080320985, -0.787009067069096, -0.7781149287695011, -0.3268460390772046, 0.36675761971719445, -0.5607063589049236, 1.418821013975524, -0.041253627689135736, -0.5959607049223962, -1.0025863830707906, -0.20174946165234878, -0.408460311674218, 0.4188698363570639, 0.3866573568296239, 0.4132366951733532, 0.14287106080483206, 1.223889223519937, 0.4500788676596208, 0.9518506393677533, 0.131189202810697, -2.640202709276105, 0.010642612348241154, -1.7395941894007518, -0.03605940232124821, 0.8737789493492494, 1.191332825386043, 0.6028092800662129, 0.3114414715117197, 1.8592611580827707, 3.0858839781499876, 2.906646869253307, 0.8657753020819238, -0.2918691720575626, -0.3166964955966386, -0.25931613277603444, -0.00817415495757117, -0.03486981257223513, -0.38627558921525124, 0.589462254021029, -0.25653488504857686, 0.24820814940768882, 0.5098148502821971, 0.5522448550701314, -0.08052873822977444, 0.47741560929390114, -1.5682014311346444, -0.5556442724484715, -2.110436024666506, -3.2205545847214134, -2.9219510205251495, -5.04710487346262, -5.000468446749072, 3.222950096613744, -4.769632728555326, 0.8076947743813402, 2.449963611401625, 0.38888753635958023, 0.24457613662636757, -2.6242383772328046, -1.910792106192353, -1.2870379166116008, -3.250598401099292, -2.409926906845838, -1.552734846089394, 2.9823941307330712, 1.6319185611375575, 2.582994396213992, 1.827893058909667, 2.30203178991417, 2.5146683549977134, -0.5248534460405411, 0.2548333661245212, 0.5222631038866569, -0.0347219737134672, -1.0347720424843792, 0.9663615957501885, 0.014871451859142681, -0.14046709893393636, -0.21435981167259208, 0.45116980839826565, -0.1835820541957313, 0.020987367705108423, -0.0209714979748299, -1.2721988075680317, -1.3047402847683807, -1.0757158376332754, -2.977322583343757, -1.4838308401451508, 0.711903799353467, -0.18285023094265593, -0.3002118539913922, -0.23030361814081063, 0.40730079998567936, -0.1586691869053276, 0.7093131837642521, 0.9709545609946003, -0.432751363010046, -2.347018592160194, 1.699234335664688, -3.5000181631806737, -5.687284374672535, -5.457124034076824, 0.05282239075172364, -5.111806133354824, -5.457890910147294, -0.5232335109829516, 1.1739465873355133, -0.11528034283245771, 1.8928933677471178, 1.4837191876576428, -2.988604506737488, -4.92814966911446, -3.5192487632612406, 10.778472543966174, -9.421263048294403, -6.21688768226761, -4.173470952471214, -7.798900060830868, -9.197369656737155, 6.920524904640771, 4.586008888685907, 3.9180558031995036, 7.5160115614401155, 0.023165842033799677, -0.06073265306643606, 0.0375963230335719, -4.019832807229819, -5.9223394063175245, -5.650698846286836, -5.647371526806285, -1.1448537769225628, -0.07086852693596433, -1.9962680925175968, 0.25564745847021453, 2.356493110858054, 1.7835094675192202, 0.8674013866834146, -1.1320965514329344, 0.39701798490868506, 0.9457434652281235, -0.02597202241274565, -0.8124260684055236, -0.6364229788398709, 2.2291483364677216, -0.4224199313139397, -1.0473525654434899, 0.021139194608695185, 0.7906598728785762, -0.1334066050978228, -0.07749642368426189, 0.4251407847603956, -0.9641977831039519, -0.488000287706478, -0.4196448252248764, -0.9700069264628784, -0.26067218988194935, 1.5338392638311618, 2.0593637894176657, 0.9165985280059598, -0.42901002042535014, 0.6073750989425082, 2.433606392326514, 2.972475582344889, -3.3271658811640235, -1.1309615168971616, -0.5156528270806541, -0.0630491128060375]\n",
      "new fold\n",
      "[1.6656280610646026, 10.870974852830443, 9.558872816882346, 9.752070674847564, 6.376165532165253, 3.2535559753079504, 6.517144387857978, 9.915182102122401, 2.805667968336919, -2.112477718037018, 9.623578699854859, 3.337721247943358, 7.639015708497487, -1.7695673048182994, 6.645157420547469, 0.3054171628793268, 0.11003017743584208, 2.500287864609981, 0.28635887999015097, -2.734109313150618, -2.894427765275892, 2.3047965753272526, 2.436642896259238, -0.6963871492929044, 2.4600140912773463, 4.185121115387463, 3.794414863524024, 0.3434986749145594, 2.468406503692133, 1.8467089173382587, 6.211139832935334, 2.549597021284929, -0.28949967717154584, -2.759871770024727, -1.8018395017813096, -0.7672981370976336, 0.4543920353084659, 0.06149049874815845, 0.1790236221317292, 0.08673522938375003, -0.33440560584554374, 0.3346376906799935, -0.1889346189889886, 1.185196453221398, -0.08715698102735427, 0.06299391856972751, 0.013423658666804473, 0.010445529154419255, -0.002631480572425126, 0.27368873976064034, -0.4809068307394606, 0.20966653897322202, 0.42403886523791, -0.42324648820315236, 0.14255944521302408, 0.6029008070325441, -0.2331858958868706, -0.6122543015453118, 0.1063754184242256, 0.28344912071831446, 0.4771037467412241, -0.7556229770753496, 0.841387323563242, 1.464399967109698, 0.15018498922291187, -0.9538920142044035, -1.3874363075175946, -1.1659012690580022, 2.3849201125686665, -4.115694913947676, -1.7103723472918042, -2.2642978906605555, -1.0455791638016714, -3.6286924911295304, -2.5898977779912, 2.19003398355254, -2.6229303368492656, 4.5582926714483145, 4.014952541751279, -2.644113865419628, -1.3145439309674734, -1.714946641033172, 0.11134346320704448, -0.010451473731416042, 6.7366903954886155, -1.2344016496893253, 1.3637183622888867, -0.344609218349746, -0.1753327361172825, 0.6406089274589493, 0.27228063009278286, 0.5380320402336954, -2.0779707067584536, 0.39243048490829124, 0.16659795828989613, 0.5265057852255322, 2.259417954394997, 2.379211595856426, 2.3603030723517353, 3.758492276145029, -10.653846114877688, -2.2200457888247187, 1.3393066877937243, 2.780933458870726, 0.4014556707686002, -0.2835172454427276, 0.02658622799415598, -0.12285667891603685, 0.0193926578666424, 0.1562863673586193, 0.936631794571604, 0.48647454068326096, -1.6464372119545532, -1.1342859408082302, -0.29956130618864546, 0.654494189580773, 0.9635517881449203, -1.6109468159569997, -0.8556480856756576, -0.6598745103969522, -0.8343768734270114, -0.1523849094343936, 3.1795735479236513, -16.86299023863014, 4.175088355102126, nan, 6.151921076034499, 2.852128375295018, 4.198832786586843, 2.8735880812601287, 7.11997095503525, 1.4522059762657429, -0.8474465315280735, 0.20337790616716664, 1.9314817247894303, -0.8932562100078295, -0.29459618671876847, -0.3708831197406548, -0.260043706960057, 0.5857588984454928, -0.6249384191178599, 0.7310441075355795, 0.2819640110642719, -0.39438109735878457, -0.7502858589822318, -0.4076989577688235, -0.9596508392748675, 0.45293011618109563, 0.594194042473631, -0.21757130785098888, -0.8932562099899407, 1.125712854858129, 0.6454813532454914, 0.1915315574034196, -0.021239109040566747, -1.529896842227349, 0.46711582892884385, -1.4219329231174087, 0.6068534506171497, 0.881793065496212, 1.2750759302109798, 0.1268900175794959, 0.6467707616147516, 1.0757968505554565, 1.774186229799516, 2.221638376166642, 0.32734278336389533, 0.35672296434676465, -0.34412150676475917, -0.35217348149506944, 0.16632901421008103, -0.0459054914052325, -0.11309413691074685, 0.0056011275374138565, -0.012973581975453537, 0.12423240836296374, 0.32087349499848455, 0.5014072021765072, -0.5377532702440704, 0.6909739833525704, -1.0495944800278094, -0.3713195403095041, -1.9938661403047713, -2.408107393950916, -2.069892899054344, -3.5558588678665273, -3.888125921221341, 2.2183392716768955, -3.4312855899751744, 0.651636210364585, 1.7677178220849605, 0.43582083593006254, 0.3603445773482554, -1.9722852052471413, -1.199692419162033, -1.0748586334065136, -2.6225667748620474, -2.0023962217517473, -1.2641730406828025, 2.382130924118059, 1.2612875850435559, 1.7309929296130548, 1.3439876501962997, 1.2462560769880469, 1.5584327275928511, -0.06563084113010248, 0.21606059955015702, 0.029992661270477717, -0.09844258303750573, -0.790250138753874, 0.7661548581391316, 0.012565074508277532, 0.020579549966070438, -0.13644978013871956, 0.2433466143184782, -0.17682532036992524, -0.017342616364637745, 0.017340819571082588, -0.43780444455749384, -0.29253688323242444, -1.5611878919921123, -1.6234465449956548, -0.6677729747423458, 0.5695683608777505, -0.13563837125371506, -0.23533785633372115, -0.19983587031575228, -0.21644896213904338, -0.10222471884918585, 0.6396899477474548, 0.6411362959436164, -0.1259754721303447, -1.5369212517113577, 1.2154626779908626, -0.013451822458370098, -2.8991477333800764, -1.3412147770994285, 0.5275847370961161, -1.6516755536331151, -3.736002916798587, -1.2889268382284578, 0.33370682408696467, -0.23425732949914319, 0.7514309577644445, 0.8580353290957462, -2.1440877758048114, -3.6391083328857756, -2.632260063680379, -0.0664432519645795, -1.302111920359166, -0.000590267056412355, -0.7640393856867621, -0.1473751462842274, -0.0664432519650312, -1.3388591688128246, -0.9189549632655529, -0.6456518217389147, -0.7137044723196708, 0.016099742051849136, -0.02351009769146183, 0.0073918857635665745, 0.3468985311926563, -2.2064302299354233, -1.8547722036763856, -2.6968681927322797, -0.6753362822551856, 0.3252364022392713, -0.8435308379582387, 0.26844845142282703, 0.8995384273267493, 0.9985824170207399, -0.2688852075780903, -0.8419320808486985, 1.042622900824145, 0.9969225531552169, 0.23769316228076107, -0.27417293538312326, -0.6643659145726953, 0.47286144261298085, -0.44461254649119963, -0.8185727353573977, -0.24347552522063293, 0.44648873806396805, -0.05716334039866653, -0.18719190200087957, 0.0692221659208748, -0.05009709585979476, -0.723029705863959, -0.9011342393600315, -0.9917031042956536, 0.6417597586130152, 0.29155338755620736, 0.8015418963351555, -0.33727262430222393, -0.10796097520645372, 0.4009740161727225, 0.5119817699986988, 0.7896156469487894, 1.7617514833682548, -0.8605466050248214, -1.0726153659945181, 0.02658622785129927]\n",
      "new fold\n",
      "[2.663270252148012, 10.640008431294238, 14.24012250873338, 15.311892900021547, 9.811755393929008, 3.5086098633971026, 10.590733795465013, 10.743203447019605, 2.938252954630934, -0.46362672644991765, 11.45320597914751, 6.771808061036483, 16.54069105888423, -5.195211177943751, 10.42635487119736, 2.425169097975429, -0.3316616420093259, 5.619990792704716, 3.7606323482159905, -6.159581641860128, -4.994080974243165, 5.098058484244655, 6.958238164853426, -0.915696057346412, 4.624682109720782, 4.356794687136862, 7.261669984690457, 0.06535446555032284, 1.3695914366472874, 3.852603585987803, 6.10594340233076, 7.239720332818523, -0.15052303223868221, -4.141900266747503, -1.7851309009990777, -1.4328816822824595, 0.7672844268784543, 0.15027487521193153, 0.33983250343196253, 0.2161908549196569, -0.3088294861450888, 0.3097231207622853, 1.6093841039859595, 1.0697119301898244, -0.17257485474885167, 0.3076895888645107, -0.07041947687936777, -0.06456223038976865, -0.1797205259773283, 0.3747042128026132, -0.40999804108523996, 0.2134703974400999, 0.5631318793809583, -0.5599177299888047, 0.23169568358143258, 0.8753580937567043, -0.35386165483708687, -0.8966257685612994, 0.15753955290411792, 0.4153707965277602, 0.7490475917804474, -1.1567557497427372, 0.7270511752568727, 1.196841333365915, -0.15083309732016728, -1.4023381344055375, -3.612269390444326, -2.096646318557238, 4.518429486458316, -5.214508588273744, -2.556893170104237, -2.8109458702520644, -0.6934121821666082, -5.014930920111872, -4.063959200914381, 3.023382396294637, -4.333677090373612, 7.625099089989734, 6.047654486586287, -3.1802656999742047, -0.7380132669075072, -2.2914518259338763, -0.020707222143988884, 0.3012230058971669, 10.392827492695876, -1.579147360886996, 0.5187373479501012, -0.7033342240742667, 0.30493649400559986, 1.3834693915135365, 0.033436760013630176, 0.7000585233075323, -2.261566903162525, 1.1001779734516834, -0.9580902488656975, 0.5858342305847484, 2.8140698501446226, 2.8691986724485585, 2.303400855494534, 6.105147569289617, -15.55548793137414, -3.4487164236347603, 1.3486686077917982, 2.6336187099369743, 0.35970667800194456, -0.19826766295799098, 0.05930183627491108, -0.17253783420480573, -0.0029510878630656236, -0.3010300015561867, 1.0631979348015153, 0.16236818277115836, -0.07545287352898775, 0.14454763874934412, -1.834939499824896, 0.12391639521385302, 0.40842326587883315, -0.6541821565280851, -1.3902678482418396, -1.3307822947641652, -1.4254070397421292, -0.10035456174015984, 3.7062303321662884, -23.283130397122935, 4.831743243700081, 8.20988370911012, 6.346275034605755, 3.644436250600214, 2.418617488893579, 4.162793911302985, 9.335337270881867, 1.2361094363636935, -2.526249334534098, 3.3885313311430076, 3.034525745243478, -0.12176917945462813, -1.025637958886234, -0.9574869280755309, -0.5950201405866772, -0.19660392282862788, -0.8136763516761771, 0.42223405584584095, -0.2773571045714367, -0.03504173279256322, -1.3287389140998123, -0.7659379487739357, -0.8423565077147576, 2.3487308412790173, -0.19684687793964123, -0.6892808917285127, -0.12176917944545859, 0.812965130084298, 0.69784939334532, 0.8887543514316322, 0.6752806459666216, -2.8119604168585615, -0.010216915700349358, -1.963766108789396, 0.43084079484273835, 0.0979912517006802, 1.5819749409936235, -0.3462150592266904, 0.07252648760507986, 1.3388138913545817, 2.663531257476668, 2.734585790313317, 0.8800689362679325, -0.14912862880307903, -0.3676635685780509, -0.36707643984921123, 0.010772297489578574, 0.07583375569641894, -0.47383752206276486, 0.5239087602041332, -0.22260395167290953, 0.22036069581002432, 0.49504933187332095, 0.6329836766483038, -0.31127300860057044, 0.7689021718529153, -1.7144211154532403, 1.059814164937303, -1.3716971668310511, -5.088612527352909, -3.2905122842350267, -2.742932273602426, -2.04741945984256, -0.025847267588307226, -1.7533371225098242, 1.2010728780144297, 2.609994336244003, 0.7396527168538064, 0.5154119823974393, -2.950657125095626, -1.0776368194927397, 0.690661956280481, -3.934625609519369, -3.2003516378391437, -1.6617564953570823, 1.1793308037506183, -3.702792722366696, 1.2314588646317464, -4.896185597919633, -3.09453979786039, -2.214063687871405, -0.004576584572314574, 0.05947409416614552, -0.22649367473777743, -0.540778032151189, -0.4571374555026122, 1.1335725996211607, 0.14036521558238807, -0.038243378251840536, -0.09176916148032195, nan, -0.010562818698050298, 0.01494283900981777, -0.014939292468868054, -1.2510106804214314, -1.5993518085960368, -1.3271427230844326, -0.007762842125909882, -1.3103535338481065, 0.8128394779078094, -0.1494413522330541, -0.34989454646463597, -0.3150712226992042, 0.24069350806084672, -0.5626037133552023, 0.5899413476947583, 0.7284457388358366, -0.17063313753941986, -1.873333770633192, 1.7548064873385185, -2.104877657724642, -4.873346569161176, -4.4501220046076355, 1.115550731184526, -3.091318103412644, -5.3054451159639076, -1.296557544571123, 0.7988382983155599, -1.2293659622244424, 0.7457332114465239, 1.2511180608798438, -4.35344601956331, -5.865215599539, -4.319478271772197, 10.641312054751266, -8.547863726694304, -6.439361825786323, -5.251734441418003, -7.064844195834042, -8.768984176859123, 4.214673833782927, 4.851283741725529, 4.544552801224366, 6.846259636803615, 0.12243783311892122, -0.11424626278732199, -0.00799090836218829, -4.435835089660347, -6.480143823044066, -6.182142935814818, -6.178716985175411, -1.2626779615331003, 0.7684096741165718, -1.5697990305818126, -3.44871642374665, 2.04169724848949, 0.9280146261668668, 1.2007428239636488, -0.9680399086991133, 0.6786403536711535, -0.053931720095747614, 1.2462823911801335, -0.5724642739884362, -0.07195142239756878, 1.333639186436345, -0.5728388542967322, -1.1685044070070305, -0.04048697100895104, -0.20777365321073682, -0.22732073629395197, 0.05543103052852062, 0.4751722966702684, -0.010911835940598061, -1.1256216561743642, -0.5621606954492769, -1.1377645564692394, 0.37154296769148915, 1.218157981763381, 1.5979803030489739, 0.12703163921418018, 0.35673729366508483, 0.7730337038958953, 1.9544090994527588, 2.434396622669889, -3.16997982950515, -0.4279194627635351, -0.6647688767669732, 0.05930183676013541]\n",
      "new fold\n",
      "[1.4306818910495307, 9.619082889601607, 7.554849242270501, 9.02216521144675, 5.996680476473678, 2.4286645777060616, 5.438709584032703, 6.956451909400463, 2.5062974410853704, -0.793354280288779, 8.122960496904964, 3.8877301181121404, 8.201016048270095, -2.940211534718963, 5.769255967043485, 0.5215591611011835, 0.23456418195287965, 2.706318358238076, 1.4531141445055666, -3.227171488129358, -2.863773568852067, 1.1186098328669096, 2.784931036232709, 0.28804816145240775, 2.0250494413878277, 3.23222944374222, 2.6631332920161026, 1.345960392616313, 0.06169982183287788, 1.717701614871411, 3.6381032575044014, 3.2095338255936356, -0.4838507752777426, -1.8562424299106524, -0.4061385903670741, -0.7093678594393653, 0.41623684704101804, 0.05990828486025522, 0.19573743170764973, 0.05021267301149354, -0.4174884080312772, 0.4193285027029698, 0.39606073778935397, 0.49343117465681235, -0.057186593742349794, 0.08516737587439793, -0.008074784201119655, -0.01996035212725344, 0.1054930784503407, 0.18549022573630022, -0.4195645501942658, 0.1284681438601436, 0.26135146094672823, -0.25959032895342515, 0.09379397142375355, 0.36700650539814933, -0.15109118480498854, -0.3127769136270812, 0.006591819473122055, 0.3029578861979489, 0.41580985744930193, -0.7148098639033044, 0.23296874431150436, 1.0072617346549815, 0.41638780806193093, -0.08130607001771807, -2.082556521267321, -1.4038507850472894, 2.712773958331379, -2.4468243763712736, -1.3714090935085885, -0.6477770663203676, -0.7681921244414579, -2.771763358716849, -2.241188616496614, 1.3676497280301816, -2.4424121648345642, 3.433831313081173, 1.8210863384457807, -1.3731852352585976, -0.6976419240876381, -0.8752636921050071, -0.36341705309494177, -0.5079596609770889, 6.104705858057775, -0.7260145303980026, 0.29517157792094745, -0.2699591328963076, 0.10589459237414153, 0.7774470410750777, 0.20302903806329026, 0.600292081635327, -1.2349358576046392, 0.5643703628428255, -1.0400040370557528, 0.6410940888989102, 1.3480392234213896, 1.296538850889555, 1.378619750857147, nan, -0.6905958915152807, -2.5447053973919918, 0.639697361800511, 1.1707006677151484, 0.4502527870737269, -0.42109469345492206, -0.065868102635513, -0.028365330388362742, 0.08795628776256874, 0.09514056613936088, 0.9298987278762806, 0.26199875835127506, -0.8059551623927133, -0.24244410098551344, -0.7728809785914007, 0.08204243253031143, 0.3117558494383198, -1.040062008339194, -0.8560164608544235, -0.6323931162817753, -0.8540916366413709, -0.2524194552757119, 2.7545689986273456, -15.258970335656096, 2.9247480843191167, 5.993569529116514, 5.029780219947566, 2.100890424347223, 2.419128850311919, 2.0744936569762245, 5.476835580102414, 0.6013209759074798, 0.0746508321980453, 0.32444758772193444, 1.5496052879496853, -0.48429397605770164, -0.4834727347157745, -0.45000276750727536, -0.4486954568968581, 0.2516116494077765, -0.6165596954098195, 0.06763386178900158, 0.1629750897159386, -0.3685199807101292, -0.37182840767638586, 0.16042410477810354, -0.10830591148114566, -0.465228193951222, 0.005253378433796423, -0.29590018343916835, -0.48429397608240193, 0.824815740241547, 0.4210152923833918, 1.0272639250416564, 0.2421269855330417, -1.34504947003493, 0.14938979863832355, -0.4467353815457802, 0.48978022137214566, 0.6757875791823448, 0.6336744697998986, 0.27419434163313866, -0.5979008794998167, 0.03265654983618132, 0.739054008830305, 1.2465083048098706, 0.36505992576289426, 0.22793001023797438, -0.29750707497813905, -0.30485854297407394, 0.20707024772970953, -0.057677020642039036, -0.22304719711895019, 0.10060748817086111, -0.06678958193094882, 0.17548417165906235, 0.31583402766230523, 0.3571015851298538, -0.1634847351357764, 0.44371648118897794, -1.068569979451467, -0.2458794733731749, -0.9949910838269517, -1.9668631896390407, -1.489607683947223, -2.8472300387411247, -2.6338172666160027, 1.7285718902609712, -2.4867642062344344, 0.8054158553021951, 1.7330899822912555, 0.5040347290018368, 0.45334607084550643, -1.414221541993936, -1.0651832638783802, -0.4588900443719988, -1.784876247396523, -1.3481066440564164, -0.8665712459341729, 1.0374841414974503, 0.733274739086167, 1.1762350493768676, 0.5473568075313802, 0.7881022803083114, 0.9615816254197745, -0.10481884259780347, 0.28215068262128973, -0.030576848734377368, -0.324987896836009, -0.5429850686891923, 0.76332667617675, 0.0001079712272292215, 0.14552550784879384, -0.08583038917587497, 0.0316219700318215, -0.09728980203374153, 0.003920273445657905, -0.003918674075444926, -0.6503634736226793, -0.572453481919575, -0.7931600526097374, -1.336847866568568, -0.7253429986956574, 0.5465537195365446, -0.11586828803388109, -0.2427583762096906, -0.1895513728767283, 0.08992037229855193, 0.09531408772458028, 0.401110404230664, 0.5960391209662298, -0.044073182784336466, -1.6836231690002728, 1.1662576487518515, -2.79074958308693, -2.4965928296176805, -2.152772993887808, 1.8610689182859168, -1.6290055874701503, -2.214588547774055, -0.6204989575858569, -0.5503609709820529, -0.7028549922455268, 0.31307741376230913, 0.8279122229889189, -2.486499277380851, -2.430849992144233, -1.5028434392109566, 5.353901973441201, -3.85758637588502, -3.4257225059293948, -1.6982789248644998, -3.311236806099836, -4.541609110309932, 2.643711666248202, 2.7547299378346133, 1.8082936155447524, 3.447147269816863, 0.02992075611847561, -0.06545454562261843, 0.03554323770746451, -1.9601278115157408, -2.8440922644082307, -2.7433249096119745, -2.943836782497099, 0.6800763529711183, 1.1169863017683257, -0.7909568624257935, 0.5043947094887286, 0.9039832966044662, 0.8760921655781545, 0.3665590500676825, -0.6680533018738166, 0.4341311474339112, 0.9203577684843052, 0.31430224477784496, -0.3237207242469241, -0.4674660105095758, 0.4836192172925459, -0.19551557531247832, -0.7429326773854357, -0.27590980346773875, 0.24983127718257858, 0.42207121840939854, -0.2741131750064484, 0.015776767838425174, -0.15617281322741508, -0.2414891696221207, -0.15834437532971707, -0.1810967471353819, 0.9493556901015885, 0.17136632012343822, 0.5231350338390679, -0.11764602756122557, -0.4117505105079419, -0.3409706015427108, 0.849023442356557, 0.8306221794958099, -0.7973758154520142, -0.3049556602457518, -0.5285749659573754, -0.06586810417729373]\n",
      "new fold\n",
      "[2.739926195141505, 10.001262724975428, 11.75312933546813, 12.413700590994885, 6.636528497357411, 3.2573792639901704, 6.762743302218369, 9.969461110829126, 3.3815398393049043, -0.7325107707459565, 11.424292574112172, 5.611240672221065, 11.673424288210814, -5.00206240954954, 5.564689132849141, 2.5326956106367287, -0.634047015023644, 3.3332433645389727, 2.6015642641539243, -4.176009683061993, -1.9665129200188953, 3.605059317986648, 3.5206271994190703, -0.7686388559296209, 3.7741047908196594, 4.758821575879924, 4.189530260900144, 0.11295357524480032, 1.242767925168499, 3.151322035999651, 5.149439811611397, 5.39931763513043, 1.1829014664461142, -3.480543160840917, -1.0388712399426798, -1.075132650783746, 0.8244614024237922, -0.10325321728936776, 0.26105715538234275, 0.11657438172877119, -0.2441488028599602, 0.24429301380360868, 0.6488664379386064, -1.0761408760068087, -0.022312394892624286, -0.08589252296664508, 0.07734236268957341, 0.030430957453761853, -0.035477280370202466, 0.23544718408021156, -0.338373781725748, 0.1379127932448828, 0.3932307384848826, -0.3923084265506702, 0.21765210385359357, 0.7231239586657483, -0.18654410816262582, -0.9222358663178918, 0.17368386251914644, 0.40679620755300633, 0.5786620963545172, -0.9634504017516315, 0.8951372752733943, 0.21963853788124738, -0.2526371919242732, -0.5221425030287324, -1.5888763902370566, -1.1876338663141761, 3.6985917099149526, -3.9623920784923685, -1.6856546699713668, -2.0053413300421528, -2.0005695021896015, -4.0683474719350965, -3.0089329461811025, 1.9626713760653605, -2.848285534924591, 5.412692206197223, 5.476864637657761, -2.817532665209073, -1.4584642393394747, -1.6409874222606635, 0.38666124642067873, -0.00038791212131908306, 7.856574004042808, -1.6279607271249943, 1.464746988420922, -0.580389353999018, 0.06060591217066257, 0.8853009013801006, 0.16793388326901826, 0.9800606575943324, -1.6833935115296002, 0.34377921911681614, -0.6841679109365834, 0.5987138882525379, 1.739317343311436, 2.800387038861504, 2.216428420068613, 4.445923197074977, -12.573092116626322, -1.2198825555046489, 0.8940512704342914, 2.3973657526784535, 0.3517192768060078, 0.040068144707648495, -0.12864743527722328, -0.28119710223290373, -0.028944092558804434, -0.3591632500741056, 1.6253749763606093, -0.07770563627924704, -0.4320598671392874, -0.15380355975236196, -1.4476774760343227, 0.09236601461612243, 0.26731898007379307, -1.2649381337694892, -0.8832643674178354, -0.6727197518245933, -0.8253953475334814, 0.005240463380134095, 2.6013234289166327, -18.212803120061153, 3.5789070780549017, 7.31073446409538, 5.641243959548005, 2.5306818499690005, 3.8626599828450585, 2.501775102190469, 4.803571970470434, -0.07611794352661717, -1.0068820926226514, 0.06620138458367224, 1.9446299838861196, -0.2652370245150613, 1.3522337401730704, -0.7272690562558936, -0.9312463379820782, 0.10550258227444044, -0.836334410861886, 1.0116199551499496, 2.2847125072882815, -1.7648471404663895, -0.7566272417451767, 0.027831106929543166, 0.5390520895208183, 0.4650716490181354, -0.12959398912628528, 0.028764323350589722, -0.2652370245048957, -0.77021192018863, 0.3272830875898913, 1.8477451513542174, 0.03067923742969294, 0.009566001836572371, 0.2516813024065172, -2.208597464818354, -2.536387177000959, 2.1207490396650845, 0.9051322091565681, 0.05510222807255328, -0.18892795486850397, 1.2973905759359212, 1.9135375790856362, 2.0628015230853407, 0.5211713635581781, 0.026293500162379437, -0.2892104388238321, -0.263481023715535, -0.006489039405831942, 0.029607556719210715, -0.3613556865879656, 0.49347809543046445, -0.2361748995345823, 0.050616572906512405, 0.3501408418455443, 0.4276412124246031, -0.008745453336854444, 0.30355644145073063, -1.0584690524381675, -0.6172060811539832, -1.8169197395788168, -3.129513868287027, -2.5896388689900145, -4.042694362020414, -3.9261460029889577, 1.7908284246969024, -3.6710179621787375, 0.9567061819417721, 2.1182553079897706, 0.55283506406908, 0.5149464783422603, -2.1942563081752424, -1.8970123631043938, -1.1635294713255955, -2.7459293152639384, -2.2098232782451146, -1.8822228412749444, 2.802510518970818, 1.5090564114139167, 2.3943031269572477, 1.907681110934551, 2.0054342258540228, 2.270612855591904, -0.1717332232246764, 0.22116260496240486, 0.0289001222836341, -0.19364295141375135, -0.5945809486121891, 0.763693209456251, 0.030936809572019518, 0.02615092657829596, -0.12741270890918538, 0.12271660205772474, -0.07298125454734851, 0.021703591914011194, -0.021726712528160202, -0.7675608839348098, -1.1333442981975923, -0.8933436012172933, -2.5424761186617473, -1.0590329834126702, 0.6500163621700668, -0.12725352396898781, -0.2725965967272606, -0.25283332716876256, -0.4860519312102064, 0.9559369944006508, -0.15571773267058567, 0.019625464757702254, -0.9062282567164889, nan, 0.4801199754117565, -4.204507812527419, -2.845658748508289, -2.583569208420798, 1.3194852216834176, -1.4683472034936738, -4.510215400507806, -0.6983547107697721, -0.15737262502008867, 0.3364896837106358, 0.8862031316458645, 0.9059612839755842, -2.8219926440781435, -5.199664808532708, -3.932884132110239, 9.509066670814883, -8.758125542656114, -6.600034978437363, -2.1529449438888073, -8.134102649305262, -8.121559767724875, 6.142110725096917, 5.545783445937512, 0.5021811077820839, 7.700925445905707, -0.0005608611564203922, 0.011240878459255445, -0.010679016239519692, -3.315656143897864, -4.948813438949577, -4.646687647058615, -4.139484768139757, -0.6330173582881271, 0.33060585652947, -1.214280094979073, -1.1679722927980145, 1.1258570480308387, -0.492022247353819, 0.9538222020823744, -0.3019237576244112, 0.6685246934864759, 1.222256682673951, 0.5730912551958484, -0.6601367719122236, -0.34592212865383704, -1.2258829624495284, 0.5597406769913604, -0.5625827762178478, -0.48254028571168395, -0.13408997202144135, -0.7598092683349036, 0.06191310211186881, -0.04387742198695108, 1.2896324710913731, -0.49241330420945006, 0.4202959948587973, -0.38055926814369484, -0.09709064904548736, 0.46736720554887023, 0.7038129522523003, 0.8298070701928323, -1.1392629246638557, 0.5547029105746262, 1.4565306159711813, 1.9081163085101105, -0.7536061640168336, -0.5503890647216613, -1.2021444434042357, -0.1286474353152237]\n",
      "new fold\n",
      "[2.2719495424614737, 8.051473386253766, 7.849630775475551, 8.519963052411324, 4.927136824945497, 2.2657637126800867, 3.801604111943785, 8.196487678860684, 1.4490713318728359, -0.03329230887533664, 7.891510603184492, 3.5652405385131107, 8.765639273648938, -2.3500210500079497, 6.65538589221564, 0.25905557051941275, -0.5087738592732343, 0.5784162361590757, 0.9756014716944783, -3.089076289191174, 0.10955214485743887, 1.06428702257953, 2.1925407891273725, 0.5139522779149506, 2.739099927015254, 0.5828844952893897, 2.4491386870652008, 1.4849330736085822, -0.8648624241839633, 2.0996341661331575, 2.1482286973618785, 3.6176026015112073, 0.9528235932390432, -1.0487551988779091, -1.886346125519762, -0.6590300223136134, 0.4193083103846741, 0.048208421621074235, 0.20445881642067054, -0.0014266518966939506, -0.1805617387116369, 0.18073920235345725, -0.041797356578974404, 0.052429721166904635, -0.023500544989171902, 0.024144840859921354, 0.021657221729889944, -0.0224630661915914, 0.08045467495918143, 0.17063849976840903, -0.3066839868025808, 0.05528528983419383, 0.2645076266274045, -0.2642009502383135, 0.05358906853988081, 0.27801355519857046, -0.08816548401672841, -0.2809744261156809, 0.04025715107027323, 0.30094617397129764, 0.40963243457490367, -0.7040950570502545, 0.11350570642379519, 1.2835364981481976, 0.6524331891151403, 0.04509832401106609, -1.6861741368417682, -1.0768310104421235, 2.0838514350262796, -2.08200758071846, -1.4430708335063906, -0.15820845259305552, -0.26848875007778045, -2.634669528652307, -2.204885973001814, 1.060422619673614, -2.0766540920385377, 2.963274238921534, 1.543927312889904, -1.17177935070564, -0.43040067025903206, -1.0770394929405585, -0.2879336886513641, 0.10683991873444569, 5.021444039719804, -1.0962553124986778, -0.43823389219394804, -0.29600127718296015, 0.08092304094431538, 0.6434369893396112, 0.04648919988108506, 0.35131896328690826, -1.0893812724506895, 0.45315961502320856, -0.3607936893821746, 0.2514752815500054, 2.4743311585609113, 2.9652030915796965, 3.002353395115199, 3.290650010303745, -14.065537546385025, -0.5244149610630051, 1.6999651631368207, 2.9342682881211415, 0.16822152487700126, -0.08671038653816845, -0.3330988477106413, -0.019684883728758356, 0.10862186197520175, -0.006301672766175756, 0.22018199635113694, 0.24606774656470992, -1.1953279140814566, -0.20365042511567905, -0.6880410365468903, 0.9189164763714418, 0.786166825016048, -0.9230977619867986, -0.6340409540505253, -0.5933455528182277, -0.699796611685121, -0.3621304368671376, 2.4207409618751536, -13.776483635090035, 2.5793569706298696, 5.84344299889343, 4.4544270532602654, 1.571639590617259, 2.2702613311096647, 1.98797353521292, 4.739200800871898, 0.770467803038501, -0.22117343797125638, 0.0715754079630718, 1.7669568605789407, -0.4205738228297884, -1.7407122183536985, -0.37423919727271837, -0.45113098788915007, 0.9458729964979976, -0.515899230427098, 0.8459427432926602, -0.2739744754318, 0.0831913636243151, -0.1800963953938967, 0.3703474542917202, -0.04229842285571747, 0.21014392082766342, 0.5421704045254002, -0.5210673110230256, -0.4205738227996946, 2.069996927834817, 0.35025245881474737, 1.1980427136343559, -0.6010819527589855, -1.2986603597883535, 0.19289982899881203, -2.048651941125907, 0.2302743927355109, 0.31125994484489367, 0.49322814503134904, -0.23295516247311174, -0.05780485728270603, 0.7069559795374095, 1.205296340004176, 1.9166904257792925, 0.26415856593055226, 0.1621183989841365, -0.22915570862503637, -0.20369188155707912, 0.05086614133202787, 0.00818490370003522, -0.28564922144820426, 0.3739365149214279, -0.21523337478040064, 0.18627217140855024, 0.36600619228573994, 0.3761826350925114, 0.21694699108637178, -0.11968422439962942, -0.9496414026020399, -0.4243575657124427, -1.1458148688484064, -2.0310751287398405, -1.5542207549548566, -2.906950922826771, -2.723491165271127, 1.6121721783419045, -2.4729271711679, 0.6351932716111688, 1.445797176769084, 0.5341833667100727, 0.46255285953429043, -1.525506155338621, -1.2098206897207449, -0.5605982888260812, -1.7544556493025816, -1.499420502512744, -1.0829941167614712, 1.7429670189962294, 0.946513917188835, 1.510741689256112, 0.8882565488171669, 1.0832357581109204, 1.0993671559906861, -0.12707432578376315, 0.17059139719507693, -0.11181548641216588, -0.10689360348467383, -0.6041976232061195, 0.8182866051644693, 0.009929172778608043, 0.08094995106071481, -0.12072002247663755, 0.0700736700642583, -0.051468881303276544, 0.001708816293725706, -0.0017096453659031586, -0.7411340596554652, -0.8136960037262709, -0.9269072401585643, -1.7929275231393587, -0.8644797263075182, 0.40611266388930845, -0.0956715254182938, -0.1727209080373485, -0.1386625685002807, 0.083423773551418, 0.1357489612280433, 0.5117310309322651, 0.4748448675950636, -0.4891252973445541, -1.3066316166368397, 1.0440985515703907, -1.0284172149331494, -1.7976863447542988, -1.9932039601876288, 1.004535001824135, -1.3571656518034974, -2.0757721784080796, -0.7217847183637528, 0.6997858879339351, 0.07767610851226532, 0.13815540713710794, 1.193218886704597, -1.2538764890245657, -1.5246061157031054, -0.8960904355835643, 5.501559502180232, -3.7953731808915876, -2.7152701407909277, -2.683941303803468, -3.0615451634906994, -3.874365093854739, 2.594272862629835, 1.467853961717864, 2.9404067449822806, 3.059227955023502, 0.04864078531404414, -0.0879003379618597, 0.03935148060546328, -2.5473929757623495, -3.891760914003613, -3.053101511364235, -3.7795334421037254, -0.2385715184970195, 0.14094876229383954, -1.0496673788704323, -0.9512546790530509, -0.5607191806395596, -0.08123918547590432, -3.891760914003544, -0.6263411204945194, 0.2261762497615347, 1.2377483932024873, 0.045540514740677, -0.43516620835467584, -0.5372483349558221, 0.2483415669854433, 0.029890653653437925, -0.7000602704529392, -0.16625924082989135, 0.49384703280062414, -0.3398130849735732, -0.1605621148526786, 0.1468448330094795, 0.009259201762871812, -0.3612976023473933, -0.3594656670328604, -1.1720937415660813, -0.08671038618115615, 0.6285162378221857, 1.1810183763896787, -0.21392238291124469, 0.6820412125176837, 0.3114460591895339, 1.2205554294856025, 1.2439937055422474, 0.2294982443845213, -0.6945501608961031, -1.2001769376254074, -0.3330988475286501]\n",
      "new fold\n",
      "[2.5424958350565157, 14.13772981124352, 15.977481460061227, 15.677444193663286, 8.591303860066091, 4.141936351846206, 7.912686936447861, 11.500694581826458, 3.177449377849731, -1.140993588196972, 11.821241384528266, 6.463246878891181, 15.549886313668486, -4.712853111896937, 10.551878183435745, 1.9577324928081505, -0.03100450798354828, 3.3302040333694345, -0.32147504313112857, -5.189743537221563, -4.468199361944626, 2.3080100241438233, 3.977069019203292, -1.7501216897966008, 4.734295569387293, 4.828557550042495, 7.427823465867423, 0.10853907605183903, 0.6717389508635255, 3.383709526297439, 7.631371218360098, 7.250961535701672, -0.6152315454882439, -4.63623781852605, -2.3350319359112346, -1.7620010599097313, 1.0328646245127493, 0.587650224883855, 0.22544373606786292, -0.036497028441650294, -0.4708743380893887, 0.47162043942572607, 1.3674499553502735, 0.4713959915891095, -0.20257746028669782, 0.018409227340051456, 0.2673250438533416, -0.0865473101129107, -0.12504317289119488, 0.4990421868452209, -0.663850837162375, 0.29063919884322, 4.782290863313793e-13, nan, 0.22981150562219532, 0.8772613397404674, -0.254218031176283, -0.9148030024432476, 0.07668021775593602, 0.4037732952742856, 0.7751818318615079, -1.168933077976268, 1.630562934222947, 1.1807889078217313, 0.505467530338738, -0.12592221937470632, -2.9982308790728536, -1.7425529870761558, 4.672576332191303, -5.824298881111011, -2.365977518073982, -2.112728604516678, -2.185359929489528, -5.216667337582692, -4.68900860965308, 2.7147733664740197, -5.179455063683627, 7.4409824203941675, 6.216625378325255, -3.238596308482471, -1.6335589398034234, -3.0174716362408285, -0.004210626949519645, -0.8184519194291443, 11.245368428324452, -1.6545548048733858, 0.6251068978352065, -0.9070162420571393, 0.36130962355856827, 1.4124526417833312, 0.01658253770844408, 1.082412891421273, -2.1058147393493, 1.157792472923942, -1.08929269994276, 0.29280232494496267, 3.6750518734443345, 3.7266934877783777, 3.4023114871881543, 6.296217624470289, -14.362015696288436, -3.411317294398755, 0.0243365106284427, 3.3370456036595235, 0.6067780850666454, -0.3500301901644073, 0.47657198477860163, -0.34462077682940007, -0.1652816273879002, -0.060840443120385806, 0.6642445016679194, -0.04093445158687116, -0.7668672003439457, 0.6118821277880624, -1.1822703011516977, 0.0510630773106688, 0.5319587562324491, -2.384281207616887, -1.1941312360697192, -1.1278976020653306, -1.1663891968109783, -0.28996081443968375, 4.633034285947488, -23.079730723353933, 4.365087535408097, 9.845788005857534, 8.05277640052003, 2.3585078628601384, 4.01893855775452, 3.1812023219192556, 9.38816504719258, 0.6911765636919902, -0.0448615985771702, -1.655345077733704, 3.3850755430645187, -0.4390021032855902, -0.03871927779976309, -0.507010985872791, -0.7938151943895384, 0.30222772585594293, -0.603792962426505, 0.9984774984043118, 0.4985741187210687, -0.054347554261218775, -0.48801419712503497, 0.6017761096036331, -0.8099810879234461, 1.0272804874888408, 0.6030349789624487, -0.40468643761833006, -0.4390021032904155, 1.440345717493646, 0.8539773317304716, 1.5893243871176579, 0.7182995633261875, -2.3811649306668423, 0.45873654453360146, -2.5781242427316933, -0.1506528301514228, 0.9056651650410615, 1.1436656208484477, -0.30637538946316345, -1.1306439244397046, -0.3291092793858317, 0.24701640726631513, 0.9018262688327268, 0.6304348936400118, 0.21597247189456803, -0.45438650464539804, -0.40442668667826537, 0.09461237827577106, 0.08082961540238959, -0.33219171431826294, 0.24903563982203913, -0.14727564082442968, 0.23841576312074228, 0.5644121585497762, 0.6532684285160582, -0.5673525470905749, 0.9673440565508726, -1.7416974543299553, 1.6722700537218078, -0.5228298998189058, -3.104926429555731, -2.192926749615941, -5.073553483897516, -4.600284783187674, 4.032512478477247, -4.1517430349111475, -1.4633435178745244, 2.90332485210792, -2.551587980020505, -3.1499957096352973, -1.4220568006976266, 0.09775010351858622, 0.2738804541461689, -2.753718613076091, -1.1416027987115138, -0.7053667867057862, 2.5115095576659874, 1.0628078582980147, 1.9129669408123393, 1.0190445453625843, 1.4863850526628208, 1.6236474389858648, -0.39584603636944043, 0.2036922217895896, -0.1520261082307764, -0.0917468484221784, -0.7639338327789642, 1.2859706185269353, 0.11722070819387959, 0.08697540174496596, -0.08343575221781228, -0.011368416115316684, -0.10799144093981955, 0.0130724351206967, -0.013089320930262879, -1.1623881500014346, -1.1354613110145568, -1.779734047562205, -2.4943139840324613, -1.4076051480855905, 1.0562607985395607, -0.3404636353646317, -0.3711170881166198, -0.3480175376121897, 0.12602033001608254, -0.5445192554602301, 0.7850701203584849, 0.942349406144124, -0.1494517175868382, -2.0420581631714056, 1.792179213871735, -1.3879789196050614, -3.137269913719027, -3.2802450059848463, 2.0827031154974054, -2.1247295653267573, -3.65488962025691, -1.6716941301582429, 0.5451144513759105, -1.305354025977105, 0.4842284262464975, 0.2837158313842955, -3.9886947338849277, -5.091829692747789, -4.122503043959495, 10.242925137415098, -8.694467462361315, -5.820845956233296, -4.63712365474831, -7.307702774166891, -8.510692459338149, 5.084900871960623, 3.473142427851565, 4.487566846015527, 7.207373228445421, 0.10265261347101376, -0.1886015582864279, 0.08619112810351631, -4.828936259463966, -6.645387746142736, -6.278870669121244, -5.276955251130919, -0.12001066947936669, 0.7748836000232727, 0.06307890128515074, 0.486952309329508, 2.312105952642962, 1.364391555372462, 2.006450062656795, -0.7898818457059864, -1.2701919486147937, 1.9914487059146122, 1.106154619769349, -0.5943176015348016, -0.6063464839583493, 0.9791902127812518, -0.1460223595586326, -1.0895323713494758, -0.49957885315880163, 1.0949605407586955, -0.4381715729238094, -0.2413198200391764, 0.16287242908755722, -0.13071030694209923, -0.39056208753706106, -0.6009373960751074, -0.3842849823637662, 0.5195131505017353, 1.2720819601704447, 1.6400409511268674, -0.2538963078625439, 0.11567447874119827, 0.10883039663502703, 0.9234834405156505, 1.1325101274184044, -2.4675934040370633, -0.7053350139918206, -0.5406602446441799, 0.4765719836490908]\n",
      "new fold\n",
      "[3.2413819141256663, 14.488165659788097, 16.487793255949303, 14.979393283219524, 9.388247509550578, 4.309496593027383, 9.463611153749081, 14.50705414119062, 3.7947254949939304, -2.3234350737124747, 14.16690400900593, 6.5269136392614815, 16.71946720983477, -5.128675198485453, 11.092388796155946, 2.8855259622102016, -0.2868957674175815, 3.9765996330229285, 2.8884679376710802, -4.936982688649406, -4.153388057260533, 4.576257328233521, 6.934200286072892, -0.5417489950558048, 4.076443489396638, 5.548449891837211, 7.089044298484101, 0.8704488005835976, 0.3165905645980925, 4.457986485274156, 6.7514907222042435, 7.316445092014576, -0.03490187636493553, -5.335725055424542, -1.6768451518567158, -1.4573567739584956, 0.9166850918782566, -0.06252194994779744, 0.40108374133279506, 0.23575250500795483, -0.5345363052217881, 0.536263594874832, 1.5493206509161537, 0.17926399438691884, -0.12023594286610617, 0.21466219626864974, -0.09158804904770926, -0.002455478362247972, -0.04465251716477526, 0.49432862605200895, -0.7299451444102097, 0.2809697883066537, 0.6860361367997168, -0.6822489995113302, 0.22357488456166413, 0.8880901338697769, -0.20580826220726806, -1.073592756542339, 0.17727523436082077, 0.3437345992968875, 0.7587194376129723, -1.0941219853116677, 0.9884681579870834, 1.5114293074117677, 0.7742640500720452, -1.5809361434297982, -4.035559568453989, -2.5617269076552995, 3.9580051150563067, -6.094182870529783, -2.3269607440673226, -2.5360406370632997, -0.4267289563277037, -5.0561473001632065, -4.733230259258326, 3.238411307304725, -4.1842196324183165, 7.539130626193696, 7.490350540242934, -3.4764269938750747, -1.1800524061674051, -2.6503923774399465, 0.17482086987504156, 0.2904217340426139, 10.057764274108843, -1.6150131033538706, -0.04734216903317968, -0.8420097659179753, -0.010111739523791087, 1.2530566914133336, 0.3022074232663665, 1.5146174632245033, -2.806783733647562, 1.1609938056168918, -0.9992270379154773, 0.5933164712414086, 3.039331642253034, 3.64726586075903, 3.392946308583265, 5.750072080861522, -16.229891770469056, -3.1162626129943196, 1.8272724309869872, 3.391086960722956, 0.805036828807375, -0.5191892500530735, 0.1645028931802509, -0.37809651985392656, 0.04383263243887047, -0.2570143370096235, 1.4902119277897874, 0.11287378832891984, -1.2905817871478038, -0.47101000938955445, -1.841939724361676, 0.8190687001972677, 1.1908833899175395, -1.7753243420915912, -1.2841445353709757, -0.9870771593939831, -1.4041804111696699, -0.4298510641114554, 4.457706577655768, -24.937482504212728, 4.258363754752677, 9.984173717620878, 7.692510723721817, 3.357246389536213, 3.8281715411244175, 2.964748075702493, 10.926197294932075, 0.7402658301549476, -1.261947108602906, 0.7150253873967999, 3.1975995468176297, -0.5209512207302762, -0.24651052681565272, -0.42871544204209566, -1.5644760839013034, 1.1273907410780153, -0.6635245354674137, -0.004692477450176164, 0.6264480058338234, -0.2811405783337206, -0.14525148617305458, 0.6454673439695529, -0.36787967927250614, 0.9743831983767693, 0.094434174742258, 0.447560100891001, -0.5209512207224035, 0.8003156088021565, 0.6876965006500589, 2.9117145719807866, -0.1981678730948841, -2.096799913453845, 0.37481553070071827, -2.2804452825703496, -0.7388109384187318, 1.2646552527365926, 0.8790952264937694, -0.5044995805763937, 0.353551250380643, 1.8837691875013143, 2.9863505528766505, 3.1824931040930275, 0.8238902725241601, 0.20131366378795043, -0.5270417613941338, -0.5111027697685906, -0.20096438413122278, -0.07797703834343112, -0.23236466051362395, 0.5008985162811013, -0.04449156171692406, 0.3296081171260999, 0.49858754573041497, 0.7162269083154772, -0.1737468884429125, 0.8242038323440508, -2.0692183886396873, -1.4942806588577362, -2.338594738033708, -3.9825495255780416, -3.1187372905924806, -5.482100552264464, -5.390432652216981, 2.7124829627731355, -4.9909832376100125, 1.0480708773665983, 2.5004177227988036, 0.6830028857345116, 0.4176466077275792, -3.136018629200082, -2.5143096868109, -1.8227405997310422, -3.6956727537069867, -2.9715714023422106, -2.080330303918956, 3.6087660119136147, 2.238393779074663, 3.3715483336726937, 2.297191623777079, 2.5498895274465605, 2.911065160857803, 0.05117704219136973, 0.3114240755532701, 0.2664430597227107, -0.7112025858915403, -1.209485977046824, 1.3410439890303165, -0.05634376446357249, 0.057568610684324256, -0.3056302724892286, 0.43671772681291327, -0.19903900176986175, 0.014873176618124805, -0.01487432458291543, -0.9190425170994794, -1.079298076015645, -1.1220234054984428, -2.4976126493033446, -1.2055842463295758, 0.8355984310001449, -0.1766606079217761, -0.32516421389297656, -0.33714581398943816, 0.02032653811988634, -0.029476495007142837, 0.785004763597639, 1.1872752952766787, -0.3305638835121631, -2.633864754680733, 1.8904448367395061, -3.68386622977293, -5.094630494211454, -4.968511420158488, 1.0775590356515026, -4.3502628980900155, -5.060434089562515, -2.290910255950747, 1.3829470330415243, -3.864608824952642, 2.011440715812172, 0.7394641332509735, -2.992278757660494, -5.6806561326558205, -4.256961436827629, 8.263899090942466, -7.3673794975197415, -5.082529006058147, -3.801711098818485, -5.922722707628282, -6.859011702124474, 4.131429684350012, 3.5733046649393985, 2.9857050224122297, 5.359823849608607, 0.039510914868314075, -0.11757918224885551, 0.07806732328027192, -4.760007283698886, -6.7067004406633774, -6.31180188070459, -5.973644498233016, -0.25070293634719976, 2.15798800091017, -1.9160747914700609, 0.05075833332528167, 2.0918178129746807, 0.35948656220570824, 1.3420347531461, -1.352885305444618, 0.3899963245533791, 1.1285963122200227, 0.1724737429424954, -0.6893507871808056, -0.8897279622320526, 1.2476193569207654, 0.7433460548729726, -1.356444131838179, -0.12607891380885797, 0.5222718694708077, -0.055874516018999704, -0.42465038679260675, 0.46032719848045406, -0.3658085288497684, -0.2604805825804452, 0.346990144648018, -1.2779838842579427, 1.2573775697125589, 1.0860430870746915, 1.4694755000947823, -0.09953309281299125, -0.6674895143256988, 0.4201728589835951, 1.5098332845258426, 2.2140520540941138, -1.5020384418003672, -1.6299026014545452, -1.9154655240306038, 0.16450289247034117]\n",
      "new fold\n",
      "[1.3230673331288059, 4.827725774053686, 4.630772108308616, 4.761127831869268, 2.7162889669510912, 2.0091685085788185, 2.5300043645145758, 4.806822623302469, 0.7340194762670599, -0.5638104534487699, 4.00162503567295, 1.1619652128156357, 3.208912735777865, 0.11577151248896762, 4.507988777812619, 0.36016041914267355, 0.11769996648733047, 1.510528552922079, 0.6551483892779354, -1.7979691180511743, -1.4090234028330924, 1.7851467353164636, 1.8038073078723367, -0.5706075568502266, 0.591097410035471, 2.366987738413876, 2.3579209099248044, 0.24694054198286505, 0.8555174532759429, 0.7597293887583151, 2.978642984544481, 1.349949700484088, 0.1535471186524489, -2.123920650482341, -1.1539854036894333, -0.4278625465141048, 0.30683091771916915, 0.03905266234685119, 0.08450248127041617, 0.005217126547356157, -0.14128519292857739, 0.14131741838363535, 0.0872037280440898, 0.04728160195693454, -0.07019473716414643, -0.005683070516315106, 0.09195127637968828, -0.016722166695788583, 0.01723841116390524, 0.08466225847258818, -0.17749011024012087, 0.07548298278151092, 0.24182753491327671, -0.24025008227574474, 0.12695231196117157, 0.3338112766979463, -0.024436412293919733, -0.5098822817329811, 0.08651213925856498, 0.1508582206219107, 0.23057342541283873, -0.3788140214641497, 0.28497853290118763, 0.9483385552950938, 0.7903008951775543, -0.6059700966808104, -0.7579013485676723, -0.7481750477759411, 0.8426975436212774, -2.1667952663817447, -0.6064743355975584, -1.4451122215216914, -0.22291612001194183, -1.786612892043293, -1.6424351478348078, 1.0591076646513433, -1.4511464183730516, 2.3798570395515917, 2.284450505708624, -1.4931950837406347, -1.0500285111064038, -0.9663202419283322, 0.029422240462894864, 0.061233005360998766, 3.9706067226450554, -0.6745798860530003, 0.21050886874703081, -0.13617395535426666, -0.033522628375153386, 0.369483625592086, -0.03031631962441673, 0.21346250788099827, -0.9426448323396261, 0.2813781822740266, -0.28824662187948497, 0.5678782906147397, 0.0040469700731823105, 0.7971162264693138, 0.8524411858705557, 1.5304829384648109, -4.794896756406938, nan, 0.3365256026455315, 1.1068875891837158, 0.20576227883550574, -0.09205579588366809, 0.012818870636537315, -0.0985222632196762, -0.012090287286323834, 0.11367455055117985, 0.8135847570324213, 0.27464628795252255, -1.297730072593926, -0.6924438384564309, -0.24907419096667513, 0.4340604339876047, 0.5008114122670704, -0.13987170653598383, -0.01790935391820969, 0.014625530524001134, -0.028877526808720296, 0.17477695973399843, nan, nan, -0.8561218664435872, 1.1780920562622428, 0.5899934619388075, nan, -0.8338256131298089, -0.9382162121801718, 0.6160317254815961, 0.3778934523476328, -0.3026961387286845, 0.05365578041513514, 0.8148937159027497, -0.5320000903023289, 0.44220513721419025, -0.18043157151302308, nan, 0.23498413416779032, -0.28448601076415125, 0.23319718241726953, -0.0720935403441044, -0.19060252167128444, -0.4773000709629089, -0.1480866471436017, -0.07479714550521212, 0.20866612842086804, 0.32187636908742584, 0.3175242722136219, -0.5320000903047875, -0.2670335673426793, 0.1471575070386379, 0.05550987406423953, 0.03474986769511556, -0.813688817644956, 0.19577830070295668, -0.5497321748640668, 0.3912962702050623, 0.49057067979055896, 0.7119134904669446, 0.29111216486114305, 0.8381302179956283, 1.3947663281992337, 1.4881331549977128, 1.9357256961363414, 0.15990875914519456, 0.14397176592489358, -0.15306295962221886, -0.15639899291352474, 0.07467421207679453, -0.08991255374729486, -0.11680634513039317, 0.15219071907239962, -0.0485003357049788, 0.01903856481236664, 0.11186194849467095, 0.16075002463465765, -0.16808215483110023, 0.41917446194433605, -0.46830849281220355, -0.13222743741874862, -0.7123831429624224, -0.9264264409537161, -0.7550262467645875, -1.4321539302230286, -1.4403414819603895, 0.8722041384046522, -1.2735007666180562, 0.3828435039496851, 0.8809670220669216, 0.3356843701542903, 0.2418028333634783, -0.6804765218078418, -0.5297378595116607, -0.17084903359795253, -1.077418550508214, -0.81109547307707, -0.4609606801286898, 0.964409363152561, 0.49364482182341696, 0.8503742340589947, 0.45647890570977, 0.5893273910196566, 0.5844448230855398, 0.06317116895452894, 0.17446165595317664, 0.05884279729108868, -0.11185335079010982, -0.4904378972255623, 0.3715785580639338, -0.01738788131893246, -0.0007649227013111974, -0.0906592219693475, 0.17111757599716235, -0.08971992790713322, -0.0009846919602244377, 0.0009850477730439042, -0.3448165992980297, -0.281314083344991, -0.5752400148929093, -0.47116552036097126, -0.4542801755083836, 0.3027929589836709, -0.07471336773260649, -0.12017285007835556, -0.10828715117975286, 0.27031615577318413, -0.2636722954102807, 0.21005655291234474, 0.278835604120344, -0.09193698508963853, -0.6927200104451935, 0.5463608244612541, 0.6767785103835723, -1.1902691327378516, -1.0408408089558123, 0.11122691952728513, -0.9347894431314256, -1.0757618710986172, -0.573499232504489, 0.532377354606595, -0.10947889089632273, -0.13314492139599646, 0.8349812391638719, -0.7453559375805874, -1.2863480921681512, -0.976988882930528, 2.7506775728346864, -2.876971264756276, -1.0437819654086493, -1.1419149834740314, -2.0744825696183793, -2.3106281633028094, 1.5651315387505127, 1.6918773073883622, 0.68267205532401, 1.7544444815887719, 0.021298071249028973, -0.04490605947189886, 0.023554381294161382, -2.192023247354853, -0.08030290001392884, 1.6655184263002083, -1.8274785739265693, 0.03342942229159099, 0.063467662125558, -0.6822454522557555, -0.14826846682965825, 0.3703557365115621, 0.10624324722573554, -1.2508241089979253, -0.3672379841011185, 0.29969851472062714, 0.5476859397282184, 0.11407493664500601, -0.08238429107234041, -0.46087594044915703, 0.4737151265544544, -0.28446987439070714, -0.34860476854245515, -0.11285013736172221, 0.1780947432382963, 0.017219364656758974, -0.0804062643334576, 0.09202822171399284, -0.09770206576652442, -0.29666653445248053, -0.3731182166396792, -0.3920603466936695, 0.30860839471431756, 0.21121660359074823, 0.3105668896239288, 0.0005281377565147969, -0.4635137771466636, 0.2563682639151771, 0.452211390944948, 0.6990094830578172, 0.9030178410479552, -0.518633504295419, -0.6630457536939232, 0.012818870529854037]\n",
      "new fold\n",
      "[0.9354275841382367, 3.379450178200051, 3.3876783591897546, 3.1599076236095813, 2.0558001400386625, 1.1762364124188025, 2.19532424807465, nan, nan, nan, nan, nan, nan, -0.1711510206685926, nan, 0.3987008752065822, 0.242404189060729, 1.1956937260217289, 0.24829616525027695, -1.5674128465999342, -1.052489186592647, 1.3535097086609365, 0.9593001962201974, -0.28031646271480193, 0.5772252812137675, 1.2665371511722157, 1.254911805385618, -0.24172856674940632, 0.8039396494846927, 0.6532596412459665, 1.501763600114085, 3.4697518907640044, 0.20172505767260848, -1.0559743941365887, -0.6177475742118317, -0.28173614319686313, 0.10331540144722672, 0.06222027223863866, 0.09763204698422309, 0.026096604930008212, -0.10038700312232919, 0.10065807732461197, 0.2657837179703218, -0.14578803386578215, -0.028320319346881406, 0.016542271031383803, 0.020194954543189123, -0.008699571296171804, -0.025054616432509516, 0.08196276276559213, -0.1121693074700878, 0.05524661561249688, 0.12375214535813951, -0.12296750359759188, 0.010099896809407576, 0.11971264848288161, -0.09864883219386072, -0.028885784101498883, -0.0016754596362492623, 0.11544861799647133, 0.18279238145125784, -0.29713628414327753, 0.07972430851107139, 0.4103679684545344, 0.1936751994543411, -0.08342141446814648, -0.6591795481574843, -0.5953007007008829, 0.9172897326057902, -1.2638335416912048, -0.6764880201759315, -0.5530814156709185, -0.021769059786128923, -1.1122767711851744, -0.9483533537042016, 0.4962450651956966, -1.0211819284432855, 1.4268268843208634, 1.083391428158861, -0.7753022260223239, -0.3046214858680505, -0.472505956958995, -0.09125133265271186, 0.3638731956940926, 2.3299110363357824, -0.5822905921158985, 0.18109015638068104, -0.022429094607145903, 0.03284595410836684, 0.2776012714552914, 0.022257390251500794, 0.2370369722073179, -0.5311710314245165, 0.14800677923370695, -0.1918909614976818, 0.07154376989203143, 0.7791677743218066, 0.5969850485284138, 0.7123934973886316, 1.1643690399466606, -3.4846100942343385, -0.5466833861035487, 0.37832422756807627, 0.7271819945273249, 0.12005244650731406, -0.06164181227913175, -0.04670610048563046, -0.02307931196558374, 0.0023165641320200716, 0.13906464389988155, -0.024578341869937785, 0.22877007781503603, -0.45767128932222584, -0.25921811392224114, -0.11127204346664875, 0.3069566029761752, 0.29682223014636155, -0.36186666623797253, -0.2704882156368582, -0.2697085727343738, -0.2850527225121644, -0.08610646604416801, 0.9491984340307855, -0.3160899417475694, -0.41354830587728464, 1.102139576733061, 0.7225398597704841, -0.4350045588572944, -0.3640327719072328, -0.5382552121827862, 0.6000143004652563, 0.2558273132353216, -0.20132454452312187, 0.13525852993588577, 0.5183685320418358, -0.007961270376766387, -0.052716693083814, -0.14767905050853183, -0.08331822700483504, 0.2027180589550986, -0.18127395574337204, -0.017960656325029155, 0.21136659504080685, -0.1584932544120955, -0.3587302573841441, -0.040461628171507946, -0.03501408003805323, 0.130867092280073, 0.040125869269784724, 0.11718901716129826, -0.019887994444054553, 0.14908141580286716, 0.142872519916036, -0.014484106184179309, -0.08103095642093784, -0.49107474343993934, 0.07932457296902161, -0.3685241482684604, 0.10872296733093437, 0.29697808687291893, 0.413388770525399, -0.023870020155600552, -0.04257267178478942, 0.3285813436497363, 0.5490048279434665, 0.5684001493752869, 0.13398191595086367, 0.12650387278864267, -0.1313864511819776, -0.13390253920924894, 0.01895101544714924, -0.06793190448876894, -0.06699251042834511, 0.13209215067491484, -0.039400333192845756, 0.037922049758028153, 0.08895836177690009, 0.12142320538746958, -0.056018084359817394, 0.1977026339213215, -0.3710239249061214, 0.19219646304818114, -0.46390016877441126, -0.5548928949688565, -0.4182891345540209, -0.9472317512422281, -1.0009474191422558, 0.8458956400763983, -0.895854707099392, 0.293819429769976, 0.6098583210184488, 0.18228787440723704, 0.17510880704199175, -0.3954721319064663, -0.2396616269787686, -0.08477914156425652, -0.5307606896833906, -0.4004655377804351, -0.18248210283577568, 0.48018629297701565, 0.25510007614565505, 0.4330134310200122, 0.2929939940583891, 0.3203353752213388, 0.3543652892297885, -0.006435358118479277, 0.06004596653459821, 0.04926048482355433, -0.07234358302722615, -0.21505279038115313, 0.20903941867587889, 0.002149124026486138, 0.021709076306525653, -0.04910112367794386, 0.06142945236978081, -0.04661481589925745, -0.0010526451613074809, 0.0010531530267703887, 0.14173196415684722, 0.1407469204151084, 0.04737319044983475, -0.32805597831185496, 0.11404762409092471, 0.1710167398030732, -0.04625251594448775, -0.06466920630325296, -0.06068170228722845, 0.007561948182308041, -0.12211255945156527, 0.17434635293659312, 0.27193847827537737, -0.04557226822299506, -0.5239487498485499, 0.43580182351277785, 0.004931209549421443, -0.7321806946294652, -0.6153189781795506, 0.07820290933405794, -0.49791933378054726, -1.0235490497778192, -0.20766894510943806, -0.026397111635007468, 0.03943880739114649, 0.10486323175487126, 0.41337279678517314, -0.8188045398663021, -1.0959108672334068, -0.7848142555986634, 1.93181740175633, -1.796297186588848, -1.1429152101347289, -0.7491507499982194, -1.4443214423663964, -1.6192067060912363, 1.0715149577470109, 0.9313294978952662, 0.5521488426542555, 1.3223240236237794, 0.0215742182221318, -0.034917403791873636, 0.013299135180509064, -3.3354873110775256, -3.4433559860826817, -3.432551119694765, -0.9409193460773716, -0.22673911583293313, -0.0010705141383973993, -0.5349932542772227, -0.19740995939549058, 0.11547937250363606, 0.02955946437478662, nan, -0.2714923869517741, 0.3704714121282652, 0.3260532984565066, 0.0018114329700485712, -0.12351412533251056, -0.27535169635292445, 0.2058818192966488, -0.0670221273897165, -0.2775654608814191, -0.06630519467741154, 0.12768889257894284, -0.00010661516619810508, -0.04851867013474733, 0.029316518990350395, -0.046178810476430396, -0.31651009339352015, -0.20203198472931197, -0.383902365713671, 0.12567899321902556, 0.024894227395684226, 0.18053075814378308, 0.05881838810258342, 0.24613924158096867, -0.024244795462408923, 0.25504617491871784, 0.35479866399672183, 0.3309561123642848, -0.30184603134848037, -0.5344177066475874, -0.046706096542834696]\n",
      "new fold\n"
     ]
    }
   ],
   "source": [
    "kf = KFold(n_splits=10)\n",
    "kf.split(X)\n",
    "n_fold = 1\n",
    "z_all = np.array([])\n",
    "\n",
    "for train_index, test_index in kf.split(X):\n",
    "    z_row = []\n",
    "    train_fold_X = X_non_norm.iloc[train_index]\n",
    "    train_fold_Y = Y.iloc[train_index]\n",
    "\n",
    "    test_fold_X = X_non_norm.iloc[test_index]\n",
    "    test_fold_Y = Y.iloc[test_index]\n",
    "\n",
    "    lin_reg_fold = lm.LinearRegression().fit(train_fold_X, train_fold_Y)\n",
    "    pred_fold = lin_reg_fold.predict(test_fold_X)\n",
    "\n",
    "    n = len(train_fold_X) ### should be test length\n",
    "    k = len(train_fold_X.columns)\n",
    "    xtx = train_fold_X.T.dot(train_fold_X).values\n",
    "    v = np.linalg.pinv(xtx)\n",
    "\n",
    "    sse = sse_calc(test_fold_Y, pred_fold)\n",
    "    beta = lin_reg_fold.coef_\n",
    "\n",
    "    for j in range(len(beta)):\n",
    "        v_j = v[j,j]\n",
    "        b_j = beta[j]\n",
    "        z_j = z_calc(b_j, n, k, v_j, sse)\n",
    "        z_row.append(z_j)\n",
    "    print(z_row)\n",
    "    np.append(z_all, z_row, axis=0)\n",
    "    n_fold += 1\n",
    "    print('new fold')\n"
   ],
   "metadata": {
    "collapsed": false,
    "pycharm": {
     "name": "#%%\n"
    }
   }
  },
  {
   "cell_type": "code",
   "execution_count": 724,
   "outputs": [
    {
     "name": "stdout",
     "output_type": "stream",
     "text": [
      "(0,)\n"
     ]
    }
   ],
   "source": [
    "print(np.shape(z_all))\n",
    "\n",
    "\n",
    "\n",
    "\n",
    "\n",
    "\n",
    "\n",
    "\n",
    "\n",
    "\n",
    "\n",
    "\n",
    "\n",
    "\n",
    "\n",
    "\n",
    "\n",
    "\n",
    "\n",
    "\n",
    "\n",
    "\n"
   ],
   "metadata": {
    "collapsed": false,
    "pycharm": {
     "name": "#%%\n"
    }
   }
  }
 ],
 "metadata": {
  "kernelspec": {
   "display_name": "Python 3",
   "language": "python",
   "name": "python3"
  },
  "language_info": {
   "codemirror_mode": {
    "name": "ipython",
    "version": 2
   },
   "file_extension": ".py",
   "mimetype": "text/x-python",
   "name": "python",
   "nbconvert_exporter": "python",
   "pygments_lexer": "ipython2",
   "version": "2.7.6"
  }
 },
 "nbformat": 4,
 "nbformat_minor": 0
}