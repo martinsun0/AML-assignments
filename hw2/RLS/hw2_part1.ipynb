{
 "cells": [
  {
   "cell_type": "code",
   "execution_count": 1221,
   "metadata": {
    "collapsed": true
   },
   "outputs": [],
   "source": [
    "import numpy as np\n",
    "import pandas as pd\n",
    "import seaborn as sns\n",
    "from statsmodels import regression as sm\n",
    "import sklearn.linear_model as lm\n",
    "from sklearn import model_selection as ms\n",
    "from sklearn.preprocessing import OneHotEncoder\n",
    "from sklearn.preprocessing import StandardScaler\n",
    "from sklearn.impute import KNNImputer\n",
    "from sklearn.metrics import r2_score\n",
    "from sklearn.model_selection import KFold"
   ]
  },
  {
   "cell_type": "code",
   "execution_count": 1222,
   "outputs": [],
   "source": [
    "train_df = pd.read_csv(r'train.csv')\n",
    "test_df = pd.read_csv(r'test.csv')"
   ],
   "metadata": {
    "collapsed": false,
    "pycharm": {
     "name": "#%%\n"
    }
   }
  },
  {
   "cell_type": "code",
   "execution_count": 1223,
   "outputs": [],
   "source": [
    "# train_df.info()\n",
    "categorical = list(train_df.select_dtypes('object').columns)\n",
    "# categorical"
   ],
   "metadata": {
    "collapsed": false,
    "pycharm": {
     "name": "#%%\n"
    }
   }
  },
  {
   "cell_type": "markdown",
   "source": [
    "There are 1460 samples in the training data set and 80 features. There are 43 columns with the 'object' data type,\n",
    "meaning non-numeric categorical data. These features are contained in the \"categorical\" list."
   ],
   "metadata": {
    "collapsed": false,
    "pycharm": {
     "name": "#%% md\n"
    }
   }
  },
  {
   "cell_type": "markdown",
   "source": [
    "I will select seven non-categorical features."
   ],
   "metadata": {
    "collapsed": false,
    "pycharm": {
     "name": "#%% md\n"
    }
   }
  },
  {
   "cell_type": "code",
   "execution_count": 1224,
   "outputs": [],
   "source": [
    "# sns.pairplot(train_df[['SalePrice', 'LotArea', 'OverallQual', 'OverallCond', 'YearRemodAdd', 'FullBath', '1stFlrSF', '2ndFlrSF']])"
   ],
   "metadata": {
    "collapsed": false,
    "pycharm": {
     "name": "#%%\n"
    }
   }
  },
  {
   "cell_type": "markdown",
   "source": [
    "The plots we care about here are in row 1 (or column 1). There appears to be a correlation between sales price and:\n",
    "Overall Quality, 1st Floor Area, 2nd Floor Area, and some slight correlations with Year of Remodelling, and\n",
    "Number of Full Baths."
   ],
   "metadata": {
    "collapsed": false,
    "pycharm": {
     "name": "#%% md\n"
    }
   }
  },
  {
   "cell_type": "code",
   "execution_count": 1225,
   "outputs": [],
   "source": [
    "# sm.linear_model.OLS()"
   ],
   "metadata": {
    "collapsed": false,
    "pycharm": {
     "name": "#%% optional\n"
    }
   }
  },
  {
   "cell_type": "code",
   "execution_count": 1226,
   "outputs": [],
   "source": [
    "train_df = train_df.drop('Id', axis=1)\n",
    "df_encoded = pd.get_dummies(train_df)\n",
    "# df_encoded.info(verbose=True, null_counts=True)\n",
    "# df_encoded"
   ],
   "metadata": {
    "collapsed": false,
    "pycharm": {
     "name": "#%% Drop columns not useful to our model and perform one hot encoding.\n"
    }
   }
  },
  {
   "cell_type": "code",
   "execution_count": 1227,
   "outputs": [
    {
     "data": {
      "text/plain": "['LotFrontage', 'MasVnrArea', 'GarageYrBlt']"
     },
     "execution_count": 1227,
     "metadata": {},
     "output_type": "execute_result"
    }
   ],
   "source": [
    "columns = df_encoded.columns\n",
    "df_encoded.columns[df_encoded.isna().any()].tolist()"
   ],
   "metadata": {
    "collapsed": false,
    "pycharm": {
     "name": "#%% Look for columns with null values\n"
    }
   }
  },
  {
   "cell_type": "markdown",
   "source": [
    "Setting values to the mean or zeroes could highly skew the results of a regression model.\n",
    "I will use KNN to perform multivariate imputation, filling in the above columns."
   ],
   "metadata": {
    "collapsed": false,
    "pycharm": {
     "name": "#%% md\n"
    }
   }
  },
  {
   "cell_type": "code",
   "execution_count": 1228,
   "outputs": [],
   "source": [
    "imputer = KNNImputer(n_neighbors=3, weights=\"uniform\")\n",
    "imputer.fit(df_encoded)\n",
    "df_encoded = pd.DataFrame(imputer.fit_transform(df_encoded), columns = columns)"
   ],
   "metadata": {
    "collapsed": false,
    "pycharm": {
     "name": "#%% KNN inputation\n"
    }
   }
  },
  {
   "cell_type": "code",
   "execution_count": 1229,
   "outputs": [],
   "source": [
    "# encoder = OneHotEncoder(handle_unknown=\"ignore\", sparse=False)\n",
    "# encoder.fit(train_df)"
   ],
   "metadata": {
    "collapsed": false,
    "pycharm": {
     "name": "#%% sklearn's encoder (not used)\n"
    }
   }
  },
  {
   "cell_type": "code",
   "execution_count": 1230,
   "outputs": [],
   "source": [
    "split = model_selection.train_test_split(df_encoded, train_size=0.8)\n",
    "train_split = split[0]\n",
    "test_split = split[1]\n",
    "# train_split"
   ],
   "metadata": {
    "collapsed": false,
    "pycharm": {
     "name": "#%% Splitting data\n"
    }
   }
  },
  {
   "cell_type": "code",
   "execution_count": 1231,
   "outputs": [],
   "source": [
    "normalize_train = StandardScaler().fit(train_split)\n",
    "normalize_test = StandardScaler().fit(test_split)\n",
    "\n",
    "train_norm = normalize_train.transform(train_split)\n",
    "train_norm = pd.DataFrame(train_norm, columns = columns)\n",
    "\n",
    "test_norm = normalize_test.transform(test_split)\n",
    "test_norm = pd.DataFrame(test_norm, columns = columns)"
   ],
   "metadata": {
    "collapsed": false,
    "pycharm": {
     "name": "#%% normalize the test/train data sets\n"
    }
   }
  },
  {
   "cell_type": "code",
   "execution_count": 1232,
   "outputs": [
    {
     "data": {
      "text/plain": "-5.417990108626332e+24"
     },
     "execution_count": 1232,
     "metadata": {},
     "output_type": "execute_result"
    }
   ],
   "source": [
    "lin_reg = lm.LinearRegression(normalize=False).fit(train_norm.drop(['SalePrice'], axis=1), train_norm['SalePrice'])\n",
    "lin_pred = lin_reg.predict(test_norm.drop(['SalePrice'], axis=1))\n",
    "# lin_reg.score(test_norm.drop(['SalePrice'], axis=1), test_norm['SalePrice'])\n",
    "r2_score(test_norm['SalePrice'], lin_pred)"
   ],
   "metadata": {
    "collapsed": false,
    "pycharm": {
     "name": "#%%\n"
    }
   }
  },
  {
   "cell_type": "markdown",
   "source": [
    "Interestingly, when we perform OLS on normalized data, there is some serious overfitting going on. Our predicted values\n",
    "are much higher in magnitude than our actual values."
   ],
   "metadata": {
    "collapsed": false,
    "pycharm": {
     "name": "#%% md\n"
    }
   }
  },
  {
   "cell_type": "code",
   "execution_count": 1233,
   "outputs": [
    {
     "data": {
      "text/plain": "0.8534778960314928"
     },
     "execution_count": 1233,
     "metadata": {},
     "output_type": "execute_result"
    }
   ],
   "source": [
    "lin_reg = lm.LinearRegression(normalize=False).fit(train_split.drop(['SalePrice'], axis=1), train_split['SalePrice'])\n",
    "lin_pred = lin_reg.predict(test_split.drop(['SalePrice'], axis=1))\n",
    "# lin_reg.score(test_norm.drop(['SalePrice'], axis=1), test_norm['SalePrice'])\n",
    "r2_score(test_split['SalePrice'], lin_pred)"
   ],
   "metadata": {
    "collapsed": false,
    "pycharm": {
     "name": "#%%\n"
    }
   }
  },
  {
   "cell_type": "code",
   "execution_count": null,
   "outputs": [],
   "source": [],
   "metadata": {
    "collapsed": false,
    "pycharm": {
     "name": "#%%\n"
    }
   }
  }
 ],
 "metadata": {
  "kernelspec": {
   "display_name": "Python 3",
   "language": "python",
   "name": "python3"
  },
  "language_info": {
   "codemirror_mode": {
    "name": "ipython",
    "version": 2
   },
   "file_extension": ".py",
   "mimetype": "text/x-python",
   "name": "python",
   "nbconvert_exporter": "python",
   "pygments_lexer": "ipython2",
   "version": "2.7.6"
  }
 },
 "nbformat": 4,
 "nbformat_minor": 0
}