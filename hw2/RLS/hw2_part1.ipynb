{
 "cells": [
  {
   "cell_type": "code",
   "execution_count": 168,
   "metadata": {
    "collapsed": true
   },
   "outputs": [],
   "source": [
    "import numpy as np\n",
    "import pandas as pd\n",
    "import seaborn as sns\n",
    "import sklearn.linear_model as lm\n",
    "from sklearn import model_selection as ms\n",
    "from sklearn.preprocessing import OneHotEncoder\n",
    "from sklearn.preprocessing import StandardScaler\n",
    "from sklearn.impute import KNNImputer\n",
    "from sklearn.metrics import r2_score\n",
    "from sklearn.neighbors import KNeighborsRegressor\n",
    "from IPython.display import display\n",
    "from sklearn.model_selection import cross_val_score\n",
    "from sklearn.model_selection import KFold\n",
    "from statsmodels.regression.linear_model import OLS\n",
    "import statsmodels.api as sm\n",
    "from sklearn.model_selection import KFold\n",
    "import warnings\n",
    "import matplotlib.pyplot as plt\n",
    "sns.set_theme()\n",
    "warnings.filterwarnings('ignore')"
   ]
  },
  {
   "cell_type": "code",
   "execution_count": 2,
   "outputs": [],
   "source": [
    "train_df = pd.read_csv(r'train.csv')\n",
    "test_df = pd.read_csv(r'test.csv')"
   ],
   "metadata": {
    "collapsed": false,
    "pycharm": {
     "name": "#%%\n"
    }
   }
  },
  {
   "cell_type": "code",
   "execution_count": 3,
   "outputs": [],
   "source": [
    "# train_df.info()\n",
    "categorical = list(train_df.select_dtypes('object').columns)\n",
    "# categorical"
   ],
   "metadata": {
    "collapsed": false,
    "pycharm": {
     "name": "#%%\n"
    }
   }
  },
  {
   "cell_type": "markdown",
   "source": [
    "There are 1460 samples in the training data set and 80 features. There are 43 columns with the 'object' data type,\n",
    "meaning non-numeric categorical data. These features are contained in the \"categorical\" list. However, notice also that\n",
    "the 'MSSubClass' feature is numerical-categorical. Thus, there are actually 44 categorical features."
   ],
   "metadata": {
    "collapsed": false,
    "pycharm": {
     "name": "#%% md\n"
    }
   }
  },
  {
   "cell_type": "markdown",
   "source": [
    "I will select seven non-categorical features."
   ],
   "metadata": {
    "collapsed": false,
    "pycharm": {
     "name": "#%% md\n"
    }
   }
  },
  {
   "cell_type": "code",
   "execution_count": 4,
   "outputs": [],
   "source": [
    "# sns.pairplot(train_df[['SalePrice', 'LotArea', 'OverallQual', 'OverallCond', 'YearRemodAdd', 'FullBath', '1stFlrSF', '2ndFlrSF']])"
   ],
   "metadata": {
    "collapsed": false,
    "pycharm": {
     "name": "#%%\n"
    }
   }
  },
  {
   "cell_type": "markdown",
   "source": [
    "The plots we care about here are in row 1 (or column 1). There appears to be a correlation between sales price and:\n",
    "Overall Quality, 1st Floor Area, 2nd Floor Area, and some slight correlations with Year of Remodelling, and\n",
    "Number of Full Baths."
   ],
   "metadata": {
    "collapsed": false,
    "pycharm": {
     "name": "#%% md\n"
    }
   }
  },
  {
   "cell_type": "code",
   "execution_count": 5,
   "outputs": [],
   "source": [
    "# sm.linear_model.OLS()"
   ],
   "metadata": {
    "collapsed": false,
    "pycharm": {
     "name": "#%% optional\n"
    }
   }
  },
  {
   "cell_type": "code",
   "execution_count": 6,
   "outputs": [],
   "source": [
    "MSSubClass_encoded = pd.get_dummies(train_df[['MSSubClass']].astype(str))\n",
    "train_df_dropped = train_df.drop('Id', axis=1)\n",
    "df_encoded = pd.get_dummies(train_df_dropped)\n",
    "df_encoded = pd.concat([df_encoded, MSSubClass_encoded], axis=1).drop('MSSubClass', axis=1)\n",
    "# df_encoded.info(verbose=True, null_counts=True)\n",
    "# df_encoded"
   ],
   "metadata": {
    "collapsed": false,
    "pycharm": {
     "name": "#%% Drop columns not useful to our model and perform one hot encoding.\n"
    }
   }
  },
  {
   "cell_type": "code",
   "execution_count": 7,
   "outputs": [],
   "source": [
    "split = ms.train_test_split(df_encoded, train_size=0.8)\n",
    "train_split = split[0]\n",
    "test_split = split[1]\n",
    "# train_split"
   ],
   "metadata": {
    "collapsed": false,
    "pycharm": {
     "name": "#%% Splitting data\n"
    }
   }
  },
  {
   "cell_type": "code",
   "execution_count": 8,
   "outputs": [],
   "source": [
    "# encoder = OneHotEncoder(handle_unknown=\"ignore\", sparse=False)\n",
    "# encoder.fit(train_df)"
   ],
   "metadata": {
    "collapsed": false,
    "pycharm": {
     "name": "#%% sklearn's encoder (not used)\n"
    }
   }
  },
  {
   "cell_type": "code",
   "execution_count": 9,
   "outputs": [
    {
     "data": {
      "text/plain": "['LotFrontage', 'MasVnrArea', 'GarageYrBlt']"
     },
     "execution_count": 9,
     "metadata": {},
     "output_type": "execute_result"
    }
   ],
   "source": [
    "all_columns = df_encoded.columns\n",
    "columns = df_encoded.drop(['SalePrice'], axis=1).columns\n",
    "train_split.columns[train_split.isna().any()].tolist()\n",
    "# test_split.columns[test_split.isna().any()].tolist()"
   ],
   "metadata": {
    "collapsed": false,
    "pycharm": {
     "name": "#%% Look for columns with null values\n"
    }
   }
  },
  {
   "cell_type": "markdown",
   "source": [
    "Setting values to the mean or zeroes could highly skew the results of a regression model.\n",
    "I will use KNN to perform multivariate imputation, filling in the above columns."
   ],
   "metadata": {
    "collapsed": false,
    "pycharm": {
     "name": "#%% md\n"
    }
   }
  },
  {
   "cell_type": "code",
   "execution_count": 10,
   "outputs": [],
   "source": [
    "# Training the inputer with train split\n",
    "imputer_train = KNNImputer(n_neighbors=15, weights=\"uniform\")\n",
    "imputer_train.fit(train_split)\n",
    "train_split = pd.DataFrame(imputer_train.fit_transform(df_encoded), columns = all_columns)\n",
    "test_split = pd.DataFrame(imputer_train.fit_transform(test_split), columns = all_columns)"
   ],
   "metadata": {
    "collapsed": false,
    "pycharm": {
     "name": "#%% KNN inputation\n"
    }
   }
  },
  {
   "cell_type": "code",
   "execution_count": 11,
   "outputs": [
    {
     "data": {
      "text/plain": "      LotFrontage   LotArea  OverallQual  OverallCond  YearBuilt  \\\n0       -0.247803 -0.207142     0.651479    -0.517200   1.050994   \n1        0.412273 -0.091886    -0.071836     2.179628   0.156734   \n2       -0.115788  0.073480     0.651479    -0.517200   0.984752   \n3       -0.467828 -0.096897     0.651479    -0.517200  -1.863632   \n4        0.588294  0.375148     1.374795    -0.517200   0.951632   \n...           ...       ...          ...          ...        ...   \n1455    -0.379818 -0.260560    -0.071836    -0.517200   0.918511   \n1456     0.632299  0.266407    -0.071836     0.381743   0.222975   \n1457    -0.203798 -0.147810     0.651479     3.078570  -1.002492   \n1458    -0.115788 -0.080160    -0.795151     0.381743  -0.704406   \n1459     0.192248 -0.058112    -0.795151     0.381743  -0.207594   \n\n      YearRemodAdd  MasVnrArea  BsmtFinSF1  BsmtFinSF2  BsmtUnfSF  ...  \\\n0         0.878668    0.508709    0.575425   -0.288653  -0.944591  ...   \n1        -0.429577   -0.575571    1.171992   -0.288653  -0.641228  ...   \n2         0.830215    0.320620    0.092907   -0.288653  -0.301643  ...   \n3        -0.720298   -0.575571   -0.499274   -0.288653  -0.061670  ...   \n4         0.733308    1.360644    0.463568   -0.288653  -0.174865  ...   \n...            ...         ...         ...         ...        ...  ...   \n1455      0.733308   -0.575571   -0.973018   -0.288653   0.873321  ...   \n1456      0.151865    0.082742    0.759659    0.722112   0.049262  ...   \n1457      1.024029   -0.575571   -0.369871   -0.288653   0.701265  ...   \n1458      0.539493   -0.575571   -0.865548    6.092188  -1.284176  ...   \n1459     -0.962566   -0.575571    0.847389    1.509640  -0.976285  ...   \n\n      MSSubClass_30  MSSubClass_40  MSSubClass_45  MSSubClass_50  \\\n0         -0.222721      -0.052414      -0.091035      -0.330791   \n1         -0.222721      -0.052414      -0.091035      -0.330791   \n2         -0.222721      -0.052414      -0.091035      -0.330791   \n3         -0.222721      -0.052414      -0.091035      -0.330791   \n4         -0.222721      -0.052414      -0.091035      -0.330791   \n...             ...            ...            ...            ...   \n1455      -0.222721      -0.052414      -0.091035      -0.330791   \n1456      -0.222721      -0.052414      -0.091035      -0.330791   \n1457      -0.222721      -0.052414      -0.091035      -0.330791   \n1458      -0.222721      -0.052414      -0.091035      -0.330791   \n1459      -0.222721      -0.052414      -0.091035      -0.330791   \n\n      MSSubClass_60  MSSubClass_70  MSSubClass_75  MSSubClass_80  \\\n0          1.970518      -0.207020      -0.105263      -0.203395   \n1         -0.507481      -0.207020      -0.105263      -0.203395   \n2          1.970518      -0.207020      -0.105263      -0.203395   \n3         -0.507481       4.830459      -0.105263      -0.203395   \n4          1.970518      -0.207020      -0.105263      -0.203395   \n...             ...            ...            ...            ...   \n1455       1.970518      -0.207020      -0.105263      -0.203395   \n1456      -0.507481      -0.207020      -0.105263      -0.203395   \n1457      -0.507481       4.830459      -0.105263      -0.203395   \n1458      -0.507481      -0.207020      -0.105263      -0.203395   \n1459      -0.507481      -0.207020      -0.105263      -0.203395   \n\n      MSSubClass_85  MSSubClass_90  \n0         -0.117851      -0.192177  \n1         -0.117851      -0.192177  \n2         -0.117851      -0.192177  \n3         -0.117851      -0.192177  \n4         -0.117851      -0.192177  \n...             ...            ...  \n1455      -0.117851      -0.192177  \n1456      -0.117851      -0.192177  \n1457      -0.117851      -0.192177  \n1458      -0.117851      -0.192177  \n1459      -0.117851      -0.192177  \n\n[1460 rows x 302 columns]",
      "text/html": "<div>\n<style scoped>\n    .dataframe tbody tr th:only-of-type {\n        vertical-align: middle;\n    }\n\n    .dataframe tbody tr th {\n        vertical-align: top;\n    }\n\n    .dataframe thead th {\n        text-align: right;\n    }\n</style>\n<table border=\"1\" class=\"dataframe\">\n  <thead>\n    <tr style=\"text-align: right;\">\n      <th></th>\n      <th>LotFrontage</th>\n      <th>LotArea</th>\n      <th>OverallQual</th>\n      <th>OverallCond</th>\n      <th>YearBuilt</th>\n      <th>YearRemodAdd</th>\n      <th>MasVnrArea</th>\n      <th>BsmtFinSF1</th>\n      <th>BsmtFinSF2</th>\n      <th>BsmtUnfSF</th>\n      <th>...</th>\n      <th>MSSubClass_30</th>\n      <th>MSSubClass_40</th>\n      <th>MSSubClass_45</th>\n      <th>MSSubClass_50</th>\n      <th>MSSubClass_60</th>\n      <th>MSSubClass_70</th>\n      <th>MSSubClass_75</th>\n      <th>MSSubClass_80</th>\n      <th>MSSubClass_85</th>\n      <th>MSSubClass_90</th>\n    </tr>\n  </thead>\n  <tbody>\n    <tr>\n      <th>0</th>\n      <td>-0.247803</td>\n      <td>-0.207142</td>\n      <td>0.651479</td>\n      <td>-0.517200</td>\n      <td>1.050994</td>\n      <td>0.878668</td>\n      <td>0.508709</td>\n      <td>0.575425</td>\n      <td>-0.288653</td>\n      <td>-0.944591</td>\n      <td>...</td>\n      <td>-0.222721</td>\n      <td>-0.052414</td>\n      <td>-0.091035</td>\n      <td>-0.330791</td>\n      <td>1.970518</td>\n      <td>-0.207020</td>\n      <td>-0.105263</td>\n      <td>-0.203395</td>\n      <td>-0.117851</td>\n      <td>-0.192177</td>\n    </tr>\n    <tr>\n      <th>1</th>\n      <td>0.412273</td>\n      <td>-0.091886</td>\n      <td>-0.071836</td>\n      <td>2.179628</td>\n      <td>0.156734</td>\n      <td>-0.429577</td>\n      <td>-0.575571</td>\n      <td>1.171992</td>\n      <td>-0.288653</td>\n      <td>-0.641228</td>\n      <td>...</td>\n      <td>-0.222721</td>\n      <td>-0.052414</td>\n      <td>-0.091035</td>\n      <td>-0.330791</td>\n      <td>-0.507481</td>\n      <td>-0.207020</td>\n      <td>-0.105263</td>\n      <td>-0.203395</td>\n      <td>-0.117851</td>\n      <td>-0.192177</td>\n    </tr>\n    <tr>\n      <th>2</th>\n      <td>-0.115788</td>\n      <td>0.073480</td>\n      <td>0.651479</td>\n      <td>-0.517200</td>\n      <td>0.984752</td>\n      <td>0.830215</td>\n      <td>0.320620</td>\n      <td>0.092907</td>\n      <td>-0.288653</td>\n      <td>-0.301643</td>\n      <td>...</td>\n      <td>-0.222721</td>\n      <td>-0.052414</td>\n      <td>-0.091035</td>\n      <td>-0.330791</td>\n      <td>1.970518</td>\n      <td>-0.207020</td>\n      <td>-0.105263</td>\n      <td>-0.203395</td>\n      <td>-0.117851</td>\n      <td>-0.192177</td>\n    </tr>\n    <tr>\n      <th>3</th>\n      <td>-0.467828</td>\n      <td>-0.096897</td>\n      <td>0.651479</td>\n      <td>-0.517200</td>\n      <td>-1.863632</td>\n      <td>-0.720298</td>\n      <td>-0.575571</td>\n      <td>-0.499274</td>\n      <td>-0.288653</td>\n      <td>-0.061670</td>\n      <td>...</td>\n      <td>-0.222721</td>\n      <td>-0.052414</td>\n      <td>-0.091035</td>\n      <td>-0.330791</td>\n      <td>-0.507481</td>\n      <td>4.830459</td>\n      <td>-0.105263</td>\n      <td>-0.203395</td>\n      <td>-0.117851</td>\n      <td>-0.192177</td>\n    </tr>\n    <tr>\n      <th>4</th>\n      <td>0.588294</td>\n      <td>0.375148</td>\n      <td>1.374795</td>\n      <td>-0.517200</td>\n      <td>0.951632</td>\n      <td>0.733308</td>\n      <td>1.360644</td>\n      <td>0.463568</td>\n      <td>-0.288653</td>\n      <td>-0.174865</td>\n      <td>...</td>\n      <td>-0.222721</td>\n      <td>-0.052414</td>\n      <td>-0.091035</td>\n      <td>-0.330791</td>\n      <td>1.970518</td>\n      <td>-0.207020</td>\n      <td>-0.105263</td>\n      <td>-0.203395</td>\n      <td>-0.117851</td>\n      <td>-0.192177</td>\n    </tr>\n    <tr>\n      <th>...</th>\n      <td>...</td>\n      <td>...</td>\n      <td>...</td>\n      <td>...</td>\n      <td>...</td>\n      <td>...</td>\n      <td>...</td>\n      <td>...</td>\n      <td>...</td>\n      <td>...</td>\n      <td>...</td>\n      <td>...</td>\n      <td>...</td>\n      <td>...</td>\n      <td>...</td>\n      <td>...</td>\n      <td>...</td>\n      <td>...</td>\n      <td>...</td>\n      <td>...</td>\n      <td>...</td>\n    </tr>\n    <tr>\n      <th>1455</th>\n      <td>-0.379818</td>\n      <td>-0.260560</td>\n      <td>-0.071836</td>\n      <td>-0.517200</td>\n      <td>0.918511</td>\n      <td>0.733308</td>\n      <td>-0.575571</td>\n      <td>-0.973018</td>\n      <td>-0.288653</td>\n      <td>0.873321</td>\n      <td>...</td>\n      <td>-0.222721</td>\n      <td>-0.052414</td>\n      <td>-0.091035</td>\n      <td>-0.330791</td>\n      <td>1.970518</td>\n      <td>-0.207020</td>\n      <td>-0.105263</td>\n      <td>-0.203395</td>\n      <td>-0.117851</td>\n      <td>-0.192177</td>\n    </tr>\n    <tr>\n      <th>1456</th>\n      <td>0.632299</td>\n      <td>0.266407</td>\n      <td>-0.071836</td>\n      <td>0.381743</td>\n      <td>0.222975</td>\n      <td>0.151865</td>\n      <td>0.082742</td>\n      <td>0.759659</td>\n      <td>0.722112</td>\n      <td>0.049262</td>\n      <td>...</td>\n      <td>-0.222721</td>\n      <td>-0.052414</td>\n      <td>-0.091035</td>\n      <td>-0.330791</td>\n      <td>-0.507481</td>\n      <td>-0.207020</td>\n      <td>-0.105263</td>\n      <td>-0.203395</td>\n      <td>-0.117851</td>\n      <td>-0.192177</td>\n    </tr>\n    <tr>\n      <th>1457</th>\n      <td>-0.203798</td>\n      <td>-0.147810</td>\n      <td>0.651479</td>\n      <td>3.078570</td>\n      <td>-1.002492</td>\n      <td>1.024029</td>\n      <td>-0.575571</td>\n      <td>-0.369871</td>\n      <td>-0.288653</td>\n      <td>0.701265</td>\n      <td>...</td>\n      <td>-0.222721</td>\n      <td>-0.052414</td>\n      <td>-0.091035</td>\n      <td>-0.330791</td>\n      <td>-0.507481</td>\n      <td>4.830459</td>\n      <td>-0.105263</td>\n      <td>-0.203395</td>\n      <td>-0.117851</td>\n      <td>-0.192177</td>\n    </tr>\n    <tr>\n      <th>1458</th>\n      <td>-0.115788</td>\n      <td>-0.080160</td>\n      <td>-0.795151</td>\n      <td>0.381743</td>\n      <td>-0.704406</td>\n      <td>0.539493</td>\n      <td>-0.575571</td>\n      <td>-0.865548</td>\n      <td>6.092188</td>\n      <td>-1.284176</td>\n      <td>...</td>\n      <td>-0.222721</td>\n      <td>-0.052414</td>\n      <td>-0.091035</td>\n      <td>-0.330791</td>\n      <td>-0.507481</td>\n      <td>-0.207020</td>\n      <td>-0.105263</td>\n      <td>-0.203395</td>\n      <td>-0.117851</td>\n      <td>-0.192177</td>\n    </tr>\n    <tr>\n      <th>1459</th>\n      <td>0.192248</td>\n      <td>-0.058112</td>\n      <td>-0.795151</td>\n      <td>0.381743</td>\n      <td>-0.207594</td>\n      <td>-0.962566</td>\n      <td>-0.575571</td>\n      <td>0.847389</td>\n      <td>1.509640</td>\n      <td>-0.976285</td>\n      <td>...</td>\n      <td>-0.222721</td>\n      <td>-0.052414</td>\n      <td>-0.091035</td>\n      <td>-0.330791</td>\n      <td>-0.507481</td>\n      <td>-0.207020</td>\n      <td>-0.105263</td>\n      <td>-0.203395</td>\n      <td>-0.117851</td>\n      <td>-0.192177</td>\n    </tr>\n  </tbody>\n</table>\n<p>1460 rows × 302 columns</p>\n</div>"
     },
     "execution_count": 11,
     "metadata": {},
     "output_type": "execute_result"
    }
   ],
   "source": [
    "# training the normalizer with train split\n",
    "normalize_train = StandardScaler().fit(train_split.drop(['SalePrice'], axis=1))\n",
    "\n",
    "train_norm = normalize_train.transform(train_split.drop(['SalePrice'], axis=1))\n",
    "test_norm = normalize_train.transform(test_split.drop(['SalePrice'], axis=1))\n",
    "\n",
    "train_norm = pd.DataFrame(train_norm, columns = columns)\n",
    "test_norm = pd.DataFrame(test_norm, columns = columns)\n",
    "train_norm"
   ],
   "metadata": {
    "collapsed": false,
    "pycharm": {
     "name": "#%% Normalize the test/train data sets\n"
    }
   }
  },
  {
   "cell_type": "code",
   "execution_count": 12,
   "outputs": [],
   "source": [
    "X = train_norm\n",
    "Y = train_split['SalePrice']\n",
    "X_test = test_norm\n",
    "Y_test = test_split['SalePrice']\n",
    "\n",
    "X_non_norm = train_split.drop(['SalePrice'], axis=1)\n",
    "X_test_non_norm = test_split.drop(['SalePrice'], axis=1)"
   ],
   "metadata": {
    "collapsed": false,
    "pycharm": {
     "name": "#%%\n"
    }
   }
  },
  {
   "cell_type": "code",
   "execution_count": 13,
   "outputs": [
    {
     "data": {
      "text/plain": "(302,)"
     },
     "execution_count": 13,
     "metadata": {},
     "output_type": "execute_result"
    }
   ],
   "source": [
    "lin_reg = lm.LinearRegression().fit(X, Y)\n",
    "lin_pred = lin_reg.predict(X_test)\n",
    "# lin_reg.score(test_norm.drop(['SalePrice'], axis=1), test_norm['SalePrice'])\n",
    "r2_score(Y_test, lin_pred)\n",
    "np.shape(lin_reg.coef_)"
   ],
   "metadata": {
    "collapsed": false,
    "pycharm": {
     "name": "#%% Predicting values and finding R^2 value\n"
    }
   }
  },
  {
   "cell_type": "code",
   "execution_count": 14,
   "outputs": [
    {
     "name": "stdout",
     "output_type": "stream",
     "text": [
      "{'n_neighbors': 11}\n",
      "0.7405634361447293\n"
     ]
    },
    {
     "data": {
      "text/plain": "    mean_fit_time  std_fit_time  mean_score_time  std_score_time  \\\n0        0.003001  4.473412e-04         0.004501        0.000500   \n1        0.002501  5.000831e-04         0.004701        0.000640   \n2        0.003001  2.249236e-07         0.004801        0.000400   \n3        0.002701  4.585263e-04         0.005401        0.000490   \n4        0.003101  3.001217e-04         0.005601        0.000490   \n5        0.003101  3.004316e-04         0.005601        0.000664   \n6        0.003101  2.999392e-04         0.005801        0.000600   \n7        0.003301  4.584066e-04         0.005601        0.001429   \n8        0.002901  2.999545e-04         0.005301        0.000641   \n9        0.002901  3.001454e-04         0.005401        0.000490   \n10       0.003101  5.388717e-04         0.005701        0.000781   \n11       0.003001  4.473947e-04         0.005702        0.000641   \n12       0.003085  3.094812e-04         0.005501        0.000807   \n13       0.002911  3.052312e-04         0.005491        0.000490   \n\n   param_n_neighbors               params  split0_test_score  \\\n0                  1   {'n_neighbors': 1}           0.704337   \n1                  2   {'n_neighbors': 2}           0.760294   \n2                  3   {'n_neighbors': 3}           0.791678   \n3                  4   {'n_neighbors': 4}           0.779533   \n4                  5   {'n_neighbors': 5}           0.767779   \n5                  6   {'n_neighbors': 6}           0.773894   \n6                  7   {'n_neighbors': 7}           0.770276   \n7                  8   {'n_neighbors': 8}           0.810577   \n8                  9   {'n_neighbors': 9}           0.804290   \n9                 10  {'n_neighbors': 10}           0.799760   \n10                11  {'n_neighbors': 11}           0.802694   \n11                12  {'n_neighbors': 12}           0.798888   \n12                13  {'n_neighbors': 13}           0.794569   \n13                14  {'n_neighbors': 14}           0.796144   \n\n    split1_test_score  split2_test_score  split3_test_score  \\\n0            0.288652           0.673225           0.668503   \n1            0.597509           0.785232           0.744155   \n2            0.680672           0.789750           0.732312   \n3            0.716608           0.789691           0.720356   \n4            0.721353           0.793127           0.690670   \n5            0.783611           0.795534           0.700564   \n6            0.769669           0.790530           0.676201   \n7            0.764780           0.791389           0.670147   \n8            0.769589           0.791150           0.670639   \n9            0.760243           0.791905           0.686254   \n10           0.752803           0.796325           0.691095   \n11           0.747025           0.793641           0.695943   \n12           0.738115           0.786389           0.686157   \n13           0.736029           0.784709           0.683200   \n\n    split4_test_score  split5_test_score  split6_test_score  \\\n0            0.728969           0.596297           0.750835   \n1            0.724942           0.711895           0.783782   \n2            0.732995           0.743530           0.791826   \n3            0.731071           0.745167           0.763657   \n4            0.733361           0.774366           0.749560   \n5            0.712149           0.785216           0.754382   \n6            0.700273           0.789617           0.766473   \n7            0.695494           0.779921           0.763272   \n8            0.694627           0.787157           0.760536   \n9            0.700491           0.779018           0.766560   \n10           0.704504           0.777661           0.775733   \n11           0.702116           0.763405           0.778144   \n12           0.700082           0.760412           0.777863   \n13           0.697719           0.756924           0.775142   \n\n    split7_test_score  split8_test_score  split9_test_score  mean_test_score  \\\n0            0.632051           0.345203           0.638231         0.602630   \n1            0.755437           0.457308           0.693007         0.701356   \n2            0.754361           0.515357           0.750465         0.728295   \n3            0.782534           0.535011           0.747364         0.731099   \n4            0.783860           0.549151           0.765257         0.732849   \n5            0.779214           0.547689           0.769856         0.740211   \n6            0.773471           0.543436           0.772189         0.735213   \n7            0.792394           0.561254           0.773031         0.740226   \n8            0.782024           0.558202           0.768746         0.738696   \n9            0.784111           0.552897           0.765767         0.738701   \n10           0.780312           0.557722           0.766785         0.740563   \n11           0.781128           0.569559           0.766188         0.739604   \n12           0.779301           0.567476           0.768658         0.735902   \n13           0.783376           0.565936           0.772331         0.735151   \n\n    std_test_score  rank_test_score  \n0         0.149873               14  \n1         0.096509               13  \n2         0.078027               12  \n3         0.069802               11  \n4         0.067945               10  \n5         0.070802                3  \n6         0.073298                8  \n7         0.072813                2  \n8         0.072640                6  \n9         0.071381                5  \n10        0.070127                1  \n11        0.065726                4  \n12        0.065908                7  \n13        0.066852                9  ",
      "text/html": "<div>\n<style scoped>\n    .dataframe tbody tr th:only-of-type {\n        vertical-align: middle;\n    }\n\n    .dataframe tbody tr th {\n        vertical-align: top;\n    }\n\n    .dataframe thead th {\n        text-align: right;\n    }\n</style>\n<table border=\"1\" class=\"dataframe\">\n  <thead>\n    <tr style=\"text-align: right;\">\n      <th></th>\n      <th>mean_fit_time</th>\n      <th>std_fit_time</th>\n      <th>mean_score_time</th>\n      <th>std_score_time</th>\n      <th>param_n_neighbors</th>\n      <th>params</th>\n      <th>split0_test_score</th>\n      <th>split1_test_score</th>\n      <th>split2_test_score</th>\n      <th>split3_test_score</th>\n      <th>split4_test_score</th>\n      <th>split5_test_score</th>\n      <th>split6_test_score</th>\n      <th>split7_test_score</th>\n      <th>split8_test_score</th>\n      <th>split9_test_score</th>\n      <th>mean_test_score</th>\n      <th>std_test_score</th>\n      <th>rank_test_score</th>\n    </tr>\n  </thead>\n  <tbody>\n    <tr>\n      <th>0</th>\n      <td>0.003001</td>\n      <td>4.473412e-04</td>\n      <td>0.004501</td>\n      <td>0.000500</td>\n      <td>1</td>\n      <td>{'n_neighbors': 1}</td>\n      <td>0.704337</td>\n      <td>0.288652</td>\n      <td>0.673225</td>\n      <td>0.668503</td>\n      <td>0.728969</td>\n      <td>0.596297</td>\n      <td>0.750835</td>\n      <td>0.632051</td>\n      <td>0.345203</td>\n      <td>0.638231</td>\n      <td>0.602630</td>\n      <td>0.149873</td>\n      <td>14</td>\n    </tr>\n    <tr>\n      <th>1</th>\n      <td>0.002501</td>\n      <td>5.000831e-04</td>\n      <td>0.004701</td>\n      <td>0.000640</td>\n      <td>2</td>\n      <td>{'n_neighbors': 2}</td>\n      <td>0.760294</td>\n      <td>0.597509</td>\n      <td>0.785232</td>\n      <td>0.744155</td>\n      <td>0.724942</td>\n      <td>0.711895</td>\n      <td>0.783782</td>\n      <td>0.755437</td>\n      <td>0.457308</td>\n      <td>0.693007</td>\n      <td>0.701356</td>\n      <td>0.096509</td>\n      <td>13</td>\n    </tr>\n    <tr>\n      <th>2</th>\n      <td>0.003001</td>\n      <td>2.249236e-07</td>\n      <td>0.004801</td>\n      <td>0.000400</td>\n      <td>3</td>\n      <td>{'n_neighbors': 3}</td>\n      <td>0.791678</td>\n      <td>0.680672</td>\n      <td>0.789750</td>\n      <td>0.732312</td>\n      <td>0.732995</td>\n      <td>0.743530</td>\n      <td>0.791826</td>\n      <td>0.754361</td>\n      <td>0.515357</td>\n      <td>0.750465</td>\n      <td>0.728295</td>\n      <td>0.078027</td>\n      <td>12</td>\n    </tr>\n    <tr>\n      <th>3</th>\n      <td>0.002701</td>\n      <td>4.585263e-04</td>\n      <td>0.005401</td>\n      <td>0.000490</td>\n      <td>4</td>\n      <td>{'n_neighbors': 4}</td>\n      <td>0.779533</td>\n      <td>0.716608</td>\n      <td>0.789691</td>\n      <td>0.720356</td>\n      <td>0.731071</td>\n      <td>0.745167</td>\n      <td>0.763657</td>\n      <td>0.782534</td>\n      <td>0.535011</td>\n      <td>0.747364</td>\n      <td>0.731099</td>\n      <td>0.069802</td>\n      <td>11</td>\n    </tr>\n    <tr>\n      <th>4</th>\n      <td>0.003101</td>\n      <td>3.001217e-04</td>\n      <td>0.005601</td>\n      <td>0.000490</td>\n      <td>5</td>\n      <td>{'n_neighbors': 5}</td>\n      <td>0.767779</td>\n      <td>0.721353</td>\n      <td>0.793127</td>\n      <td>0.690670</td>\n      <td>0.733361</td>\n      <td>0.774366</td>\n      <td>0.749560</td>\n      <td>0.783860</td>\n      <td>0.549151</td>\n      <td>0.765257</td>\n      <td>0.732849</td>\n      <td>0.067945</td>\n      <td>10</td>\n    </tr>\n    <tr>\n      <th>5</th>\n      <td>0.003101</td>\n      <td>3.004316e-04</td>\n      <td>0.005601</td>\n      <td>0.000664</td>\n      <td>6</td>\n      <td>{'n_neighbors': 6}</td>\n      <td>0.773894</td>\n      <td>0.783611</td>\n      <td>0.795534</td>\n      <td>0.700564</td>\n      <td>0.712149</td>\n      <td>0.785216</td>\n      <td>0.754382</td>\n      <td>0.779214</td>\n      <td>0.547689</td>\n      <td>0.769856</td>\n      <td>0.740211</td>\n      <td>0.070802</td>\n      <td>3</td>\n    </tr>\n    <tr>\n      <th>6</th>\n      <td>0.003101</td>\n      <td>2.999392e-04</td>\n      <td>0.005801</td>\n      <td>0.000600</td>\n      <td>7</td>\n      <td>{'n_neighbors': 7}</td>\n      <td>0.770276</td>\n      <td>0.769669</td>\n      <td>0.790530</td>\n      <td>0.676201</td>\n      <td>0.700273</td>\n      <td>0.789617</td>\n      <td>0.766473</td>\n      <td>0.773471</td>\n      <td>0.543436</td>\n      <td>0.772189</td>\n      <td>0.735213</td>\n      <td>0.073298</td>\n      <td>8</td>\n    </tr>\n    <tr>\n      <th>7</th>\n      <td>0.003301</td>\n      <td>4.584066e-04</td>\n      <td>0.005601</td>\n      <td>0.001429</td>\n      <td>8</td>\n      <td>{'n_neighbors': 8}</td>\n      <td>0.810577</td>\n      <td>0.764780</td>\n      <td>0.791389</td>\n      <td>0.670147</td>\n      <td>0.695494</td>\n      <td>0.779921</td>\n      <td>0.763272</td>\n      <td>0.792394</td>\n      <td>0.561254</td>\n      <td>0.773031</td>\n      <td>0.740226</td>\n      <td>0.072813</td>\n      <td>2</td>\n    </tr>\n    <tr>\n      <th>8</th>\n      <td>0.002901</td>\n      <td>2.999545e-04</td>\n      <td>0.005301</td>\n      <td>0.000641</td>\n      <td>9</td>\n      <td>{'n_neighbors': 9}</td>\n      <td>0.804290</td>\n      <td>0.769589</td>\n      <td>0.791150</td>\n      <td>0.670639</td>\n      <td>0.694627</td>\n      <td>0.787157</td>\n      <td>0.760536</td>\n      <td>0.782024</td>\n      <td>0.558202</td>\n      <td>0.768746</td>\n      <td>0.738696</td>\n      <td>0.072640</td>\n      <td>6</td>\n    </tr>\n    <tr>\n      <th>9</th>\n      <td>0.002901</td>\n      <td>3.001454e-04</td>\n      <td>0.005401</td>\n      <td>0.000490</td>\n      <td>10</td>\n      <td>{'n_neighbors': 10}</td>\n      <td>0.799760</td>\n      <td>0.760243</td>\n      <td>0.791905</td>\n      <td>0.686254</td>\n      <td>0.700491</td>\n      <td>0.779018</td>\n      <td>0.766560</td>\n      <td>0.784111</td>\n      <td>0.552897</td>\n      <td>0.765767</td>\n      <td>0.738701</td>\n      <td>0.071381</td>\n      <td>5</td>\n    </tr>\n    <tr>\n      <th>10</th>\n      <td>0.003101</td>\n      <td>5.388717e-04</td>\n      <td>0.005701</td>\n      <td>0.000781</td>\n      <td>11</td>\n      <td>{'n_neighbors': 11}</td>\n      <td>0.802694</td>\n      <td>0.752803</td>\n      <td>0.796325</td>\n      <td>0.691095</td>\n      <td>0.704504</td>\n      <td>0.777661</td>\n      <td>0.775733</td>\n      <td>0.780312</td>\n      <td>0.557722</td>\n      <td>0.766785</td>\n      <td>0.740563</td>\n      <td>0.070127</td>\n      <td>1</td>\n    </tr>\n    <tr>\n      <th>11</th>\n      <td>0.003001</td>\n      <td>4.473947e-04</td>\n      <td>0.005702</td>\n      <td>0.000641</td>\n      <td>12</td>\n      <td>{'n_neighbors': 12}</td>\n      <td>0.798888</td>\n      <td>0.747025</td>\n      <td>0.793641</td>\n      <td>0.695943</td>\n      <td>0.702116</td>\n      <td>0.763405</td>\n      <td>0.778144</td>\n      <td>0.781128</td>\n      <td>0.569559</td>\n      <td>0.766188</td>\n      <td>0.739604</td>\n      <td>0.065726</td>\n      <td>4</td>\n    </tr>\n    <tr>\n      <th>12</th>\n      <td>0.003085</td>\n      <td>3.094812e-04</td>\n      <td>0.005501</td>\n      <td>0.000807</td>\n      <td>13</td>\n      <td>{'n_neighbors': 13}</td>\n      <td>0.794569</td>\n      <td>0.738115</td>\n      <td>0.786389</td>\n      <td>0.686157</td>\n      <td>0.700082</td>\n      <td>0.760412</td>\n      <td>0.777863</td>\n      <td>0.779301</td>\n      <td>0.567476</td>\n      <td>0.768658</td>\n      <td>0.735902</td>\n      <td>0.065908</td>\n      <td>7</td>\n    </tr>\n    <tr>\n      <th>13</th>\n      <td>0.002911</td>\n      <td>3.052312e-04</td>\n      <td>0.005491</td>\n      <td>0.000490</td>\n      <td>14</td>\n      <td>{'n_neighbors': 14}</td>\n      <td>0.796144</td>\n      <td>0.736029</td>\n      <td>0.784709</td>\n      <td>0.683200</td>\n      <td>0.697719</td>\n      <td>0.756924</td>\n      <td>0.775142</td>\n      <td>0.783376</td>\n      <td>0.565936</td>\n      <td>0.772331</td>\n      <td>0.735151</td>\n      <td>0.066852</td>\n      <td>9</td>\n    </tr>\n  </tbody>\n</table>\n</div>"
     },
     "metadata": {},
     "output_type": "display_data"
    }
   ],
   "source": [
    "knn_reg = KNeighborsRegressor()\n",
    "param_grid = {'n_neighbors': np.arange(1, 15)}\n",
    "knn_grid_cv = ms.GridSearchCV(knn_reg, param_grid, cv=10)\n",
    "knn_grid_cv.fit(X, Y)\n",
    "print(knn_grid_cv.best_params_)\n",
    "print(knn_grid_cv.best_score_)\n",
    "display(pd.DataFrame(knn_grid_cv.cv_results_))"
   ],
   "metadata": {
    "collapsed": false,
    "pycharm": {
     "name": "#%%\n"
    }
   }
  },
  {
   "cell_type": "markdown",
   "source": [
    "It appears that 11 neighbours gives us the best score. However, given the standard error of about 0.07, a score of at least\n",
    "0.67 performs similarly. Thus, the \"rule-of-thumb\" best selection could be argued to be k=2 KNN with a score of 0.7014"
   ],
   "metadata": {
    "collapsed": false,
    "pycharm": {
     "name": "#%% md\n"
    }
   }
  },
  {
   "cell_type": "code",
   "execution_count": 15,
   "outputs": [
    {
     "name": "stdout",
     "output_type": "stream",
     "text": [
      "0.8505264801075464\n",
      "758.6209310344827\n"
     ]
    }
   ],
   "source": [
    "ridge_reg = lm.RidgeCV(alphas=np.linspace(0.001,1000,30), cv=10)\n",
    "ridge_reg.fit(X, Y)\n",
    "print(ridge_reg.best_score_)\n",
    "print(ridge_reg.alpha_)"
   ],
   "metadata": {
    "collapsed": false,
    "pycharm": {
     "name": "#%% Using RidgeCV\n"
    }
   }
  },
  {
   "cell_type": "code",
   "execution_count": 16,
   "outputs": [
    {
     "name": "stdout",
     "output_type": "stream",
     "text": [
      "{'alpha': 707.0716363636363}\n",
      "0.8505097456712031\n",
      "7\n"
     ]
    },
    {
     "data": {
      "text/plain": "    mean_fit_time  std_fit_time  mean_score_time  std_score_time  param_alpha  \\\n0        0.007701      0.000641         0.001701        0.000458        0.001   \n1        0.007201      0.000600         0.001701        0.000458   101.011091   \n2        0.007101      0.000300         0.001701        0.000458   202.021182   \n3        0.007301      0.000458         0.001501        0.000500   303.031273   \n4        0.007101      0.000300         0.001801        0.000400   404.041364   \n..            ...           ...              ...             ...          ...   \n95       0.007015      0.000041         0.001901        0.000300  9595.959636   \n96       0.007101      0.000300         0.001801        0.000400  9696.969727   \n97       0.006901      0.000300         0.001400        0.000490  9797.979818   \n98       0.007402      0.000491         0.001401        0.000490  9898.989909   \n99       0.007101      0.000539         0.001601        0.000490      10000.0   \n\n                           params  split0_test_score  split1_test_score  \\\n0                {'alpha': 0.001}           0.882797           0.824154   \n1   {'alpha': 101.01109090909091}           0.908442           0.841937   \n2   {'alpha': 202.02118181818182}           0.915468           0.853634   \n3    {'alpha': 303.0312727272727}           0.918958           0.861450   \n4    {'alpha': 404.0413636363636}           0.920918           0.866878   \n..                            ...                ...                ...   \n95   {'alpha': 9595.959636363636}           0.807544           0.735987   \n96   {'alpha': 9696.969727272728}           0.806138           0.734420   \n97   {'alpha': 9797.979818181819}           0.804734           0.732859   \n98    {'alpha': 9898.98990909091}           0.803333           0.731305   \n99             {'alpha': 10000.0}           0.801934           0.729756   \n\n    split2_test_score  split3_test_score  split4_test_score  \\\n0            0.912537           0.751018           0.900222   \n1            0.917140           0.771243           0.903549   \n2            0.917034           0.778262           0.898969   \n3            0.916649           0.781929           0.894194   \n4            0.916232           0.784097           0.889546   \n..                ...                ...                ...   \n95           0.783840           0.687069           0.672809   \n96           0.782338           0.685824           0.671181   \n97           0.780840           0.684582           0.669561   \n98           0.779346           0.683342           0.667949   \n99           0.777856           0.682105           0.666346   \n\n    split5_test_score  split6_test_score  split7_test_score  \\\n0            0.589256           0.886591           0.895929   \n1            0.778636           0.893137           0.898473   \n2            0.815121           0.893655           0.897922   \n3            0.834656           0.892960           0.897239   \n4            0.846311           0.891740           0.896477   \n..                ...                ...                ...   \n95           0.715143           0.735236           0.762134   \n96           0.713599           0.733770           0.760684   \n97           0.712062           0.732308           0.759239   \n98           0.710532           0.730852           0.757797   \n99           0.709008           0.729401           0.756360   \n\n    split8_test_score  split9_test_score  mean_test_score  std_test_score  \\\n0            0.420825          -1.254833         0.580850        0.630833   \n1            0.503665           0.899134         0.831536        0.120546   \n2            0.536410           0.897083         0.840356        0.110173   \n3            0.556682           0.895679         0.845040        0.103973   \n4            0.570754           0.894672         0.847762        0.099723   \n..                ...                ...              ...             ...   \n95           0.560058           0.768608         0.722843        0.067231   \n96           0.559009           0.767193         0.721416        0.067139   \n97           0.557961           0.765782         0.719993        0.067046   \n98           0.556914           0.764375         0.718575        0.066954   \n99           0.555869           0.762971         0.717161        0.066863   \n\n    rank_test_score  \n0               100  \n1                24  \n2                17  \n3                12  \n4                 9  \n..              ...  \n95               95  \n96               96  \n97               97  \n98               98  \n99               99  \n\n[100 rows x 19 columns]",
      "text/html": "<div>\n<style scoped>\n    .dataframe tbody tr th:only-of-type {\n        vertical-align: middle;\n    }\n\n    .dataframe tbody tr th {\n        vertical-align: top;\n    }\n\n    .dataframe thead th {\n        text-align: right;\n    }\n</style>\n<table border=\"1\" class=\"dataframe\">\n  <thead>\n    <tr style=\"text-align: right;\">\n      <th></th>\n      <th>mean_fit_time</th>\n      <th>std_fit_time</th>\n      <th>mean_score_time</th>\n      <th>std_score_time</th>\n      <th>param_alpha</th>\n      <th>params</th>\n      <th>split0_test_score</th>\n      <th>split1_test_score</th>\n      <th>split2_test_score</th>\n      <th>split3_test_score</th>\n      <th>split4_test_score</th>\n      <th>split5_test_score</th>\n      <th>split6_test_score</th>\n      <th>split7_test_score</th>\n      <th>split8_test_score</th>\n      <th>split9_test_score</th>\n      <th>mean_test_score</th>\n      <th>std_test_score</th>\n      <th>rank_test_score</th>\n    </tr>\n  </thead>\n  <tbody>\n    <tr>\n      <th>0</th>\n      <td>0.007701</td>\n      <td>0.000641</td>\n      <td>0.001701</td>\n      <td>0.000458</td>\n      <td>0.001</td>\n      <td>{'alpha': 0.001}</td>\n      <td>0.882797</td>\n      <td>0.824154</td>\n      <td>0.912537</td>\n      <td>0.751018</td>\n      <td>0.900222</td>\n      <td>0.589256</td>\n      <td>0.886591</td>\n      <td>0.895929</td>\n      <td>0.420825</td>\n      <td>-1.254833</td>\n      <td>0.580850</td>\n      <td>0.630833</td>\n      <td>100</td>\n    </tr>\n    <tr>\n      <th>1</th>\n      <td>0.007201</td>\n      <td>0.000600</td>\n      <td>0.001701</td>\n      <td>0.000458</td>\n      <td>101.011091</td>\n      <td>{'alpha': 101.01109090909091}</td>\n      <td>0.908442</td>\n      <td>0.841937</td>\n      <td>0.917140</td>\n      <td>0.771243</td>\n      <td>0.903549</td>\n      <td>0.778636</td>\n      <td>0.893137</td>\n      <td>0.898473</td>\n      <td>0.503665</td>\n      <td>0.899134</td>\n      <td>0.831536</td>\n      <td>0.120546</td>\n      <td>24</td>\n    </tr>\n    <tr>\n      <th>2</th>\n      <td>0.007101</td>\n      <td>0.000300</td>\n      <td>0.001701</td>\n      <td>0.000458</td>\n      <td>202.021182</td>\n      <td>{'alpha': 202.02118181818182}</td>\n      <td>0.915468</td>\n      <td>0.853634</td>\n      <td>0.917034</td>\n      <td>0.778262</td>\n      <td>0.898969</td>\n      <td>0.815121</td>\n      <td>0.893655</td>\n      <td>0.897922</td>\n      <td>0.536410</td>\n      <td>0.897083</td>\n      <td>0.840356</td>\n      <td>0.110173</td>\n      <td>17</td>\n    </tr>\n    <tr>\n      <th>3</th>\n      <td>0.007301</td>\n      <td>0.000458</td>\n      <td>0.001501</td>\n      <td>0.000500</td>\n      <td>303.031273</td>\n      <td>{'alpha': 303.0312727272727}</td>\n      <td>0.918958</td>\n      <td>0.861450</td>\n      <td>0.916649</td>\n      <td>0.781929</td>\n      <td>0.894194</td>\n      <td>0.834656</td>\n      <td>0.892960</td>\n      <td>0.897239</td>\n      <td>0.556682</td>\n      <td>0.895679</td>\n      <td>0.845040</td>\n      <td>0.103973</td>\n      <td>12</td>\n    </tr>\n    <tr>\n      <th>4</th>\n      <td>0.007101</td>\n      <td>0.000300</td>\n      <td>0.001801</td>\n      <td>0.000400</td>\n      <td>404.041364</td>\n      <td>{'alpha': 404.0413636363636}</td>\n      <td>0.920918</td>\n      <td>0.866878</td>\n      <td>0.916232</td>\n      <td>0.784097</td>\n      <td>0.889546</td>\n      <td>0.846311</td>\n      <td>0.891740</td>\n      <td>0.896477</td>\n      <td>0.570754</td>\n      <td>0.894672</td>\n      <td>0.847762</td>\n      <td>0.099723</td>\n      <td>9</td>\n    </tr>\n    <tr>\n      <th>...</th>\n      <td>...</td>\n      <td>...</td>\n      <td>...</td>\n      <td>...</td>\n      <td>...</td>\n      <td>...</td>\n      <td>...</td>\n      <td>...</td>\n      <td>...</td>\n      <td>...</td>\n      <td>...</td>\n      <td>...</td>\n      <td>...</td>\n      <td>...</td>\n      <td>...</td>\n      <td>...</td>\n      <td>...</td>\n      <td>...</td>\n      <td>...</td>\n    </tr>\n    <tr>\n      <th>95</th>\n      <td>0.007015</td>\n      <td>0.000041</td>\n      <td>0.001901</td>\n      <td>0.000300</td>\n      <td>9595.959636</td>\n      <td>{'alpha': 9595.959636363636}</td>\n      <td>0.807544</td>\n      <td>0.735987</td>\n      <td>0.783840</td>\n      <td>0.687069</td>\n      <td>0.672809</td>\n      <td>0.715143</td>\n      <td>0.735236</td>\n      <td>0.762134</td>\n      <td>0.560058</td>\n      <td>0.768608</td>\n      <td>0.722843</td>\n      <td>0.067231</td>\n      <td>95</td>\n    </tr>\n    <tr>\n      <th>96</th>\n      <td>0.007101</td>\n      <td>0.000300</td>\n      <td>0.001801</td>\n      <td>0.000400</td>\n      <td>9696.969727</td>\n      <td>{'alpha': 9696.969727272728}</td>\n      <td>0.806138</td>\n      <td>0.734420</td>\n      <td>0.782338</td>\n      <td>0.685824</td>\n      <td>0.671181</td>\n      <td>0.713599</td>\n      <td>0.733770</td>\n      <td>0.760684</td>\n      <td>0.559009</td>\n      <td>0.767193</td>\n      <td>0.721416</td>\n      <td>0.067139</td>\n      <td>96</td>\n    </tr>\n    <tr>\n      <th>97</th>\n      <td>0.006901</td>\n      <td>0.000300</td>\n      <td>0.001400</td>\n      <td>0.000490</td>\n      <td>9797.979818</td>\n      <td>{'alpha': 9797.979818181819}</td>\n      <td>0.804734</td>\n      <td>0.732859</td>\n      <td>0.780840</td>\n      <td>0.684582</td>\n      <td>0.669561</td>\n      <td>0.712062</td>\n      <td>0.732308</td>\n      <td>0.759239</td>\n      <td>0.557961</td>\n      <td>0.765782</td>\n      <td>0.719993</td>\n      <td>0.067046</td>\n      <td>97</td>\n    </tr>\n    <tr>\n      <th>98</th>\n      <td>0.007402</td>\n      <td>0.000491</td>\n      <td>0.001401</td>\n      <td>0.000490</td>\n      <td>9898.989909</td>\n      <td>{'alpha': 9898.98990909091}</td>\n      <td>0.803333</td>\n      <td>0.731305</td>\n      <td>0.779346</td>\n      <td>0.683342</td>\n      <td>0.667949</td>\n      <td>0.710532</td>\n      <td>0.730852</td>\n      <td>0.757797</td>\n      <td>0.556914</td>\n      <td>0.764375</td>\n      <td>0.718575</td>\n      <td>0.066954</td>\n      <td>98</td>\n    </tr>\n    <tr>\n      <th>99</th>\n      <td>0.007101</td>\n      <td>0.000539</td>\n      <td>0.001601</td>\n      <td>0.000490</td>\n      <td>10000.0</td>\n      <td>{'alpha': 10000.0}</td>\n      <td>0.801934</td>\n      <td>0.729756</td>\n      <td>0.777856</td>\n      <td>0.682105</td>\n      <td>0.666346</td>\n      <td>0.709008</td>\n      <td>0.729401</td>\n      <td>0.756360</td>\n      <td>0.555869</td>\n      <td>0.762971</td>\n      <td>0.717161</td>\n      <td>0.066863</td>\n      <td>99</td>\n    </tr>\n  </tbody>\n</table>\n<p>100 rows × 19 columns</p>\n</div>"
     },
     "execution_count": 16,
     "metadata": {},
     "output_type": "execute_result"
    }
   ],
   "source": [
    "ridge_reg = lm.Ridge()\n",
    "param_grid = {'alpha': np.linspace(0.001,10000,100)}\n",
    "ridge_grid_cv = ms.GridSearchCV(ridge_reg, param_grid, cv=10)\n",
    "ridge_grid_cv.fit(X, Y)\n",
    "print(ridge_grid_cv.best_params_)\n",
    "print(ridge_grid_cv.best_score_)\n",
    "print(ridge_grid_cv.best_index_)\n",
    "ridge_cv_table = pd.DataFrame(ridge_grid_cv.cv_results_)\n",
    "ridge_cv_table"
   ],
   "metadata": {
    "collapsed": false,
    "pycharm": {
     "name": "#%% Using GridSearch CV\n"
    }
   }
  },
  {
   "cell_type": "code",
   "execution_count": 17,
   "outputs": [
    {
     "name": "stdout",
     "output_type": "stream",
     "text": [
      "0.7584074107463838\n",
      "mean_fit_time                            0.007202\n",
      "std_fit_time                               0.0006\n",
      "mean_score_time                          0.001701\n",
      "std_score_time                           0.000641\n",
      "param_alpha                           7272.727545\n",
      "params               {'alpha': 7272.727545454545}\n",
      "split0_test_score                        0.840509\n",
      "split1_test_score                        0.773738\n",
      "split2_test_score                        0.819431\n",
      "split3_test_score                        0.716242\n",
      "split4_test_score                        0.712863\n",
      "split5_test_score                        0.752594\n",
      "split6_test_score                         0.77045\n",
      "split7_test_score                        0.796494\n",
      "split8_test_score                        0.584314\n",
      "split9_test_score                        0.802137\n",
      "mean_test_score                          0.756877\n",
      "std_test_score                           0.069555\n",
      "rank_test_score                                72\n",
      "Name: 72, dtype: object\n"
     ]
    },
    {
     "data": {
      "text/plain": "param_alpha        7171.717455\nmean_test_score       0.758408\nName: 71, dtype: object"
     },
     "execution_count": 17,
     "metadata": {},
     "output_type": "execute_result"
    }
   ],
   "source": [
    "accept = ridge_grid_cv.best_score_ - ridge_cv_table['std_test_score'].iloc[ridge_grid_cv.best_index_]\n",
    "print(accept)\n",
    "print(ridge_cv_table[(ridge_cv_table['mean_test_score'] <= accept) & (ridge_cv_table.index > ridge_grid_cv.best_index_)].iloc[0])\n",
    "ridge_cv_table[['param_alpha', 'mean_test_score']].iloc[71]"
   ],
   "metadata": {
    "collapsed": false,
    "pycharm": {
     "name": "#%% Standard Error\n"
    }
   }
  },
  {
   "cell_type": "markdown",
   "source": [
    "Our best score here is with lambda or alpha ~ 707.07 with 0.8505. The standard error is 0.0921. This means that our\n",
    "simplest model (higher lambda) is at index 71 (the lambda within our standard error threshold). This is lambda ~ 7172\n",
    "and CV score = 0.7584"
   ],
   "metadata": {
    "collapsed": false,
    "pycharm": {
     "name": "#%% md\n"
    }
   }
  },
  {
   "cell_type": "code",
   "execution_count": 18,
   "outputs": [
    {
     "name": "stdout",
     "output_type": "stream",
     "text": [
      "{'alpha': 1632.6539795918368}\n",
      "0.8443541296515326\n",
      "4\n"
     ]
    }
   ],
   "source": [
    "lasso_reg = lm.Lasso()\n",
    "param_grid = {'alpha': np.linspace(0.001,20000,50)}\n",
    "lasso_grid_cv = ms.GridSearchCV(lasso_reg, param_grid, cv=10)\n",
    "lasso_grid_cv.fit(X, Y)\n",
    "print(lasso_grid_cv.best_params_)\n",
    "print(lasso_grid_cv.best_score_)\n",
    "print(lasso_grid_cv.best_index_)\n",
    "lasso_cv_table = pd.DataFrame(lasso_grid_cv.cv_results_)\n",
    "# lasso_cv_table"
   ],
   "metadata": {
    "collapsed": false,
    "pycharm": {
     "name": "#%%\n"
    }
   }
  },
  {
   "cell_type": "code",
   "execution_count": 19,
   "outputs": [
    {
     "name": "stdout",
     "output_type": "stream",
     "text": [
      "0.7457931992421065\n",
      "mean_fit_time                             0.006601\n",
      "std_fit_time                               0.00049\n",
      "mean_score_time                           0.001601\n",
      "std_score_time                             0.00049\n",
      "param_alpha                           12653.061592\n",
      "params               {'alpha': 12653.061591836735}\n",
      "split0_test_score                          0.80166\n",
      "split1_test_score                         0.771215\n",
      "split2_test_score                         0.805111\n",
      "split3_test_score                         0.707488\n",
      "split4_test_score                         0.706631\n",
      "split5_test_score                         0.715163\n",
      "split6_test_score                         0.764257\n",
      "split7_test_score                         0.766628\n",
      "split8_test_score                         0.596848\n",
      "split9_test_score                         0.796461\n",
      "mean_test_score                           0.743146\n",
      "std_test_score                            0.060566\n",
      "rank_test_score                                 32\n",
      "Name: 31, dtype: object\n"
     ]
    },
    {
     "data": {
      "text/plain": "param_alpha        12244.898347\nmean_test_score         0.74699\nName: 30, dtype: object"
     },
     "execution_count": 19,
     "metadata": {},
     "output_type": "execute_result"
    }
   ],
   "source": [
    "accept = lasso_grid_cv.best_score_ - lasso_cv_table['std_test_score'].iloc[lasso_grid_cv.best_index_]\n",
    "print(accept)\n",
    "print(lasso_cv_table[(lasso_cv_table['mean_test_score'] <= accept) & (lasso_cv_table.index > lasso_grid_cv.best_index_)].iloc[0])\n",
    "lasso_cv_table[['param_alpha', 'mean_test_score']].iloc[30]"
   ],
   "metadata": {
    "collapsed": false,
    "pycharm": {
     "name": "#%% Standard Error\n"
    }
   }
  },
  {
   "cell_type": "markdown",
   "source": [
    "Our best score here is with lambda or alpha ~ 1632.65 with 0.8444. The standard error is 0.0986. This means that our\n",
    "simplest model (higher lambda) is at index 30 (the lambda within our standard error threshold).\n",
    "This is lambda ~ 12245 and CV score = 0.7470"
   ],
   "metadata": {
    "collapsed": false,
    "pycharm": {
     "name": "#%% md\n"
    }
   }
  },
  {
   "cell_type": "code",
   "execution_count": 20,
   "outputs": [
    {
     "name": "stdout",
     "output_type": "stream",
     "text": [
      "0.5740162171877558\n",
      "0.6390221064393009\n",
      "[ 0.86387649  0.80127488  0.91110944  0.74827339  0.90051782  0.62523891\n",
      "  0.88577184  0.89588169  0.39476086 -1.28654315]\n"
     ]
    }
   ],
   "source": [
    "lin_reg_cv = lm.LinearRegression()\n",
    "cv_scores = cross_val_score(lin_reg_cv, X_non_norm, Y, cv=10)\n",
    "print(np.mean(cv_scores))\n",
    "print(np.std(cv_scores))\n",
    "print(cv_scores)"
   ],
   "metadata": {
    "collapsed": false,
    "pycharm": {
     "name": "#%% BSR on non-normalized data\n"
    }
   }
  },
  {
   "cell_type": "code",
   "execution_count": 21,
   "outputs": [],
   "source": [
    "v = np.linalg.inv(X.T.dot(X).values)"
   ],
   "metadata": {
    "collapsed": false,
    "pycharm": {
     "name": "#%%\n"
    }
   }
  },
  {
   "cell_type": "code",
   "execution_count": 22,
   "outputs": [],
   "source": [
    "def sse_calc(y, y_hat):\n",
    "    return np.sum(np.square(y - y_hat))"
   ],
   "metadata": {
    "collapsed": false,
    "pycharm": {
     "name": "#%%\n"
    }
   }
  },
  {
   "cell_type": "code",
   "execution_count": 23,
   "outputs": [],
   "source": [
    "def z_calc(beta, n, k, v_j, sse):\n",
    "    sigma = np.sqrt(1/(n-k-1) * sse)\n",
    "    return beta/(sigma * np.sqrt(v_j))"
   ],
   "metadata": {
    "collapsed": false,
    "pycharm": {
     "name": "#%%\n"
    }
   }
  },
  {
   "cell_type": "code",
   "execution_count": 24,
   "outputs": [
    {
     "name": "stdout",
     "output_type": "stream",
     "text": [
      "(0, 302)\n"
     ]
    }
   ],
   "source": [
    "kf = KFold(n_splits=10)\n",
    "kf.split(X)\n",
    "n_fold = 1\n",
    "p = len(X.columns)\n",
    "z_all = np.empty((0,p))\n",
    "print(np.shape(z_all))\n",
    "\n",
    "for train_index, test_index in kf.split(X):\n",
    "    z_row = []\n",
    "    train_fold_X = X_non_norm.iloc[train_index]\n",
    "    train_fold_Y = Y.iloc[train_index]\n",
    "\n",
    "    test_fold_X = X_non_norm.iloc[test_index]\n",
    "    test_fold_Y = Y.iloc[test_index]\n",
    "\n",
    "    lin_reg_fold = lm.LinearRegression().fit(train_fold_X, train_fold_Y)\n",
    "    pred_fold = lin_reg_fold.predict(test_fold_X)\n",
    "\n",
    "    n = len(train_fold_X) ### should be test length\n",
    "    k = len(train_fold_X.columns)\n",
    "    xtx = train_fold_X.T.dot(train_fold_X).values\n",
    "    v = np.linalg.pinv(xtx)\n",
    "\n",
    "    sse = sse_calc(test_fold_Y, pred_fold)\n",
    "    beta = lin_reg_fold.coef_\n",
    "\n",
    "    for j in range(len(beta)):\n",
    "        v_j = v[j,j]\n",
    "        b_j = beta[j]\n",
    "        z_j = z_calc(b_j, n, k, v_j, sse)\n",
    "        z_row.append(z_j)\n",
    "    z_all = np.append(z_all, np.array([z_row]), axis=0)\n",
    "    n_fold += 1"
   ],
   "metadata": {
    "collapsed": false,
    "pycharm": {
     "name": "#%%\n"
    }
   }
  },
  {
   "cell_type": "code",
   "execution_count": 25,
   "outputs": [
    {
     "data": {
      "text/plain": "       LotFrontage    LotArea  OverallQual  OverallCond  YearBuilt  \\\ncount    10.000000  10.000000    10.000000    10.000000  10.000000   \nmean      2.240815   9.783085    10.590821    10.885915   6.528354   \nstd       0.874715   3.586738     4.698628     4.574634   2.702237   \nmin       0.935428   3.379450     3.387678     3.159908   2.055800   \n25%       1.489418   8.443376     7.628545     8.645514   5.194523   \n50%       2.407223  10.320636    10.656001    11.082886   6.506347   \n75%       2.720762  11.578973    14.410943    15.190964   8.735547   \nmax       3.594324  14.488166    16.487793    15.677444   9.811755   \n\n       YearRemodAdd  MasVnrArea  BsmtFinSF1  BsmtFinSF2  BsmtUnfSF  ...  \\\ncount     10.000000   10.000000    9.000000    9.000000   9.000000  ...   \nmean       3.046017    6.650530    9.916069    2.774523  -1.108890  ...   \nstd        1.043014    3.214977    2.948861    1.094164   0.798098  ...   \nmin        1.176236    2.195324    4.806823    0.734019  -2.323435  ...   \n25%        2.306489    4.210880    8.196488    2.506297  -1.816513  ...   \n50%        3.255468    6.639944    9.969461    2.938253  -0.793354  ...   \n75%        3.959173    9.075880   11.500695    3.381540  -0.563810  ...   \nmax        4.309497   11.292743   14.507054    4.183681  -0.033292  ...   \n\n       MSSubClass_30  MSSubClass_40  MSSubClass_45  MSSubClass_50  \\\ncount      10.000000      10.000000      10.000000      10.000000   \nmean        1.046747       0.091051      -0.181840       0.306769   \nstd         0.634400       0.436292       0.543579       0.326913   \nmin         0.180531      -0.337273      -1.139263      -0.340971   \n25%         0.568305      -0.189853      -0.454888       0.145715   \n50%         0.991280      -0.049502      -0.259856       0.356210   \n75%         1.565854       0.109978       0.213523       0.521070   \nmax         2.059364       0.916599       0.682041       0.773034   \n\n       MSSubClass_60  MSSubClass_70  MSSubClass_75  MSSubClass_80  \\\ncount      10.000000      10.000000      10.000000      10.000000   \nmean        1.156668       1.457959      -0.879254      -0.712504   \nstd         0.695981       0.869636       1.732635       0.410773   \nmin         0.255046       0.354799      -3.327166      -1.629903   \n25%         0.596242       0.799867      -2.226205      -0.821744   \n50%         1.072019       1.188252      -0.775491      -0.622470   \n75%         1.496508       2.137568       0.305592      -0.450598   \nmax         2.433606       2.972476       1.761751      -0.301846   \n\n       MSSubClass_85  MSSubClass_90  \ncount      10.000000      10.000000  \nmean       -0.883752       0.010241  \nstd         0.459427       0.209635  \nmin        -1.915466      -0.333099  \n25%        -1.168287      -0.065163  \n50%        -0.663907      -0.016944  \n75%        -0.535978       0.051123  \nmax        -0.515653       0.476572  \n\n[8 rows x 302 columns]",
      "text/html": "<div>\n<style scoped>\n    .dataframe tbody tr th:only-of-type {\n        vertical-align: middle;\n    }\n\n    .dataframe tbody tr th {\n        vertical-align: top;\n    }\n\n    .dataframe thead th {\n        text-align: right;\n    }\n</style>\n<table border=\"1\" class=\"dataframe\">\n  <thead>\n    <tr style=\"text-align: right;\">\n      <th></th>\n      <th>LotFrontage</th>\n      <th>LotArea</th>\n      <th>OverallQual</th>\n      <th>OverallCond</th>\n      <th>YearBuilt</th>\n      <th>YearRemodAdd</th>\n      <th>MasVnrArea</th>\n      <th>BsmtFinSF1</th>\n      <th>BsmtFinSF2</th>\n      <th>BsmtUnfSF</th>\n      <th>...</th>\n      <th>MSSubClass_30</th>\n      <th>MSSubClass_40</th>\n      <th>MSSubClass_45</th>\n      <th>MSSubClass_50</th>\n      <th>MSSubClass_60</th>\n      <th>MSSubClass_70</th>\n      <th>MSSubClass_75</th>\n      <th>MSSubClass_80</th>\n      <th>MSSubClass_85</th>\n      <th>MSSubClass_90</th>\n    </tr>\n  </thead>\n  <tbody>\n    <tr>\n      <th>count</th>\n      <td>10.000000</td>\n      <td>10.000000</td>\n      <td>10.000000</td>\n      <td>10.000000</td>\n      <td>10.000000</td>\n      <td>10.000000</td>\n      <td>10.000000</td>\n      <td>9.000000</td>\n      <td>9.000000</td>\n      <td>9.000000</td>\n      <td>...</td>\n      <td>10.000000</td>\n      <td>10.000000</td>\n      <td>10.000000</td>\n      <td>10.000000</td>\n      <td>10.000000</td>\n      <td>10.000000</td>\n      <td>10.000000</td>\n      <td>10.000000</td>\n      <td>10.000000</td>\n      <td>10.000000</td>\n    </tr>\n    <tr>\n      <th>mean</th>\n      <td>2.240815</td>\n      <td>9.783085</td>\n      <td>10.590821</td>\n      <td>10.885915</td>\n      <td>6.528354</td>\n      <td>3.046017</td>\n      <td>6.650530</td>\n      <td>9.916069</td>\n      <td>2.774523</td>\n      <td>-1.108890</td>\n      <td>...</td>\n      <td>1.046747</td>\n      <td>0.091051</td>\n      <td>-0.181840</td>\n      <td>0.306769</td>\n      <td>1.156668</td>\n      <td>1.457959</td>\n      <td>-0.879254</td>\n      <td>-0.712504</td>\n      <td>-0.883752</td>\n      <td>0.010241</td>\n    </tr>\n    <tr>\n      <th>std</th>\n      <td>0.874715</td>\n      <td>3.586738</td>\n      <td>4.698628</td>\n      <td>4.574634</td>\n      <td>2.702237</td>\n      <td>1.043014</td>\n      <td>3.214977</td>\n      <td>2.948861</td>\n      <td>1.094164</td>\n      <td>0.798098</td>\n      <td>...</td>\n      <td>0.634400</td>\n      <td>0.436292</td>\n      <td>0.543579</td>\n      <td>0.326913</td>\n      <td>0.695981</td>\n      <td>0.869636</td>\n      <td>1.732635</td>\n      <td>0.410773</td>\n      <td>0.459427</td>\n      <td>0.209635</td>\n    </tr>\n    <tr>\n      <th>min</th>\n      <td>0.935428</td>\n      <td>3.379450</td>\n      <td>3.387678</td>\n      <td>3.159908</td>\n      <td>2.055800</td>\n      <td>1.176236</td>\n      <td>2.195324</td>\n      <td>4.806823</td>\n      <td>0.734019</td>\n      <td>-2.323435</td>\n      <td>...</td>\n      <td>0.180531</td>\n      <td>-0.337273</td>\n      <td>-1.139263</td>\n      <td>-0.340971</td>\n      <td>0.255046</td>\n      <td>0.354799</td>\n      <td>-3.327166</td>\n      <td>-1.629903</td>\n      <td>-1.915466</td>\n      <td>-0.333099</td>\n    </tr>\n    <tr>\n      <th>25%</th>\n      <td>1.489418</td>\n      <td>8.443376</td>\n      <td>7.628545</td>\n      <td>8.645514</td>\n      <td>5.194523</td>\n      <td>2.306489</td>\n      <td>4.210880</td>\n      <td>8.196488</td>\n      <td>2.506297</td>\n      <td>-1.816513</td>\n      <td>...</td>\n      <td>0.568305</td>\n      <td>-0.189853</td>\n      <td>-0.454888</td>\n      <td>0.145715</td>\n      <td>0.596242</td>\n      <td>0.799867</td>\n      <td>-2.226205</td>\n      <td>-0.821744</td>\n      <td>-1.168287</td>\n      <td>-0.065163</td>\n    </tr>\n    <tr>\n      <th>50%</th>\n      <td>2.407223</td>\n      <td>10.320636</td>\n      <td>10.656001</td>\n      <td>11.082886</td>\n      <td>6.506347</td>\n      <td>3.255468</td>\n      <td>6.639944</td>\n      <td>9.969461</td>\n      <td>2.938253</td>\n      <td>-0.793354</td>\n      <td>...</td>\n      <td>0.991280</td>\n      <td>-0.049502</td>\n      <td>-0.259856</td>\n      <td>0.356210</td>\n      <td>1.072019</td>\n      <td>1.188252</td>\n      <td>-0.775491</td>\n      <td>-0.622470</td>\n      <td>-0.663907</td>\n      <td>-0.016944</td>\n    </tr>\n    <tr>\n      <th>75%</th>\n      <td>2.720762</td>\n      <td>11.578973</td>\n      <td>14.410943</td>\n      <td>15.190964</td>\n      <td>8.735547</td>\n      <td>3.959173</td>\n      <td>9.075880</td>\n      <td>11.500695</td>\n      <td>3.381540</td>\n      <td>-0.563810</td>\n      <td>...</td>\n      <td>1.565854</td>\n      <td>0.109978</td>\n      <td>0.213523</td>\n      <td>0.521070</td>\n      <td>1.496508</td>\n      <td>2.137568</td>\n      <td>0.305592</td>\n      <td>-0.450598</td>\n      <td>-0.535978</td>\n      <td>0.051123</td>\n    </tr>\n    <tr>\n      <th>max</th>\n      <td>3.594324</td>\n      <td>14.488166</td>\n      <td>16.487793</td>\n      <td>15.677444</td>\n      <td>9.811755</td>\n      <td>4.309497</td>\n      <td>11.292743</td>\n      <td>14.507054</td>\n      <td>4.183681</td>\n      <td>-0.033292</td>\n      <td>...</td>\n      <td>2.059364</td>\n      <td>0.916599</td>\n      <td>0.682041</td>\n      <td>0.773034</td>\n      <td>2.433606</td>\n      <td>2.972476</td>\n      <td>1.761751</td>\n      <td>-0.301846</td>\n      <td>-0.515653</td>\n      <td>0.476572</td>\n    </tr>\n  </tbody>\n</table>\n<p>8 rows × 302 columns</p>\n</div>"
     },
     "execution_count": 25,
     "metadata": {},
     "output_type": "execute_result"
    }
   ],
   "source": [
    "z_all = pd.DataFrame(z_all, columns=columns)\n",
    "z_all.describe()"
   ],
   "metadata": {
    "collapsed": false,
    "pycharm": {
     "name": "#%%\n"
    }
   }
  },
  {
   "cell_type": "code",
   "execution_count": 30,
   "outputs": [],
   "source": [
    "# z_all.info(verbose=True, show_counts=True)"
   ],
   "metadata": {
    "collapsed": false,
    "pycharm": {
     "name": "#%%\n"
    }
   }
  },
  {
   "cell_type": "code",
   "execution_count": 27,
   "outputs": [],
   "source": [
    "array = np.empty((0,3))\n",
    "\n",
    "array = np.append(array, np.array([[1,3,5]]), axis=0)\n",
    "array = np.append(array, np.array([[2,4,6]]), axis=0)"
   ],
   "metadata": {
    "collapsed": false,
    "pycharm": {
     "name": "#%%\n"
    }
   }
  },
  {
   "cell_type": "code",
   "execution_count": 144,
   "outputs": [
    {
     "data": {
      "text/plain": "0.025105284535159693"
     },
     "execution_count": 144,
     "metadata": {},
     "output_type": "execute_result"
    }
   ],
   "source": [
    "X_sm = sm.add_constant(X_non_norm)\n",
    "sm_OLS_model = OLS(Y,X_sm)\n",
    "result_sm = sm_OLS_model.fit()\n",
    "a = result_sm.tvalues.to_frame().abs()\n",
    "a.loc['const',0]\n",
    "# X_test_sm = sm.add_constant(X_test, has_constant='add')\n",
    "# Y_sm_pred = result_sm.predict(sm.add_constant(X_test_sm))"
   ],
   "metadata": {
    "collapsed": false,
    "pycharm": {
     "name": "#%%\n"
    }
   }
  },
  {
   "cell_type": "code",
   "execution_count": 49,
   "outputs": [
    {
     "data": {
      "text/plain": "0       208500.0\n1       181500.0\n2       223500.0\n3       140000.0\n4       250000.0\n          ...   \n1455    175000.0\n1456    210000.0\n1457    266500.0\n1458    142125.0\n1459    147500.0\nName: SalePrice, Length: 1460, dtype: float64"
     },
     "execution_count": 49,
     "metadata": {},
     "output_type": "execute_result"
    }
   ],
   "source": [],
   "metadata": {
    "collapsed": false,
    "pycharm": {
     "name": "#%%\n"
    }
   }
  },
  {
   "cell_type": "code",
   "execution_count": 29,
   "outputs": [
    {
     "data": {
      "text/plain": "0.9344011723484195"
     },
     "execution_count": 29,
     "metadata": {},
     "output_type": "execute_result"
    }
   ],
   "source": [
    "r2_score(Y_test, Y_sm_pred)"
   ],
   "metadata": {
    "collapsed": false,
    "pycharm": {
     "name": "#%%\n"
    }
   }
  },
  {
   "cell_type": "code",
   "execution_count": 107,
   "outputs": [
    {
     "data": {
      "text/plain": "0    305.889535\nName: const, dtype: float64"
     },
     "execution_count": 107,
     "metadata": {},
     "output_type": "execute_result"
    }
   ],
   "source": [
    "result_sm.summary()\n",
    "t_df = result_sm.tvalues.to_frame().abs()\n",
    "t_df.sort_values(by=[0]).loc['const']"
   ],
   "metadata": {
    "collapsed": false,
    "pycharm": {
     "name": "#%%\n"
    }
   }
  },
  {
   "cell_type": "code",
   "execution_count": 139,
   "outputs": [
    {
     "data": {
      "text/plain": "const                 inf\nLotFrontage      1.345830\nLotArea          6.102238\nOverallQual      6.354396\nOverallCond      6.651298\n                   ...   \nMSSubClass_70    1.018586\nMSSubClass_75   -0.741981\nMSSubClass_80   -0.407876\nMSSubClass_85   -0.630981\nMSSubClass_90    0.032265\nLength: 303, dtype: float64"
     },
     "execution_count": 139,
     "metadata": {},
     "output_type": "execute_result"
    }
   ],
   "source": [
    "result_sm.tvalues['const'] = np.inf\n",
    "result_sm.tvalues\n"
   ],
   "metadata": {
    "collapsed": false,
    "pycharm": {
     "name": "#%%\n"
    }
   }
  },
  {
   "cell_type": "code",
   "execution_count": 40,
   "outputs": [
    {
     "data": {
      "text/plain": "   mean_fit_time  std_fit_time  mean_score_time  std_score_time  \\\n0       0.079417      0.006169         0.002101          0.0003   \n\n  param_fit_intercept                   params  split0_test_score  \\\n0                True  {'fit_intercept': True}      -1.098781e+25   \n\n   split1_test_score  split2_test_score  split3_test_score  split4_test_score  \\\n0      -3.402445e+25      -1.032912e+24      -7.858075e+24      -4.396432e+24   \n\n   split5_test_score  split6_test_score  split7_test_score  split8_test_score  \\\n0      -1.154353e+24      -1.304823e+24      -2.456593e+24      -1.798149e+25   \n\n   split9_test_score  mean_test_score  std_test_score  rank_test_score  \n0      -1.993961e+26    -2.805930e+25    5.794696e+25                1  ",
      "text/html": "<div>\n<style scoped>\n    .dataframe tbody tr th:only-of-type {\n        vertical-align: middle;\n    }\n\n    .dataframe tbody tr th {\n        vertical-align: top;\n    }\n\n    .dataframe thead th {\n        text-align: right;\n    }\n</style>\n<table border=\"1\" class=\"dataframe\">\n  <thead>\n    <tr style=\"text-align: right;\">\n      <th></th>\n      <th>mean_fit_time</th>\n      <th>std_fit_time</th>\n      <th>mean_score_time</th>\n      <th>std_score_time</th>\n      <th>param_fit_intercept</th>\n      <th>params</th>\n      <th>split0_test_score</th>\n      <th>split1_test_score</th>\n      <th>split2_test_score</th>\n      <th>split3_test_score</th>\n      <th>split4_test_score</th>\n      <th>split5_test_score</th>\n      <th>split6_test_score</th>\n      <th>split7_test_score</th>\n      <th>split8_test_score</th>\n      <th>split9_test_score</th>\n      <th>mean_test_score</th>\n      <th>std_test_score</th>\n      <th>rank_test_score</th>\n    </tr>\n  </thead>\n  <tbody>\n    <tr>\n      <th>0</th>\n      <td>0.079417</td>\n      <td>0.006169</td>\n      <td>0.002101</td>\n      <td>0.0003</td>\n      <td>True</td>\n      <td>{'fit_intercept': True}</td>\n      <td>-1.098781e+25</td>\n      <td>-3.402445e+25</td>\n      <td>-1.032912e+24</td>\n      <td>-7.858075e+24</td>\n      <td>-4.396432e+24</td>\n      <td>-1.154353e+24</td>\n      <td>-1.304823e+24</td>\n      <td>-2.456593e+24</td>\n      <td>-1.798149e+25</td>\n      <td>-1.993961e+26</td>\n      <td>-2.805930e+25</td>\n      <td>5.794696e+25</td>\n      <td>1</td>\n    </tr>\n  </tbody>\n</table>\n</div>"
     },
     "execution_count": 40,
     "metadata": {},
     "output_type": "execute_result"
    }
   ],
   "source": [
    "BSR_reg = lm.LinearRegression()\n",
    "param_grid = {'fit_intercept': [True]}\n",
    "BSR_grid_cv = ms.GridSearchCV(BSR_reg, param_grid, cv=10)\n",
    "BSR_grid_cv.fit(X, Y)\n",
    "pd.DataFrame(BSR_grid_cv.cv_results_)"
   ],
   "metadata": {
    "collapsed": false,
    "pycharm": {
     "name": "#%%\n"
    }
   }
  },
  {
   "cell_type": "code",
   "execution_count": 146,
   "outputs": [],
   "source": [
    "def evaluate_cv_model(X, Y):\n",
    "    reg = lm.LinearRegression()\n",
    "    param = {'fit_intercept': [True]}\n",
    "    grid_cv = ms.GridSearchCV(reg, param, cv=10)\n",
    "    grid_cv.fit(X, Y)\n",
    "    results = pd.DataFrame(grid_cv.cv_results_)\n",
    "    score = results['mean_test_score'].iloc[0]\n",
    "    std = results['std_test_score'].iloc[0]\n",
    "    return score, std\n",
    "\n",
    "def get_smallest_z(X ,Y):\n",
    "    X_sm = sm.add_constant(X, has_constant='add')\n",
    "    sm_OLS_model = OLS(Y, X_sm)\n",
    "    result_sm = sm_OLS_model.fit()\n",
    "    t_df = result_sm.tvalues.to_frame().abs()\n",
    "    t_df.loc['const',0] = np.inf\n",
    "    smallest_z_feature = t_df.sort_values(by=[0]).index[0]\n",
    "    return smallest_z_feature"
   ],
   "metadata": {
    "collapsed": false,
    "pycharm": {
     "name": "#%%\n"
    }
   }
  },
  {
   "cell_type": "code",
   "execution_count": 94,
   "outputs": [
    {
     "data": {
      "text/plain": "'LandContour_Bnk'"
     },
     "execution_count": 94,
     "metadata": {},
     "output_type": "execute_result"
    }
   ],
   "source": [
    "get_smallest_z(X_non_norm, Y)"
   ],
   "metadata": {
    "collapsed": false,
    "pycharm": {
     "name": "#%%\n"
    }
   }
  },
  {
   "cell_type": "code",
   "execution_count": 111,
   "outputs": [
    {
     "data": {
      "text/plain": "(0.5740162171877558, 0.6390221064393009)"
     },
     "execution_count": 111,
     "metadata": {},
     "output_type": "execute_result"
    }
   ],
   "source": [
    "evaluate_cv_model(X_non_norm, Y)"
   ],
   "metadata": {
    "collapsed": false,
    "pycharm": {
     "name": "#%%\n"
    }
   }
  },
  {
   "cell_type": "code",
   "execution_count": 147,
   "outputs": [
    {
     "name": "stdout",
     "output_type": "stream",
     "text": [
      "LandContour_Bnk\n",
      "301\n",
      "LotShape_Reg\n",
      "300\n",
      "MSSubClass_45\n",
      "299\n",
      "ExterCond_Fa\n",
      "298\n",
      "Functional_Maj2\n",
      "297\n",
      "Exterior2nd_MetalSd\n",
      "296\n",
      "Exterior1st_WdShing\n",
      "295\n",
      "BldgType_TwnhsE\n",
      "294\n",
      "CentralAir_Y\n",
      "293\n",
      "PavedDrive_P\n",
      "292\n",
      "MSSubClass_90\n",
      "291\n",
      "BldgType_Duplex\n",
      "290\n",
      "MiscFeature_Gar2\n",
      "289\n",
      "Exterior2nd_Stucco\n",
      "288\n",
      "Neighborhood_SawyerW\n",
      "287\n",
      "SaleCondition_Partial\n",
      "286\n",
      "HeatingQC_TA\n",
      "285\n",
      "HouseStyle_1.5Fin\n",
      "284\n",
      "SaleCondition_Family\n",
      "283\n",
      "Heating_GasW\n",
      "282\n",
      "MSSubClass_40\n",
      "281\n",
      "SaleCondition_Alloca\n",
      "280\n",
      "KitchenQual_Fa\n",
      "279\n",
      "Condition1_Feedr\n",
      "278\n",
      "MiscVal\n",
      "277\n",
      "MSZoning_RH\n",
      "276\n",
      "MSZoning_RM\n",
      "275\n",
      "LotConfig_Inside\n",
      "274\n",
      "Foundation_Slab\n",
      "273\n",
      "ExterQual_Fa\n",
      "272\n",
      "SaleType_Oth\n",
      "271\n",
      "RoofStyle_Mansard\n",
      "270\n",
      "Street_Grvl\n",
      "269\n",
      "LandSlope_Gtl\n",
      "268\n",
      "Utilities_NoSeWa\n",
      "267\n",
      "OpenPorchSF\n",
      "266\n",
      "Exterior2nd_Wd Shng\n",
      "265\n",
      "Neighborhood_Somerst\n",
      "264\n",
      "Exterior2nd_Brk Cmn\n",
      "263\n",
      "BsmtHalfBath\n",
      "262\n",
      "MasVnrType_BrkCmn\n",
      "261\n",
      "MSSubClass_50\n",
      "260\n",
      "BldgType_2fmCon\n",
      "259\n",
      "MSSubClass_190\n",
      "258\n",
      "ExterCond_Ex\n",
      "257\n",
      "Heating_Floor\n",
      "256\n",
      "SaleCondition_Abnorml\n",
      "255\n",
      "BsmtQual_Ex\n",
      "254\n",
      "Exterior2nd_Plywood\n",
      "253\n",
      "Exterior1st_CemntBd\n",
      "252\n",
      "HouseStyle_2.5Unf\n",
      "251\n",
      "Condition2_RRAn\n",
      "250\n",
      "SaleType_ConLI\n",
      "249\n",
      "SaleType_ConLw\n",
      "248\n",
      "HeatingQC_Po\n",
      "247\n",
      "Functional_Mod\n",
      "246\n",
      "Condition1_PosA\n",
      "245\n",
      "BsmtExposure_No\n",
      "244\n",
      "BsmtFinType1_GLQ\n",
      "243\n",
      "Alley_Pave\n",
      "242\n",
      "Neighborhood_BrDale\n",
      "241\n",
      "Exterior2nd_AsphShn\n",
      "240\n",
      "CentralAir_N\n",
      "239\n",
      "Fence_GdWo\n",
      "238\n",
      "GarageYrBlt\n",
      "237\n",
      "Exterior2nd_BrkFace\n",
      "236\n",
      "MSSubClass_160\n",
      "235\n",
      "Exterior2nd_AsbShng\n",
      "234\n",
      "Neighborhood_Veenker\n",
      "233\n",
      "LotShape_IR3\n",
      "232\n",
      "Exterior1st_Stucco\n",
      "231\n",
      "ExterCond_Po\n",
      "230\n",
      "EnclosedPorch\n",
      "229\n",
      "Exterior1st_CBlock\n",
      "228\n",
      "Exterior2nd_CBlock\n",
      "227\n",
      "Exterior1st_BrkComm\n",
      "226\n",
      "GarageType_Basment\n",
      "225\n",
      "GarageType_Detchd\n",
      "224\n",
      "GarageType_CarPort\n",
      "223\n",
      "HeatingQC_Gd\n",
      "222\n",
      "Heating_GasA\n",
      "221\n",
      "RoofMatl_WdShake\n",
      "220\n",
      "RoofMatl_Roll\n",
      "219\n",
      "Exterior1st_ImStucc\n",
      "218\n",
      "Fence_MnPrv\n",
      "217\n",
      "HouseStyle_1Story\n",
      "216\n",
      "Exterior1st_AsphShn\n",
      "215\n",
      "RoofMatl_Tar&Grv\n",
      "214\n",
      "Exterior1st_Stone\n",
      "213\n",
      "Neighborhood_Blmngtn\n",
      "212\n",
      "RoofMatl_CompShg\n",
      "211\n",
      "HouseStyle_SFoyer\n",
      "210\n",
      "RoofStyle_Gambrel\n",
      "209\n",
      "HouseStyle_SLvl\n",
      "208\n",
      "MSSubClass_80\n",
      "207\n",
      "Exterior1st_VinylSd\n",
      "206\n",
      "MSSubClass_180\n",
      "205\n",
      "Electrical_FuseF\n",
      "204\n",
      "Electrical_FuseA\n",
      "203\n",
      "Electrical_FuseP\n",
      "202\n",
      "Foundation_BrkTil\n",
      "201\n",
      "KitchenQual_TA\n",
      "200\n",
      "KitchenQual_Gd\n",
      "199\n",
      "Condition1_RRNn\n",
      "198\n",
      "SaleType_COD\n",
      "197\n",
      "SaleType_WD\n",
      "196\n",
      "ExterCond_TA\n",
      "195\n",
      "Condition2_Norm\n",
      "194\n",
      "Functional_Maj1\n",
      "193\n",
      "Condition2_RRNn\n",
      "192\n",
      "LotConfig_Corner\n",
      "191\n",
      "Neighborhood_BrkSide\n",
      "190\n",
      "Neighborhood_SWISU\n",
      "189\n",
      "BsmtFinType2_LwQ\n",
      "188\n",
      "BsmtFinType2_BLQ\n",
      "187\n",
      "Heating_Grav\n",
      "186\n",
      "FireplaceQu_Po\n",
      "185\n",
      "MiscFeature_TenC\n",
      "184\n",
      "MSSubClass_120\n",
      "183\n",
      "Fence_MnWw\n",
      "182\n",
      "Exterior1st_AsbShng\n",
      "181\n",
      "Condition1_RRNe\n",
      "180\n",
      "Exterior2nd_HdBoard\n",
      "179\n",
      "Exterior1st_HdBoard\n",
      "178\n",
      "Condition2_Artery\n",
      "177\n",
      "Alley_Grvl\n",
      "176\n",
      "Condition2_Feedr\n",
      "175\n",
      "LotShape_IR2\n",
      "174\n",
      "BsmtCond_TA\n",
      "173\n",
      "BsmtCond_Fa\n",
      "172\n",
      "HeatingQC_Fa\n",
      "171\n",
      "PavedDrive_N\n",
      "170\n",
      "PavedDrive_Y\n",
      "169\n",
      "GarageType_BuiltIn\n",
      "168\n",
      "Neighborhood_Blueste\n",
      "167\n",
      "BsmtExposure_Mn\n",
      "166\n",
      "Electrical_SBrkr\n",
      "165\n",
      "ExterQual_Ex\n",
      "164\n",
      "BsmtFinType2_Rec\n",
      "163\n",
      "MiscFeature_Shed\n",
      "162\n",
      "BsmtCond_Gd\n",
      "161\n",
      "BldgType_Twnhs\n",
      "160\n",
      "MasVnrType_BrkFace\n",
      "159\n",
      "HalfBath\n",
      "158\n",
      "MiscFeature_Othr\n",
      "157\n",
      "Neighborhood_IDOTRR\n",
      "156\n",
      "YrSold\n",
      "155\n",
      "BsmtFullBath\n",
      "154\n",
      "Foundation_Stone\n",
      "153\n",
      "Heating_OthW\n",
      "152\n",
      "HouseStyle_2.5Fin\n",
      "151\n",
      "LotConfig_FR3\n",
      "150\n",
      "Exterior1st_Plywood\n",
      "149\n",
      "Exterior1st_Wd Sdng\n",
      "148\n",
      "Exterior2nd_ImStucc\n",
      "147\n",
      "Exterior2nd_Other\n",
      "146\n",
      "SaleCondition_AdjLand\n",
      "145\n",
      "BsmtFinType1_BLQ\n",
      "144\n",
      "BsmtFinType1_Unf\n",
      "143\n",
      "Foundation_CBlock\n",
      "142\n",
      "Foundation_PConc\n",
      "141\n",
      "Heating_Wall\n",
      "140\n",
      "Exterior2nd_Stone\n",
      "139\n",
      "Neighborhood_MeadowV\n",
      "138\n",
      "BsmtFinType2_GLQ\n",
      "137\n",
      "Condition1_PosN\n",
      "136\n",
      "SaleType_CWD\n",
      "135\n",
      "Exterior2nd_CmentBd\n",
      "134\n",
      "Exterior2nd_Wd Sdng\n",
      "133\n",
      "Neighborhood_NPkVill\n",
      "132\n",
      "GarageType_Attchd\n",
      "131\n",
      "MSSubClass_85\n",
      "130\n",
      "Condition1_RRAn\n",
      "129\n",
      "Utilities_AllPub\n",
      "128\n",
      "LotShape_IR1\n",
      "127\n",
      "Electrical_Mix\n",
      "126\n",
      "FireplaceQu_Ex\n",
      "125\n",
      "RoofStyle_Hip\n",
      "124\n",
      "RoofStyle_Gable\n",
      "123\n",
      "RoofStyle_Flat\n",
      "122\n",
      "BsmtFinType2_Unf\n",
      "121\n",
      "BsmtUnfSF\n",
      "120\n",
      "BsmtFinType1_Rec\n",
      "119\n",
      "LotFrontage\n",
      "118\n",
      "FullBath\n",
      "117\n",
      "Functional_Min1\n",
      "116\n",
      "Functional_Min2\n",
      "115\n",
      "FireplaceQu_TA\n",
      "114\n",
      "FireplaceQu_Fa\n",
      "113\n",
      "FireplaceQu_Gd\n",
      "112\n",
      "Exterior2nd_VinylSd\n",
      "111\n",
      "BsmtFinSF2\n",
      "110\n",
      "ExterCond_Gd\n",
      "109\n",
      "3SsnPorch\n",
      "108\n",
      "BsmtCond_Po\n",
      "107\n",
      "LotConfig_FR2\n",
      "106\n",
      "SaleType_ConLD\n",
      "105\n",
      "PoolQC_Ex\n",
      "104\n",
      "LandContour_Low\n",
      "103\n",
      "Foundation_Wood\n",
      "102\n",
      "Neighborhood_CollgCr\n",
      "101\n",
      "BsmtFinType1_ALQ\n",
      "100\n",
      "Neighborhood_Gilbert\n",
      "99\n",
      "Neighborhood_Timber\n",
      "98\n",
      "MoSold\n",
      "97\n",
      "BsmtFinType1_LwQ\n",
      "96\n",
      "HouseStyle_1.5Unf\n",
      "95\n",
      "MSSubClass_30\n",
      "94\n",
      "MSSubClass_20\n",
      "93\n",
      "MSSubClass_70\n",
      "92\n",
      "MSSubClass_60\n",
      "91\n",
      "RoofMatl_Metal\n",
      "90\n",
      "Exterior1st_MetalSd\n",
      "89\n",
      "GarageCond_Gd\n",
      "88\n",
      "GarageFinish_RFn\n",
      "87\n",
      "GarageCond_Fa\n",
      "86\n",
      "GarageCond_Po\n",
      "85\n",
      "GarageCond_TA\n",
      "84\n",
      "GarageFinish_Fin\n",
      "83\n",
      "GarageFinish_Unf\n",
      "82\n",
      "GarageQual_Po\n",
      "81\n",
      "GarageQual_Gd\n",
      "80\n",
      "Neighborhood_Sawyer\n",
      "79\n",
      "Neighborhood_ClearCr\n",
      "78\n",
      "Neighborhood_OldTown\n",
      "77\n",
      "GarageType_2Types\n",
      "76\n",
      "LandSlope_Mod\n",
      "75\n",
      "Fireplaces\n",
      "74\n",
      "SaleType_Con\n",
      "73\n",
      "YearRemodAdd\n",
      "72\n",
      "BsmtFinType2_ALQ\n",
      "71\n",
      "HouseStyle_2Story\n",
      "70\n",
      "GarageArea\n",
      "69\n",
      "MSSubClass_75\n",
      "68\n",
      "Condition2_PosA\n",
      "67\n",
      "Condition1_Artery\n",
      "66\n",
      "RoofStyle_Shed\n",
      "65\n",
      "Condition2_RRAe\n",
      "64\n",
      "LandContour_HLS\n",
      "63\n",
      "LandContour_Lvl\n",
      "62\n",
      "MasVnrType_Stone\n",
      "61\n",
      "Functional_Sev\n",
      "60\n",
      "BsmtExposure_Av\n",
      "59\n",
      "MSZoning_C (all)\n",
      "58\n",
      "RoofMatl_Membran\n",
      "57\n",
      "MasVnrType_None\n",
      "56\n",
      "Condition1_RRAe\n",
      "55\n",
      "Fence_GdPrv\n",
      "54\n",
      "TotRmsAbvGrd\n",
      "53\n",
      "KitchenAbvGr\n",
      "52\n",
      "MSZoning_RL\n",
      "51\n",
      "Neighborhood_Edwards\n",
      "50\n",
      "Neighborhood_NWAmes\n",
      "49\n",
      "Neighborhood_NAmes\n",
      "48\n",
      "LandSlope_Sev\n",
      "47\n",
      "ScreenPorch\n",
      "46\n",
      "GarageQual_TA\n",
      "45\n",
      "GarageQual_Fa\n",
      "44\n",
      "Neighborhood_Mitchel\n",
      "43\n",
      "Street_Pave\n",
      "42\n",
      "LowQualFinSF\n",
      "41\n",
      "GrLivArea\n",
      "40\n",
      "WoodDeckSF\n",
      "39\n",
      "LotConfig_CulDSac\n",
      "38\n",
      "MasVnrArea\n",
      "37\n",
      "PoolQC_Gd\n",
      "36\n",
      "HeatingQC_Ex\n",
      "35\n",
      "PoolQC_Fa\n",
      "34\n",
      "GarageCond_Ex\n",
      "33\n",
      "GarageQual_Ex\n",
      "32\n",
      "Exterior1st_BrkFace\n",
      "31\n",
      "Condition1_Norm\n",
      "30\n",
      "BsmtQual_Fa\n",
      "29\n",
      "MSZoning_FV\n",
      "28\n",
      "SaleCondition_Normal\n",
      "27\n",
      "PoolArea\n",
      "26\n",
      "BedroomAbvGr\n",
      "25\n",
      "Functional_Typ\n",
      "24\n",
      "ExterQual_Gd\n",
      "23\n",
      "ExterQual_TA\n",
      "22\n",
      "GarageCars\n",
      "21\n",
      "RoofMatl_WdShngl\n",
      "20\n",
      "Neighborhood_Crawfor\n",
      "19\n",
      "LotArea\n",
      "18\n",
      "Neighborhood_StoneBr\n",
      "17\n",
      "Neighborhood_NridgHt\n",
      "16\n",
      "Neighborhood_NoRidge\n",
      "15\n",
      "SaleType_New\n",
      "14\n",
      "BsmtExposure_Gd\n",
      "13\n",
      "BldgType_1Fam\n",
      "12\n",
      "OverallCond\n",
      "11\n",
      "BsmtQual_TA\n",
      "10\n",
      "BsmtQual_Gd\n",
      "9\n",
      "TotalBsmtSF\n",
      "8\n",
      "Condition2_PosN\n",
      "7\n",
      "YearBuilt\n",
      "6\n",
      "KitchenQual_Ex\n",
      "5\n",
      "BsmtFinSF1\n",
      "4\n",
      "RoofMatl_ClyTile\n",
      "3\n",
      "2ndFlrSF\n",
      "2\n",
      "1stFlrSF\n",
      "1\n"
     ]
    }
   ],
   "source": [
    "X_BSR = X_non_norm\n",
    "k = len(X_BSR.columns)\n",
    "score_k = np.empty([k,3])\n",
    "dropped_cols = []\n",
    "\n",
    "for iteration in range(len(X_BSR.columns)+1):\n",
    "\n",
    "    if len(X_BSR.columns) == 1:\n",
    "        break\n",
    "\n",
    "    col_to_drop = get_smallest_z(X_BSR, Y)\n",
    "    print(col_to_drop)\n",
    "\n",
    "    if col_to_drop == 'const':\n",
    "        continue\n",
    "    else:\n",
    "        dropped_cols.append(col_to_drop)\n",
    "        X_BSR = X_BSR.drop(col_to_drop, axis=1)\n",
    "\n",
    "        score, std = evaluate_cv_model(X_BSR, Y)\n",
    "        score_k[iteration,0] = k\n",
    "        score_k[iteration,1] = score\n",
    "        score_k[iteration,2] = std\n",
    "        k -= 1\n",
    "        print(k)"
   ],
   "metadata": {
    "collapsed": false,
    "pycharm": {
     "name": "#%%\n"
    }
   }
  },
  {
   "cell_type": "code",
   "execution_count": 170,
   "outputs": [
    {
     "data": {
      "text/plain": "(0.6, 0.9)"
     },
     "execution_count": 170,
     "metadata": {},
     "output_type": "execute_result"
    },
    {
     "data": {
      "text/plain": "<Figure size 432x288 with 1 Axes>",
      "image/png": "[encoded data removed]"
     },
     "metadata": {},
     "output_type": "display_data"
    }
   ],
   "source": [
    "fig = sns.scatterplot(score_k[0:-1,0],score_k[0:-1,1])\n",
    "fig.set_ylim(0.6,0.9)"
   ],
   "metadata": {
    "collapsed": false,
    "pycharm": {
     "name": "#%%\n"
    }
   }
  },
  {
   "cell_type": "code",
   "execution_count": 182,
   "outputs": [
    {
     "data": {
      "text/plain": "(0.0, 120.0)"
     },
     "execution_count": 182,
     "metadata": {},
     "output_type": "execute_result"
    },
    {
     "data": {
      "text/plain": "<Figure size 432x288 with 1 Axes>",
      "image/png": "[encoded data removed]"
     },
     "metadata": {},
     "output_type": "display_data"
    }
   ],
   "source": [
    "plt.errorbar(score_k[0:-1,0], score_k[0:-1,1], yerr=score_k[0:-1,2])\n",
    "plt.ylim(0.6, 0.9)\n",
    "plt.xlim(0,120)"
   ],
   "metadata": {
    "collapsed": false,
    "pycharm": {
     "name": "#%%\n"
    }
   }
  },
  {
   "cell_type": "code",
   "execution_count": 151,
   "outputs": [
    {
     "data": {
      "text/plain": "array([[ 3.02000000e+002,  5.74016217e-001,  6.39022106e-001],\n       [ 3.01000000e+002,  5.74016217e-001,  6.39022106e-001],\n       [ 3.00000000e+002,  5.74020519e-001,  6.39022451e-001],\n       [ 2.99000000e+002,  5.74017363e-001,  6.39021329e-001],\n       [ 2.98000000e+002,  5.73847698e-001,  6.38934838e-001],\n       [ 2.97000000e+002,  5.73862655e-001,  6.38893558e-001],\n       [ 2.96000000e+002,  5.73869217e-001,  6.38874640e-001],\n       [ 2.95000000e+002,  5.73869720e-001,  6.38874680e-001],\n       [ 2.94000000e+002,  5.73869720e-001,  6.38874680e-001],\n       [ 2.93000000e+002,  5.73869720e-001,  6.38874680e-001],\n       [ 2.92000000e+002,  5.73869720e-001,  6.38874680e-001],\n       [ 2.91000000e+002, -1.34409347e+007,  4.03228057e+007],\n       [ 2.90000000e+002, -3.73027884e+006,  1.11908383e+007],\n       [ 2.89000000e+002, -4.35670491e+007,  1.30701149e+008],\n       [ 2.88000000e+002, -3.35824281e+007,  1.00747286e+008],\n       [ 2.87000000e+002,  5.75481256e-001,  6.39833430e-001],\n       [ 2.86000000e+002, -1.62117341e+007,  4.86352042e+007],\n       [ 2.85000000e+002, -1.89335943e+007,  5.62501557e+007],\n       [ 2.84000000e+002,  5.75812188e-001,  6.39872524e-001],\n       [ 2.83000000e+002, -1.04839974e+006,  3.14520083e+006],\n       [ 2.82000000e+002, -3.65000074e+005,  1.09500257e+006],\n       [ 2.81000000e+002, -2.28718894e+007,  6.86156699e+007],\n       [ 2.80000000e+002, -5.21165922e+007,  1.56339727e+008],\n       [ 2.79000000e+002, -8.65561668e+005,  2.59668736e+006],\n       [ 2.78000000e+002, -1.31022116e+008,  3.09788278e+008],\n       [ 2.77000000e+002,  5.77101919e-001,  6.40025375e-001],\n       [ 2.76000000e+002, -1.44528446e+007,  4.33585354e+007],\n       [ 2.75000000e+002, -1.11800022e+008,  3.35400068e+008],\n       [ 2.74000000e+002, -8.76316061e+006,  1.96867000e+007],\n       [ 2.73000000e+002, -1.07067181e+007,  3.21201560e+007],\n       [ 2.72000000e+002,  5.77865706e-001,  6.38986251e-001],\n       [ 2.71000000e+002, -5.61525617e+007,  1.61714628e+008],\n       [ 2.70000000e+002, -3.34705393e+007,  1.00411620e+008],\n       [ 2.69000000e+002, -1.10459611e+007,  3.31378850e+007],\n       [ 2.68000000e+002, -1.66108953e+006,  4.98327022e+006],\n       [ 2.67000000e+002, -2.35437241e+007,  7.06311741e+007],\n       [ 2.66000000e+002, -1.79607510e+007,  5.38822547e+007],\n       [ 2.65000000e+002, -5.63712514e+005,  1.69113934e+006],\n       [ 2.64000000e+002, -1.05666603e+007,  3.04475302e+007],\n       [ 2.63000000e+002, -1.24731338e+007,  3.74194030e+007],\n       [ 2.62000000e+002, -1.71195152e+006,  5.13585635e+006],\n       [ 2.61000000e+002,  5.81568747e-001,  6.31925967e-001],\n       [ 2.60000000e+002,  5.82481719e-001,  6.29981433e-001],\n       [ 2.59000000e+002, -6.71164194e+004,  2.01351618e+005],\n       [ 2.58000000e+002, -1.91813599e+006,  5.75440980e+006],\n       [ 2.57000000e+002, -8.33553550e+005,  2.50066248e+006],\n       [ 2.56000000e+002,  5.89671668e-001,  6.11986621e-001],\n       [ 2.55000000e+002,  5.89665244e-001,  6.11982885e-001],\n       [ 2.54000000e+002,  5.90003027e-001,  6.11901601e-001],\n       [ 2.53000000e+002,  5.90706635e-001,  6.11922768e-001],\n       [ 2.52000000e+002, -3.25462052e+005,  9.76388058e+005],\n       [ 2.51000000e+002,  6.11466642e-001,  5.59544376e-001],\n       [ 2.50000000e+002,  6.11584547e-001,  5.59710726e-001],\n       [ 2.49000000e+002,  6.13074479e-001,  5.55660924e-001],\n       [ 2.48000000e+002, -7.14313606e+006,  2.14294099e+007],\n       [ 2.47000000e+002, -1.02830145e+006,  3.08490628e+006],\n       [ 2.46000000e+002,  6.15205470e-001,  5.52225650e-001],\n       [ 2.45000000e+002,  6.15222849e-001,  5.52169901e-001],\n       [ 2.44000000e+002,  6.15199009e-001,  5.52156936e-001],\n       [ 2.43000000e+002,  6.15806314e-001,  5.50820923e-001],\n       [ 2.42000000e+002,  6.16764325e-001,  5.48439342e-001],\n       [ 2.41000000e+002, -8.89946841e+005,  2.66984228e+006],\n       [ 2.40000000e+002,  6.17309439e-001,  5.47913987e-001],\n       [ 2.39000000e+002,  6.17594394e-001,  5.47506873e-001],\n       [ 2.38000000e+002,  6.19600112e-001,  5.42485650e-001],\n       [ 2.37000000e+002,  6.20931859e-001,  5.39394571e-001],\n       [ 2.36000000e+002,  6.27048320e-001,  5.23307908e-001],\n       [ 2.35000000e+002,  6.27232604e-001,  5.23395889e-001],\n       [ 2.34000000e+002,  6.28070957e-001,  5.22079275e-001],\n       [ 2.33000000e+002,  6.28089051e-001,  5.23205996e-001],\n       [ 2.32000000e+002,  6.37385003e-001,  4.98644986e-001],\n       [ 2.31000000e+002,  6.38336608e-001,  4.96244311e-001],\n       [ 2.30000000e+002,  6.53177339e-001,  4.56776553e-001],\n       [ 2.29000000e+002,  6.53177339e-001,  4.56776553e-001],\n       [ 2.28000000e+002,  6.53558190e-001,  4.56667754e-001],\n       [ 2.27000000e+002,  6.53869389e-001,  4.58363799e-001],\n       [ 2.26000000e+002,  6.53869389e-001,  4.58363799e-001],\n       [ 2.25000000e+002,  6.54109133e-001,  4.57743108e-001],\n       [ 2.24000000e+002,  6.54059612e-001,  4.58050935e-001],\n       [ 2.23000000e+002,  6.53821135e-001,  4.59430768e-001],\n       [ 2.22000000e+002,  6.54060894e-001,  4.59490611e-001],\n       [ 2.21000000e+002,  6.62865238e-001,  4.58784634e-001],\n       [ 2.20000000e+002,  6.62970229e-001,  4.58975780e-001],\n       [ 2.19000000e+002,  6.62665223e-001,  4.59902111e-001],\n       [ 2.18000000e+002,  6.62604431e-001,  4.60137816e-001],\n       [ 2.17000000e+002,  6.65818408e-001,  4.50905102e-001],\n       [ 2.16000000e+002,  6.65909347e-001,  4.50732805e-001],\n       [ 2.15000000e+002,  6.66556827e-001,  4.51167736e-001],\n       [ 2.14000000e+002,  6.66550769e-001,  4.50948407e-001],\n       [ 2.13000000e+002,  6.66676521e-001,  4.51022350e-001],\n       [ 2.12000000e+002,  6.67378189e-001,  4.49218594e-001],\n       [ 2.11000000e+002,  6.69345076e-001,  4.44941441e-001],\n       [ 2.10000000e+002,  6.69265591e-001,  4.45178416e-001],\n       [ 2.09000000e+002,  6.69505057e-001,  4.45099131e-001],\n       [ 2.08000000e+002,  6.69757882e-001,  4.44653818e-001],\n       [ 2.07000000e+002,  6.71028881e-001,  4.41571665e-001],\n       [ 2.06000000e+002,  6.69809465e-001,  4.45281062e-001],\n       [ 2.05000000e+002,  6.69927501e-001,  4.45088792e-001],\n       [ 2.04000000e+002,  6.70208610e-001,  4.44790154e-001],\n       [ 2.03000000e+002,  6.70359506e-001,  4.44786483e-001],\n       [ 2.02000000e+002,  6.70151540e-001,  4.45247230e-001],\n       [ 2.01000000e+002,  6.69819304e-001,  4.46261326e-001],\n       [ 2.00000000e+002,  6.69691408e-001,  4.46802879e-001],\n       [ 1.99000000e+002,  6.70166727e-001,  4.45336852e-001],\n       [ 1.98000000e+002,  6.69733901e-001,  4.46465616e-001],\n       [ 1.97000000e+002,  6.69335977e-001,  4.47854896e-001],\n       [ 1.96000000e+002,  6.69244984e-001,  4.48309819e-001],\n       [ 1.95000000e+002,  6.69395467e-001,  4.49149636e-001],\n       [ 1.94000000e+002,  6.69070733e-001,  4.50444141e-001],\n       [ 1.93000000e+002,  6.69250639e-001,  4.49905549e-001],\n       [ 1.92000000e+002,  6.69065261e-001,  4.50704941e-001],\n       [ 1.91000000e+002, -1.01230386e+005,  3.03693085e+005],\n       [ 1.90000000e+002,  6.70087145e-001,  4.48521481e-001],\n       [ 1.89000000e+002,  6.70939876e-001,  4.47573785e-001],\n       [ 1.88000000e+002,  6.72342000e-001,  4.43730890e-001],\n       [ 1.87000000e+002,  6.72155129e-001,  4.44540693e-001],\n       [ 1.86000000e+002,  6.72992508e-001,  4.44814577e-001],\n       [ 1.85000000e+002,  6.88510860e-001,  4.41239444e-001],\n       [ 1.84000000e+002,  6.87167998e-001,  4.46163670e-001],\n       [ 1.83000000e+002,  6.87037861e-001,  4.47026352e-001],\n       [ 1.82000000e+002,  6.85658777e-001,  4.51414704e-001],\n       [ 1.81000000e+002,  6.85594153e-001,  4.51996649e-001],\n       [ 1.80000000e+002,  6.85476891e-001,  4.52722554e-001],\n       [ 1.79000000e+002,  6.89228654e-001,  4.43329450e-001],\n       [ 1.78000000e+002,  6.87960149e-001,  4.47153754e-001],\n       [ 1.77000000e+002,  6.87573151e-001,  4.48397043e-001],\n       [ 1.76000000e+002,  6.87615288e-001,  4.49497640e-001],\n       [ 1.75000000e+002,  6.86601003e-001,  4.53017424e-001],\n       [ 1.74000000e+002,  6.87189132e-001,  4.52553259e-001],\n       [ 1.73000000e+002,  6.87909633e-001,  4.51032934e-001],\n       [ 1.72000000e+002,  6.88359083e-001,  4.51069484e-001],\n       [ 1.71000000e+002,  6.88504963e-001,  4.51396191e-001],\n       [ 1.70000000e+002,  6.89381273e-001,  4.49290628e-001],\n       [ 1.69000000e+002,  6.88888459e-001,  4.51189269e-001],\n       [ 1.68000000e+002,  6.88147267e-001,  4.53540617e-001],\n       [ 1.67000000e+002,  6.87687032e-001,  4.54420065e-001],\n       [ 1.66000000e+002,  6.88263429e-001,  4.52953499e-001],\n       [ 1.65000000e+002,  6.89240702e-001,  4.51878051e-001],\n       [ 1.64000000e+002,  6.88089550e-001,  4.54807188e-001],\n       [ 1.63000000e+002,  6.88093405e-001,  4.54874277e-001],\n       [ 1.62000000e+002,  6.87820660e-001,  4.55290699e-001],\n       [ 1.61000000e+002,  6.88320775e-001,  4.53249067e-001],\n       [ 1.60000000e+002,  6.89539096e-001,  4.50512461e-001],\n       [ 1.59000000e+002,  6.89161737e-001,  4.52284281e-001],\n       [ 1.58000000e+002,  6.87960445e-001,  4.56046746e-001],\n       [ 1.57000000e+002,  6.90514526e-001,  4.49257105e-001],\n       [ 1.56000000e+002,  6.92807055e-001,  4.43561955e-001],\n       [ 1.55000000e+002,  6.93514857e-001,  4.40877599e-001],\n       [ 1.54000000e+002,  6.93417855e-001,  4.40608484e-001],\n       [ 1.53000000e+002,  6.96625293e-001,  4.31611711e-001],\n       [ 1.52000000e+002,  7.10588835e-001,  3.94919225e-001],\n       [ 1.51000000e+002,  7.10668265e-001,  3.94863487e-001],\n       [ 1.50000000e+002,  7.12216043e-001,  3.93249343e-001],\n       [ 1.49000000e+002,  7.26440811e-001,  3.54067829e-001],\n       [ 1.48000000e+002,  7.29246278e-001,  3.46424502e-001],\n       [ 1.47000000e+002,  7.29460065e-001,  3.45784336e-001],\n       [ 1.46000000e+002,  7.29183837e-001,  3.47251039e-001],\n       [ 1.45000000e+002,  7.30982230e-001,  3.44293726e-001],\n       [ 1.44000000e+002,  7.30808621e-001,  3.44007402e-001],\n       [ 1.43000000e+002,  7.30052667e-001,  3.44170022e-001],\n       [ 1.42000000e+002,  7.33216977e-001,  3.36872815e-001],\n       [ 1.41000000e+002,  7.33113218e-001,  3.37667646e-001],\n       [ 1.40000000e+002,  7.33051694e-001,  3.38175383e-001],\n       [ 1.39000000e+002,  7.32619886e-001,  3.38985869e-001],\n       [ 1.38000000e+002,  7.33018512e-001,  3.37601369e-001],\n       [ 1.37000000e+002,  7.31978071e-001,  3.40500382e-001],\n       [ 1.36000000e+002,  7.33962940e-001,  3.35631562e-001],\n       [ 1.35000000e+002,  7.35385846e-001,  3.32183574e-001],\n       [ 1.34000000e+002,  7.34676204e-001,  3.33966431e-001],\n       [ 1.33000000e+002,  7.34940506e-001,  3.33663285e-001],\n       [ 1.32000000e+002,  7.37939801e-001,  3.28358366e-001],\n       [ 1.31000000e+002,  7.38382428e-001,  3.26019468e-001],\n       [ 1.30000000e+002,  7.36576557e-001,  3.28399020e-001],\n       [ 1.29000000e+002,  7.36790026e-001,  3.26752381e-001],\n       [ 1.28000000e+002,  7.38816065e-001,  3.23968021e-001],\n       [ 1.27000000e+002,  7.38554946e-001,  3.24502430e-001],\n       [ 1.26000000e+002,  7.38052763e-001,  3.27100242e-001],\n       [ 1.25000000e+002,  7.37813541e-001,  3.27451907e-001],\n       [ 1.24000000e+002,  7.38185110e-001,  3.27057229e-001],\n       [ 1.23000000e+002,  7.37871148e-001,  3.29980993e-001],\n       [ 1.22000000e+002,  7.33514358e-001,  3.40335492e-001],\n       [ 1.21000000e+002,  7.33514358e-001,  3.40335492e-001],\n       [ 1.20000000e+002,  7.33977789e-001,  3.38769641e-001],\n       [ 1.19000000e+002,  7.38112198e-001,  3.29501035e-001],\n       [ 1.18000000e+002,  7.36727680e-001,  3.30843717e-001],\n       [ 1.17000000e+002,  7.37786025e-001,  3.28816087e-001],\n       [ 1.16000000e+002,  7.40226499e-001,  3.22195090e-001],\n       [ 1.15000000e+002,  7.41430879e-001,  3.19772527e-001],\n       [ 1.14000000e+002,  7.39965763e-001,  3.22026186e-001],\n       [ 1.13000000e+002,  7.39098992e-001,  3.24510977e-001],\n       [ 1.12000000e+002,  7.40996276e-001,  3.18955047e-001],\n       [ 1.11000000e+002,  7.40717796e-001,  3.18296615e-001],\n       [ 1.10000000e+002,  7.38707687e-001,  3.24358492e-001],\n       [ 1.09000000e+002,  7.38008288e-001,  3.25559636e-001],\n       [ 1.08000000e+002,  7.38062415e-001,  3.26467124e-001],\n       [ 1.07000000e+002,  7.37036522e-001,  3.29070172e-001],\n       [ 1.06000000e+002,  7.36359116e-001,  3.30669199e-001],\n       [ 1.05000000e+002,  8.39875164e-001,  1.25474834e-001],\n       [ 1.04000000e+002,  8.41036003e-001,  1.23892636e-001],\n       [ 1.03000000e+002,  8.41042226e-001,  1.23941159e-001],\n       [ 1.02000000e+002,  8.41052259e-001,  1.24172027e-001],\n       [ 1.01000000e+002,  8.41039115e-001,  1.24013677e-001],\n       [ 1.00000000e+002,  8.41112493e-001,  1.24465141e-001],\n       [ 9.90000000e+001,  8.41296318e-001,  1.24108989e-001],\n       [ 9.80000000e+001,  8.41389266e-001,  1.22790903e-001],\n       [ 9.70000000e+001,  8.41543666e-001,  1.22491236e-001],\n       [ 9.60000000e+001,  8.41640503e-001,  1.21898740e-001],\n       [ 9.50000000e+001,  8.41895886e-001,  1.21931730e-001],\n       [ 9.40000000e+001,  8.41500521e-001,  1.22992903e-001],\n       [ 9.30000000e+001,  8.41179263e-001,  1.23556493e-001],\n       [ 9.20000000e+001,  8.41453292e-001,  1.23053697e-001],\n       [ 9.10000000e+001,  8.41993040e-001,  1.22401350e-001],\n       [ 9.00000000e+001,  8.41929805e-001,  1.22882956e-001],\n       [ 8.90000000e+001,  8.42181668e-001,  1.22960323e-001],\n       [ 8.80000000e+001,  8.42371514e-001,  1.23021675e-001],\n       [ 8.70000000e+001,  8.42317279e-001,  1.22960749e-001],\n       [ 8.60000000e+001,  8.42388696e-001,  1.22953351e-001],\n       [ 8.50000000e+001,  8.42666328e-001,  1.22545948e-001],\n       [ 8.40000000e+001,  8.42856091e-001,  1.22576343e-001],\n       [ 8.30000000e+001,  8.42966337e-001,  1.22267971e-001],\n       [ 8.20000000e+001,  8.42762025e-001,  1.22520287e-001],\n       [ 8.10000000e+001,  8.43074565e-001,  1.22011176e-001],\n       [ 8.00000000e+001,  8.42713504e-001,  1.22471039e-001],\n       [ 7.90000000e+001,  8.43175571e-001,  1.22266931e-001],\n       [ 7.80000000e+001,  8.43179428e-001,  1.21726518e-001],\n       [ 7.70000000e+001,  8.42921499e-001,  1.21938878e-001],\n       [ 7.60000000e+001,  8.42303852e-001,  1.23305926e-001],\n       [ 7.50000000e+001,  8.41657748e-001,  1.23842135e-001],\n       [ 7.40000000e+001,  8.41449663e-001,  1.23719823e-001],\n       [ 7.30000000e+001,  8.42197536e-001,  1.21514447e-001],\n       [ 7.20000000e+001,  8.42188452e-001,  1.21447322e-001],\n       [ 7.10000000e+001,  8.40758281e-001,  1.24051559e-001],\n       [ 7.00000000e+001,  8.41871712e-001,  1.20013262e-001],\n       [ 6.90000000e+001,  8.41656385e-001,  1.21505819e-001],\n       [ 6.80000000e+001,  8.41503609e-001,  1.21721553e-001],\n       [ 6.70000000e+001,  8.41268807e-001,  1.22334796e-001],\n       [ 6.60000000e+001,  8.41305744e-001,  1.22405910e-001],\n       [ 6.50000000e+001,  8.41388354e-001,  1.22364224e-001],\n       [ 6.40000000e+001,  8.41026047e-001,  1.23784782e-001],\n       [ 6.30000000e+001,  8.40620747e-001,  1.24688765e-001],\n       [ 6.20000000e+001,  8.42207904e-001,  1.22300413e-001],\n       [ 6.10000000e+001,  8.42536110e-001,  1.21663950e-001],\n       [ 6.00000000e+001,  8.41764124e-001,  1.22676714e-001],\n       [ 5.90000000e+001,  8.41771324e-001,  1.22257848e-001],\n       [ 5.80000000e+001,  8.42143744e-001,  1.21362534e-001],\n       [ 5.70000000e+001,  8.42223277e-001,  1.21553507e-001],\n       [ 5.60000000e+001,  8.42041186e-001,  1.21164370e-001],\n       [ 5.50000000e+001,  8.41786575e-001,  1.21479011e-001],\n       [ 5.40000000e+001,  8.40325629e-001,  1.24725121e-001],\n       [ 5.30000000e+001,  8.40601920e-001,  1.24209150e-001],\n       [ 5.20000000e+001,  8.40158842e-001,  1.24298577e-001],\n       [ 5.10000000e+001,  8.38982219e-001,  1.25323172e-001],\n       [ 5.00000000e+001,  8.38804946e-001,  1.24737869e-001],\n       [ 4.90000000e+001,  8.38434472e-001,  1.24937649e-001],\n       [ 4.80000000e+001,  8.39552735e-001,  1.22760189e-001],\n       [ 4.70000000e+001,  8.37609200e-001,  1.25040070e-001],\n       [ 4.60000000e+001,  8.34821431e-001,  1.29348457e-001],\n       [ 4.50000000e+001,  8.34546369e-001,  1.29726203e-001],\n       [ 4.40000000e+001,  8.34210746e-001,  1.28889517e-001],\n       [ 4.30000000e+001,  8.34173616e-001,  1.28844470e-001],\n       [ 4.20000000e+001,  8.34173616e-001,  1.28844470e-001],\n       [ 4.10000000e+001,  8.34815034e-001,  1.27507049e-001],\n       [ 4.00000000e+001,  8.32960905e-001,  1.32223442e-001],\n       [ 3.90000000e+001,  8.30929257e-001,  1.35695534e-001],\n       [ 3.80000000e+001,  8.30671800e-001,  1.36402402e-001],\n       [ 3.70000000e+001,  8.39996021e-001,  1.22154528e-001],\n       [ 3.60000000e+001,  8.39283974e-001,  1.22194722e-001],\n       [ 3.50000000e+001,  8.40148072e-001,  1.19753680e-001],\n       [ 3.40000000e+001,  8.39906934e-001,  1.19896492e-001],\n       [ 3.30000000e+001,  8.40562866e-001,  1.18783110e-001],\n       [ 3.20000000e+001,  8.39616265e-001,  1.19937111e-001],\n       [ 3.10000000e+001,  8.38317627e-001,  1.20681584e-001],\n       [ 3.00000000e+001,  8.37735618e-001,  1.20857620e-001],\n       [ 2.90000000e+001,  8.36400873e-001,  1.21046618e-001],\n       [ 2.80000000e+001,  8.36036916e-001,  1.19028224e-001],\n       [ 2.70000000e+001,  8.36711371e-001,  1.17538919e-001],\n       [ 2.60000000e+001,  8.38782109e-001,  1.11902984e-001],\n       [ 2.50000000e+001,  8.38197672e-001,  1.10373210e-001],\n       [ 2.40000000e+001,  8.37855530e-001,  1.09103682e-001],\n       [ 2.30000000e+001,  8.36638476e-001,  1.08347822e-001],\n       [ 2.20000000e+001,  8.32044127e-001,  1.13667346e-001],\n       [ 2.10000000e+001,  8.28353410e-001,  1.15216452e-001],\n       [ 2.00000000e+001,  8.24245383e-001,  1.19077139e-001],\n       [ 1.90000000e+001,  8.21398503e-001,  1.17007366e-001],\n       [ 1.80000000e+001,  8.14390298e-001,  1.19914004e-001],\n       [ 1.70000000e+001,  8.07520329e-001,  1.28089189e-001],\n       [ 1.60000000e+001,  7.99439561e-001,  1.36675796e-001],\n       [ 1.50000000e+001,  7.96280533e-001,  1.31858565e-001],\n       [ 1.40000000e+001,  7.91993767e-001,  1.33312441e-001],\n       [ 1.30000000e+001,  7.82466780e-001,  1.35057594e-001],\n       [ 1.20000000e+001,  7.75046662e-001,  1.33271916e-001],\n       [ 1.10000000e+001,  7.70620057e-001,  1.28510040e-001],\n       [ 1.00000000e+001,  7.69364917e-001,  1.28235190e-001],\n       [ 9.00000000e+000,  7.70792791e-001,  1.16578764e-001],\n       [ 8.00000000e+000,  7.89234244e-001,  1.06352324e-001],\n       [ 7.00000000e+000,  7.72022074e-001,  1.05372803e-001],\n       [ 6.00000000e+000,  7.53636347e-001,  9.83505054e-002],\n       [ 5.00000000e+000,  7.37591914e-001,  7.16077151e-002],\n       [ 4.00000000e+000,  7.37892570e-001,  6.80651994e-002],\n       [ 3.00000000e+000,  6.90261046e-001,  4.87030598e-002],\n       [ 2.00000000e+000,  6.24112134e-001,  3.62914216e-002],\n       [ 5.62982596e+188,  2.59515916e+296,  6.13683785e-071]])"
     },
     "execution_count": 151,
     "metadata": {},
     "output_type": "execute_result"
    }
   ],
   "source": [
    "score_k"
   ],
   "metadata": {
    "collapsed": false,
    "pycharm": {
     "name": "#%%\n"
    }
   }
  },
  {
   "cell_type": "code",
   "execution_count": 115,
   "outputs": [
    {
     "data": {
      "text/plain": "302"
     },
     "execution_count": 115,
     "metadata": {},
     "output_type": "execute_result"
    }
   ],
   "source": [
    "len(X_non_norm.columns)\n"
   ],
   "metadata": {
    "collapsed": false,
    "pycharm": {
     "name": "#%%\n"
    }
   }
  },
  {
   "cell_type": "code",
   "execution_count": 118,
   "outputs": [
    {
     "data": {
      "text/plain": "array([[1.15442886e-311, 1.15442844e-311, 1.06099790e-313],\n       [1.48539705e-313, 1.90979621e-313, 2.33419537e-313],\n       [2.75859453e-313, 3.18299369e-313, 3.60739285e-313],\n       [4.03179200e-313, 4.45619116e-313, 4.88059032e-313],\n       [5.30498948e-313, 5.72938864e-313, 6.15378780e-313],\n       [6.57818695e-313, 7.00258611e-313, 7.42698527e-313],\n       [7.85138443e-313, 8.27578359e-313, 8.70018274e-313],\n       [9.12458190e-313, 9.54898106e-313, 9.97338022e-313],\n       [1.03977794e-312, 1.08221785e-312, 1.12465777e-312],\n       [1.16709769e-312, 1.20953760e-312, 1.25197752e-312],\n       [1.29441743e-312, 1.33685735e-312, 1.37929726e-312],\n       [1.42173718e-312, 1.46417710e-312, 1.50661701e-312],\n       [1.54905693e-312, 1.59149684e-312, 1.63393676e-312],\n       [1.67637668e-312, 1.71881659e-312, 1.76125651e-312],\n       [1.80369642e-312, 1.84613634e-312, 1.88857625e-312],\n       [1.93101617e-312, 1.97345609e-312, 2.01589600e-312],\n       [2.05833592e-312, 2.10077583e-312, 2.14321575e-312],\n       [2.18565567e-312, 2.22809558e-312, 2.27053550e-312],\n       [2.31297541e-312, 2.35541533e-312, 2.39785524e-312],\n       [2.44029516e-312, 2.48273508e-312, 2.52517499e-312],\n       [2.56761491e-312, 2.61005482e-312, 2.65249474e-312],\n       [2.69493466e-312, 2.73737457e-312, 2.77981449e-312],\n       [2.82225440e-312, 2.86469432e-312, 2.90713423e-312],\n       [2.94957415e-312, 2.99201407e-312, 3.03445398e-312],\n       [3.07689390e-312, 3.11933381e-312, 3.16177373e-312],\n       [3.20421365e-312, 3.24665356e-312, 3.28909348e-312],\n       [3.33153339e-312, 3.37397331e-312, 3.41641322e-312],\n       [3.45885314e-312, 3.50129306e-312, 3.54373297e-312],\n       [3.58617289e-312, 3.62861280e-312, 3.67105272e-312],\n       [3.71349264e-312, 3.75593255e-312, 3.79837247e-312],\n       [3.84081238e-312, 3.88325230e-312, 3.92569221e-312],\n       [3.96813213e-312, 4.01057205e-312, 4.05301196e-312],\n       [4.09545188e-312, 4.13789179e-312, 4.18033171e-312],\n       [4.22277162e-312, 4.26521154e-312, 4.30765146e-312],\n       [4.35009137e-312, 4.39253129e-312, 4.43497120e-312],\n       [4.47741112e-312, 4.51985104e-312, 4.56229095e-312],\n       [4.60473087e-312, 4.64717078e-312, 4.68961070e-312],\n       [4.73205061e-312, 4.77449053e-312, 4.81693045e-312],\n       [4.85937036e-312, 4.90181028e-312, 4.94425019e-312],\n       [4.98669011e-312, 5.02913003e-312, 5.07156994e-312],\n       [5.11400986e-312, 5.15644977e-312, 5.19888969e-312],\n       [5.24132960e-312, 5.28376952e-312, 5.32620944e-312],\n       [5.36864935e-312, 5.41108927e-312, 5.45352918e-312],\n       [5.49596910e-312, 5.53840902e-312, 5.58084893e-312],\n       [5.62328885e-312, 5.66572876e-312, 5.70816868e-312],\n       [5.75060859e-312, 5.79304851e-312, 5.83548843e-312],\n       [5.87792834e-312, 5.92036826e-312, 5.96280817e-312],\n       [6.00524809e-312, 6.04768801e-312, 6.09012792e-312],\n       [6.13256784e-312, 6.17500775e-312, 9.31556152e-312],\n       [9.35800144e-312, 9.40044136e-312, 9.44288127e-312],\n       [9.48532119e-312, 9.52776110e-312, 9.57020102e-312],\n       [9.61264094e-312, 9.65508085e-312, 9.69752077e-312],\n       [9.73996068e-312, 9.78240060e-312, 9.82484051e-312],\n       [9.86728043e-312, 9.90972035e-312, 9.95216026e-312],\n       [9.99460018e-312, 1.00370401e-311, 1.00794800e-311],\n       [1.01219199e-311, 1.01643598e-311, 1.02067998e-311],\n       [1.02492397e-311, 1.02916796e-311, 1.03341195e-311],\n       [1.03765594e-311, 1.04189993e-311, 1.04614393e-311],\n       [1.05038792e-311, 1.05463191e-311, 1.05887590e-311],\n       [1.06311989e-311, 1.06736388e-311, 1.07160787e-311],\n       [1.07585187e-311, 1.08009586e-311, 1.08433985e-311],\n       [1.08858384e-311, 1.09282783e-311, 1.09707182e-311],\n       [1.10131582e-311, 1.10555981e-311, 1.10980380e-311],\n       [1.11404779e-311, 1.11829178e-311, 1.12253577e-311],\n       [1.12677977e-311, 1.13102376e-311, 1.13526775e-311],\n       [1.13951174e-311, 1.14375573e-311, 1.14799972e-311],\n       [1.15224371e-311, 1.15648771e-311, 1.16073170e-311],\n       [1.16497569e-311, 1.16921968e-311, 1.17346367e-311],\n       [1.17770766e-311, 1.18195166e-311, 1.18619565e-311],\n       [1.19043964e-311, 1.19468363e-311, 1.19892762e-311],\n       [1.20317161e-311, 1.20741561e-311, 1.21165960e-311],\n       [1.21590359e-311, 1.22014758e-311, 1.22439157e-311],\n       [1.22863556e-311, 1.23287955e-311, 1.23712355e-311],\n       [1.24136754e-311, 1.24561153e-311, 1.24985552e-311],\n       [1.25409951e-311, 1.25834350e-311, 1.26258750e-311],\n       [1.26683149e-311, 1.27107548e-311, 1.27531947e-311],\n       [1.27956346e-311, 1.28380745e-311, 1.28805145e-311],\n       [1.29229544e-311, 1.29653943e-311, 1.30078342e-311],\n       [1.30502741e-311, 1.30927140e-311, 1.31351539e-311],\n       [1.31775939e-311, 1.32200338e-311, 1.32624737e-311],\n       [1.33049136e-311, 1.33473535e-311, 1.33897934e-311],\n       [1.34322334e-311, 1.34746733e-311, 1.35171132e-311],\n       [1.35595531e-311, 1.36019930e-311, 1.36444329e-311],\n       [1.36868729e-311, 1.37293128e-311, 1.37717527e-311],\n       [1.38141926e-311, 1.38566325e-311, 1.38990724e-311],\n       [1.39415123e-311, 1.39839523e-311, 1.40263922e-311],\n       [1.40688321e-311, 1.41112720e-311, 1.41537119e-311],\n       [1.41961518e-311, 1.42385918e-311, 1.42810317e-311],\n       [1.43234716e-311, 1.43659115e-311, 1.44083514e-311],\n       [1.44507913e-311, 1.44932313e-311, 1.45356712e-311],\n       [1.45781111e-311, 1.46205510e-311, 1.46629909e-311],\n       [1.47054308e-311, 1.47478708e-311, 1.47903107e-311],\n       [1.48327506e-311, 1.48751905e-311, 1.49176304e-311],\n       [1.49600703e-311, 1.50025102e-311, 1.50449502e-311],\n       [1.50873901e-311, 1.51298300e-311, 1.51722699e-311],\n       [1.52147098e-311, 1.52571497e-311, 1.52995897e-311],\n       [1.53420296e-311, 1.53844695e-311, 1.54269094e-311],\n       [1.54693493e-311, 1.55117892e-311, 1.55542292e-311],\n       [1.55966691e-311, 1.56391090e-311, 1.56815489e-311],\n       [1.57239888e-311, 1.57664287e-311, 1.58088686e-311],\n       [1.58513086e-311, 1.58937485e-311, 1.59361884e-311],\n       [1.59786283e-311, 1.60210682e-311, 1.60635081e-311],\n       [1.61059481e-311, 1.61483880e-311, 1.61908279e-311],\n       [1.62332678e-311, 1.62757077e-311, 1.63181476e-311],\n       [1.63605876e-311, 1.64030275e-311, 1.64454674e-311],\n       [1.64879073e-311, 1.65303472e-311, 1.65727871e-311],\n       [1.66152270e-311, 1.66576670e-311, 1.67001069e-311],\n       [1.67425468e-311, 1.67849867e-311, 1.68274266e-311],\n       [1.68698665e-311, 1.69123065e-311, 1.69547464e-311],\n       [1.69971863e-311, 1.70396262e-311, 1.70820661e-311],\n       [1.71245060e-311, 1.71669460e-311, 1.72093859e-311],\n       [1.72518258e-311, 1.72942657e-311, 1.73367056e-311],\n       [1.73791455e-311, 1.74215854e-311, 1.74640254e-311],\n       [1.75064653e-311, 1.75489052e-311, 1.75913451e-311],\n       [1.76337850e-311, 1.76762249e-311, 1.77186649e-311],\n       [1.77611048e-311, 1.78035447e-311, 1.78459846e-311],\n       [1.78884245e-311, 1.79308644e-311, 1.79733044e-311],\n       [1.80157443e-311, 1.80581842e-311, 1.81006241e-311],\n       [1.81430640e-311, 1.81855039e-311, 1.82279438e-311],\n       [1.82703838e-311, 1.83128237e-311, 1.83552636e-311],\n       [1.83977035e-311, 1.84401434e-311, 1.84825833e-311],\n       [1.85250233e-311, 1.85674632e-311, 1.86099031e-311],\n       [1.86523430e-311, 1.86947829e-311, 1.87372228e-311],\n       [1.87796628e-311, 1.88221027e-311, 1.88645426e-311],\n       [1.89069825e-311, 1.89494224e-311, 1.89918623e-311],\n       [1.90343022e-311, 1.90767422e-311, 1.91191821e-311],\n       [1.91616220e-311, 1.92040619e-311, 1.92465018e-311],\n       [1.92889417e-311, 1.93313817e-311, 1.93738216e-311],\n       [1.94162615e-311, 1.94587014e-311, 1.95011413e-311],\n       [1.95435812e-311, 1.95860212e-311, 1.96284611e-311],\n       [1.96709010e-311, 1.97133409e-311, 1.97557808e-311],\n       [1.97982207e-311, 1.98406607e-311, 1.98831006e-311],\n       [1.99255405e-311, 1.99679804e-311, 2.00104203e-311],\n       [2.00528602e-311, 2.00953001e-311, 2.01377401e-311],\n       [2.01801800e-311, 2.02226199e-311, 2.02650598e-311],\n       [2.03074997e-311, 2.03499396e-311, 2.03923796e-311],\n       [2.04348195e-311, 2.04772594e-311, 2.05196993e-311],\n       [2.05621392e-311, 2.06045791e-311, 2.06470191e-311],\n       [2.06894590e-311, 2.07318989e-311, 2.07743388e-311],\n       [2.08167787e-311, 2.08592186e-311, 2.09016585e-311],\n       [2.09440985e-311, 2.09865384e-311, 2.10289783e-311],\n       [2.10714182e-311, 2.11138581e-311, 2.11562980e-311],\n       [2.11987380e-311, 2.12411779e-311, 2.12836178e-311],\n       [2.13260577e-311, 2.13684976e-311, 2.14109375e-311],\n       [2.14533775e-311, 2.14958174e-311, 2.15382573e-311],\n       [2.15806972e-311, 2.16231371e-311, 2.16655770e-311],\n       [2.17080169e-311, 2.17504569e-311, 2.17928968e-311],\n       [2.18353367e-311, 2.18777766e-311, 2.19202165e-311],\n       [2.19626564e-311, 2.20050964e-311, 2.20475363e-311],\n       [2.20899762e-311, 2.21324161e-311, 2.21748560e-311],\n       [2.22172959e-311, 2.22597359e-311, 2.23021758e-311],\n       [2.23446157e-311, 2.23870556e-311, 2.24294955e-311],\n       [2.24719354e-311, 2.25143753e-311, 2.25568153e-311],\n       [2.25992552e-311, 2.26416951e-311, 2.26841350e-311],\n       [2.27265749e-311, 2.27690148e-311, 2.28114548e-311],\n       [2.28538947e-311, 2.28963346e-311, 2.29387745e-311],\n       [2.29812144e-311, 2.30236543e-311, 2.30660943e-311],\n       [2.31085342e-311, 2.31509741e-311, 2.31934140e-311],\n       [2.32358539e-311, 2.32782938e-311, 2.33207337e-311],\n       [2.33631737e-311, 2.34056136e-311, 2.34480535e-311],\n       [2.34904934e-311, 2.35329333e-311, 2.35753732e-311],\n       [2.36178132e-311, 2.36602531e-311, 2.37026930e-311],\n       [2.37451329e-311, 2.37875728e-311, 2.38300127e-311],\n       [2.38724527e-311, 2.39148926e-311, 2.39573325e-311],\n       [2.39997724e-311, 2.40422123e-311, 2.40846522e-311],\n       [2.41270921e-311, 2.41695321e-311, 2.42119720e-311],\n       [2.42544119e-311, 2.42968518e-311, 2.43392917e-311],\n       [2.43817316e-311, 2.44241716e-311, 2.44666115e-311],\n       [2.45090514e-311, 2.45514913e-311, 2.45939312e-311],\n       [2.46363711e-311, 2.46788111e-311, 2.47212510e-311],\n       [2.47636909e-311, 2.48061308e-311, 2.48485707e-311],\n       [2.48910106e-311, 2.49334505e-311, 2.49758905e-311],\n       [2.50183304e-311, 2.50607703e-311, 2.51032102e-311],\n       [2.51456501e-311, 2.51880900e-311, 2.52305300e-311],\n       [2.52729699e-311, 2.53154098e-311, 2.53578497e-311],\n       [2.54002896e-311, 2.54427295e-311, 2.54851695e-311],\n       [2.55276094e-311, 2.55700493e-311, 2.56124892e-311],\n       [2.56549291e-311, 2.56973690e-311, 2.57398090e-311],\n       [2.57822489e-311, 2.58246888e-311, 2.58671287e-311],\n       [2.59095686e-311, 2.59520085e-311, 2.59944484e-311],\n       [2.60368884e-311, 2.60793283e-311, 2.61217682e-311],\n       [2.61642081e-311, 2.62066480e-311, 2.62490879e-311],\n       [2.62915279e-311, 2.63339678e-311, 2.63764077e-311],\n       [2.64188476e-311, 2.64612875e-311, 2.65037274e-311],\n       [2.65461674e-311, 2.65886073e-311, 2.66310472e-311],\n       [2.66734871e-311, 2.67159270e-311, 2.67583669e-311],\n       [2.68008068e-311, 2.68432468e-311, 2.68856867e-311],\n       [2.69281266e-311, 2.69705665e-311, 2.70130064e-311],\n       [2.70554463e-311, 2.70978863e-311, 2.71403262e-311],\n       [2.71827661e-311, 2.72252060e-311, 2.72676459e-311],\n       [2.73100858e-311, 2.73525258e-311, 2.73949657e-311],\n       [2.74374056e-311, 2.74798455e-311, 2.75222854e-311],\n       [2.75647253e-311, 2.76071652e-311, 2.76496052e-311],\n       [2.76920451e-311, 2.77344850e-311, 2.77769249e-311],\n       [2.78193648e-311, 2.78618047e-311, 2.79042447e-311],\n       [2.79466846e-311, 2.79891245e-311, 2.80315644e-311],\n       [2.80740043e-311, 2.81164442e-311, 2.81588842e-311],\n       [2.82013241e-311, 2.82437640e-311, 2.82862039e-311],\n       [2.83286438e-311, 2.83710837e-311, 2.84135236e-311],\n       [2.84559636e-311, 2.84984035e-311, 2.85408434e-311],\n       [2.85832833e-311, 2.86257232e-311, 2.86681631e-311],\n       [2.87106031e-311, 2.87530430e-311, 2.87954829e-311],\n       [2.88379228e-311, 2.88803627e-311, 2.89228026e-311],\n       [2.89652426e-311, 2.90076825e-311, 2.90501224e-311],\n       [2.90925623e-311, 2.91350022e-311, 2.91774421e-311],\n       [2.92198820e-311, 2.92623220e-311, 2.93047619e-311],\n       [2.93472018e-311, 2.93896417e-311, 2.94320816e-311],\n       [2.94745215e-311, 2.95169615e-311, 2.95594014e-311],\n       [2.96018413e-311, 2.96442812e-311, 2.96867211e-311],\n       [2.97291610e-311, 2.97716010e-311, 2.98140409e-311],\n       [2.98564808e-311, 2.98989207e-311, 2.99413606e-311],\n       [2.99838005e-311, 3.00262404e-311, 3.00686804e-311],\n       [3.01111203e-311, 3.01535602e-311, 3.01960001e-311],\n       [3.02384400e-311, 3.02808799e-311, 3.03233199e-311],\n       [3.03657598e-311, 3.04081997e-311, 3.04506396e-311],\n       [3.04930795e-311, 3.05355194e-311, 3.05779594e-311],\n       [3.06203993e-311, 3.06628392e-311, 3.07052791e-311],\n       [3.07477190e-311, 3.07901589e-311, 3.08325988e-311],\n       [3.08750388e-311, 3.09174787e-311, 3.09599186e-311],\n       [2.12581781e-304, 1.15445003e-311, 1.15444522e-311],\n       [2.54828181e+161, 4.91223846e+026, 1.17568193e+214],\n       [6.01347002e-154, 4.70075024e+180, 9.48694745e+170],\n       [6.01347002e-154, 3.10973044e+150, 6.92683802e+218],\n       [1.95021290e+233, 4.24510215e+175, 6.01347002e-154],\n       [5.70947676e+228, 2.85286498e+256, 2.44522732e-154],\n       [6.01347002e-154, 2.28896110e+243, 3.10973044e+150],\n       [3.18095781e+151, 3.98386110e+252, 5.96949660e-109],\n       [6.01347002e-154, 2.44525576e-154, 6.01347002e-154],\n       [2.28896110e+243, 8.38381667e+217, 1.05832348e+189],\n       [5.96848950e-114, 5.98147559e-154, 8.92838475e+271],\n       [5.89783135e+276, 2.44524578e-154, 6.01347002e-154],\n       [5.03430722e+180, 6.99177910e+228, 2.65865232e-260],\n       [1.33629952e-152, 2.64937432e+180, 4.98132764e+151],\n       [5.33053557e+246, 1.43615018e+161, 9.31047948e+242],\n       [2.44514196e-154, 1.69264133e-139, 3.02875119e-152],\n       [5.28555803e+180, 3.93340665e+223, 9.62876765e+199],\n       [9.55443555e-047, 3.05187150e+169, 7.48415874e+247],\n       [6.96742174e+252, 6.01347002e-154, 2.28896110e+243],\n       [7.47017688e-114, 7.33730187e+223, 5.75615021e+228],\n       [5.56113279e+180, 1.42607965e+248, 2.71466904e+198],\n       [5.98129747e-154, 2.99887597e+180, 6.32699039e+180],\n       [1.05908780e-153, 3.02876088e-152, 9.49102457e-154],\n       [5.97182283e+175, 2.44525566e-154, 3.52337924e+246],\n       [1.06263141e+248, 4.06898228e+233, 4.93553418e+257],\n       [1.02264782e-259, 6.01347002e-154, 5.55603592e+180],\n       [1.27921601e-152, 3.60705816e-085, 1.32641102e+272],\n       [2.02887191e-110, 6.01347002e-154, 4.70075024e+180],\n       [5.28595687e-085, 3.75156162e-091, 1.50255951e+261],\n       [2.52973471e-086, 4.40930198e+222, 1.03409040e-259],\n       [6.01347002e-154, 2.92224323e-014, 9.30892242e+242],\n       [4.26137304e+257, 1.38083754e+267, 2.43894778e-154],\n       [5.37625007e+241, 4.96040490e+180, 7.86451925e+199],\n       [4.11941862e+257, 7.50187034e+247, 1.99416198e+174],\n       [1.95335791e+233, 9.04115220e+271, 8.39833674e-095],\n       [1.97249692e-153, 1.96097649e+243, 7.03540069e+199],\n       [9.47068174e-154, 5.97182283e+175, 2.44525566e-154],\n       [2.41079391e+198, 5.91844459e-085, 3.04228604e-014],\n       [8.68302021e+189, 3.11343957e+175, 2.12683752e-259],\n       [6.01347002e-154, 6.12501441e+257, 4.71525094e+180],\n       [8.04143389e-096, 1.49167796e+195, 8.88017290e+252],\n       [4.55072007e+198, 6.01334504e-154, 1.49166871e+195],\n       [5.28595592e-085, 1.03063392e-113, 1.85500455e+261],\n       [9.45328876e-120, 6.01347002e-154, 1.06758000e+224],\n       [2.36378011e+232, 3.60705816e-085, 6.01737312e+175],\n       [5.55603593e+180, 1.49166877e+195, 7.03540069e+199],\n       [5.43204589e-109, 2.60971984e+180, 1.29153059e+161],\n       [3.75830574e+199, 5.34157790e+246, 1.49166877e+195],\n       [5.50148290e+222, 1.06184931e-153, 1.43274647e+228],\n       [2.93568696e+222, 2.59345489e+161, 6.01347002e-154],\n       [7.13144510e+252, 6.32300965e+233, 1.44420343e+214],\n       [7.24540719e+165, 4.27255707e+180, 6.01346953e-154],\n       [6.01347002e-154, 2.96976634e+222, 3.98567541e+252],\n       [6.19489898e+223, 2.11624428e-110, 4.35294653e-114],\n       [4.37899494e-109, 6.01347002e-154, 2.92154920e-014],\n       [9.30892242e+242, 3.17111441e+180, 9.50048700e-114],\n       [5.98147383e-154, 4.70075024e+180, 1.58055826e+190],\n       [2.32750657e+185, 2.41317562e+185, 7.33730187e+223],\n       [4.26137353e+257, 7.13124146e+252, 1.12176744e+219],\n       [5.82570060e+252, 1.81794821e+185, 1.75695393e+097],\n       [2.87135048e+161, 2.25015376e+020, 2.07233004e+026],\n       [2.12691323e-259, 2.64365753e+180, 8.66784255e+189],\n       [3.11343957e+175, 1.44421181e+214, 6.01346953e-154],\n       [6.12501441e+257, 3.93578667e+223, 6.01334434e-154],\n       [7.26607494e+223, 2.33684792e+257, 1.36729551e+161],\n       [2.41317562e+185, 9.29433783e+242, 7.51303797e+252],\n       [5.98157078e-154, 2.13521639e+185, 8.79469738e+247],\n       [2.51968629e+180, 1.37682933e-094, 2.64482352e+180],\n       [2.19980293e-152, 2.45883024e+198, 2.12689208e-259],\n       [6.01347002e-154, 8.87297278e+247, 2.85340974e+242],\n       [1.17076155e+214, 6.01346953e-154, 6.12501441e+257],\n       [1.99501687e+161, 1.39565102e-258, 3.09464629e+169],\n       [1.13692287e+243, 7.34631168e+223, 2.44356720e+025],\n       [2.12691323e-259, 2.64365753e+180, 4.13525678e+150],\n       [1.32642069e+272, 7.46380676e-114, 1.15487341e+171],\n       [8.92844486e+271, 8.24235691e-072, 6.01347002e-154],\n       [1.36722786e+161, 2.21756653e+068, 6.01346953e-154],\n       [6.01347002e-154, 3.59022720e+246, 3.11851106e+161],\n       [6.01346953e-154, 2.45183991e+198, 6.21529463e+175],\n       [8.27907742e-114, 1.60591880e-028, 6.01347002e-154],\n       [2.17529146e+068, 5.98737267e+247, 1.71898008e+161],\n       [1.71286759e+262, 3.62479380e+228, 1.18033329e+243],\n       [3.44996707e-085, 6.01347002e-154, 4.91347426e+252]])"
     },
     "execution_count": 118,
     "metadata": {},
     "output_type": "execute_result"
    }
   ],
   "source": [],
   "metadata": {
    "collapsed": false,
    "pycharm": {
     "name": "#%%\n"
    }
   }
  },
  {
   "cell_type": "code",
   "execution_count": null,
   "outputs": [],
   "source": [
    "\n",
    "\n",
    "\n",
    "\n",
    "\n",
    "\n",
    "\n",
    "\n",
    "\n",
    "\n",
    "\n",
    "\n",
    "\n",
    "\n"
   ],
   "metadata": {
    "collapsed": false,
    "pycharm": {
     "name": "#%%\n"
    }
   }
  }
 ],
 "metadata": {
  "kernelspec": {
   "display_name": "Python 3",
   "language": "python",
   "name": "python3"
  },
  "language_info": {
   "codemirror_mode": {
    "name": "ipython",
    "version": 2
   },
   "file_extension": ".py",
   "mimetype": "text/x-python",
   "name": "python",
   "nbconvert_exporter": "python",
   "pygments_lexer": "ipython2",
   "version": "2.7.6"
  }
 },
 "nbformat": 4,
 "nbformat_minor": 0
}