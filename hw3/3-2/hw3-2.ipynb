{
 "cells": [
  {
   "cell_type": "code",
   "execution_count": 1,
   "id": "16469d2a",
   "metadata": {},
   "outputs": [
    {
     "data": {
      "text/plain": [
       "array([-0.2521619, -0.2521619,  9.36371  , ..., -0.2521619, -0.2521619,\n",
       "       -0.2521619])"
      ]
     },
     "execution_count": 1,
     "metadata": {},
     "output_type": "execute_result"
    }
   ],
   "source": [
    "import numpy as np\n",
    "\n",
    "docWord = np.load(\"science2k-doc-word.npy\")\n",
    "docWord[0]"
   ]
  },
  {
   "cell_type": "markdown",
   "id": "32280069",
   "metadata": {},
   "source": [
    "### k-means\n",
    "1. Select k points as means\n",
    "2. Assign each point to its closest center\n",
    "3. Compute clusters centers\n",
    "4. Repeat 2-4"
   ]
  },
  {
   "cell_type": "code",
   "execution_count": 57,
   "id": "ddc9551e",
   "metadata": {
    "scrolled": false
   },
   "outputs": [
    {
     "name": "stdout",
     "output_type": "stream",
     "text": [
      "k = 2\n",
      "W = 211655.1753113372\n",
      "CI=[210452.84950721133 - 212857.50111546306]\n",
      "k = 3\n",
      "W = 209324.6013378002\n",
      "CI=[207842.78962273602 - 210806.4130528644]\n",
      "k = 4\n",
      "W = 208535.2205599403\n",
      "CI=[206698.65228015327 - 210371.78883972732]\n",
      "k = 5\n",
      "W = 207974.41487964336\n",
      "CI=[206531.3696899517 - 209417.460069335]\n",
      "k = 6\n",
      "W = 207466.20832556474\n",
      "CI=[207165.63776626432 - 207766.77888486517]\n",
      "k = 7\n",
      "W = 207587.2160021817\n",
      "CI=[206292.79886901355 - 208881.63313534984]\n",
      "k = 8\n",
      "W = 207163.38404277898\n",
      "CI=[205645.70207946617 - 208681.0660060918]\n",
      "k = 9\n",
      "W = 206343.9816190579\n",
      "CI=[205537.91354912415 - 207150.04968899162]\n",
      "k = 10\n",
      "W = 206859.85472839294\n",
      "CI=[206387.36262736024 - 207332.34682942563]\n",
      "k = 11\n",
      "W = 206119.70612083227\n",
      "CI=[205707.28186228592 - 206532.13037937862]\n",
      "k = 12\n",
      "W3 = 207290.47472\r"
     ]
    },
    {
     "name": "stderr",
     "output_type": "stream",
     "text": [
      "C:\\Users\\Romain\\Anaconda3\\lib\\site-packages\\numpy\\core\\fromnumeric.py:3420: RuntimeWarning: Mean of empty slice.\n",
      "  out=out, **kwargs)\n",
      "C:\\Users\\Romain\\Anaconda3\\lib\\site-packages\\numpy\\core\\_methods.py:181: RuntimeWarning: invalid value encountered in true_divide\n",
      "  ret, rcount, out=ret, casting='unsafe', subok=False)\n"
     ]
    },
    {
     "name": "stdout",
     "output_type": "stream",
     "text": [
      "W = 205949.90536411482\n",
      "CI=[205523.9559328682 - 206375.85479536143]\n",
      "k = 13\n",
      "W = 205828.7788135948\n",
      "CI=[205276.42318169322 - 206381.1344454964]\n",
      "k = 14\n",
      "W = 205709.1359562965\n",
      "CI=[205090.375041927 - 206327.89687066598]\n",
      "k = 15\n",
      "W = 205027.27753835928\n",
      "CI=[204498.77087514743 - 205555.78420157114]\n",
      "k = 16\n",
      "W = 205309.0687536697\n",
      "CI=[204916.38632020965 - 205701.75118712976]\n",
      "k = 17\n",
      "W = 204740.12403670157\n",
      "CI=[204570.51567327115 - 204909.732400132]\n",
      "k = 18\n",
      "W = 204856.49028692645\n",
      "CI=[204346.04552449353 - 205366.93504935937]\n",
      "k = 19\n",
      "W = 204167.21905232672\n",
      "CI=[203602.30525217063 - 204732.1328524828]\n",
      "k = 20\n",
      "W = 204119.86052397487\n",
      "CI=[203552.36692403673 - 204687.354123913]\n"
     ]
    }
   ],
   "source": [
    "def assignPointsToClusters(points, clustersCenters, k):\n",
    "    assignment = np.empty(points.shape[0])\n",
    "    withinDist = 0\n",
    "    for i in range(points.shape[0]):\n",
    "        minDist = np.infty\n",
    "        for cluster in range(k):\n",
    "            dist = np.linalg.norm(points[i] - clustersCenters[cluster])\n",
    "            if dist < minDist:\n",
    "                minDist = dist\n",
    "                bestCluster = cluster\n",
    "        assignment[i] = bestCluster\n",
    "        withinDist += minDist\n",
    "    return assignment, withinDist\n",
    "\n",
    "def computeClustersCenters(points, assignment, k):\n",
    "    clustersCenters = np.empty((k,points.shape[1]))\n",
    "    for cluster in range(k):\n",
    "        center = np.mean(points[assignment == cluster], axis=0)\n",
    "        clustersCenters[cluster] = center\n",
    "    return clustersCenters\n",
    "\n",
    "def kMeans(points, k, n_iter):\n",
    "    withinDists = np.empty(n_iter)\n",
    "    for i in range(n_iter):\n",
    "        clustersCenters = points[np.random.randint(0,points.shape[0],k)]\n",
    "        withinDist = 0\n",
    "        oldWithinDist = -1\n",
    "        while withinDist != oldWithinDist:\n",
    "            oldWithinDist = withinDist\n",
    "            assignment, withinDist = assignPointsToClusters(points, clustersCenters, k)\n",
    "            clustersCenters = computeClustersCenters(points, assignment, k)\n",
    "            print('W'+str(i)+' = ' + str(round(withinDist,5)), end='\\r')\n",
    "        withinDists[i] = withinDist\n",
    "    minWithinDist = np.min(withinDists)\n",
    "    stdWithinDist = np.std(withinDists)\n",
    "    return minWithinDist, stdWithinDist\n",
    "\n",
    "for k in range(2,21):\n",
    "    print('k = '+str(k))\n",
    "    minWithinDist, std = kMeans(docWord, k, n_iter=6)\n",
    "    print('W = '+str(minWithinDist))\n",
    "    print('CI=['+str(minWithinDist-std)+' - '+str(minWithinDist+std)+']')\n"
   ]
  },
  {
   "cell_type": "markdown",
   "id": "8f2a4b52",
   "metadata": {},
   "source": [
    "We will choose k=9 moving forward, because it achieved a reasonable within-cluster distance compared to higher k's while being probably easier to interpret (smaller number of clusters)."
   ]
  },
  {
   "cell_type": "code",
   "execution_count": 49,
   "id": "f8d8f728",
   "metadata": {},
   "outputs": [
    {
     "name": "stdout",
     "output_type": "stream",
     "text": [
      "W5 = 207271.37139\r"
     ]
    },
    {
     "data": {
      "text/plain": [
       "207271.371390612"
      ]
     },
     "execution_count": 49,
     "metadata": {},
     "output_type": "execute_result"
    }
   ],
   "source": [
    "kMeans(docWord, 10, n_iter=6)"
   ]
  },
  {
   "cell_type": "code",
   "execution_count": null,
   "id": "5ff9d156",
   "metadata": {},
   "outputs": [],
   "source": []
  }
 ],
 "metadata": {
  "kernelspec": {
   "display_name": "Python 3",
   "language": "python",
   "name": "python3"
  }
 },
 "nbformat": 4,
 "nbformat_minor": 5
}
