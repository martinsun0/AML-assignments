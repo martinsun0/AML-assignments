{
 "cells": [
  {
   "cell_type": "code",
   "execution_count": 240,
   "id": "827b2e7b",
   "metadata": {},
   "outputs": [],
   "source": [
    "import pandas as pd\n",
    "import numpy as np\n",
    "import matplotlib.pyplot as plt\n",
    "import random\n",
    "from scipy.stats import multivariate_normal\n",
    "from IPython import display\n",
    "import time"
   ]
  },
  {
   "cell_type": "code",
   "execution_count": 106,
   "id": "bf6ca437",
   "metadata": {},
   "outputs": [],
   "source": [
    "file = open(\"faithful.dat.txt\", 'r')\n",
    "\n",
    "col_names = file.readline().strip().split(' ')\n",
    "data = []\n",
    "for line in file:\n",
    "    data.append(line.split()[1:])\n",
    "    \n",
    "data = np.array(data).astype(float)"
   ]
  },
  {
   "cell_type": "code",
   "execution_count": 76,
   "id": "906a6453",
   "metadata": {},
   "outputs": [
    {
     "data": {
      "image/png": "[encoded data removed]",
      "text/plain": [
       "<Figure size 432x288 with 1 Axes>"
      ]
     },
     "metadata": {
      "needs_background": "light"
     },
     "output_type": "display_data"
    }
   ],
   "source": [
    "df = pd.DataFrame(data, columns=col_names)\n",
    "df.plot.scatter(col_names[0], col_names[1])\n",
    "plt.show()"
   ]
  },
  {
   "cell_type": "markdown",
   "id": "3ec930e4",
   "metadata": {},
   "source": [
    "1. Take initial guess on parameters"
   ]
  },
  {
   "cell_type": "code",
   "execution_count": 160,
   "id": "a331aab7",
   "metadata": {},
   "outputs": [
    {
     "name": "stdout",
     "output_type": "stream",
     "text": [
      "{'pi': 0.5, 'mu0': array([ 2.8770982 , 84.52952386]), 'mu1': array([ 3.63111424, 85.94613217]), 'std0': array([0.86179504, 1.82126676]), 'std1': array([0.18406663, 5.80243387])}\n"
     ]
    }
   ],
   "source": [
    "theta = {\n",
    "    \"pi\" : 0.5,\n",
    "    \"mu0\" : np.array((random.uniform(df.eruptions.min(),df.eruptions.max()),random.uniform(df.waiting.min(),df.waiting.max()))),\n",
    "    \"mu1\" : np.array((random.uniform(df.eruptions.min(),df.eruptions.max()),random.uniform(df.waiting.min(),df.waiting.max()))),\n",
    "    \"std0\" : np.array((random.uniform(0,df.eruptions.var()),random.uniform(0,df.waiting.var()))),\n",
    "    \"std1\" : np.array((random.uniform(0,df.eruptions.var()),random.uniform(0,df.waiting.var())))\n",
    "}\n",
    "print(theta)"
   ]
  },
  {
   "cell_type": "markdown",
   "id": "26993c75",
   "metadata": {},
   "source": [
    "2. Find best guess for cluster membership, assuming theta"
   ]
  },
  {
   "cell_type": "code",
   "execution_count": 304,
   "id": "913da4de",
   "metadata": {},
   "outputs": [],
   "source": [
    "def norm_pdf(x, mu, var):\n",
    "    return multivariate_normal.pdf(x,mu,var, allow_singular=True)\n",
    "\n",
    "def E_step(data, theta):\n",
    "    n_rows = data.shape[0]\n",
    "    y_pred = np.empty(n_rows)\n",
    "    for i in range(n_rows):\n",
    "        numerator = theta[\"pi\"] * norm_pdf(data[i], theta[\"mu1\"], theta[\"var1\"])\n",
    "        denominator = numerator + (1-theta[\"pi\"]) * norm_pdf(data[i], theta[\"mu0\"], theta[\"var0\"])\n",
    "        y_pred[i] = numerator / denominator\n",
    "    return y_pred"
   ]
  },
  {
   "cell_type": "markdown",
   "id": "dbc3077a",
   "metadata": {},
   "source": [
    "3. Do MLE pretending that $Y_i = \\hat{Y}_i$"
   ]
  },
  {
   "cell_type": "code",
   "execution_count": 308,
   "id": "75918734",
   "metadata": {},
   "outputs": [],
   "source": [
    "def M_step(y_pred, theta):\n",
    "    theta[\"pi\"] = y_pred.sum()/data.shape[0]\n",
    "    theta[\"mu1\"] = (y_pred[:,None]*data).sum(axis=0)/y_pred.sum()\n",
    "    theta[\"var1\"] = (y_pred[:,None]*(data-theta[\"mu1\"])**2).sum(axis=0)/y_pred.sum()\n",
    "    theta[\"mu0\"] = ((1-y_pred)[:,None]*data).sum(axis=0)/(1-y_pred).sum()\n",
    "    theta[\"var0\"] = ((1-y_pred)[:,None]*(data-theta[\"mu0\"])**2).sum(axis=0)/(1-y_pred).sum()\n",
    "    return theta"
   ]
  },
  {
   "cell_type": "code",
   "execution_count": 324,
   "id": "902ede4f",
   "metadata": {
    "scrolled": false
   },
   "outputs": [
    {
     "data": {
      "image/png": "[encoded data removed]",
      "text/plain": [
       "<Figure size 432x288 with 1 Axes>"
      ]
     },
     "metadata": {
      "needs_background": "light"
     },
     "output_type": "display_data"
    },
    {
     "name": "stdout",
     "output_type": "stream",
     "text": [
      "{'pi': 0.35651673625471003, 'mu0': array([ 4.29107049, 79.98562155]), 'mu1': array([ 2.03791567, 54.49295375]), 'var0': array([ 0.16815112, 35.77335124]), 'var1': array([ 0.07033675, 33.75584632])}\n"
     ]
    },
    {
     "data": {
      "image/png": "[encoded data removed]",
      "text/plain": [
       "<Figure size 432x288 with 1 Axes>"
      ]
     },
     "metadata": {
      "needs_background": "light"
     },
     "output_type": "display_data"
    }
   ],
   "source": [
    "n_iters = []\n",
    "for run in range(50):\n",
    "    var = np.array((random.uniform(0,df.eruptions.var()),random.uniform(0,df.waiting.var())))\n",
    "    theta = {\n",
    "            \"pi\" : 0.5,\n",
    "            \"mu0\" : np.array((random.uniform(df.eruptions.min(),df.eruptions.max()),random.uniform(df.waiting.min(),df.waiting.max()))),\n",
    "            \"mu1\" : np.array((random.uniform(df.eruptions.min(),df.eruptions.max()),random.uniform(df.waiting.min(),df.waiting.max()))),\n",
    "            \"var0\" : var,\n",
    "            \"var1\" : var\n",
    "        }\n",
    "    mu0 = [theta[\"mu0\"]]\n",
    "    mu1 = [theta[\"mu1\"]]\n",
    "    terminate = False\n",
    "    i=0\n",
    "    while not terminate:\n",
    "        y_pred = E_step(data, theta)\n",
    "        plt.plot(list(zip(*mu1))[0],list(zip(*mu1))[1],linewidth=3,marker=\"o\",markersize=2,mew=3)\n",
    "        plt.plot(list(zip(*mu0))[0],list(zip(*mu0))[1],linewidth=3,marker=\"o\",markersize=2,mew=3)\n",
    "        plt.scatter([theta[\"mu0\"][0],theta[\"mu1\"][0]],[theta[\"mu0\"][1],theta[\"mu1\"][1]],c=\"r\",marker='x',linewidths=8)\n",
    "        display.clear_output(wait=True)\n",
    "        plt.show()\n",
    "        \n",
    "        theta = M_step(y_pred, theta)\n",
    "        print(theta)\n",
    "        mu0.append(theta[\"mu0\"])\n",
    "        mu1.append(theta[\"mu1\"])\n",
    "        terminate = len(mu0) > 1 and mu0[-2][0] == mu0[-1][0] and mu0[-2][1] == mu0[-1][1] or theta[\"pi\"] == 0 or theta[\"pi\"] == 1\n",
    "        i += 1\n",
    "    n_iters.append(i)\n",
    "\n",
    "    mu0 = np.array(mu0)\n",
    "    mu1 = np.array(mu1)\n",
    "\n",
    "plt.hist(n_iters)\n",
    "plt.show()"
   ]
  },
  {
   "cell_type": "code",
   "execution_count": 271,
   "id": "e4dd15ac",
   "metadata": {},
   "outputs": [],
   "source": [
    "from sklearn.cluster import KMeans"
   ]
  },
  {
   "cell_type": "code",
   "execution_count": 314,
   "id": "13bab114",
   "metadata": {
    "scrolled": false
   },
   "outputs": [
    {
     "data": {
      "image/png": "[encoded data removed]",
      "text/plain": [
       "<Figure size 432x288 with 1 Axes>"
      ]
     },
     "metadata": {
      "needs_background": "light"
     },
     "output_type": "display_data"
    },
    {
     "name": "stdout",
     "output_type": "stream",
     "text": [
      "{'pi': 0.35651673625471003, 'mu0': array([ 4.29107049, 79.98562155]), 'mu1': array([ 2.03791567, 54.49295375]), 'var0': array([ 0.16815112, 35.77335124]), 'var1': array([ 0.07033675, 33.75584632])}\n"
     ]
    },
    {
     "data": {
      "image/png": "[encoded data removed]",
      "text/plain": [
       "<Figure size 432x288 with 1 Axes>"
      ]
     },
     "metadata": {
      "needs_background": "light"
     },
     "output_type": "display_data"
    }
   ],
   "source": [
    "n_iters = []\n",
    "for run in range(10):\n",
    "    kmeans = KMeans(n_clusters=2, n_init=1)\n",
    "    kmeans.fit(data)\n",
    "    kmeans.labels_\n",
    "    var = np.array((random.uniform(0,df.eruptions.var()),random.uniform(0,df.waiting.var())))\n",
    "    theta = M_step(kmeans.labels_, theta)\n",
    "    mu0 = [theta[\"mu0\"]]\n",
    "    mu1 = [theta[\"mu1\"]]\n",
    "    terminate = False\n",
    "    i=0\n",
    "    while not terminate:\n",
    "        y_pred = E_step(data, theta)\n",
    "        plt.plot(list(zip(*mu1))[0],list(zip(*mu1))[1],marker='x',linewidth=3,markersize=8,mew=3)\n",
    "        plt.plot(list(zip(*mu0))[0],list(zip(*mu0))[1],marker='x',linewidth=3,markersize=8,mew=3)\n",
    "\n",
    "        display.clear_output(wait=True)\n",
    "        plt.show()\n",
    "        \n",
    "        theta = M_step(y_pred, theta)\n",
    "        print(theta)\n",
    "        mu0.append(theta[\"mu0\"])\n",
    "        mu1.append(theta[\"mu1\"])\n",
    "        terminate = len(mu0) > 1 and mu0[-2][0] == mu0[-1][0] and mu0[-2][1] == mu0[-1][1] or theta[\"pi\"] == 0 or theta[\"pi\"] == 1\n",
    "        i += 1\n",
    "    n_iters.append(i)\n",
    "\n",
    "    mu0 = np.array(mu0)\n",
    "    mu1 = np.array(mu1)\n",
    "\n",
    "plt.hist(n_iters)\n",
    "plt.show()\n",
    "    "
   ]
  },
  {
   "cell_type": "code",
   "execution_count": null,
   "id": "22f2f5d7",
   "metadata": {},
   "outputs": [],
   "source": []
  }
 ],
 "metadata": {
  "kernelspec": {
   "display_name": "Python 3",
   "language": "python",
   "name": "python3"
  },
  "language_info": {
   "codemirror_mode": {
    "name": "ipython",
    "version": 3
   },
   "file_extension": ".py",
   "mimetype": "text/x-python",
   "name": "python",
   "nbconvert_exporter": "python",
   "pygments_lexer": "ipython3",
   "version": "3.7.10"
  }
 },
 "nbformat": 4,
 "nbformat_minor": 5
}